{
 "cells": [
  {
   "cell_type": "markdown",
   "id": "895e4418",
   "metadata": {},
   "source": [
    "# 데이터 타입\n",
    "## >숫자형\n",
    "- 종류\n",
    "    - 정수 : 0, 양수, 음수인 숫자\n",
    "    - 실수 : 소수점포함 숫자\n",
    "    - 8진수 : 0o 또는 0O(왼쪽 숫자0, 오른쪽 알파벳o)로 시작 : 0o34, 0o25\n",
    "    - 16진수 : 0*로 시작 0*2A, 0xFF"
   ]
  },
  {
   "cell_type": "markdown",
   "id": "b3e50106",
   "metadata": {},
   "source": [
    "### 정수형"
   ]
  },
  {
   "cell_type": "markdown",
   "id": "ecdd16b0",
   "metadata": {},
   "source": [
    "# 양수, 음수, 0\n",
    "a = 10\n",
    "b = -20\n",
    "c = 0"
   ]
  },
  {
   "cell_type": "code",
   "execution_count": null,
   "id": "7dc43668",
   "metadata": {},
   "outputs": [],
   "source": []
  },
  {
   "cell_type": "code",
   "execution_count": null,
   "id": "a5935f5a",
   "metadata": {},
   "outputs": [],
   "source": []
  },
  {
   "cell_type": "code",
   "execution_count": null,
   "id": "225b6999",
   "metadata": {},
   "outputs": [],
   "source": []
  },
  {
   "cell_type": "markdown",
   "id": "74a7bedf",
   "metadata": {},
   "source": [
    "# 정수 타입 : 타입을 확인하는 내장함수 type();"
   ]
  },
  {
   "cell_type": "code",
   "execution_count": null,
   "id": "24f41659",
   "metadata": {},
   "outputs": [],
   "source": []
  },
  {
   "cell_type": "markdown",
   "id": "76b6d67e",
   "metadata": {},
   "source": [
    "# 실수형"
   ]
  },
  {
   "cell_type": "code",
   "execution_count": 1,
   "id": "cdf6b57a",
   "metadata": {},
   "outputs": [],
   "source": [
    "# 양의 실수, 음의 실수 : float\n",
    "a = 1.3\n",
    "b = 2.4\n",
    "c = 0.0"
   ]
  },
  {
   "cell_type": "code",
   "execution_count": 3,
   "id": "d5d6b3db",
   "metadata": {},
   "outputs": [
    {
     "name": "stdout",
     "output_type": "stream",
     "text": [
      "<class 'float'> <class 'float'> <class 'float'>\n"
     ]
    }
   ],
   "source": [
    "# 타입확인\n",
    "print(type(a), type(b), type(c))"
   ]
  },
  {
   "cell_type": "markdown",
   "id": "a2aaaae8",
   "metadata": {},
   "source": [
    "## > 연산자\n",
    "- 산술 : +, -, *, /, //(몫), %(나머지), **(제곱)\n",
    "- 비교 : == (값이 같은지) != (값이 다른지) <=, >=, <, > \n",
    "- 논리 : and, or\n",
    "- 할당 : =, +=(누적합), -=(누적차), *=(누적곱), /=(몫만 남기기), %=(나머지만 남기기)\n"
   ]
  },
  {
   "cell_type": "markdown",
   "id": "4ed8eeb1",
   "metadata": {},
   "source": [
    "### 1) 산술연산자 : 숫자를 계산하기 위한 문법 기호"
   ]
  },
  {
   "cell_type": "code",
   "execution_count": 5,
   "id": "7a4ef29f",
   "metadata": {},
   "outputs": [
    {
     "data": {
      "text/plain": [
       "11.1"
      ]
     },
     "execution_count": 5,
     "metadata": {},
     "output_type": "execute_result"
    }
   ],
   "source": [
    "# 더하기 : +\n",
    "10 + 3 #정수 + 정수 = > 정수\n",
    "10.1 + 1 #실수 + 정수 => 실수"
   ]
  },
  {
   "cell_type": "code",
   "execution_count": null,
   "id": "9a8ec8f8",
   "metadata": {},
   "outputs": [],
   "source": [
    "# 빼기는 +와 처럼 정수 실수의 변환이 이뤄짐"
   ]
  },
  {
   "cell_type": "code",
   "execution_count": 6,
   "id": "193a67bc",
   "metadata": {},
   "outputs": [
    {
     "data": {
      "text/plain": [
       "2.0"
      ]
     },
     "execution_count": 6,
     "metadata": {},
     "output_type": "execute_result"
    }
   ],
   "source": [
    "# 나누기 : / \n",
    "# 나누기의 결과는 무조건 실수로 나옴\n",
    "3/3\n",
    "7/2\n",
    "5/2.5"
   ]
  },
  {
   "cell_type": "code",
   "execution_count": 9,
   "id": "3d352a6f",
   "metadata": {},
   "outputs": [
    {
     "data": {
      "text/plain": [
       "3.5999999999999996"
      ]
     },
     "execution_count": 9,
     "metadata": {},
     "output_type": "execute_result"
    }
   ],
   "source": [
    "# 곱하기 : *\n",
    "3*4 # 정수 * 정수 = 정수\n",
    "-3*5 \n",
    "1.2*3 # 실수 * 정수 = 실수"
   ]
  },
  {
   "cell_type": "code",
   "execution_count": 10,
   "id": "44c318c0",
   "metadata": {},
   "outputs": [
    {
     "data": {
      "text/plain": [
       "-2"
      ]
     },
     "execution_count": 10,
     "metadata": {},
     "output_type": "execute_result"
    }
   ],
   "source": [
    "# 정수 몫만 반환 ://\n",
    "# 나눗셈의 결과값보다 작은정수중 가장 큰 정수\n",
    "# 음수\n",
    "-5 // 4"
   ]
  },
  {
   "cell_type": "code",
   "execution_count": 11,
   "id": "0b51a577",
   "metadata": {},
   "outputs": [
    {
     "data": {
      "text/plain": [
       "1"
      ]
     },
     "execution_count": 11,
     "metadata": {},
     "output_type": "execute_result"
    }
   ],
   "source": [
    "# 양수\n",
    "4 // 3"
   ]
  },
  {
   "cell_type": "code",
   "execution_count": 12,
   "id": "501bb71f",
   "metadata": {},
   "outputs": [
    {
     "data": {
      "text/plain": [
       "3"
      ]
     },
     "execution_count": 12,
     "metadata": {},
     "output_type": "execute_result"
    }
   ],
   "source": [
    "# 정수 몫을 구하고 남은 나머지만 반환 : %\n",
    "3 % 4"
   ]
  },
  {
   "cell_type": "code",
   "execution_count": 14,
   "id": "b45992e7",
   "metadata": {},
   "outputs": [
    {
     "data": {
      "text/plain": [
       "1.4142135623730951"
      ]
     },
     "execution_count": 14,
     "metadata": {},
     "output_type": "execute_result"
    }
   ],
   "source": [
    "# 지수  :  **\n",
    "2 ** 3\n",
    "2 ** 0.5"
   ]
  },
  {
   "cell_type": "markdown",
   "id": "9bdc0763",
   "metadata": {},
   "source": [
    "### 2) 비교연산자 : 자료를 비교하기 위한 문법 기호\n",
    "    - 결과가 숫자가 아닌 bool type의 결과를 가진다\n",
    "    \n",
    "> #### bool type\n",
    "    - True : 0이 아닌 숫자, 참인 조건식 등\n",
    "    - False : 0, 거짓인 조건식 등\n",
    "- 값에 대한 비교 :  ==, !=\n",
    "- 크기에 대한 비교 : >, <,  >=, <="
   ]
  },
  {
   "cell_type": "code",
   "execution_count": 15,
   "id": "fbb45109",
   "metadata": {},
   "outputs": [
    {
     "data": {
      "text/plain": [
       "True"
      ]
     },
     "execution_count": 15,
     "metadata": {},
     "output_type": "execute_result"
    }
   ],
   "source": [
    "# 두 값이 같은지 비교 : ==\n",
    "# (결과) 두 값이 같으면 True, 두 값이 다르면 False\n",
    "0 == 0.0"
   ]
  },
  {
   "cell_type": "code",
   "execution_count": 16,
   "id": "e4085dd6",
   "metadata": {},
   "outputs": [
    {
     "data": {
      "text/plain": [
       "True"
      ]
     },
     "execution_count": 16,
     "metadata": {},
     "output_type": "execute_result"
    }
   ],
   "source": [
    "# 두값이 다른지 비교 : !=\n",
    "# 두값이 다르면 True 같으면 False\n",
    "type(0) != type(0.0)"
   ]
  },
  {
   "cell_type": "code",
   "execution_count": 22,
   "id": "d1e2e1f4",
   "metadata": {},
   "outputs": [
    {
     "data": {
      "text/plain": [
       "True"
      ]
     },
     "execution_count": 22,
     "metadata": {},
     "output_type": "execute_result"
    }
   ],
   "source": [
    "# 두 값의 크기를 비교: >= , <= < ,>\n",
    "10 >= 3\n",
    "10 <= 3\n",
    "10 > 10\n",
    "10 < 11"
   ]
  },
  {
   "cell_type": "markdown",
   "id": "e5f7077d",
   "metadata": {},
   "source": [
    "#### 3) 논리 연산자\n",
    "      - 여러 개의 조건식을 활용하기 위한 명령어\n",
    "      - boolean 자료형으로 결과를 줌\n",
    " "
   ]
  },
  {
   "cell_type": "code",
   "execution_count": 23,
   "id": "c9c6e73b",
   "metadata": {},
   "outputs": [
    {
     "data": {
      "text/plain": [
       "True"
      ]
     },
     "execution_count": 23,
     "metadata": {},
     "output_type": "execute_result"
    }
   ],
   "source": [
    "# and 연산자 :  조건식1 and 조건식2\n",
    "# 조건식1과 2가 모두 참이라면 True\n",
    "# 하나라도 틀리면 False\n",
    "10 < 12 #참\n",
    "0 > -3  # 참\n",
    "10 < 12 and 0 > -3 #참"
   ]
  },
  {
   "cell_type": "code",
   "execution_count": 26,
   "id": "c3c611e4",
   "metadata": {},
   "outputs": [
    {
     "data": {
      "text/plain": [
       "False"
      ]
     },
     "execution_count": 26,
     "metadata": {},
     "output_type": "execute_result"
    }
   ],
   "source": [
    "# 숫자 0 은 false, 이외의 무든 숫자는 True\n",
    "# bool(자료)는 자료의 참 거짓을 판단해줌\n",
    "bool(0)"
   ]
  },
  {
   "cell_type": "code",
   "execution_count": 27,
   "id": "608237b2",
   "metadata": {},
   "outputs": [
    {
     "data": {
      "text/plain": [
       "False"
      ]
     },
     "execution_count": 27,
     "metadata": {},
     "output_type": "execute_result"
    }
   ],
   "source": [
    "# 0이 False로 사용되는 예시\n",
    "bool(0 and 10 > 3) # 0 -> False, 10 > 3 -> ture => and 결과 false\n"
   ]
  },
  {
   "cell_type": "code",
   "execution_count": 29,
   "id": "f5a00e55",
   "metadata": {},
   "outputs": [
    {
     "data": {
      "text/plain": [
       "True"
      ]
     },
     "execution_count": 29,
     "metadata": {},
     "output_type": "execute_result"
    }
   ],
   "source": [
    "# or 연산자\n",
    "# 조건식1 or 조건식2\n",
    "# 중 하나만이라도 참이라면 True반환\n",
    "bool(0 or 10 > 3) # 0 -> False 10 > 3 True or의 반환값은 True"
   ]
  },
  {
   "cell_type": "markdown",
   "id": "0653d832",
   "metadata": {},
   "source": [
    "#### 4) 할당연산자\n",
    "    - 변수 할당\n",
    "    - 누적 연산"
   ]
  },
  {
   "cell_type": "code",
   "execution_count": 30,
   "id": "61370c53",
   "metadata": {},
   "outputs": [],
   "source": [
    "# 변수명 (왼쪽)에 변수값(오른쪽)을 할당/선언/저장/대입 : = \n",
    "x = 10;"
   ]
  },
  {
   "cell_type": "code",
   "execution_count": 32,
   "id": "a03414f0",
   "metadata": {},
   "outputs": [
    {
     "data": {
      "text/plain": [
       "10"
      ]
     },
     "execution_count": 32,
     "metadata": {},
     "output_type": "execute_result"
    }
   ],
   "source": [
    "# 숫자형의 누적합 +=\n",
    "# result라는 변수에 누적합을 저장하기\n",
    "result = 0\n",
    "# result 에 x만큼 더해 저장\n",
    "result += x\n",
    "result"
   ]
  },
  {
   "cell_type": "code",
   "execution_count": 38,
   "id": "b87fc263",
   "metadata": {},
   "outputs": [
    {
     "name": "stdout",
     "output_type": "stream",
     "text": [
      "55\n"
     ]
    }
   ],
   "source": [
    "# 1~ 10까지 누적합을 구해보세요 : 1+2+3+4+5+6+7+8+9+10\n",
    "result = 0\n",
    "# 반복문을 이용해 result 변수에 10까지 더하기\n",
    "for i in range(1,11):\n",
    "    result += i\n",
    "print(result)"
   ]
  },
  {
   "cell_type": "markdown",
   "id": "cca94d94",
   "metadata": {},
   "source": [
    "### 1. 홍길동의 시험 성적 평균을 구하세요\n",
    "영어 80 국어 72 수학 90 사회 66\n",
    "\n"
   ]
  },
  {
   "cell_type": "code",
   "execution_count": 40,
   "id": "169fc225",
   "metadata": {},
   "outputs": [
    {
     "name": "stdout",
     "output_type": "stream",
     "text": [
      "77.0\n"
     ]
    }
   ],
   "source": [
    "eng = 80\n",
    "kor = 72\n",
    "meth = 90\n",
    "soc = 66\n",
    "result = eng + kor + meth + soc\n",
    "print(result / 4)"
   ]
  },
  {
   "cell_type": "markdown",
   "id": "7e99352e",
   "metadata": {},
   "source": [
    "### 2. 반지름이 7인 원의 넓이를 구해주세요\n",
    "참고  원 넓이 = (반지름 ** 2) * 3.14"
   ]
  },
  {
   "cell_type": "code",
   "execution_count": 5,
   "id": "0623489f",
   "metadata": {},
   "outputs": [
    {
     "name": "stdout",
     "output_type": "stream",
     "text": [
      "153.86\n"
     ]
    }
   ],
   "source": [
    "r = 7\n",
    "pi = 3.14\n",
    "ser = (r ** 2) * pi\n",
    "\n",
    "print(ser)"
   ]
  },
  {
   "cell_type": "code",
   "execution_count": 4,
   "id": "d60649f6",
   "metadata": {},
   "outputs": [
    {
     "name": "stdout",
     "output_type": "stream",
     "text": [
      "3 9 27\n"
     ]
    }
   ],
   "source": [
    "### 3. 여러분들이 직접 임의의 변수에 원하는 숫자를 집어넣고 그 숫자의 제곱근과 세제곱근을 출력해주세요\n",
    "\n",
    "sum = 3\n",
    "print(sum, sum**2, sum**3)\n",
    "print(sum, sum)"
   ]
  },
  {
   "cell_type": "markdown",
   "id": "4f3c6f7c",
   "metadata": {},
   "source": [
    "## > 문자열 내장함수* = 문자열 메서드\n",
    "\n",
    "    └≫ 내장함수 : 특정 데이터 타입이 자체적으로 가지고 있는 속성으로 존재하는 함수\n",
    "    └≫ 문법 : 변수(데이터타입값).함수명()\n",
    "\n",
    "\n",
    "* count( ) : 특정 문자의 개수\n",
    "\n",
    "\n",
    "* find( ) :특정 문자의 인덱스 번호(위치)\n",
    "\n",
    "\n",
    "* join( ) : 특정 기호를 문자열 아이템 사이에 입력\n",
    "\n",
    "\n",
    "* upper( ) : 문자열을 대문자로 변경\n",
    "\n",
    "\n",
    "* lower( ) : 문자열을 소문자로 변경\n",
    "\n",
    "\n",
    "* capitalize( ) : 문자열의 첫 글자를 대문자로\n",
    "\n",
    "\n",
    "* swapcase( ) : 대문자는 소문자로, 소문자는 대문자로 전환\n",
    "\n",
    "\n",
    "* lstrip( ) / rstrip( ) / strip( ) : 좌 / 우 / 앞뒤 공백(기본) 및 특정 문자 지우기\n",
    "\n",
    "\n",
    "* replace( ) : 기존 문자를 새로운 문자로 바꾸기\n",
    "\n",
    "\n",
    "* split( ) : 특정 기호를 기준으로 문자열을 아이템 단위로 나누어 리스트로 반환\n",
    "\n",
    "\n",
    "* center( ) : 문자열 길이를 지정하여 대상 문자열을 중앙 정렬\n",
    "\n",
    "\n",
    "* ljust( ) : 문자열 길이를 지정하여 대상 문자열을 왼쪽 정렬\n",
    "\n",
    "\n",
    "* rjust( ) : 문자열 길이를 지정하여 대상 문자열을 오른쪽 정렬"
   ]
  },
  {
   "cell_type": "code",
   "execution_count": 6,
   "id": "5d7de619",
   "metadata": {},
   "outputs": [],
   "source": [
    "# 문자열 생성\n",
    "t = 'tomato juice'"
   ]
  },
  {
   "cell_type": "code",
   "execution_count": 7,
   "id": "300481f2",
   "metadata": {},
   "outputs": [
    {
     "data": {
      "text/plain": [
       "1"
      ]
     },
     "execution_count": 7,
     "metadata": {},
     "output_type": "execute_result"
    }
   ],
   "source": [
    "#count()\n",
    "# t문자열안에 a개수\n",
    "t.count('a')"
   ]
  },
  {
   "cell_type": "code",
   "execution_count": 8,
   "id": "8a4c2e4a",
   "metadata": {},
   "outputs": [
    {
     "data": {
      "text/plain": [
       "4"
      ]
     },
     "execution_count": 8,
     "metadata": {},
     "output_type": "execute_result"
    }
   ],
   "source": [
    "# find() 특정 값의 인덱스 번호를 반환\n",
    "# t 문자열에서의 a의 인덱스 번호\n",
    "# find('찾을 자료', 시작인덱스)를 적어주면 특정 인덱스부터만 찾아볼수 있음\n",
    "# 없는 자료 조회시 -2 이라는 인덱스를 리턴\n",
    "t.find('to',1)"
   ]
  },
  {
   "cell_type": "code",
   "execution_count": 9,
   "id": "163c7491",
   "metadata": {},
   "outputs": [
    {
     "data": {
      "text/plain": [
       "'TOMATO JUICE'"
      ]
     },
     "execution_count": 9,
     "metadata": {},
     "output_type": "execute_result"
    }
   ],
   "source": [
    "# upper()\n",
    "# 변경한 결과를 시뮬레이션해서 보여줌 원본자료는 변경이 없음\n",
    "t.upper()"
   ]
  },
  {
   "cell_type": "code",
   "execution_count": 12,
   "id": "d180b206",
   "metadata": {},
   "outputs": [
    {
     "data": {
      "text/plain": [
       "'tomato juice'"
      ]
     },
     "execution_count": 12,
     "metadata": {},
     "output_type": "execute_result"
    }
   ],
   "source": [
    "# lower()\n",
    "# 변경한 결과를 시뮬레이션해서 보여줌 원본자료는 변경이 없음\n",
    "t.lower()"
   ]
  },
  {
   "cell_type": "code",
   "execution_count": 14,
   "id": "ea21ecb6",
   "metadata": {},
   "outputs": [],
   "source": [
    "t= \"                                    123                                             123                       \""
   ]
  },
  {
   "cell_type": "code",
   "execution_count": 15,
   "id": "53b6f6c0",
   "metadata": {},
   "outputs": [
    {
     "data": {
      "text/plain": [
       "'123                                             123                       '"
      ]
     },
     "execution_count": 15,
     "metadata": {},
     "output_type": "execute_result"
    }
   ],
   "source": [
    "# lstrip()\n",
    "# 왼쪽공백을 없앰\n",
    "\n",
    "t.lstrip()"
   ]
  },
  {
   "cell_type": "code",
   "execution_count": 16,
   "id": "903abe01",
   "metadata": {},
   "outputs": [
    {
     "data": {
      "text/plain": [
       "'                                    123                                             123'"
      ]
     },
     "execution_count": 16,
     "metadata": {},
     "output_type": "execute_result"
    }
   ],
   "source": [
    "# 오른쪽 공백을 없앰\n",
    "t.rstrip()"
   ]
  },
  {
   "cell_type": "code",
   "execution_count": 17,
   "id": "aeecd075",
   "metadata": {},
   "outputs": [
    {
     "data": {
      "text/plain": [
       "'123                                             123'"
      ]
     },
     "execution_count": 17,
     "metadata": {},
     "output_type": "execute_result"
    }
   ],
   "source": [
    "# 양쪽공백을 없앰\n",
    "t.strip()"
   ]
  },
  {
   "cell_type": "code",
   "execution_count": 18,
   "id": "9293a035",
   "metadata": {},
   "outputs": [
    {
     "data": {
      "text/plain": [
       "'123123'"
      ]
     },
     "execution_count": 18,
     "metadata": {},
     "output_type": "execute_result"
    }
   ],
   "source": [
    "# replace(old, new)\n",
    "# 앞에것을 뒤에걸로 변환함\n",
    "# 원본은 변경되지않음\n",
    "t.replace(\" \",\"\")"
   ]
  },
  {
   "cell_type": "code",
   "execution_count": 20,
   "id": "81a28283",
   "metadata": {},
   "outputs": [
    {
     "data": {
      "text/plain": [
       "['a', 'b', 'c']"
      ]
     },
     "execution_count": 20,
     "metadata": {},
     "output_type": "execute_result"
    }
   ],
   "source": [
    "# .split(\"기준\")\n",
    "# 쪼개기\n",
    "# 기준점을 기준으로 쪼갬 입력을 안하면  ' ', \\n, \\t 기준으로 쪼갬\n",
    "t2 = 'a b c'\n",
    "t2.split()"
   ]
  },
  {
   "cell_type": "code",
   "execution_count": 21,
   "id": "42de8cd2",
   "metadata": {},
   "outputs": [],
   "source": [
    "t3 = 'a,b,c,ddes'"
   ]
  },
  {
   "cell_type": "code",
   "execution_count": 27,
   "id": "8ec4a1b7",
   "metadata": {},
   "outputs": [
    {
     "data": {
      "text/plain": [
       "['a', 'b', 'c', 'ddes']"
      ]
     },
     "execution_count": 27,
     "metadata": {},
     "output_type": "execute_result"
    }
   ],
   "source": [
    "t3.split(\",\")"
   ]
  },
  {
   "cell_type": "code",
   "execution_count": 40,
   "id": "855aa9c9",
   "metadata": {},
   "outputs": [
    {
     "data": {
      "text/plain": [
       "'a,,b,,c'"
      ]
     },
     "execution_count": 40,
     "metadata": {},
     "output_type": "execute_result"
    }
   ],
   "source": [
    "# join()\n",
    "# 왼쪽에 있는 요소를 .join(자료)의\n",
    "# 자료 인덱스 사이사이에 입력해줌\n",
    "t = 'abc'\n",
    "\",,\".join(t)"
   ]
  },
  {
   "cell_type": "code",
   "execution_count": null,
   "id": "6443ad0d",
   "metadata": {},
   "outputs": [],
   "source": [
    "# 마지막 인덱스번호 = -1을 써도 되고= len() -1"
   ]
  },
  {
   "cell_type": "code",
   "execution_count": 32,
   "id": "2d80d5b7",
   "metadata": {},
   "outputs": [],
   "source": [
    "x = 'abcdefg'"
   ]
  },
  {
   "cell_type": "code",
   "execution_count": 33,
   "id": "a27d8a7d",
   "metadata": {},
   "outputs": [
    {
     "data": {
      "text/plain": [
       "'g'"
      ]
     },
     "execution_count": 33,
     "metadata": {},
     "output_type": "execute_result"
    }
   ],
   "source": [
    "x[-1]"
   ]
  },
  {
   "cell_type": "code",
   "execution_count": 34,
   "id": "af415314",
   "metadata": {},
   "outputs": [
    {
     "data": {
      "text/plain": [
       "'g'"
      ]
     },
     "execution_count": 34,
     "metadata": {},
     "output_type": "execute_result"
    }
   ],
   "source": [
    "x[len(x)-1]"
   ]
  },
  {
   "cell_type": "code",
   "execution_count": null,
   "id": "8415cd5e",
   "metadata": {},
   "outputs": [],
   "source": []
  },
  {
   "cell_type": "code",
   "execution_count": null,
   "id": "0ad1ea2a",
   "metadata": {},
   "outputs": [],
   "source": []
  },
  {
   "cell_type": "code",
   "execution_count": null,
   "id": "7692e0f1",
   "metadata": {},
   "outputs": [],
   "source": []
  }
 ],
 "metadata": {
  "kernelspec": {
   "display_name": "Python 3 (ipykernel)",
   "language": "python",
   "name": "python3"
  },
  "language_info": {
   "codemirror_mode": {
    "name": "ipython",
    "version": 3
   },
   "file_extension": ".py",
   "mimetype": "text/x-python",
   "name": "python",
   "nbconvert_exporter": "python",
   "pygments_lexer": "ipython3",
   "version": "3.9.7"
  }
 },
 "nbformat": 4,
 "nbformat_minor": 5
}

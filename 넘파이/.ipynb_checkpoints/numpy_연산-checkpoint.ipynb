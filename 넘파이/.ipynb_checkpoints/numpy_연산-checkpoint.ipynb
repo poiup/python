{
 "cells": [
  {
   "cell_type": "code",
   "execution_count": 1,
   "id": "5584cafa",
   "metadata": {},
   "outputs": [],
   "source": [
    "# 라이브러리 가져오기 : numpy\n",
    "# as 별칭 선언 이후에는 별칭으로 해당 라이브러리의 기능을 쓸수 있다.\n",
    "# import 라이브러리명 as 별칭\n",
    "import numpy as np"
   ]
  },
  {
   "cell_type": "code",
   "execution_count": 2,
   "id": "e9663a5a",
   "metadata": {},
   "outputs": [],
   "source": [
    "# numpy 객체 정보를 좀더 편하게 확인하기 위한 사용자 함수 정의\n",
    "# 객체 타입, 구조, 차원, 데이터 타입, 내부자료\n",
    "# 를 확인하기 위해 커스텀 함수를 정의합니다.( 기본기능 아님)\n",
    "def np_print(arr):\n",
    "    text =  '''\n",
    "    type = %s\n",
    "    shape = %s\n",
    "    ndim = %s\n",
    "    dtype = %s\n",
    "    array date : \\n %s '''% (type(arr), arr.shape, arr.ndim, arr.dtype, arr)\n",
    "    print(text)"
   ]
  },
  {
   "cell_type": "markdown",
   "id": "09d39b61",
   "metadata": {},
   "source": [
    "## 산술연산\n",
    "\n",
    "- 더하기 : +, add()\n",
    "- 빼기 : - ,subtract()\n",
    "- 나누기 : / , divide()\n",
    "- 곱하기 : * multiply()\n",
    "- 지수곱 표현 : exp()\n",
    "- 제곱근 : sqrt()\n",
    "- 로그 : log()\n",
    "- 내적(행렬곱) : dot()"
   ]
  },
  {
   "cell_type": "code",
   "execution_count": 4,
   "id": "ef628659",
   "metadata": {},
   "outputs": [
    {
     "data": {
      "text/plain": [
       "array([[1, 2, 3],\n",
       "       [4, 5, 6],\n",
       "       [7, 8, 9]])"
      ]
     },
     "execution_count": 4,
     "metadata": {},
     "output_type": "execute_result"
    }
   ],
   "source": [
    "# 1부터 10미만의 범위(지정범위)에서 1씩 증가하는 숫자를 데이터로 가진 3행 3열의 배열\n",
    "a = np.arange(1,10).reshape(3,3)\n",
    "a"
   ]
  },
  {
   "cell_type": "code",
   "execution_count": 8,
   "id": "56d62475",
   "metadata": {},
   "outputs": [],
   "source": [
    "# 4이상 13미만의 범위에서 1식 증가하는 숫자를 데이터로 가진 3행 3열 배열 생성\n",
    "b = np.arange(4,13).reshape(3,3)"
   ]
  },
  {
   "cell_type": "code",
   "execution_count": 10,
   "id": "e6acabcc",
   "metadata": {},
   "outputs": [],
   "source": [
    "# 10 ~ 21까지 3행 4열 형태로 만들기\n",
    "c = np.arange(10, 22).reshape(3,4)"
   ]
  },
  {
   "cell_type": "markdown",
   "id": "c5fcc394",
   "metadata": {},
   "source": [
    "### 더하기\n",
    "    \n",
    "    - 배열 + 배열\n",
    "    - np.add(arr1, arr2)"
   ]
  },
  {
   "cell_type": "code",
   "execution_count": 12,
   "id": "6b63d72b",
   "metadata": {},
   "outputs": [
    {
     "data": {
      "text/plain": [
       "array([[ 5,  7,  9],\n",
       "       [11, 13, 15],\n",
       "       [17, 19, 21]])"
      ]
     },
     "execution_count": 12,
     "metadata": {},
     "output_type": "execute_result"
    }
   ],
   "source": [
    "a + b"
   ]
  },
  {
   "cell_type": "code",
   "execution_count": 15,
   "id": "9062bb5d",
   "metadata": {},
   "outputs": [
    {
     "data": {
      "text/plain": [
       "array([[ 5,  7,  9],\n",
       "       [11, 13, 15],\n",
       "       [17, 19, 21]])"
      ]
     },
     "execution_count": 15,
     "metadata": {},
     "output_type": "execute_result"
    }
   ],
   "source": [
    "# np.add(배열1, 배열2)\n",
    "np.add(a,b)"
   ]
  },
  {
   "cell_type": "code",
   "execution_count": 16,
   "id": "a8773e53",
   "metadata": {},
   "outputs": [
    {
     "ename": "ValueError",
     "evalue": "operands could not be broadcast together with shapes (3,3) (3,4) ",
     "output_type": "error",
     "traceback": [
      "\u001b[1;31m---------------------------------------------------------------------------\u001b[0m",
      "\u001b[1;31mValueError\u001b[0m                                Traceback (most recent call last)",
      "\u001b[1;32m~\\AppData\\Local\\Temp/ipykernel_34724/1464998718.py\u001b[0m in \u001b[0;36m<module>\u001b[1;34m\u001b[0m\n\u001b[0;32m      1\u001b[0m \u001b[1;31m# 구조 다른 배열간의 산술 연산자  에러발생\u001b[0m\u001b[1;33m\u001b[0m\u001b[1;33m\u001b[0m\u001b[0m\n\u001b[0;32m      2\u001b[0m \u001b[1;31m# 3*3 과 3*4형태\u001b[0m\u001b[1;33m\u001b[0m\u001b[1;33m\u001b[0m\u001b[0m\n\u001b[1;32m----> 3\u001b[1;33m \u001b[0ma\u001b[0m\u001b[1;33m+\u001b[0m\u001b[0mc\u001b[0m\u001b[1;33m\u001b[0m\u001b[1;33m\u001b[0m\u001b[0m\n\u001b[0m",
      "\u001b[1;31mValueError\u001b[0m: operands could not be broadcast together with shapes (3,3) (3,4) "
     ]
    }
   ],
   "source": [
    "# 구조 다른 배열간의 산술 연산자  에러발생\n",
    "# 3*3 과 3*4형태\n",
    "a+c"
   ]
  },
  {
   "cell_type": "markdown",
   "id": "fddf2941",
   "metadata": {},
   "source": [
    "### 빼기\n",
    "    - 배열 - 배열\n",
    "    - np.subtract(arr1,arr2)"
   ]
  },
  {
   "cell_type": "code",
   "execution_count": 18,
   "id": "6f775557",
   "metadata": {},
   "outputs": [
    {
     "data": {
      "text/plain": [
       "array([[-3, -3, -3],\n",
       "       [-3, -3, -3],\n",
       "       [-3, -3, -3]])"
      ]
     },
     "execution_count": 18,
     "metadata": {},
     "output_type": "execute_result"
    }
   ],
   "source": [
    "a-b"
   ]
  },
  {
   "cell_type": "markdown",
   "id": "d3d533ec",
   "metadata": {},
   "source": [
    "### 나누기\n",
    "\n",
    "    - 배열 / 배열\n",
    "    - np.drivide(배열1,배열2)\n",
    "    "
   ]
  },
  {
   "cell_type": "code",
   "execution_count": 19,
   "id": "d0c72b7f",
   "metadata": {},
   "outputs": [
    {
     "data": {
      "text/plain": [
       "array([[0.25      , 0.4       , 0.5       ],\n",
       "       [0.57142857, 0.625     , 0.66666667],\n",
       "       [0.7       , 0.72727273, 0.75      ]])"
      ]
     },
     "execution_count": 19,
     "metadata": {},
     "output_type": "execute_result"
    }
   ],
   "source": [
    "a/b"
   ]
  },
  {
   "cell_type": "markdown",
   "id": "adbf47c5",
   "metadata": {},
   "source": [
    "### 곱하기\n"
   ]
  },
  {
   "cell_type": "code",
   "execution_count": 23,
   "id": "4d8cd767",
   "metadata": {},
   "outputs": [
    {
     "data": {
      "text/plain": [
       "array([[  4,  10,  18],\n",
       "       [ 28,  40,  54],\n",
       "       [ 70,  88, 108]])"
      ]
     },
     "execution_count": 23,
     "metadata": {},
     "output_type": "execute_result"
    }
   ],
   "source": [
    "a * b"
   ]
  },
  {
   "cell_type": "code",
   "execution_count": 22,
   "id": "6bfc0b48",
   "metadata": {},
   "outputs": [
    {
     "data": {
      "text/plain": [
       "array([[  4,  10,  18],\n",
       "       [ 28,  40,  54],\n",
       "       [ 70,  88, 108]])"
      ]
     },
     "execution_count": 22,
     "metadata": {},
     "output_type": "execute_result"
    }
   ],
   "source": [
    "np.multiply(a,b)"
   ]
  },
  {
   "cell_type": "markdown",
   "id": "6a4bc9a8",
   "metadata": {},
   "source": [
    "### 지수곱 표현\n",
    "\n",
    "- 지수(exponent) : 부동 소수점으로 숫자를 표시할 때 거듭제곱을 사용하여 표현. <br>\n",
    "(예) 2.14e+2 = 2.14 x 102 = 214 / 2.98e-8 = 2.98 x 10-8 = 0.0000000298\n",
    "- np.exp(arr) : 밑(base)이 자연상수 e 인 지수함수로 변환(y = e**x)"
   ]
  },
  {
   "cell_type": "code",
   "execution_count": 24,
   "id": "a1a7756d",
   "metadata": {
    "scrolled": true
   },
   "outputs": [
    {
     "data": {
      "text/plain": [
       "array([[1, 2, 3],\n",
       "       [4, 5, 6],\n",
       "       [7, 8, 9]])"
      ]
     },
     "execution_count": 24,
     "metadata": {},
     "output_type": "execute_result"
    }
   ],
   "source": [
    "a"
   ]
  },
  {
   "cell_type": "code",
   "execution_count": 25,
   "id": "41af69d3",
   "metadata": {},
   "outputs": [
    {
     "data": {
      "text/plain": [
       "array([[2.71828183e+00, 7.38905610e+00, 2.00855369e+01],\n",
       "       [5.45981500e+01, 1.48413159e+02, 4.03428793e+02],\n",
       "       [1.09663316e+03, 2.98095799e+03, 8.10308393e+03]])"
      ]
     },
     "execution_count": 25,
     "metadata": {},
     "output_type": "execute_result"
    }
   ],
   "source": [
    "np.exp(a)"
   ]
  },
  {
   "cell_type": "markdown",
   "id": "486daa53",
   "metadata": {},
   "source": [
    "### 제곱근\n",
    "\n",
    "- np.sqrt(arr)\n",
    "\n",
    "<img src=\"img/sqrt.gif\" width=\"400\" height=\"200\" align=\"left\">"
   ]
  },
  {
   "cell_type": "code",
   "execution_count": 27,
   "id": "5ffa4439",
   "metadata": {},
   "outputs": [
    {
     "data": {
      "text/plain": [
       "array([[1.        , 1.41421356, 1.73205081],\n",
       "       [2.        , 2.23606798, 2.44948974],\n",
       "       [2.64575131, 2.82842712, 3.        ]])"
      ]
     },
     "execution_count": 27,
     "metadata": {},
     "output_type": "execute_result"
    }
   ],
   "source": [
    "np.sqrt(a)"
   ]
  },
  {
   "cell_type": "markdown",
   "id": "bc60af7c",
   "metadata": {},
   "source": [
    "### 내적(행렬곱)\n",
    "\n",
    "- np.dot(a,b)\n",
    "\n",
    "<img src=\"img/dotProduct.png\" width=\"400\" height=\"200\" align='left'>"
   ]
  },
  {
   "cell_type": "code",
   "execution_count": 28,
   "id": "082ca45e",
   "metadata": {},
   "outputs": [
    {
     "data": {
      "text/plain": [
       "array([[ 48,  54,  60],\n",
       "       [111, 126, 141],\n",
       "       [174, 198, 222]])"
      ]
     },
     "execution_count": 28,
     "metadata": {},
     "output_type": "execute_result"
    }
   ],
   "source": [
    "np.dot(a,b)"
   ]
  },
  {
   "cell_type": "markdown",
   "id": "8fe1a06a",
   "metadata": {},
   "source": [
    "### Numpy 배열 연산\n",
    "\n",
    "#### 2. 비교 연산\n",
    "\n",
    "1) 요소\n",
    "- 값에 대한 비교 : ==, !=\n",
    "- 크기에 대한 비교 : >, <, >=, <=\n",
    "\n",
    "2) 배열\n",
    "- 두 배열 전체에 대한 비교 : array_equal(a, b"
   ]
  },
  {
   "cell_type": "code",
   "execution_count": null,
   "id": "514e4089",
   "metadata": {},
   "outputs": [],
   "source": [
    "# 두 배열 요소에 대하여 값이 동일한지 비교\n",
    "# 반환 : 각 요소마다의 비교결과(참 거짓)가 배열로 표현됨"
   ]
  },
  {
   "cell_type": "code",
   "execution_count": 30,
   "id": "12483b17",
   "metadata": {},
   "outputs": [
    {
     "name": "stdout",
     "output_type": "stream",
     "text": [
      "\n",
      "    type = <class 'numpy.ndarray'>\n",
      "    shape = (3, 3)\n",
      "    ndim = 2\n",
      "    dtype = bool\n",
      "    array date : \n",
      " [[False False False]\n",
      " [False False False]\n",
      " [False False False]] \n"
     ]
    }
   ],
   "source": [
    "np_print(a == b)"
   ]
  },
  {
   "cell_type": "code",
   "execution_count": 31,
   "id": "a736df8b",
   "metadata": {},
   "outputs": [
    {
     "data": {
      "text/plain": [
       "array([[ True,  True,  True],\n",
       "       [ True,  True,  True],\n",
       "       [ True,  True,  True]])"
      ]
     },
     "execution_count": 31,
     "metadata": {},
     "output_type": "execute_result"
    }
   ],
   "source": [
    "# 두 배열 요소에 대하여 값이 다른지 비교\n",
    "a != b"
   ]
  },
  {
   "cell_type": "code",
   "execution_count": 32,
   "id": "8823da15",
   "metadata": {},
   "outputs": [
    {
     "data": {
      "text/plain": [
       "array([[ True,  True,  True],\n",
       "       [ True,  True,  True],\n",
       "       [ True,  True,  True]])"
      ]
     },
     "execution_count": 32,
     "metadata": {},
     "output_type": "execute_result"
    }
   ],
   "source": [
    "# 두 배열요소에 대해 크기비교\n",
    "a < b"
   ]
  },
  {
   "cell_type": "code",
   "execution_count": 35,
   "id": "f5a90436",
   "metadata": {},
   "outputs": [
    {
     "data": {
      "text/plain": [
       "False"
      ]
     },
     "execution_count": 35,
     "metadata": {},
     "output_type": "execute_result"
    }
   ],
   "source": [
    "# 두 배열이 완전히 일치하는지 여부만 조회\n",
    "#  하나의 T/F로 반환\n",
    "np.array_equal(a,b)"
   ]
  },
  {
   "cell_type": "markdown",
   "id": "2c72bc1b",
   "metadata": {},
   "source": [
    "### Numpy 배열 연산\n",
    "\n",
    "3. 집계 함수\n",
    "\n",
    "    - Numpy 배열에 대해 집계 함수를 적용할 때는 반드시 axis로 설정된 기준에 따라 연산 수행\n",
    "    - 별도로 값을 지정하지 않으면 기본값은 axis = None으로 지정\n",
    "    - axis\n",
    "        - axis = None <br>\n",
    "        전체 데이터를 하나의 배열로 간주하고 집계 함수의 연산 범위를 전체 배열로 지정\n",
    "        <br>\n",
    "        <img src='img/axis_None.jpg' width='150' height='150' align='left'>\n",
    "        <br>\n",
    "        <br>\n",
    "        <br>\n",
    "        <br>\n",
    "        <br>\n",
    "        <br>\n",
    "        <br>\n",
    "        <br>\n",
    "        <br>\n",
    "        <br>\n",
    "        - axis = 0 <br>\n",
    "        열을 기준으로 동일한 열에 있는 요소를 하나의 그룹으로 묶어 집계 함수의 연산 범위로 지정\n",
    "        <br>\n",
    "        <img src='img/axis_0.jpg' width='150' height='150' align='left'>\n",
    "        <br>\n",
    "        <br>\n",
    "        <br>\n",
    "        <br>\n",
    "        <br>\n",
    "        <br>\n",
    "        <br>\n",
    "        <br>\n",
    "        <br>\n",
    "        <br>\n",
    "        - axis = 1 <br>\n",
    "        행을 기준으로 동일한 행에 있는 요소를 하나의 그룹으로 묶어 집계 함수의 연산 범위로 지정\n",
    "        <br>\n",
    "        <img src='img/axis_1.jpg' width='150' height='150' align='left'>\n",
    "        <br>\n",
    "        <br>\n",
    "        <br>\n",
    "        <br>\n",
    "        <br>\n",
    "        <br>\n",
    "        <br>\n",
    "        <br>\n",
    "        <br>\n",
    "        <br>\n",
    "        \n",
    "    - 집계 함수 : 배열객체에 대한 메소드로 사용하거나 Numpy 라이브러리의 메소드로 사용하는 두 가지 방법\n",
    "        - 합계 : sum()\n",
    "        - 최소값 : min()\n",
    "        - 최대값 : max()\n",
    "        - 누적 합계 : cumsum()\n",
    "        - 평균 : mean()\n",
    "        - 중앙값 : median()\n",
    "            - 크기 순으로 나열된 데이터에 대해 중앙에 위치하는 값\n",
    "        - 상관계수 : corrcoef()\n",
    "            - 데이터 간의 상관관계를 나타내는 수치(-1 <= r <= 1)\n",
    "        - 표준편차 : std()\n",
    "            - 분산의 제곱근, 데이터가 평균으로부터 흩어져 있는 정도\n",
    "            - 분산 = 편차(요소-전체평균)제곱의 평균\n",
    "        - 고유값 : unique()"
   ]
  },
  {
   "cell_type": "code",
   "execution_count": 36,
   "id": "41169b38",
   "metadata": {},
   "outputs": [
    {
     "name": "stdout",
     "output_type": "stream",
     "text": [
      "\n",
      "    type = <class 'numpy.ndarray'>\n",
      "    shape = (3, 3)\n",
      "    ndim = 2\n",
      "    dtype = int32\n",
      "    array date : \n",
      " [[1 2 3]\n",
      " [4 5 6]\n",
      " [7 8 9]] \n"
     ]
    }
   ],
   "source": [
    "# t사용할 배열 객체 확인\n",
    "np_print(a)"
   ]
  },
  {
   "cell_type": "code",
   "execution_count": 40,
   "id": "8cf49896",
   "metadata": {},
   "outputs": [
    {
     "data": {
      "text/plain": [
       "45"
      ]
     },
     "execution_count": 40,
     "metadata": {},
     "output_type": "execute_result"
    }
   ],
   "source": [
    "# 합계 - 전체기준 => 모든 요소에 대한 합\n",
    "# 1) 배열타입의 메서드 : arr.sum()\n",
    "# 2) numpy함수 : np.sum(arr)\n",
    "\n",
    "np.sum(a)"
   ]
  },
  {
   "cell_type": "code",
   "execution_count": 41,
   "id": "eae677a1",
   "metadata": {},
   "outputs": [
    {
     "data": {
      "text/plain": [
       "45"
      ]
     },
     "execution_count": 41,
     "metadata": {},
     "output_type": "execute_result"
    }
   ],
   "source": [
    "a.sum()"
   ]
  },
  {
   "cell_type": "code",
   "execution_count": 42,
   "id": "1d636638",
   "metadata": {},
   "outputs": [
    {
     "name": "stdout",
     "output_type": "stream",
     "text": [
      "[46 62 78]\n",
      "[[10 11 12 13]\n",
      " [14 15 16 17]\n",
      " [18 19 20 21]]\n"
     ]
    }
   ],
   "source": [
    "# 합계 - row, 가로축별 합산\n",
    "# 메서드, np함수의 파라미터값: axis=1\n",
    "# 결겨괎 :  [0번row합, 1번row합, 2번 row합]\n",
    "print(c.sum(axis=1))\n",
    "print(c)"
   ]
  },
  {
   "cell_type": "code",
   "execution_count": 43,
   "id": "f81e6cf9",
   "metadata": {},
   "outputs": [
    {
     "name": "stdout",
     "output_type": "stream",
     "text": [
      "[42 45 48 51]\n"
     ]
    }
   ],
   "source": [
    "print(c.sum(axis=0))"
   ]
  },
  {
   "cell_type": "code",
   "execution_count": 44,
   "id": "864bdf35",
   "metadata": {},
   "outputs": [
    {
     "data": {
      "text/plain": [
       "10"
      ]
     },
     "execution_count": 44,
     "metadata": {},
     "output_type": "execute_result"
    }
   ],
   "source": [
    "# 최소값 - 전체기준\n",
    "# 1) 배열 타입의 메서드 : arr.min()\n",
    "# 2) numpy 함수 : np.min(arr)\n",
    "\n",
    "c.min()\n",
    "np.min(c)"
   ]
  },
  {
   "cell_type": "code",
   "execution_count": 47,
   "id": "582cb4dc",
   "metadata": {},
   "outputs": [
    {
     "data": {
      "text/plain": [
       "1"
      ]
     },
     "execution_count": 47,
     "metadata": {},
     "output_type": "execute_result"
    }
   ],
   "source": [
    "# (참고)파이썬 리스트에서 최소값 찾기\n",
    "x = [1,2,3,4]\n",
    "min(x)"
   ]
  },
  {
   "cell_type": "code",
   "execution_count": 48,
   "id": "f549ed8d",
   "metadata": {},
   "outputs": [
    {
     "data": {
      "text/plain": [
       "array([10, 14, 18])"
      ]
     },
     "execution_count": 48,
     "metadata": {},
     "output_type": "execute_result"
    }
   ],
   "source": [
    "# 최소값 - 각 가로축(row별) 최소값 찾기\n",
    "c.min(axis=1)"
   ]
  },
  {
   "cell_type": "code",
   "execution_count": null,
   "id": "98901676",
   "metadata": {},
   "outputs": [],
   "source": []
  },
  {
   "cell_type": "code",
   "execution_count": null,
   "id": "2ec8f975",
   "metadata": {},
   "outputs": [],
   "source": []
  },
  {
   "cell_type": "code",
   "execution_count": null,
   "id": "c7013fcc",
   "metadata": {},
   "outputs": [],
   "source": []
  },
  {
   "cell_type": "code",
   "execution_count": null,
   "id": "967fc419",
   "metadata": {},
   "outputs": [],
   "source": []
  },
  {
   "cell_type": "code",
   "execution_count": null,
   "id": "98920ce4",
   "metadata": {},
   "outputs": [],
   "source": []
  }
 ],
 "metadata": {
  "kernelspec": {
   "display_name": "Python 3 (ipykernel)",
   "language": "python",
   "name": "python3"
  },
  "language_info": {
   "codemirror_mode": {
    "name": "ipython",
    "version": 3
   },
   "file_extension": ".py",
   "mimetype": "text/x-python",
   "name": "python",
   "nbconvert_exporter": "python",
   "pygments_lexer": "ipython3",
   "version": "3.9.7"
  }
 },
 "nbformat": 4,
 "nbformat_minor": 5
}

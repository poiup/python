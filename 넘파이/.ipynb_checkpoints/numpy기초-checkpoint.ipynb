{
 "cells": [
  {
   "cell_type": "markdown",
   "id": "bbf07ba8",
   "metadata": {},
   "source": [
    "Numpy\n",
    "\n",
    "    - Numberiacla Python\n",
    "    - 파이썬 머신러닝 패키지인 scikit-learn에서 기본 데이터 구조로 사용되어 Numpy 배열 형태의 데이터를 사용\n",
    "    - 파이썬 기반 데이터  분석 환경에서 행렬 및 벡터 연산에 필요한 다양한 함수를 제공\n",
    "    - 메모리 소모가 많은 반복문 없이 전체 데이터 배열에 빠른 연산을 처리할수 있는 표준 수학 함수\n",
    "    \n",
    "        | 배열 : 동일한 특성(데이터 타입) 및 일정한 규칙을 가지는 여러개의 요소가 나열되어 있는 데이터 집합\n",
    "    - 파이썬 list 객체를 사용할때 보다 Numpy의 ndarray 객체를 사용하면 연산 속도가 개선되어 더많은 데이트럴 빠르게 처리가능"
   ]
  },
  {
   "cell_type": "code",
   "execution_count": 1,
   "id": "bae9f81b",
   "metadata": {},
   "outputs": [],
   "source": [
    "# 라이브러리 가져오기 : numpy\n",
    "# as 별칭 선언 이후에는 별칭으로 해당 라이브러리의 기능을 쓸수 있다.\n",
    "# import 라이브러리명 as 별칭\n",
    "import numpy as np"
   ]
  },
  {
   "cell_type": "code",
   "execution_count": 5,
   "id": "83b39b54",
   "metadata": {},
   "outputs": [
    {
     "data": {
      "text/plain": [
       "'1.20.3'"
      ]
     },
     "execution_count": 5,
     "metadata": {},
     "output_type": "execute_result"
    }
   ],
   "source": [
    "# 라이브러리 버전 확인\n",
    "np.__version__"
   ]
  },
  {
   "cell_type": "markdown",
   "id": "e4407601",
   "metadata": {},
   "source": [
    "## Numpy 배열 : numpy.ndarray\n",
    "\n",
    "- 다차원 배열(1차원, 2차원, 3차원)으로 입체적인 데이터 구조를 구성하고 여러 개의 데이터 방향을 가진다.\n",
    "\n",
    "- 배열 속성 : shape, ndim, dtype 등\n",
    "\n",
    "- 데이터 방향 : axis = 0(행/높이), 1(열/폭), 2(채널/깊이)\n",
    "\n",
    "사진을 집어넣을때는 img태그 를 사용합니다.\n",
    "<img src='img/nparr1.jpg' width='600' height='400' align='left'>"
   ]
  },
  {
   "cell_type": "markdown",
   "id": "d52de937",
   "metadata": {},
   "source": [
    "### 1. 배열 생성\n",
    "\n",
    "- np.array(data)\n",
    "\n",
    "    - 파이썬 list객체를 전달받아 numpy list로 교환해주는 명령어\n",
    "    \n",
    "    - 배열 속성\n",
    "        - shape : 구조 (행, 열, 차원)\n",
    "        - ndim : 차원\n",
    "        - dtype : 데이터 타입\n",
    "        - size : 요소 개수 = 행 * 열 * 차원\n",
    "        \n",
    "    - 배열 메서드\n",
    "        - astype() : 데이터 타입 변환(문자를 숫자로 라던지...)\n",
    "        \n",
    "    - 파이썬 내장함수를 사용한 속성값\n",
    "        - type() : 객체의 자료형 확인\n",
    "        - len() : 요소 내부의 자료 길이.\n",
    "        \n",
    "    - Numpy 함수를 사용한 속성\n",
    "        - reshape(row, column) : 배열 재배치(1 * 12를 3 * 4 형태로 바꾼다던지...)\n",
    "        \n",
    "    - kind : 데이터 종류에 대한 구분 기호\n",
    "        - b boolean\n",
    "        - i 정수(int)\n",
    "        - u 부호없는 정수(unsigned int, +- 개념 없이 절대값만 존재)\n",
    "        - f 실수\n",
    "        - c 복소 부동소수점\n",
    "        - O 객체\n",
    "        - S 바이트 문자열(ascii 코드, 영문자, 일부특문, 숫자)\n",
    "        - U 유니코드 문자열(한글, 중국어, 태국어, 아랍어 등 영어와 다른 문자)"
   ]
  },
  {
   "cell_type": "code",
   "execution_count": 8,
   "id": "58cc7f26",
   "metadata": {},
   "outputs": [
    {
     "data": {
      "text/plain": [
       "array([1, 2, 3, 4, 5, 6])"
      ]
     },
     "execution_count": 8,
     "metadata": {},
     "output_type": "execute_result"
    }
   ],
   "source": [
    " # 파이썬 1차원 리스트를 Numpy 배열로 교환하기\n",
    "tmp = [1,2,3,4,5,6]\n",
    "arr = np.array(tmp)\n",
    "arr"
   ]
  },
  {
   "cell_type": "code",
   "execution_count": 11,
   "id": "a8eaac44",
   "metadata": {},
   "outputs": [
    {
     "name": "stdout",
     "output_type": "stream",
     "text": [
      "<class 'numpy.ndarray'> <class 'list'>\n"
     ]
    }
   ],
   "source": [
    "# 배열 객체의 속성 - 타입 (자료형)\n",
    "print(type(arr), type(tmp))"
   ]
  },
  {
   "cell_type": "code",
   "execution_count": 16,
   "id": "23fbb917",
   "metadata": {},
   "outputs": [
    {
     "data": {
      "text/plain": [
       "(6,)"
      ]
     },
     "execution_count": 16,
     "metadata": {},
     "output_type": "execute_result"
    }
   ],
   "source": [
    "# 배열 객체의 속성 : 구조 확인하기 - shape(행(row), 열(column),차원(면))\n",
    "arr.shape"
   ]
  },
  {
   "cell_type": "code",
   "execution_count": 17,
   "id": "42a14b17",
   "metadata": {},
   "outputs": [
    {
     "data": {
      "text/plain": [
       "6"
      ]
     },
     "execution_count": 17,
     "metadata": {},
     "output_type": "execute_result"
    }
   ],
   "source": [
    "# 배열 객체의 속성 = 길이 => (n,)\n",
    "# [1DArray]: 아이템의 개수\n",
    "len(arr)"
   ]
  },
  {
   "cell_type": "code",
   "execution_count": 19,
   "id": "08476188",
   "metadata": {},
   "outputs": [
    {
     "data": {
      "text/plain": [
       "1"
      ]
     },
     "execution_count": 19,
     "metadata": {},
     "output_type": "execute_result"
    }
   ],
   "source": [
    "#배열 객채의 속성 - 차원\n",
    "# arr 는 1차원 배열이기 때문에 ndim(n디멘션)을 확인했을때 1로 나옵니다.\n",
    "arr.ndim"
   ]
  },
  {
   "cell_type": "code",
   "execution_count": 22,
   "id": "c3f1406a",
   "metadata": {},
   "outputs": [
    {
     "data": {
      "text/plain": [
       "6"
      ]
     },
     "execution_count": 22,
     "metadata": {},
     "output_type": "execute_result"
    }
   ],
   "source": [
    "# 배열 요소의 속성 - 요소 갯수\n",
    "# 길이가 아닌 해당 배열 안에 저장할수있는 값의 개수\n",
    "arr.size"
   ]
  },
  {
   "cell_type": "code",
   "execution_count": 23,
   "id": "8fd9a7c3",
   "metadata": {},
   "outputs": [],
   "source": [
    "# 배열 객체의 속성 - 데이터 타입의 변환 : astype => 원본 데이터 유지\n",
    "arr2 = arr.astype(float)"
   ]
  },
  {
   "cell_type": "code",
   "execution_count": 24,
   "id": "57c1d76d",
   "metadata": {},
   "outputs": [
    {
     "name": "stdout",
     "output_type": "stream",
     "text": [
      "int32 float64\n"
     ]
    }
   ],
   "source": [
    "print(arr.dtype, arr2.dtype)"
   ]
  },
  {
   "cell_type": "code",
   "execution_count": 25,
   "id": "f574eb40",
   "metadata": {},
   "outputs": [
    {
     "data": {
      "text/plain": [
       "array([1., 2., 3., 4., 5., 6.])"
      ]
     },
     "execution_count": 25,
     "metadata": {},
     "output_type": "execute_result"
    }
   ],
   "source": [
    "arr2"
   ]
  },
  {
   "cell_type": "code",
   "execution_count": 28,
   "id": "c0ae54bf",
   "metadata": {},
   "outputs": [
    {
     "data": {
      "text/plain": [
       "array([[1, 2, 3],\n",
       "       [4, 5, 6]])"
      ]
     },
     "execution_count": 28,
     "metadata": {},
     "output_type": "execute_result"
    }
   ],
   "source": [
    "# 배열 구조 변환\n",
    "# 기본 배열의 요소 총 개수(6개)와 변화려는 구조의 총 개수(6개)는 일치해야한다\n",
    "arr.reshape(2,3)"
   ]
  },
  {
   "cell_type": "code",
   "execution_count": 2,
   "id": "f6cd5915",
   "metadata": {},
   "outputs": [],
   "source": [
    "# numpy 객체 정보를 좀더 편하게 확인하기 위한 사용자 함수 정의\n",
    "# 객체 타입, 구조, 차원, 데이터 타입, 내부자료\n",
    "# 를 확인하기 위해 커스텀 함수를 정의합니다.( 기본기능 아님)\n",
    "def np_print(arr):\n",
    "    text =  '''\n",
    "    type = %s\n",
    "    shape = %s\n",
    "    ndim = %s\n",
    "    dtype = %s\n",
    "    array date : \\n %s '''% (type(arr), arr.shape, arr.ndim, arr.dtype, arr)\n",
    "    print(text)"
   ]
  },
  {
   "cell_type": "code",
   "execution_count": 33,
   "id": "774e8278",
   "metadata": {},
   "outputs": [
    {
     "data": {
      "text/plain": [
       "array(['1', '2', '3', '4'], dtype='<U11')"
      ]
     },
     "execution_count": 33,
     "metadata": {},
     "output_type": "execute_result"
    }
   ],
   "source": [
    "# 리스트 요소타입이 일관되지 않으면 우선 순위에 따라 내부 데이터의 dtype이 통일된다\n",
    "# 우선순위 : str(가장 높음) > float> int(가장 낮음)\n",
    "# 서로 다른 타입의 혼합 1 : int + str = str\n",
    "tmp = [1,2,3,\"4\"]\n",
    "arr1 = np.array(tmp)\n",
    "arr1"
   ]
  },
  {
   "cell_type": "code",
   "execution_count": 35,
   "id": "c776bd69",
   "metadata": {},
   "outputs": [
    {
     "name": "stdout",
     "output_type": "stream",
     "text": [
      "\n",
      "    type = <class 'numpy.ndarray'>\n",
      "    shape = (4,)\n",
      "    ndim = 1\n",
      "    dtype = float64\n",
      "    array date : \n",
      " [1.  2.  3.3 4. ] \n"
     ]
    }
   ],
   "source": [
    "# 서로 다른 타입 혼합 2 : int + float\n",
    "tmp = [1,2,3.3,4]\n",
    "arr = np.array(tmp)\n",
    "np_print(arr)"
   ]
  },
  {
   "cell_type": "code",
   "execution_count": 38,
   "id": "55106844",
   "metadata": {},
   "outputs": [
    {
     "name": "stdout",
     "output_type": "stream",
     "text": [
      "\n",
      "    type = <class 'numpy.ndarray'>\n",
      "    shape = (4,)\n",
      "    ndim = 1\n",
      "    dtype = <U32\n",
      "    array date : \n",
      " ['1' '2.3' '3.3' '4.4'] \n"
     ]
    }
   ],
   "source": [
    "# 서로 다른타입 혼합 3 : float + str\n",
    "tmp = ['1',2.3,3.3,4.4]\n",
    "arr = np.array(tmp)\n",
    "np_print(arr)"
   ]
  },
  {
   "cell_type": "code",
   "execution_count": 40,
   "id": "8abdfeb5",
   "metadata": {},
   "outputs": [
    {
     "name": "stdout",
     "output_type": "stream",
     "text": [
      "\n",
      "    type = <class 'numpy.ndarray'>\n",
      "    shape = (2, 4)\n",
      "    ndim = 2\n",
      "    dtype = int32\n",
      "    array date : \n",
      " [[1 2 3 4]\n",
      " [5 6 7 8]] \n"
     ]
    }
   ],
   "source": [
    "# 파이썬 2차원 리스트로 Numpy배열 생성\n",
    "# 2차원 배열의 shape속성은(행(row,새로축갯수), 열(column, 가로축갯수))만 반환\n",
    "tmp = [[1,2,3,4],[5,6,7,8]]\n",
    "arr = np.array(tmp)\n",
    "np_print(arr)"
   ]
  },
  {
   "cell_type": "code",
   "execution_count": 48,
   "id": "ca7e6bec",
   "metadata": {},
   "outputs": [
    {
     "name": "stdout",
     "output_type": "stream",
     "text": [
      "\n",
      "    type = <class 'numpy.ndarray'>\n",
      "    shape = (2, 2, 3)\n",
      "    ndim = 3\n",
      "    dtype = int32\n",
      "    array date : \n",
      " [[[ 1  2  3]\n",
      "  [ 4  5  6]]\n",
      "\n",
      " [[ 7  8  9]\n",
      "  [10 11 12]]] \n"
     ]
    }
   ],
   "source": [
    "# 파이썬 3차원 리스트로 numoy 배열생성\n",
    "tmp = [[[1,2,3],[4,5,6]],[[7,8,9],[10,11,12]]]\n",
    "arr = np.array(tmp)\n",
    "np_print(arr)"
   ]
  },
  {
   "cell_type": "code",
   "execution_count": 55,
   "id": "70ad8627",
   "metadata": {},
   "outputs": [
    {
     "name": "stdout",
     "output_type": "stream",
     "text": [
      "\n",
      "    type = <class 'numpy.ndarray'>\n",
      "    shape = (2, 2, 3)\n",
      "    ndim = 3\n",
      "    dtype = float64\n",
      "    array date : \n",
      " [[[ 1.  2.  3.]\n",
      "  [ 4.  5.  6.]]\n",
      "\n",
      " [[ 7.  8.  9.]\n",
      "  [10. 11. 12.]]] \n"
     ]
    }
   ],
   "source": [
    "# 위의 arr의 타입을 실수로 바꾼다음\n",
    "# np_print()로 확인해주세요.\n",
    "arr = arr.astype(float)\n",
    "np_print(arr)"
   ]
  },
  {
   "cell_type": "markdown",
   "id": "8efc2d73",
   "metadata": {},
   "source": [
    "### 생성 및 초기화\n",
    "1. 초기값을 지정하여 데이터를 자동으로 가지는 배열 생성\n",
    "\n",
    "\n",
    "    - np.zeros()\n",
    "    - np.ones()\n",
    "    - np.full()\n",
    "    - np.eye()\n",
    "    - np.empty()"
   ]
  },
  {
   "cell_type": "markdown",
   "id": "b80f9aa4",
   "metadata": {},
   "source": [
    "### 1-1. np.zeros(shape(모양), dtype=float)\n",
    "\n",
    "    - 지정된 구조의 배열을 생성하고 모든 요소를 0 으로 초기화(zeros)\n",
    "    - shape : tuple형태로 행, 열을 지정\n",
    "    - dtype : 배열에서 사용하는 데이터 타입을 지정, 기본값 numpy.float64"
   ]
  },
  {
   "cell_type": "code",
   "execution_count": 58,
   "id": "215ccf6b",
   "metadata": {},
   "outputs": [
    {
     "name": "stdout",
     "output_type": "stream",
     "text": [
      "\n",
      "    type = <class 'numpy.ndarray'>\n",
      "    shape = (3, 4)\n",
      "    ndim = 2\n",
      "    dtype = float64\n",
      "    array date : \n",
      " [[0. 0. 0. 0.]\n",
      " [0. 0. 0. 0.]\n",
      " [0. 0. 0. 0.]] \n"
     ]
    }
   ],
   "source": [
    "# 3행 4열 구조안에서 초기값을 모두 0으로 가지는 배열\n",
    "arr = np.zeros((3,4))\n",
    "np_print(arr)"
   ]
  },
  {
   "cell_type": "markdown",
   "id": "fb6fc1d8",
   "metadata": {},
   "source": [
    "### 1-2. np.ones(shape(행,열), dtype=float)\n",
    "\n",
    "    - 지정된 구조의 배열을 생성하고 모든 요소를 1로(ones) 초기화,\n",
    "    - shape : tuple 자료로 행,열구조를 지어\n",
    "    - dtype : 배열의 데이터 타입을 지정, 기본값 = numpy.float64"
   ]
  },
  {
   "cell_type": "code",
   "execution_count": 59,
   "id": "9dad8dcb",
   "metadata": {},
   "outputs": [
    {
     "name": "stdout",
     "output_type": "stream",
     "text": [
      "\n",
      "    type = <class 'numpy.ndarray'>\n",
      "    shape = (3, 4)\n",
      "    ndim = 2\n",
      "    dtype = float64\n",
      "    array date : \n",
      " [[1. 1. 1. 1.]\n",
      " [1. 1. 1. 1.]\n",
      " [1. 1. 1. 1.]] \n"
     ]
    }
   ],
   "source": [
    "# 3행 4열 구조안에서 초기값을 모두 1으로 가지는 배열\n",
    "arr = np.ones((3,4))\n",
    "np_print(arr)"
   ]
  },
  {
   "cell_type": "markdown",
   "id": "35a48b9e",
   "metadata": {},
   "source": [
    "### 1-3 np.full((shape, fill_vaiue), dtype)\n",
    "    - 지정된 구조의 배열을 생성하고 모든 요소를 fill_value 값으로 초기화\n",
    "    - shape : tuple 자료형으로 행, 열 구조를 지정\n",
    "    - dtype = 배열은 데이터 타입을 지정, 기본값 = 들어오는 데이터의 자료형"
   ]
  },
  {
   "cell_type": "code",
   "execution_count": 3,
   "id": "2827a2ee",
   "metadata": {},
   "outputs": [
    {
     "name": "stdout",
     "output_type": "stream",
     "text": [
      "\n",
      "    type = <class 'numpy.ndarray'>\n",
      "    shape = (3, 4)\n",
      "    ndim = 2\n",
      "    dtype = int32\n",
      "    array date : \n",
      " [[5 5 5 5]\n",
      " [5 5 5 5]\n",
      " [5 5 5 5]] \n"
     ]
    }
   ],
   "source": [
    "# 3행 4열 구조안에서 초기값을 모두 5로 가지는 배열\n",
    "arr = np.full((3,4),5)\n",
    "np_print(arr)"
   ]
  },
  {
   "cell_type": "markdown",
   "id": "f17ccbb0",
   "metadata": {},
   "source": [
    "### 1-4 np.eye(N, M=None, dtype=float)\n",
    "    - (N,M) 구조의 단위 행렬을 생성\n",
    "    - M : 열 개수를 지정, 기본값 = N\n",
    "    - dtype : 배열의 데이터 타입을 지정, 기본값 =  numpy.float64"
   ]
  },
  {
   "cell_type": "code",
   "execution_count": 4,
   "id": "573a6fa4",
   "metadata": {},
   "outputs": [
    {
     "name": "stdout",
     "output_type": "stream",
     "text": [
      "\n",
      "    type = <class 'numpy.ndarray'>\n",
      "    shape = (3, 3)\n",
      "    ndim = 2\n",
      "    dtype = float64\n",
      "    array date : \n",
      " [[1. 0. 0.]\n",
      " [0. 1. 0.]\n",
      " [0. 0. 1.]] \n"
     ]
    }
   ],
   "source": [
    "arr = np.eye(3)\n",
    "np_print(arr)"
   ]
  },
  {
   "cell_type": "code",
   "execution_count": 6,
   "id": "b9ef6dc3",
   "metadata": {},
   "outputs": [
    {
     "name": "stdout",
     "output_type": "stream",
     "text": [
      "\n",
      "    type = <class 'numpy.ndarray'>\n",
      "    shape = (5, 3)\n",
      "    ndim = 2\n",
      "    dtype = float64\n",
      "    array date : \n",
      " [[1. 0. 0.]\n",
      " [0. 1. 0.]\n",
      " [0. 0. 1.]\n",
      " [0. 0. 0.]\n",
      " [0. 0. 0.]] \n"
     ]
    }
   ],
   "source": [
    "# 세로길이 5(row 5개), 가로길이3(column개수 3개)인 단위행렬을 .eye()로 만들기\n",
    "arr = np.eye(5,3)\n",
    "np_print(arr)"
   ]
  },
  {
   "cell_type": "markdown",
   "id": "5ea851fa",
   "metadata": {},
   "source": [
    "### 1-5 np.empty(shape, dtype=float)\n",
    "    - 자정된 구조의 배열을 생성하고 모든 요소에 대한 초기화 과정없이 직전 메모리에 저장된 값을 사용\n",
    "    - 배열을 생성하는데 가장 빠르고 효율적인 방법\n",
    "    - shape : tuple type 으로 행, 열 구조를 지정\n",
    "    - dtype : 배열의 데이터 타입을 지정, 기본값 = numpy.float64"
   ]
  },
  {
   "cell_type": "code",
   "execution_count": 9,
   "id": "d72e89c1",
   "metadata": {},
   "outputs": [
    {
     "name": "stdout",
     "output_type": "stream",
     "text": [
      "\n",
      "    type = <class 'numpy.ndarray'>\n",
      "    shape = (5, 3)\n",
      "    ndim = 2\n",
      "    dtype = float64\n",
      "    array date : \n",
      " [[1. 0. 0.]\n",
      " [0. 1. 0.]\n",
      " [0. 0. 1.]\n",
      " [0. 0. 0.]\n",
      " [0. 0. 0.]] \n"
     ]
    }
   ],
   "source": [
    "# 직전에 메모리에 저장된 값을 사용하기 위해서는 직전에 만들었던것과 동일한\n",
    "# shape의 배열을 생성해야한다\n",
    "# 행 4열의 구조\n",
    "arr = np.empty((5,3))\n",
    "np_print(arr)"
   ]
  },
  {
   "cell_type": "markdown",
   "id": "f942f0b2",
   "metadata": {},
   "source": [
    "### like 함수\n",
    "\n",
    "- 전달받은 배열과 동일한 shape으로 초기값을 설정하여 새로운 배열을 생성\n",
    "   \n",
    "    - np.zeros_like() : 초기값을 0 으로 가지는 배열 생성\n",
    "    \n",
    "    - np.ones_like() : 초기값을 1로 가지는 배열 생성\n",
    "    \n",
    "    - np.full_like() : 초기값을 full_value값으로 가지는 배열 생성"
   ]
  },
  {
   "cell_type": "code",
   "execution_count": 25,
   "id": "b5c96ae1",
   "metadata": {},
   "outputs": [
    {
     "name": "stdout",
     "output_type": "stream",
     "text": [
      "\n",
      "    type = <class 'numpy.ndarray'>\n",
      "    shape = (2, 3)\n",
      "    ndim = 2\n",
      "    dtype = int32\n",
      "    array date : \n",
      " [[1 2 3]\n",
      " [4 5 6]] \n"
     ]
    }
   ],
   "source": [
    "# ones_like\n",
    "# 2행 3열의 구조에서 1-6숫자로 구성된 배열\n",
    "\n",
    "data = [[1,2,3],[4,5,6]]\n",
    "arr1 = np.array(data)\n",
    "np_print(arr1)"
   ]
  },
  {
   "cell_type": "code",
   "execution_count": 29,
   "id": "8cc08344",
   "metadata": {},
   "outputs": [
    {
     "name": "stdout",
     "output_type": "stream",
     "text": [
      "\n",
      "    type = <class 'numpy.ndarray'>\n",
      "    shape = (2, 3)\n",
      "    ndim = 2\n",
      "    dtype = int32\n",
      "    array date : \n",
      " [[1 1 1]\n",
      " [1 1 1]] \n"
     ]
    }
   ],
   "source": [
    "arr2 = np.ones_like(arr1)\n",
    "np_print(arr2)"
   ]
  },
  {
   "cell_type": "markdown",
   "id": "1aa2387d",
   "metadata": {},
   "source": [
    "### Ⅱ. 배열 생성 및 초기화\n",
    "\n",
    "2. 범위와 조건이 있는 데이터를 가지는 1차원 배열 생성\n",
    "    - np.linspace()\n",
    "    \n",
    "    - np.arange()\n",
    "    \n",
    "    - np.logspace()\n",
    "\n",
    "#### 2-1. np.linspace(start, stop, num=50, endpoint=True, retstep=False, dtype=None)\n",
    "\n",
    "- 시작값(start)부터 마지막값(stop) 사이의 범위에서 균등한 간격으로 일정 개수(num)개의 데이터를 가지는 배열 생성\n",
    "\n",
    "- num : 데이터 개수, 기본값 = 50\n",
    "\n",
    "- endpoint : 마지막값에 stop을 포함/제외하는 조건 지정, 기본값 = True(포함)\n",
    "\n",
    "- retstep : True로 전달하면 (배열, 데이터 사이의 간격)의 데이터를 담은 tuple을 반환\n",
    "\n",
    "- dtype : 배열의 데이터 타입을 지정, 기본값 = None"
   ]
  },
  {
   "cell_type": "code",
   "execution_count": 35,
   "id": "e957fd31",
   "metadata": {},
   "outputs": [
    {
     "name": "stdout",
     "output_type": "stream",
     "text": [
      "\n",
      "    type = <class 'numpy.ndarray'>\n",
      "    shape = (5,)\n",
      "    ndim = 1\n",
      "    dtype = float64\n",
      "    array date : \n",
      " [0.  0.2 0.4 0.6 0.8] \n"
     ]
    }
   ],
   "source": [
    "# 기본값\n",
    "# 0 이상 1이하의 범위에서 발생한 숫자 5개를 포함하는 배열\n",
    "arr = np.linspace(0,1, num= 5, endpoint=False)\n",
    "np_print(arr)"
   ]
  },
  {
   "cell_type": "code",
   "execution_count": 37,
   "id": "494724aa",
   "metadata": {},
   "outputs": [
    {
     "name": "stdout",
     "output_type": "stream",
     "text": [
      "(array([0.  , 0.25, 0.5 , 0.75, 1.  ]), 0.25)\n",
      "\n",
      "    type = <class 'numpy.ndarray'>\n",
      "    shape = (5,)\n",
      "    ndim = 1\n",
      "    dtype = float64\n",
      "    array date : \n",
      " [0.   0.25 0.5  0.75 1.  ] \n"
     ]
    }
   ],
   "source": [
    "# retstep설정 -> 반환값 tuple => (배열객체, 간격값)\n",
    "arr = np.linspace(0,1,num=5,retstep=True)\n",
    "print(arr)\n",
    "np_print(arr[0])"
   ]
  },
  {
   "cell_type": "markdown",
   "id": "1831388e",
   "metadata": {},
   "source": [
    "### 2-1 np.arange(start=0, stop, step=1, dtype=None)\n",
    "\n",
    "    - 시작값(start)부터 마지막값(stop) 사이의 범위에서 지정한 간격(step)으로 일정 개수(num)개의 데이터를 가지는 배열 생성\n",
    "    - 파이썬 내장함수 range()와 유가\n",
    "    - start : 시작값, 기본값 = 0\n",
    "    - stop : 마지막값으로 범위에 포함되지않음\n",
    "    - stpe : 데이터 사이의 간격, 기본값 = 1;\n",
    "    - dtype : 배열의 데이터타입을 지정,기본값=None"
   ]
  },
  {
   "cell_type": "code",
   "execution_count": 38,
   "id": "e70752e1",
   "metadata": {},
   "outputs": [
    {
     "data": {
      "text/plain": [
       "[0, 1, 2, 3, 4]"
      ]
     },
     "execution_count": 38,
     "metadata": {},
     "output_type": "execute_result"
    }
   ],
   "source": [
    "list(range(5))"
   ]
  },
  {
   "cell_type": "code",
   "execution_count": 39,
   "id": "f1e91adf",
   "metadata": {},
   "outputs": [
    {
     "name": "stdout",
     "output_type": "stream",
     "text": [
      "\n",
      "    type = <class 'numpy.ndarray'>\n",
      "    shape = (5,)\n",
      "    ndim = 1\n",
      "    dtype = int32\n",
      "    array date : \n",
      " [0 1 2 3 4] \n"
     ]
    }
   ],
   "source": [
    "# 기본값\n",
    "# 0 이상 5미만의 범위에서는 1씩 증가하는 숫자를 가지는배열\n",
    "arr = np.arange(5)\n",
    "np_print(arr)"
   ]
  },
  {
   "cell_type": "code",
   "execution_count": 41,
   "id": "16d07107",
   "metadata": {},
   "outputs": [
    {
     "name": "stdout",
     "output_type": "stream",
     "text": [
      "\n",
      "    type = <class 'numpy.ndarray'>\n",
      "    shape = (10,)\n",
      "    ndim = 1\n",
      "    dtype = float64\n",
      "    array date : \n",
      " [0.  0.5 1.  1.5 2.  2.5 3.  3.5 4.  4.5] \n"
     ]
    }
   ],
   "source": [
    "# 시작, 끝, 간격\n",
    "# 0이상 5미만의 범위에서 0.5씩 증가하는 숫자를 가지는 배열\n",
    "arr = np.arange(0,5,0.5)\n",
    "np_print(arr)"
   ]
  },
  {
   "cell_type": "code",
   "execution_count": 42,
   "id": "960e2408",
   "metadata": {},
   "outputs": [
    {
     "name": "stdout",
     "output_type": "stream",
     "text": [
      "\n",
      "    type = <class 'numpy.ndarray'>\n",
      "    shape = (4,)\n",
      "    ndim = 1\n",
      "    dtype = int32\n",
      "    array date : \n",
      " [1 2 3 4] \n"
     ]
    }
   ],
   "source": [
    "# arange() 메서드로 생성된 배열과 shape(1,5)인 배열은 동일해 보이지만\n",
    "# shape와 dimention이 서로 다르다\n",
    "arr = np.arange(1,5)\n",
    "np_print(arr)"
   ]
  },
  {
   "cell_type": "code",
   "execution_count": 43,
   "id": "6589f309",
   "metadata": {},
   "outputs": [
    {
     "name": "stdout",
     "output_type": "stream",
     "text": [
      "\n",
      "    type = <class 'numpy.ndarray'>\n",
      "    shape = (1, 4)\n",
      "    ndim = 2\n",
      "    dtype = int32\n",
      "    array date : \n",
      " [[1 2 3 4]] \n"
     ]
    }
   ],
   "source": [
    "# arange는 1차원 배열로 생성이되지만 reshape는 2차원배열로 생성이됬음\n",
    "arr2 = arr.reshape(1,4)\n",
    "np_print(arr2)"
   ]
  },
  {
   "cell_type": "markdown",
   "id": "1ebe800a",
   "metadata": {},
   "source": [
    "### 2-3 np.logspace(start, stop, num=50, endpoint=True, dtype None)\n",
    "\n",
    "- 시작값(start)부터 마지막값(stop) 사이의 로그 스케일로 지정된 범위에서 균등한 간격으로 일정 개수(num)개의 데이터를 가지는 배열 생성\n",
    "\n",
    "- num : 데이터 개수, 기본값 = 50\n",
    "\n",
    "- endpoint : 마지막 값에 stop을 포함/제외하는 조건 지정, 기본값 = True(포함)\n",
    "\n",
    "- dtype  : 배열의 데이터 타입을 지정, 기본값 = None\n",
    "\n"
   ]
  },
  {
   "cell_type": "code",
   "execution_count": 44,
   "id": "873c614d",
   "metadata": {},
   "outputs": [
    {
     "name": "stdout",
     "output_type": "stream",
     "text": [
      "\n",
      "    type = <class 'numpy.ndarray'>\n",
      "    shape = (50,)\n",
      "    ndim = 1\n",
      "    dtype = float64\n",
      "    array date : \n",
      " [ 1.          1.04811313  1.09854114  1.1513954   1.20679264  1.26485522\n",
      "  1.32571137  1.38949549  1.45634848  1.52641797  1.59985872  1.67683294\n",
      "  1.75751062  1.84206997  1.93069773  2.02358965  2.12095089  2.22299648\n",
      "  2.32995181  2.44205309  2.55954792  2.6826958   2.8117687   2.9470517\n",
      "  3.0888436   3.23745754  3.39322177  3.55648031  3.72759372  3.90693994\n",
      "  4.09491506  4.29193426  4.49843267  4.71486636  4.94171336  5.17947468\n",
      "  5.42867544  5.68986603  5.96362332  6.25055193  6.55128557  6.86648845\n",
      "  7.19685673  7.54312006  7.90604321  8.28642773  8.68511374  9.10298178\n",
      "  9.54095476 10.        ] \n"
     ]
    }
   ],
   "source": [
    "# 기본값\n",
    "# 0이상 1이하의 범위에서 로그스케일을 적용한값 (50개)를 가진 배열\n",
    "# 밑수가 10인 로그를 기준으로 만들어줌\n",
    "arr = np.logspace(0,1)\n",
    "np_print(arr)"
   ]
  },
  {
   "cell_type": "code",
   "execution_count": 57,
   "id": "fd8b20c9",
   "metadata": {},
   "outputs": [
    {
     "name": "stdout",
     "output_type": "stream",
     "text": [
      "\n",
      "    type = <class 'numpy.ndarray'>\n",
      "    shape = (40,)\n",
      "    ndim = 1\n",
      "    dtype = float64\n",
      "    array date : \n",
      " [1.         1.05925373 1.12201845 1.18850223 1.25892541 1.33352143\n",
      " 1.41253754 1.49623566 1.58489319 1.67880402 1.77827941 1.88364909\n",
      " 1.99526231 2.11348904 2.23872114 2.37137371 2.51188643 2.66072506\n",
      " 2.81838293 2.98538262 3.16227766 3.34965439 3.54813389 3.75837404\n",
      " 3.98107171 4.21696503 4.46683592 4.73151259 5.01187234 5.30884444\n",
      " 5.62341325 5.95662144 6.30957344 6.68343918 7.07945784 7.49894209\n",
      " 7.94328235 8.41395142 8.91250938 9.44060876] \n"
     ]
    }
   ],
   "source": [
    "# 시작, 끝 , 개수\n",
    "arr = np.logspace(0, 1, 40, endpoint=False)\n",
    "np_print(arr)"
   ]
  },
  {
   "cell_type": "markdown",
   "id": "2628567b",
   "metadata": {},
   "source": [
    "### Ⅱ. 배열 생성 및 초기화\n",
    "\n",
    "3. 난수(특정한 순서나 규칙을 가지지 않는 무작위의 수)를 데이터로 가지는 배열을 생성\n",
    "    - np.random.normal()\n",
    "    \n",
    "    - np.random.rand()\n",
    "    \n",
    "    - np.random.randn()\n",
    "    \n",
    "    - np.random.randint()\n",
    "    \n",
    "    - np.random.random()\n",
    "    \n",
    "\n",
    "\n",
    "\n",
    "#### 3-1. np.random.normal(loc=0.0, scale=1.0, size=None)\n",
    "\n",
    "- 정규 분포 확률 밀도에서 표본을 추출하여 데이터로 가지는 배열을 생성\n",
    "\n",
    "- loc : 정규분포의 평균, 기본값 = 0.0\n",
    "\n",
    "- scale : 정규분포의 표준편차, 기본값 = 1.0\n",
    "\n",
    "- size : (행,열,차원)의 배열 구조, 기본값 = single value(배열이 아닌 하나의 값을 반환)"
   ]
  },
  {
   "cell_type": "code",
   "execution_count": 88,
   "id": "6e7c7833",
   "metadata": {},
   "outputs": [
    {
     "data": {
      "text/plain": [
       "-1.161971311168273"
      ]
     },
     "execution_count": 88,
     "metadata": {},
     "output_type": "execute_result"
    }
   ],
   "source": [
    "# 기본값\n",
    "v = np.random.normal(0,1)\n",
    "v"
   ]
  },
  {
   "cell_type": "code",
   "execution_count": 89,
   "id": "75a06426",
   "metadata": {},
   "outputs": [
    {
     "name": "stdout",
     "output_type": "stream",
     "text": [
      "\n",
      "    type = <class 'numpy.ndarray'>\n",
      "    shape = (2, 3)\n",
      "    ndim = 2\n",
      "    dtype = float64\n",
      "    array date : \n",
      " [[ 1.47340098 -0.38780448  1.87891757]\n",
      " [-0.59510289 -0.57441623  0.0298717 ]] \n"
     ]
    }
   ],
   "source": [
    "arr = np.random.normal(0,1,size=(2,3))\n",
    "np_print(arr)"
   ]
  },
  {
   "cell_type": "code",
   "execution_count": 92,
   "id": "211678f9",
   "metadata": {},
   "outputs": [
    {
     "data": {
      "text/plain": [
       "array([ 9.50200601,  9.65443957, 10.08060134, ...,  6.49160786,\n",
       "        7.25560187, 12.33411255])"
      ]
     },
     "execution_count": 92,
     "metadata": {},
     "output_type": "execute_result"
    }
   ],
   "source": [
    "# 정규분포 데이터로 이루어진 배열에 대한 시각화\n",
    "# 평균10, 표준편차 2인 표준 정규 분포에서 추철한 10000개의 데이터\n",
    "\n",
    "data = np.random.normal(10,2, 10000)\n",
    "data\n",
    "# 10 +- 2 = 70% (8~12) 1표준편차 범위\n",
    "# 6.08 ~ 13.92 = 95% (2*1.96)"
   ]
  },
  {
   "cell_type": "code",
   "execution_count": 93,
   "id": "b02d1b03",
   "metadata": {},
   "outputs": [],
   "source": [
    "import matplotlib.pyplot as pit #시각화 라이브러리"
   ]
  },
  {
   "cell_type": "code",
   "execution_count": 99,
   "id": "67821866",
   "metadata": {},
   "outputs": [
    {
     "data": {
      "image/png": "[encoded data removed]",
      "text/plain": [
       "<Figure size 432x288 with 1 Axes>"
      ]
     },
     "metadata": {
      "needs_background": "light"
     },
     "output_type": "display_data"
    }
   ],
   "source": [
    "pit.hist(data, 100) # bins : 구간의 개수 -> bins가 작을수록 세분화됨\n",
    "pit.show()"
   ]
  },
  {
   "cell_type": "markdown",
   "id": "4d9e6c0a",
   "metadata": {},
   "source": [
    "### 3-2 np.random.rand(d0,d1,....,dn)\n",
    "    \n",
    "    - 지정한 shape(d0, d1, .... ) 에 따라 배열을 생성한 후 난수로 초기화\n",
    "    - 사용되는 난수는 0이상 1미만의 범위에서 균등분포로 추출\n",
    "    "
   ]
  },
  {
   "cell_type": "code",
   "execution_count": 102,
   "id": "db6671ed",
   "metadata": {},
   "outputs": [
    {
     "name": "stdout",
     "output_type": "stream",
     "text": [
      "\n",
      "    type = <class 'numpy.ndarray'>\n",
      "    shape = (2, 3)\n",
      "    ndim = 2\n",
      "    dtype = float64\n",
      "    array date : \n",
      " [[0.72864645 0.44810968 0.56793145]\n",
      " [0.54436917 0.72893408 0.26625783]] \n"
     ]
    }
   ],
   "source": [
    "# 2행 3열의 구조\n",
    "arr  = np.random.rand(2,3)\n",
    "np_print(arr)"
   ]
  },
  {
   "cell_type": "code",
   "execution_count": 103,
   "id": "f9dd863e",
   "metadata": {},
   "outputs": [
    {
     "data": {
      "image/png": "[encoded data removed]",
      "text/plain": [
       "<Figure size 432x288 with 1 Axes>"
      ]
     },
     "metadata": {
      "needs_background": "light"
     },
     "output_type": "display_data"
    }
   ],
   "source": [
    "# 균등분포 데이터로 이루어진 배열에 대한 시각화\n",
    "# 10000개의 데이터로 이루어진 배열을 10개 구간으로 구분한 분포\n",
    "data = np.random.rand(10000)\n",
    "data\n",
    "# 시각화\n",
    "pit.hist(data,100)\n",
    "pit.show()"
   ]
  },
  {
   "cell_type": "code",
   "execution_count": 105,
   "id": "22a7842a",
   "metadata": {},
   "outputs": [
    {
     "data": {
      "image/png": "[encoded data removed]",
      "text/plain": [
       "<Figure size 432x288 with 1 Axes>"
      ]
     },
     "metadata": {
      "needs_background": "light"
     },
     "output_type": "display_data"
    }
   ],
   "source": [
    "## 정규 분포 데이터로 이루어진 배열에 대한 시각화\n",
    "# 평균 0 표준편차 1인 표준정규분포에서 추출한10000개의 데이터에 대해\n",
    "# 100개의 구간으로 구분한 분포\n",
    "data = np.random.randn(10000)\n",
    "\n",
    "# 시각화\n",
    "pit.hist(data, bins=100)\n",
    "pit.show()\n"
   ]
  },
  {
   "cell_type": "markdown",
   "id": "e9535d3f",
   "metadata": {},
   "source": [
    "### 3-4 np.random.randint(low, high=None, size=None, dtype=\"l\")\n",
    "\n",
    "    - low 이상 high 미만의 범위에서 점수로 구성된 데이터를 가지고 지정한 size의 배열을 생성\n",
    "    \n",
    "    - low : high 값이 지정되지 않으면 low값이 최대값(포함하지 않음) 으로 설정\n",
    "    \n",
    "    - high : 최대값(포함하지 않음), 기본값 = None\n",
    "    \n",
    "    - size : 배열의 구조, 기본값 = None (배열이 아닌 하나의 값으로 반환)\n",
    " "
   ]
  },
  {
   "cell_type": "code",
   "execution_count": 114,
   "id": "7bbb9d4b",
   "metadata": {},
   "outputs": [
    {
     "data": {
      "text/plain": [
       "0"
      ]
     },
     "execution_count": 114,
     "metadata": {},
     "output_type": "execute_result"
    }
   ],
   "source": [
    "# 1미만의 정수 중하나의 값 추출\n",
    "a = np.random.randint(1)\n",
    "a"
   ]
  },
  {
   "cell_type": "code",
   "execution_count": 118,
   "id": "3d09b943",
   "metadata": {},
   "outputs": [
    {
     "data": {
      "text/plain": [
       "array([0, 0, 0, 0, 0, 0, 0, 0, 0, 0])"
      ]
     },
     "execution_count": 118,
     "metadata": {},
     "output_type": "execute_result"
    }
   ],
   "source": [
    "# 1미만 정수로 10개 추출\n",
    "a = np.random.randint(1, size=10)\n",
    "a"
   ]
  },
  {
   "cell_type": "code",
   "execution_count": 119,
   "id": "22db69da",
   "metadata": {},
   "outputs": [
    {
     "data": {
      "text/plain": [
       "array([2, 1, 0, 0, 0, 1, 2, 0, 0, 2])"
      ]
     },
     "execution_count": 119,
     "metadata": {},
     "output_type": "execute_result"
    }
   ],
   "source": [
    "# 3미만 정수로 10개 추출\n",
    "arr = np.random.randint(3, size=10)\n",
    "arr"
   ]
  },
  {
   "cell_type": "code",
   "execution_count": 121,
   "id": "7a840ca0",
   "metadata": {},
   "outputs": [
    {
     "name": "stdout",
     "output_type": "stream",
     "text": [
      "\n",
      "    type = <class 'numpy.ndarray'>\n",
      "    shape = (2, 4)\n",
      "    ndim = 2\n",
      "    dtype = int32\n",
      "    array date : \n",
      " [[7 9 4 8]\n",
      " [8 9 5 9]] \n"
     ]
    }
   ],
   "source": [
    "# 3이상 10 미만의 정수로 구성된 2행(row2개) 4열(col4개) 배열\n",
    "arr = np.random.randint(3, high = 10, size=(2,4))\n",
    "np_print(arr)"
   ]
  },
  {
   "cell_type": "code",
   "execution_count": 129,
   "id": "b5c8c398",
   "metadata": {},
   "outputs": [
    {
     "data": {
      "image/png": "[encoded data removed]",
      "text/plain": [
       "<Figure size 432x288 with 1 Axes>"
      ]
     },
     "metadata": {
      "needs_background": "light"
     },
     "output_type": "display_data"
    }
   ],
   "source": [
    "# 균등분포로 이루어진 배열에 대한 시각화\n",
    "# -100~ 100 범위에서 추출한 10000개의 데이터에 대해 5개의 구간으로\n",
    "# 히스토그램을 만들어주세요\n",
    "\n",
    "data =  np.random.randint(-100, 101, size=10000)\n",
    "pit.hist(data, 5)\n",
    "pit.show()"
   ]
  },
  {
   "cell_type": "markdown",
   "id": "b753e2b5",
   "metadata": {},
   "source": [
    "### ※ 난수 = 무작위의 숫자\n",
    "\n",
    "- 프로그래밍에서 추출되는 난수는 무작위로 만들어진 것 처럼 보이지만 실제로는 고정된 기준(시작점)을 가지고 규칙적으로 생성\n",
    "- 시작점을 설정한다면 동일한 난수를 똑같이 생성 가능\n",
    "- 난수의 시작점 설정 : np.random.seed()"
   ]
  },
  {
   "cell_type": "code",
   "execution_count": 130,
   "id": "4796aada",
   "metadata": {},
   "outputs": [],
   "source": [
    "# 난수 시작점 설정하기\n",
    "# seed값 : 100\n",
    "np.random.seed(100)"
   ]
  },
  {
   "cell_type": "code",
   "execution_count": 131,
   "id": "d8d8eab6",
   "metadata": {},
   "outputs": [
    {
     "data": {
      "text/plain": [
       "array([[0.54340494, 0.27836939, 0.42451759],\n",
       "       [0.84477613, 0.00471886, 0.12156912],\n",
       "       [0.67074908, 0.82585276, 0.13670659]])"
      ]
     },
     "execution_count": 131,
     "metadata": {},
     "output_type": "execute_result"
    }
   ],
   "source": [
    "# 0 이상 1미만의 범위(고정범위)에서 실수값을 가지는 3행 3열의 난수 생성\n",
    "np.random.random((3,3))"
   ]
  },
  {
   "cell_type": "code",
   "execution_count": 162,
   "id": "322b4841",
   "metadata": {},
   "outputs": [
    {
     "data": {
      "text/plain": [
       "array([[2, 0],\n",
       "       [0, 2]])"
      ]
     },
     "execution_count": 162,
     "metadata": {},
     "output_type": "execute_result"
    }
   ],
   "source": [
    "# 0이상 5미만의 범위(지정범위)에서 정수값을 가지는  2행2열의 난수 생성\n",
    "np.random.randint(0,5 , (2,2))\n"
   ]
  },
  {
   "cell_type": "code",
   "execution_count": 163,
   "id": "2687a5e6",
   "metadata": {},
   "outputs": [],
   "source": [
    "# 시작점 초기화\n",
    "# np.random.seed()의 안쪽의 정수를 기입하지않고 실행하면 초기화"
   ]
  },
  {
   "cell_type": "code",
   "execution_count": 167,
   "id": "0d98c9ba",
   "metadata": {},
   "outputs": [
    {
     "data": {
      "text/plain": [
       "array([[0.94637988, 0.60229666, 0.38776628],\n",
       "       [0.363188  , 0.20434528, 0.27676506],\n",
       "       [0.24653588, 0.173608  , 0.96660969]])"
      ]
     },
     "execution_count": 167,
     "metadata": {},
     "output_type": "execute_result"
    }
   ],
   "source": [
    "np.random.random((3,3))"
   ]
  },
  {
   "cell_type": "code",
   "execution_count": null,
   "id": "de40aeed",
   "metadata": {},
   "outputs": [],
   "source": []
  },
  {
   "cell_type": "code",
   "execution_count": null,
   "id": "4693361a",
   "metadata": {},
   "outputs": [],
   "source": []
  }
 ],
 "metadata": {
  "kernelspec": {
   "display_name": "Python 3 (ipykernel)",
   "language": "python",
   "name": "python3"
  },
  "language_info": {
   "codemirror_mode": {
    "name": "ipython",
    "version": 3
   },
   "file_extension": ".py",
   "mimetype": "text/x-python",
   "name": "python",
   "nbconvert_exporter": "python",
   "pygments_lexer": "ipython3",
   "version": "3.9.7"
  }
 },
 "nbformat": 4,
 "nbformat_minor": 5
}

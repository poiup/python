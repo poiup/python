{
 "cells": [
  {
   "cell_type": "markdown",
   "id": "a7e8f8fa",
   "metadata": {},
   "source": [
    "# 영화 평점 분석 실습"
   ]
  },
  {
   "cell_type": "code",
   "execution_count": null,
   "id": "d73e7edb",
   "metadata": {},
   "outputs": [],
   "source": [
    "# 라이브러리 불러오기\n",
    "import pandas as pd"
   ]
  },
  {
   "cell_type": "markdown",
   "id": "5db61c7e",
   "metadata": {},
   "source": [
    "## 1. 영화 평점 데이터 적재 및 결합"
   ]
  },
  {
   "cell_type": "code",
   "execution_count": null,
   "id": "01aacfde",
   "metadata": {},
   "outputs": [],
   "source": [
    "# 사용자 정보 적재\n",
    "# 파일 이름 : 'data/movie_users'\n",
    "\n",
    "users = pd.read_csv('data/movie_users.csv')\n",
    "users.drop('Unnamed: 0', axis=1, inplace=True)\n",
    "users.head()"
   ]
  },
  {
   "cell_type": "code",
   "execution_count": null,
   "id": "314fe15d",
   "metadata": {
    "scrolled": true
   },
   "outputs": [],
   "source": [
    "# movie_details.csv 파일을 movies 변수에 입력해주세요\n",
    "# 그리고 쓸데없는 컬럼을 삭제해주시고 .head()로 조회해주세요\n",
    "movies = pd.read_csv('data/movie_details.csv')\n",
    "movies.drop('Unnamed: 0', axis=1, inplace=True)\n",
    "movies.head()"
   ]
  },
  {
   "cell_type": "code",
   "execution_count": null,
   "id": "61a7d001",
   "metadata": {},
   "outputs": [],
   "source": [
    "# 영화 평점 정보 적재\n",
    "# movie_rating.csv\n",
    "# rating변수에 저장해주세요\n",
    "ratings = pd.read_csv('data/movie_ratings.csv')\n",
    "ratings.drop('Unnamed: 0', axis=1, inplace=True)\n",
    "ratings"
   ]
  },
  {
   "cell_type": "code",
   "execution_count": null,
   "id": "130fcbd0",
   "metadata": {},
   "outputs": [],
   "source": [
    "# 사용자수, 영화수, 평점수 개수를 print로 찍어주세요\n",
    "print(len(users))\n",
    "print(len(movies))\n",
    "print(len(ratings))"
   ]
  },
  {
   "cell_type": "markdown",
   "id": "c08b0b26",
   "metadata": {},
   "source": [
    "### 1. 데이터 결합\n",
    "#### 1-1) 사용자 데이터와 영화 폄점 데이터를 사용자 아이디 컬럼 기준으로 공통으로 존재하는 데이터만 결합"
   ]
  },
  {
   "cell_type": "code",
   "execution_count": null,
   "id": "f7dd4ea6",
   "metadata": {},
   "outputs": [],
   "source": [
    "# 유저 정보의 컬럼 이름 확인\n",
    "users.columns"
   ]
  },
  {
   "cell_type": "code",
   "execution_count": null,
   "id": "8f4cad7d",
   "metadata": {},
   "outputs": [],
   "source": [
    "# 레이팅 정보의 컬럼이름 확인\n",
    "ratings.columns"
   ]
  },
  {
   "cell_type": "code",
   "execution_count": null,
   "id": "f74c7a04",
   "metadata": {},
   "outputs": [],
   "source": [
    "# users.ratings의 배열 구조확인\n",
    "users.shape"
   ]
  },
  {
   "cell_type": "code",
   "execution_count": null,
   "id": "83717219",
   "metadata": {},
   "outputs": [],
   "source": [
    "ratings.shape"
   ]
  },
  {
   "cell_type": "code",
   "execution_count": null,
   "id": "1e9297d9",
   "metadata": {},
   "outputs": [],
   "source": [
    "data1 = pd.merge(users, ratings)\n",
    "data1.shape"
   ]
  },
  {
   "cell_type": "markdown",
   "id": "42d61b23",
   "metadata": {},
   "source": [
    "#### 1-2) 1번 결과에 영화 아이디 컬럼 기준으로 영화 정보 추가하기"
   ]
  },
  {
   "cell_type": "code",
   "execution_count": null,
   "id": "8060cd91",
   "metadata": {},
   "outputs": [],
   "source": [
    "data1.head(3)"
   ]
  },
  {
   "cell_type": "code",
   "execution_count": null,
   "id": "3feda2ee",
   "metadata": {},
   "outputs": [],
   "source": [
    "# 영화 데이터인 movies와 data1을 합치기\n",
    "data2 = data1.merge(movies)\n",
    "# .head로 합쳐진 데이터 확인\n",
    "data2.head()\n"
   ]
  },
  {
   "cell_type": "markdown",
   "id": "8b669d8c",
   "metadata": {},
   "source": [
    "### 2. 인기있는 영화찾기\n",
    "\n",
    "- 기준 : 평점이 4.5 이상이고 평점 개수가 500개 이상인 영화"
   ]
  },
  {
   "cell_type": "code",
   "execution_count": null,
   "id": "4cba583f",
   "metadata": {},
   "outputs": [],
   "source": [
    "\n",
    "data2.sort_values(by='평점', ascending=False).head(10)"
   ]
  },
  {
   "cell_type": "code",
   "execution_count": null,
   "id": "7865bfcd",
   "metadata": {},
   "outputs": [],
   "source": []
  },
  {
   "cell_type": "code",
   "execution_count": null,
   "id": "4996aa0c",
   "metadata": {},
   "outputs": [],
   "source": []
  },
  {
   "cell_type": "code",
   "execution_count": null,
   "id": "c6bcfe57",
   "metadata": {},
   "outputs": [],
   "source": []
  },
  {
   "cell_type": "code",
   "execution_count": null,
   "id": "e8b69f6f",
   "metadata": {},
   "outputs": [],
   "source": []
  },
  {
   "cell_type": "code",
   "execution_count": null,
   "id": "0a5b84fe",
   "metadata": {},
   "outputs": [],
   "source": []
  },
  {
   "cell_type": "code",
   "execution_count": null,
   "id": "27563a24",
   "metadata": {},
   "outputs": [],
   "source": []
  },
  {
   "cell_type": "code",
   "execution_count": null,
   "id": "684da04a",
   "metadata": {},
   "outputs": [],
   "source": []
  },
  {
   "cell_type": "code",
   "execution_count": null,
   "id": "c2293210",
   "metadata": {},
   "outputs": [],
   "source": []
  },
  {
   "cell_type": "code",
   "execution_count": null,
   "id": "ccedc776",
   "metadata": {},
   "outputs": [],
   "source": []
  },
  {
   "cell_type": "code",
   "execution_count": null,
   "id": "1130a2dd",
   "metadata": {},
   "outputs": [],
   "source": []
  },
  {
   "cell_type": "code",
   "execution_count": null,
   "id": "dffb570e",
   "metadata": {},
   "outputs": [],
   "source": []
  },
  {
   "cell_type": "code",
   "execution_count": null,
   "id": "e03551c2",
   "metadata": {},
   "outputs": [],
   "source": []
  },
  {
   "cell_type": "code",
   "execution_count": null,
   "id": "b576b012",
   "metadata": {},
   "outputs": [],
   "source": []
  },
  {
   "cell_type": "code",
   "execution_count": null,
   "id": "b224415f",
   "metadata": {},
   "outputs": [],
   "source": []
  },
  {
   "cell_type": "code",
   "execution_count": null,
   "id": "b0d483ff",
   "metadata": {},
   "outputs": [],
   "source": []
  },
  {
   "cell_type": "code",
   "execution_count": null,
   "id": "92b8a5a0",
   "metadata": {},
   "outputs": [],
   "source": []
  },
  {
   "cell_type": "code",
   "execution_count": null,
   "id": "2da752c5",
   "metadata": {},
   "outputs": [],
   "source": []
  }
 ],
 "metadata": {
  "kernelspec": {
   "display_name": "Python 3 (ipykernel)",
   "language": "python",
   "name": "python3"
  },
  "language_info": {
   "codemirror_mode": {
    "name": "ipython",
    "version": 3
   },
   "file_extension": ".py",
   "mimetype": "text/x-python",
   "name": "python",
   "nbconvert_exporter": "python",
   "pygments_lexer": "ipython3",
   "version": "3.9.7"
  }
 },
 "nbformat": 4,
 "nbformat_minor": 5
}

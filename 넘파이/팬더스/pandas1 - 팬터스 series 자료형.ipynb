{
 "cells": [
  {
   "cell_type": "markdown",
   "id": "dd9aa4db",
   "metadata": {},
   "source": [
    "### Pandas\n",
    "\n",
    "- 데이터 처리 및 분석을 위한 라이브러리\n",
    "- 대용량 데이터를 안정적이면서도 간편하게 처리\n",
    "- 서로 다른 데이터타입으로 열을 구성할 수 있음 <br>\n",
    "(참고) Numpy : 전체 배열 원소를 동일한 타입으로 제한\n",
    "- 주요 기능\n",
    "    - 데이터 입출력 : csv, excel, RDB, JSON 등 다양한 포맷의 데이터를 효율적으로 처리할 수 있는 형식을 사용\n",
    "    - 데이터 가공 : 분리, 결합, 계층, 피봇 등\n",
    "    - 통계 분석 처리\n",
    "\n",
    "#### 자료형\n",
    "- Series <br>\n",
    "\n",
    "    - 1차원 배열과 유사한 자료형\n",
    "    - 색인(index) : 행 번호\n",
    "        - 각각의 데이터에 부여하는 속성으로 기본값은 0부터 1씩 증가하는 숫자 지정\n",
    "        - index 파라미터를 통해 새로운 값으로 변경 가능\n",
    "        - 리스트, 튜플 타입으로 새로운 값을 전달해야하며 다차원 자료형은 사용할 수 없음\n",
    "        - 전달하는 색인의 개수와 데이터의 개수가 일치해야 함\n",
    "    - 각각의 색인과 데이터가 매핑되어 있으므로 dictionary 자료형과 유사\n",
    "    - 여러 가지 데이터 타입 사용 가능\n",
    "\n",
    "<img src=\"img/series_example.png\" width=\"250\" align=\"center\">"
   ]
  },
  {
   "cell_type": "code",
   "execution_count": 2,
   "id": "8107d25d",
   "metadata": {},
   "outputs": [],
   "source": [
    "# pandas라이브러리 및 Series, DataFrame 네임스페이스 불러오기\n",
    "import pandas as pd"
   ]
  },
  {
   "cell_type": "code",
   "execution_count": 3,
   "id": "99eb9847",
   "metadata": {},
   "outputs": [
    {
     "name": "stderr",
     "output_type": "stream",
     "text": [
      "C:\\Users\\dkswo\\AppData\\Local\\Temp/ipykernel_5680/126032229.py:2: DeprecationWarning: The default dtype for empty Series will be 'object' instead of 'float64' in a future version. Specify a dtype explicitly to silence this warning.\n",
      "  pd.Series()\n"
     ]
    },
    {
     "data": {
      "text/plain": [
       "Series([], dtype: float64)"
      ]
     },
     "execution_count": 3,
     "metadata": {},
     "output_type": "execute_result"
    }
   ],
   "source": [
    "# Series생성\n",
    "pd.Series()"
   ]
  },
  {
   "cell_type": "markdown",
   "id": "5ea66d35",
   "metadata": {},
   "source": [
    "### Series 생성\n",
    "\n",
    "- 하나의 값(숫자, 문자) 또는 자료형(리스트, 튜플, np 배열)으로 데이터 전달\n",
    "\n",
    "### Series 속성\n",
    "\n",
    "- 속성은 소괄호를 붙이지 않음\n",
    "- index : series 객체의 인덱스 배열을 반환\n",
    "- values : series 객체의 데이터(값) 배열을 반환\n",
    "- name : series 객체의 이름을 반환 \n",
    "- dtype : series 객체의 데이터 타입을 반환\n",
    "- size : series 객체의 데이터 개수(길이)를 반환\n",
    "- shape : series 객체의 구조(행, 열, 차원)를 반환"
   ]
  },
  {
   "cell_type": "code",
   "execution_count": 4,
   "id": "04315b70",
   "metadata": {},
   "outputs": [
    {
     "data": {
      "text/plain": [
       "0    10\n",
       "dtype: int64"
      ]
     },
     "execution_count": 4,
     "metadata": {},
     "output_type": "execute_result"
    }
   ],
   "source": [
    "# 숫자 10을 데이터로 가지고 있는 Series\n",
    "# 결과 해석\n",
    "# 왼쪽 0 : 자동으로 생성되는 기본 인덱스번호(0부터 시작)\n",
    "# 오른쪽 10 : 입력한 데이터 값\n",
    "s1 = pd.Series(10)\n",
    "s1"
   ]
  },
  {
   "cell_type": "code",
   "execution_count": 5,
   "id": "8e583539",
   "metadata": {},
   "outputs": [
    {
     "data": {
      "text/plain": [
       "array([10], dtype=int64)"
      ]
     },
     "execution_count": 5,
     "metadata": {},
     "output_type": "execute_result"
    }
   ],
   "source": [
    "# 데이터 내부에 저장된 값 확인\n",
    "s1.values"
   ]
  },
  {
   "cell_type": "code",
   "execution_count": 6,
   "id": "2dbecd92",
   "metadata": {},
   "outputs": [
    {
     "data": {
      "text/plain": [
       "0    abc\n",
       "dtype: object"
      ]
     },
     "execution_count": 6,
     "metadata": {},
     "output_type": "execute_result"
    }
   ],
   "source": [
    "# 문자\n",
    "s2 = pd.Series('abc')\n",
    "s2"
   ]
  },
  {
   "cell_type": "code",
   "execution_count": 7,
   "id": "d2845012",
   "metadata": {},
   "outputs": [
    {
     "data": {
      "text/plain": [
       "array(['abc'], dtype=object)"
      ]
     },
     "execution_count": 7,
     "metadata": {},
     "output_type": "execute_result"
    }
   ],
   "source": [
    "# 데이터 확인\n",
    "s2.values\n"
   ]
  },
  {
   "cell_type": "code",
   "execution_count": 8,
   "id": "39947eee",
   "metadata": {},
   "outputs": [
    {
     "data": {
      "text/plain": [
       "RangeIndex(start=0, stop=1, step=1)"
      ]
     },
     "execution_count": 8,
     "metadata": {},
     "output_type": "execute_result"
    }
   ],
   "source": [
    "# 인덱스 확인\n",
    "s2.index"
   ]
  },
  {
   "cell_type": "code",
   "execution_count": 9,
   "id": "2bc11b68",
   "metadata": {},
   "outputs": [
    {
     "data": {
      "text/plain": [
       "0    10\n",
       "1    20\n",
       "2    30\n",
       "dtype: int64"
      ]
     },
     "execution_count": 9,
     "metadata": {},
     "output_type": "execute_result"
    }
   ],
   "source": [
    "# 리스트 자료형\n",
    "s3 = pd.Series([10,20,30])\n",
    "s3"
   ]
  },
  {
   "cell_type": "code",
   "execution_count": 10,
   "id": "9b6f8479",
   "metadata": {},
   "outputs": [
    {
     "data": {
      "text/plain": [
       "0         10.3\n",
       "1         test\n",
       "2          200\n",
       "3    [1, 2, 3]\n",
       "dtype: object"
      ]
     },
     "execution_count": 10,
     "metadata": {},
     "output_type": "execute_result"
    }
   ],
   "source": [
    "# 데이터타입이 서로 다른 리스트 자료형\n",
    "s4 = pd.Series([10.3,'test',200,[1,2,3]])\n",
    "s4"
   ]
  },
  {
   "cell_type": "code",
   "execution_count": 11,
   "id": "1318d824",
   "metadata": {},
   "outputs": [
    {
     "data": {
      "text/plain": [
       "array([10.3, 'test', 200, list([1, 2, 3])], dtype=object)"
      ]
     },
     "execution_count": 11,
     "metadata": {},
     "output_type": "execute_result"
    }
   ],
   "source": [
    "# 데이터 확인\n",
    "s4.values"
   ]
  },
  {
   "cell_type": "code",
   "execution_count": 12,
   "id": "5a6e187a",
   "metadata": {},
   "outputs": [
    {
     "data": {
      "text/plain": [
       "RangeIndex(start=0, stop=4, step=1)"
      ]
     },
     "execution_count": 12,
     "metadata": {},
     "output_type": "execute_result"
    }
   ],
   "source": [
    "# 인덱스 확인\n",
    "s4.index"
   ]
  },
  {
   "cell_type": "code",
   "execution_count": 13,
   "id": "e2e13f01",
   "metadata": {},
   "outputs": [
    {
     "data": {
      "text/plain": [
       "0    1.0\n",
       "1    2.0\n",
       "2    3.0\n",
       "3    4.0\n",
       "4    5.0\n",
       "dtype: float64"
      ]
     },
     "execution_count": 13,
     "metadata": {},
     "output_type": "execute_result"
    }
   ],
   "source": [
    "# 튜플도  리스트처럼 1차원 자료로 주면 각각 내부자료를 풀어서 집어넣습니다\n",
    "s5 = pd.Series((1,2,3,4,5.0))\n",
    "s5"
   ]
  },
  {
   "cell_type": "code",
   "execution_count": 14,
   "id": "2eee79e2",
   "metadata": {},
   "outputs": [
    {
     "data": {
      "text/plain": [
       "array([1., 2., 3., 4., 5.])"
      ]
     },
     "execution_count": 14,
     "metadata": {},
     "output_type": "execute_result"
    }
   ],
   "source": [
    "# 데이터 확인\n",
    "s5.values"
   ]
  },
  {
   "cell_type": "code",
   "execution_count": 15,
   "id": "3b82065c",
   "metadata": {},
   "outputs": [
    {
     "data": {
      "text/plain": [
       "RangeIndex(start=0, stop=5, step=1)"
      ]
     },
     "execution_count": 15,
     "metadata": {},
     "output_type": "execute_result"
    }
   ],
   "source": [
    "s5.index"
   ]
  },
  {
   "cell_type": "code",
   "execution_count": 17,
   "id": "d6091e43",
   "metadata": {},
   "outputs": [
    {
     "data": {
      "text/plain": [
       "a    10\n",
       "b    20\n",
       "c    30\n",
       "dtype: int64"
      ]
     },
     "execution_count": 17,
     "metadata": {},
     "output_type": "execute_result"
    }
   ],
   "source": [
    "s6 = pd.Series({'a':10,'b':20,'c':30})\n",
    "s6"
   ]
  },
  {
   "cell_type": "code",
   "execution_count": 18,
   "id": "cd063427",
   "metadata": {},
   "outputs": [
    {
     "data": {
      "text/plain": [
       "RangeIndex(start=0, stop=5, step=1)"
      ]
     },
     "execution_count": 18,
     "metadata": {},
     "output_type": "execute_result"
    }
   ],
   "source": [
    "#인덱스 새롭게 지정하기\n",
    "# 인덱스 속성(길이)을 참조하여 리스트, 튜플 타입으로 전달\n",
    "# 라벨 인덱스가 없던 경우 = > 새롭게 라벨 인덱스 부여\n",
    "# 라벨 인덱스가 있던경우 => 기존에 있던 라벨 인덱스에 덮어씌우기\n",
    "s5.index"
   ]
  },
  {
   "cell_type": "code",
   "execution_count": 19,
   "id": "24cddbb7",
   "metadata": {},
   "outputs": [],
   "source": [
    "# 인덱스를 새롭게 지정할때는 RangeIndex의 범위 만큼 길이를 가지는 리스트를 대입해줍니다.\n",
    "# 행개수( 데이터 개수) 와 동일한 길이의 리스트를 전달해야합니다.\n",
    "s5.index = [2020,2021,2022,2023,2024]"
   ]
  },
  {
   "cell_type": "code",
   "execution_count": 20,
   "id": "f073b573",
   "metadata": {},
   "outputs": [
    {
     "data": {
      "text/plain": [
       "2020    1.0\n",
       "2021    2.0\n",
       "2022    3.0\n",
       "2023    4.0\n",
       "2024    5.0\n",
       "dtype: float64"
      ]
     },
     "execution_count": 20,
     "metadata": {},
     "output_type": "execute_result"
    }
   ],
   "source": [
    "s5"
   ]
  },
  {
   "cell_type": "code",
   "execution_count": 21,
   "id": "abcdf12d",
   "metadata": {},
   "outputs": [
    {
     "data": {
      "text/plain": [
       "Int64Index([2020, 2021, 2022, 2023, 2024], dtype='int64')"
      ]
     },
     "execution_count": 21,
     "metadata": {},
     "output_type": "execute_result"
    }
   ],
   "source": [
    "# 인덱스를 지정하여 객체 생성\n",
    "# 인덱스 객체에 대해서 아이템 참조는 가능\n",
    "s5.index"
   ]
  },
  {
   "cell_type": "code",
   "execution_count": 22,
   "id": "d3464e83",
   "metadata": {},
   "outputs": [
    {
     "ename": "TypeError",
     "evalue": "Index does not support mutable operations",
     "output_type": "error",
     "traceback": [
      "\u001b[1;31m---------------------------------------------------------------------------\u001b[0m",
      "\u001b[1;31mTypeError\u001b[0m                                 Traceback (most recent call last)",
      "\u001b[1;32m~\\AppData\\Local\\Temp/ipykernel_5680/1021924008.py\u001b[0m in \u001b[0;36m<module>\u001b[1;34m\u001b[0m\n\u001b[0;32m      1\u001b[0m \u001b[1;31m# 인덱스 객체 내부의 단일 라벨 인덱스만 하나 딱 잘라서 변경하는것은 불가능\u001b[0m\u001b[1;33m\u001b[0m\u001b[1;33m\u001b[0m\u001b[0m\n\u001b[1;32m----> 2\u001b[1;33m \u001b[0ms5\u001b[0m\u001b[1;33m.\u001b[0m\u001b[0mindex\u001b[0m\u001b[1;33m[\u001b[0m\u001b[1;33m-\u001b[0m\u001b[1;36m1\u001b[0m\u001b[1;33m]\u001b[0m\u001b[1;33m=\u001b[0m\u001b[1;36m2025\u001b[0m\u001b[1;33m\u001b[0m\u001b[1;33m\u001b[0m\u001b[0m\n\u001b[0m",
      "\u001b[1;32m~\\anaconda3\\lib\\site-packages\\pandas\\core\\indexes\\base.py\u001b[0m in \u001b[0;36m__setitem__\u001b[1;34m(self, key, value)\u001b[0m\n\u001b[0;32m   4583\u001b[0m     \u001b[1;33m@\u001b[0m\u001b[0mfinal\u001b[0m\u001b[1;33m\u001b[0m\u001b[1;33m\u001b[0m\u001b[0m\n\u001b[0;32m   4584\u001b[0m     \u001b[1;32mdef\u001b[0m \u001b[0m__setitem__\u001b[0m\u001b[1;33m(\u001b[0m\u001b[0mself\u001b[0m\u001b[1;33m,\u001b[0m \u001b[0mkey\u001b[0m\u001b[1;33m,\u001b[0m \u001b[0mvalue\u001b[0m\u001b[1;33m)\u001b[0m\u001b[1;33m:\u001b[0m\u001b[1;33m\u001b[0m\u001b[1;33m\u001b[0m\u001b[0m\n\u001b[1;32m-> 4585\u001b[1;33m         \u001b[1;32mraise\u001b[0m \u001b[0mTypeError\u001b[0m\u001b[1;33m(\u001b[0m\u001b[1;34m\"Index does not support mutable operations\"\u001b[0m\u001b[1;33m)\u001b[0m\u001b[1;33m\u001b[0m\u001b[1;33m\u001b[0m\u001b[0m\n\u001b[0m\u001b[0;32m   4586\u001b[0m \u001b[1;33m\u001b[0m\u001b[0m\n\u001b[0;32m   4587\u001b[0m     \u001b[1;32mdef\u001b[0m \u001b[0m__getitem__\u001b[0m\u001b[1;33m(\u001b[0m\u001b[0mself\u001b[0m\u001b[1;33m,\u001b[0m \u001b[0mkey\u001b[0m\u001b[1;33m)\u001b[0m\u001b[1;33m:\u001b[0m\u001b[1;33m\u001b[0m\u001b[1;33m\u001b[0m\u001b[0m\n",
      "\u001b[1;31mTypeError\u001b[0m: Index does not support mutable operations"
     ]
    }
   ],
   "source": [
    "# 인덱스 객체 내부의 단일 라벨 인덱스만 하나 딱 잘라서 변경하는것은 불가능\n",
    "s5.index[-1]=2025"
   ]
  },
  {
   "cell_type": "code",
   "execution_count": 24,
   "id": "21bc695a",
   "metadata": {},
   "outputs": [
    {
     "data": {
      "text/plain": [
       "2020    1.0\n",
       "2021    2.0\n",
       "2022    3.0\n",
       "2023    4.0\n",
       "2025    5.0\n",
       "dtype: float64"
      ]
     },
     "execution_count": 24,
     "metadata": {},
     "output_type": "execute_result"
    }
   ],
   "source": [
    "# 인덱스 라벨링 수정시 바꿀 부분만 변경한 전체 인덱스를 대입해줘야합니다.\n",
    "s5.index = [2020,2021,2022,2023,2025]\n",
    "s5"
   ]
  },
  {
   "cell_type": "code",
   "execution_count": 25,
   "id": "7f151b91",
   "metadata": {},
   "outputs": [
    {
     "data": {
      "text/plain": [
       "mon    10\n",
       "tue    20\n",
       "wed    30\n",
       "thu    40\n",
       "dtype: int64"
      ]
     },
     "execution_count": 25,
     "metadata": {},
     "output_type": "execute_result"
    }
   ],
   "source": [
    "# Series 함수의 index 파라미터를 이용해 생성 가능\n",
    "# pd.Seies(data, index=[...])\n",
    "s7 = pd.Series([10,20,30,40], index=['mon','tue','wed','thu'])\n",
    "s7"
   ]
  },
  {
   "cell_type": "code",
   "execution_count": 26,
   "id": "991792cb",
   "metadata": {},
   "outputs": [
    {
     "data": {
      "text/plain": [
       "array([10, 20, 30, 40], dtype=int64)"
      ]
     },
     "execution_count": 26,
     "metadata": {},
     "output_type": "execute_result"
    }
   ],
   "source": [
    "# 데이터 확인\n",
    "s7.values"
   ]
  },
  {
   "cell_type": "code",
   "execution_count": 27,
   "id": "65a3321e",
   "metadata": {},
   "outputs": [
    {
     "data": {
      "text/plain": [
       "Index(['mon', 'tue', 'wed', 'thu'], dtype='object')"
      ]
     },
     "execution_count": 27,
     "metadata": {},
     "output_type": "execute_result"
    }
   ],
   "source": [
    "# 인덱스 확인\n",
    "s7.index"
   ]
  },
  {
   "cell_type": "code",
   "execution_count": 29,
   "id": "6f14c8f3",
   "metadata": {},
   "outputs": [
    {
     "data": {
      "text/plain": [
       "40"
      ]
     },
     "execution_count": 29,
     "metadata": {},
     "output_type": "execute_result"
    }
   ],
   "source": [
    "# 자동 부여된 숫자 인덱스도 여전히 사용 가능\n",
    "s7[3]\n",
    "s7['thu']"
   ]
  },
  {
   "cell_type": "markdown",
   "id": "c1b42da0",
   "metadata": {},
   "source": [
    "### dictionary 자료형과 유사한 Series자료형"
   ]
  },
  {
   "cell_type": "code",
   "execution_count": 44,
   "id": "df03cfd4",
   "metadata": {},
   "outputs": [
    {
     "name": "stdout",
     "output_type": "stream",
     "text": [
      "{'서울': 100, '경기': 200, '강원': 300, '부산': 400}\n",
      "서울    100\n",
      "경기    200\n",
      "강원    300\n",
      "부산    400\n",
      "dtype: int64\n"
     ]
    }
   ],
   "source": [
    "# dictionary 자료형으로 Series 생성\n",
    "data = {'서울':100,'경기':200,'강원':300, '부산':400}\n",
    "sample = pd.Series(data)\n",
    "print(data)\n",
    "print(sample)"
   ]
  },
  {
   "cell_type": "code",
   "execution_count": 32,
   "id": "069497c1",
   "metadata": {},
   "outputs": [
    {
     "name": "stdout",
     "output_type": "stream",
     "text": [
      "True\n",
      "True\n"
     ]
    }
   ],
   "source": [
    "# Series 객체와 in 연산자\n",
    "# dictionary와 유사 : in 연산자를 사용해 내부 요소 검사시\n",
    "# key값에 해당하는ㄴ\n",
    "print('서울' in data)\n",
    "print('서울' in sample)"
   ]
  },
  {
   "cell_type": "code",
   "execution_count": 39,
   "id": "434d8943",
   "metadata": {},
   "outputs": [
    {
     "name": "stdout",
     "output_type": "stream",
     "text": [
      "서울\n",
      "경기\n",
      "강원\n",
      "부산\n",
      "------------------\n",
      "100\n",
      "200\n",
      "300\n",
      "400\n"
     ]
    }
   ],
   "source": [
    "# for문에서 in 연산자로 접근 : Series의 value값을 참조\n",
    "for key in data:\n",
    "    print(key)\n",
    "print(\"------------------\")\n",
    "for index in sample:\n",
    "    print(index)"
   ]
  },
  {
   "cell_type": "code",
   "execution_count": 45,
   "id": "f4eeb541",
   "metadata": {},
   "outputs": [
    {
     "data": {
      "text/plain": [
       "서울    100\n",
       "경기    200\n",
       "강원    300\n",
       "제주    400\n",
       "dtype: int64"
      ]
     },
     "execution_count": 45,
     "metadata": {},
     "output_type": "execute_result"
    }
   ],
   "source": [
    "# 서울, 경기, 강원, 부산 = > 서울 경기, 강원, 제주로 라벨 인덱싱 변경\n",
    "# 지정한 index기준으로 Series생성\n",
    "# 사용하는 인덱스에 없는 값은 Series에 NaN값으로 저장\n",
    "# NaN : Not a Number(결측치) - > numpy에서 값이 없음을 의미하는 자료\n",
    "# None : 파이썬 기본 자료형에서 값이 없음을 의미하는 자료\n",
    "sample.index=['서울','경기','강원','제주']\n",
    "sample\n"
   ]
  },
  {
   "cell_type": "markdown",
   "id": "f5d2fd49",
   "metadata": {},
   "source": [
    "### 인덱싱(indexing)\n",
    "\n",
    "- 하나의 특정 값을 선택하거나 변경\n",
    "- 참조하는 인덱스 : 기본숫자 인덱스, 라벨 인덱스\n",
    "- 새로운 인덱스를 설정해도 기본숫자 인덱스 사용가능"
   ]
  },
  {
   "cell_type": "code",
   "execution_count": 46,
   "id": "c71abe18",
   "metadata": {},
   "outputs": [
    {
     "data": {
      "text/plain": [
       "a    10\n",
       "b    20\n",
       "c    30\n",
       "dtype: int64"
      ]
     },
     "execution_count": 46,
     "metadata": {},
     "output_type": "execute_result"
    }
   ],
   "source": [
    "s6_data = {'a':10,'b':20,'c':30}\n",
    "s6 = pd.Series(s6_data)\n",
    "s6"
   ]
  },
  {
   "cell_type": "code",
   "execution_count": 47,
   "id": "68baa9b4",
   "metadata": {},
   "outputs": [
    {
     "name": "stdout",
     "output_type": "stream",
     "text": [
      "a\n",
      "10\n"
     ]
    }
   ],
   "source": [
    "# Series s6의 첫 번쨰 데이터 = >인덱스 0으로 조회\n",
    "# Series객체[인덱스번호 or 라벨 숫자]\n",
    "print(s6.index[0]) #인덱스의 0번째는 'a'\n",
    "print(s6[0]) # s6자체 0번째 자료는 10"
   ]
  },
  {
   "cell_type": "code",
   "execution_count": 48,
   "id": "45cc0db9",
   "metadata": {},
   "outputs": [
    {
     "name": "stdout",
     "output_type": "stream",
     "text": [
      "10\n"
     ]
    }
   ],
   "source": [
    "# Series s6의 인덱스 a에 매칭된 데이터 조회\n",
    "print(s6['a'])"
   ]
  },
  {
   "cell_type": "code",
   "execution_count": 49,
   "id": "dc1cfdcd",
   "metadata": {},
   "outputs": [
    {
     "data": {
      "text/plain": [
       "mon     10\n",
       "tue    700\n",
       "wed     30\n",
       "thu     40\n",
       "dtype: int64"
      ]
     },
     "execution_count": 49,
     "metadata": {},
     "output_type": "execute_result"
    }
   ],
   "source": [
    "# Series s7의 인덱스 tue에 해당하는 데이터값 변경\n",
    "# 인덱스(라벨링)은 개별적으로 하나하나 변경 불가능\n",
    "# 인덱스에 매칭된 데이터는 개별 데이터별 변경 가능\n",
    "s7['tue'] = 700\n",
    "s7"
   ]
  },
  {
   "cell_type": "code",
   "execution_count": 51,
   "id": "9318acd8",
   "metadata": {},
   "outputs": [
    {
     "data": {
      "text/plain": [
       "wed    30\n",
       "mon    10\n",
       "dtype: int64"
      ]
     },
     "execution_count": 51,
     "metadata": {},
     "output_type": "execute_result"
    }
   ],
   "source": [
    "# 시리즈에서 원하는 로우(행) 만 조회하기 조회할 로우명을 리스트로 묶어서 전달\n",
    "# Series s7에서 web, mon 라벨 조회\n",
    "# 이중리스트를 사용해 조회해야함 -> s7['web', 'mon']은 에러 발생\n",
    "s7[['wed','mon']]"
   ]
  },
  {
   "cell_type": "markdown",
   "id": "c699fbe0",
   "metadata": {},
   "source": [
    "###  슬라이싱(Slicing)\n",
    "\n",
    "- Series객체[시작인덱스 : 끝인덱스 ; 간격]\n",
    "- 특정 범위의 값을 선택하거나 변경\n",
    "- 기본 숫자 인덱스 또는 새로운 인덱스 모두 사용 가능\n",
    "- 기본 숫자 인덱스를 사용해서 슬라이싱 할때는 끝 인덱스 미포함\n",
    "- 라벨 인덱스를 사용해서 슬라이싱 할때 끝 인덱스까지 모두 포함"
   ]
  },
  {
   "cell_type": "code",
   "execution_count": 74,
   "id": "44e41085",
   "metadata": {},
   "outputs": [
    {
     "data": {
      "text/plain": [
       "a    10\n",
       "b    20\n",
       "c    30\n",
       "d    40\n",
       "e    50\n",
       "dtype: int64"
      ]
     },
     "execution_count": 74,
     "metadata": {},
     "output_type": "execute_result"
    }
   ],
   "source": [
    "# 인덱스 0~2(포함)까지 조회\n",
    "s1 = pd.Series([10,20,30,40,50], index=list('abcde'))\n",
    "s1"
   ]
  },
  {
   "cell_type": "code",
   "execution_count": 53,
   "id": "dbec7447",
   "metadata": {},
   "outputs": [
    {
     "data": {
      "text/plain": [
       "a    10\n",
       "b    20\n",
       "c    30\n",
       "dtype: int64"
      ]
     },
     "execution_count": 53,
     "metadata": {},
     "output_type": "execute_result"
    }
   ],
   "source": [
    "# 라벨 'a'에서 라벨 'c'(c포함)\n",
    "s1['a':'c']"
   ]
  },
  {
   "cell_type": "code",
   "execution_count": 54,
   "id": "5f757d6c",
   "metadata": {},
   "outputs": [
    {
     "data": {
      "text/plain": [
       "a    10\n",
       "b    20\n",
       "dtype: int64"
      ]
     },
     "execution_count": 54,
     "metadata": {},
     "output_type": "execute_result"
    }
   ],
   "source": [
    "# Rangeindex\n",
    "s1[0:2]"
   ]
  },
  {
   "cell_type": "code",
   "execution_count": 55,
   "id": "07ae95e0",
   "metadata": {},
   "outputs": [
    {
     "data": {
      "text/plain": [
       "a    10\n",
       "c    30\n",
       "dtype: int64"
      ]
     },
     "execution_count": 55,
     "metadata": {},
     "output_type": "execute_result"
    }
   ],
   "source": [
    "# 0~3 범위를 2개간격으로 인덱싱\n",
    "s1[0:4:2]"
   ]
  },
  {
   "cell_type": "code",
   "execution_count": 56,
   "id": "84a63059",
   "metadata": {},
   "outputs": [
    {
     "data": {
      "text/plain": [
       "b    20\n",
       "d    40\n",
       "dtype: int64"
      ]
     },
     "execution_count": 56,
     "metadata": {},
     "output_type": "execute_result"
    }
   ],
   "source": [
    "# 인덱스 'b'에서 인덱스 'd'(포함) 까지 2개 간격으로 조회\n",
    "s1['b':'d':2]"
   ]
  },
  {
   "cell_type": "markdown",
   "id": "49e53816",
   "metadata": {},
   "source": [
    "### 조건 색인(Boolean indexing)\n",
    "\n",
    "- 객체에 벡터와 스칼라 연산을 적용하여 True \n",
    "\n",
    "<img src=\"img/조건색인.jpg\">"
   ]
  },
  {
   "cell_type": "code",
   "execution_count": 58,
   "id": "3ba69114",
   "metadata": {},
   "outputs": [
    {
     "data": {
      "text/plain": [
       "0     10\n",
       "1     -3\n",
       "2     14\n",
       "3     70\n",
       "4    -44\n",
       "5    -18\n",
       "6     -5\n",
       "7      1\n",
       "8     -2\n",
       "9     12\n",
       "10     5\n",
       "dtype: int64"
      ]
     },
     "execution_count": 58,
     "metadata": {},
     "output_type": "execute_result"
    }
   ],
   "source": [
    "# 양수와 음수 데이터를 저장하고 있는 Series 생성\n",
    "s2 = pd.Series([10,-3,14,70,-44,-18,-5,1,-2,12,5])\n",
    "s2"
   ]
  },
  {
   "cell_type": "code",
   "execution_count": 61,
   "id": "37da5d9d",
   "metadata": {},
   "outputs": [
    {
     "data": {
      "text/plain": [
       "0     False\n",
       "1      True\n",
       "2     False\n",
       "3     False\n",
       "4      True\n",
       "5      True\n",
       "6      True\n",
       "7     False\n",
       "8      True\n",
       "9     False\n",
       "10    False\n",
       "dtype: bool"
      ]
     },
     "execution_count": 61,
     "metadata": {},
     "output_type": "execute_result"
    }
   ],
   "source": [
    "# 음수는 True로, 양수는 False로 스칼라 연산을 통해 출력해보세요\n",
    "s2 < 0 "
   ]
  },
  {
   "cell_type": "code",
   "execution_count": null,
   "id": "e98efda1",
   "metadata": {},
   "outputs": [],
   "source": [
    "# 위의 스칼라연산을 활용하여 조건색인으로 s2중 음수만 남겨보세요"
   ]
  },
  {
   "cell_type": "code",
   "execution_count": 62,
   "id": "cad2659b",
   "metadata": {},
   "outputs": [
    {
     "data": {
      "text/plain": [
       "1    -3\n",
       "4   -44\n",
       "5   -18\n",
       "6    -5\n",
       "8    -2\n",
       "dtype: int64"
      ]
     },
     "execution_count": 62,
     "metadata": {},
     "output_type": "execute_result"
    }
   ],
   "source": [
    "s2[s2<0]"
   ]
  },
  {
   "cell_type": "code",
   "execution_count": 69,
   "id": "cdca9d0e",
   "metadata": {},
   "outputs": [
    {
     "data": {
      "text/plain": [
       "7     1\n",
       "10    5\n",
       "dtype: int64"
      ]
     },
     "execution_count": 69,
     "metadata": {},
     "output_type": "execute_result"
    }
   ],
   "source": [
    "# 두개 이상의 조건색인을 병렬 형태로 처리하기\n",
    "# 양수이면서 10보다 작은 값만 조전색인으로 남겨보세요\n",
    "# 두개 이상의 조건식으로 나열할때는 and, or 키워드가 아닌 &, |를 씁니다.\n",
    "# 병렬 형식 조건 처리시 각 조건으로 ()로 감싸야 돌아갑니다.\n",
    "s2[(s2 > 0) & (s2 <10)]"
   ]
  },
  {
   "cell_type": "markdown",
   "id": "983e8430",
   "metadata": {},
   "source": [
    "### 산술 연산\n",
    "\n",
    "- series 객체와 스칼라 값의 산술연산 => BroadCasting\n",
    "- series 객체 간의 산술 연산\n",
    "    - 인덱스의 라벨이 동일한 것끼리 연산 수행, 공통으로 존재하지 않는 경우 NaN 반환\n",
    "    - 라벨이 없는 경우 차례대로 연산 수행, 개수가 통일하지 않는 경우 NaN 반환\n",
    "    - fill_value 인자를 통해 NaN이 아닌 특정값으로 대체 가능\n",
    "    \n",
    "    <img src=\"img/series_math.png\" width=\"500\" ailng=\"center\">\n",
    "    \n",
    "- 연산의 종류\n",
    "    - 더하기 : +, add()메서드\n",
    "    - 빼기 : - , sub() 메서드\n",
    "    - 곱하기 : * , mul() 메서드\n",
    "    - 나머지만 반환 : %\n",
    "    - 몫만 반환 : //"
   ]
  },
  {
   "cell_type": "code",
   "execution_count": 76,
   "id": "6456435d",
   "metadata": {},
   "outputs": [],
   "source": [
    "# s1 -> 라벨 : a,b,c,d -> 데이터 4개 [1,2,3,4]\n",
    "# s2 -> 라벨 : a,c,d,e,f,g -> 데이터 6개 [ 10,20,30,40,50,60]\n",
    "s1 = pd.Series([1,2,3,4], index=list('abcd'))\n",
    "s2 = pd.Series([10,20,30,40,50,60], index=list('acdefg'))"
   ]
  },
  {
   "cell_type": "code",
   "execution_count": 77,
   "id": "a709e584",
   "metadata": {},
   "outputs": [
    {
     "data": {
      "text/plain": [
       "a     3\n",
       "b     6\n",
       "c     9\n",
       "d    12\n",
       "dtype: int64"
      ]
     },
     "execution_count": 77,
     "metadata": {},
     "output_type": "execute_result"
    }
   ],
   "source": [
    "# series 객체와 스칼라값의 산술 연산\n",
    "s1 * 3"
   ]
  },
  {
   "cell_type": "code",
   "execution_count": 78,
   "id": "c3c087dc",
   "metadata": {},
   "outputs": [
    {
     "data": {
      "text/plain": [
       "a    11.0\n",
       "b     NaN\n",
       "c    23.0\n",
       "d    34.0\n",
       "e     NaN\n",
       "f     NaN\n",
       "g     NaN\n",
       "dtype: float64"
      ]
     },
     "execution_count": 78,
     "metadata": {},
     "output_type": "execute_result"
    }
   ],
   "source": [
    "# Series끼리 더하기\n",
    "# 공통라벨인 a,c,d에만 값 부여, 어느 한쪽에만 존제하는 라벨들은 NaN\n",
    "s1 + s2"
   ]
  },
  {
   "cell_type": "code",
   "execution_count": 79,
   "id": "1ece4b6d",
   "metadata": {},
   "outputs": [
    {
     "data": {
      "text/plain": [
       "a    11.0\n",
       "b     NaN\n",
       "c    23.0\n",
       "d    34.0\n",
       "e     NaN\n",
       "f     NaN\n",
       "g     NaN\n",
       "dtype: float64"
      ]
     },
     "execution_count": 79,
     "metadata": {},
     "output_type": "execute_result"
    }
   ],
   "source": [
    "# fil_value 파라미터: 공통으로 존재하지 않는 라벨에 대해서 NaN 값을 \n",
    "# 적용하지 않고 특정 값으로 대체해서 사용할수 있다.\n",
    "# Series 메서드를 사용할 때의 파라미터로 입력가능\n",
    "s1. add(s2)"
   ]
  },
  {
   "cell_type": "code",
   "execution_count": 80,
   "id": "9e9e2adc",
   "metadata": {},
   "outputs": [
    {
     "data": {
      "text/plain": [
       "a    11.0\n",
       "b     2.0\n",
       "c    23.0\n",
       "d    34.0\n",
       "e    40.0\n",
       "f    50.0\n",
       "g    60.0\n",
       "dtype: float64"
      ]
     },
     "execution_count": 80,
     "metadata": {},
     "output_type": "execute_result"
    }
   ],
   "source": [
    "s1.add(s2,fill_value=0)"
   ]
  },
  {
   "cell_type": "code",
   "execution_count": 81,
   "id": "a0ae7acd",
   "metadata": {},
   "outputs": [
    {
     "data": {
      "text/plain": [
       "a    -9.0\n",
       "b     NaN\n",
       "c   -17.0\n",
       "d   -26.0\n",
       "e     NaN\n",
       "f     NaN\n",
       "g     NaN\n",
       "dtype: float64"
      ]
     },
     "execution_count": 81,
     "metadata": {},
     "output_type": "execute_result"
    }
   ],
   "source": [
    "# Series 객체 간의 빼기 연선\n",
    "s1 - s2"
   ]
  },
  {
   "cell_type": "code",
   "execution_count": 82,
   "id": "f77cd23f",
   "metadata": {},
   "outputs": [
    {
     "data": {
      "text/plain": [
       "a    -9.0\n",
       "b   -98.0\n",
       "c   -17.0\n",
       "d   -26.0\n",
       "e    60.0\n",
       "f    50.0\n",
       "g    40.0\n",
       "dtype: float64"
      ]
     },
     "execution_count": 82,
     "metadata": {},
     "output_type": "execute_result"
    }
   ],
   "source": [
    "# .sub()를 이용해 없는 값은 100을 넣고 빼기를 수행해보세요\n",
    "s1.sub(s2, fill_value=100)"
   ]
  },
  {
   "cell_type": "code",
   "execution_count": 83,
   "id": "0056b289",
   "metadata": {},
   "outputs": [
    {
     "data": {
      "text/plain": [
       "a     10.0\n",
       "b      2.0\n",
       "c     60.0\n",
       "d    120.0\n",
       "e     40.0\n",
       "f     50.0\n",
       "g     60.0\n",
       "dtype: float64"
      ]
     },
     "execution_count": 83,
     "metadata": {},
     "output_type": "execute_result"
    }
   ],
   "source": [
    "# mul을 이요해서 곱셈은 1을 넣고 해보세요\n",
    "s1.mul(s2, fill_value=1)"
   ]
  },
  {
   "cell_type": "code",
   "execution_count": null,
   "id": "d429e6d2",
   "metadata": {},
   "outputs": [],
   "source": [
    "# 객체간 나누기를 연산자를 이용해서 해보세요."
   ]
  },
  {
   "cell_type": "code",
   "execution_count": 91,
   "id": "4ac8842e",
   "metadata": {},
   "outputs": [
    {
     "data": {
      "text/plain": [
       "a    0.100000\n",
       "b    2.000000\n",
       "c    0.150000\n",
       "d    0.133333\n",
       "e    0.025000\n",
       "f    0.020000\n",
       "g    0.016667\n",
       "dtype: float64"
      ]
     },
     "execution_count": 91,
     "metadata": {},
     "output_type": "execute_result"
    }
   ],
   "source": [
    "# .divide를 이용해서 해보세요\n",
    "s1.divide(s2, fill_value=1)"
   ]
  },
  {
   "cell_type": "markdown",
   "id": "ff4921c7",
   "metadata": {},
   "source": [
    "###  연습문제\n",
    "\n",
    "#### 1. 실습 데이터 생성 : 1~100미만 사이의 랜덤 정수 값을 26개 저장한 series를 생성하고 A~Z까지의 알파벳으로 라벨링 설정"
   ]
  },
  {
   "cell_type": "code",
   "execution_count": 92,
   "id": "8b1327d0",
   "metadata": {},
   "outputs": [],
   "source": [
    "import numpy as np"
   ]
  },
  {
   "cell_type": "code",
   "execution_count": 93,
   "id": "27d1a47b",
   "metadata": {},
   "outputs": [
    {
     "data": {
      "text/plain": [
       "array([ 8, 40, 20, 37, 77, 22, 99, 93, 46,  8, 40, 83, 75, 45, 81, 83, 53,\n",
       "       65, 40, 77, 13, 25, 55, 96, 78, 90])"
      ]
     },
     "execution_count": 93,
     "metadata": {},
     "output_type": "execute_result"
    }
   ],
   "source": [
    "data = np.random.randint(1,100, 26)\n",
    "data"
   ]
  },
  {
   "cell_type": "code",
   "execution_count": 96,
   "id": "e898c865",
   "metadata": {},
   "outputs": [],
   "source": [
    "s1 = pd.Series(data, index=list(\"ABCDEFGHIJKLMNOPQRSTUVWXYZ\"))"
   ]
  },
  {
   "cell_type": "code",
   "execution_count": 97,
   "id": "e6dc7cb6",
   "metadata": {},
   "outputs": [
    {
     "data": {
      "text/plain": [
       "A     8\n",
       "B    40\n",
       "C    20\n",
       "D    37\n",
       "E    77\n",
       "F    22\n",
       "G    99\n",
       "H    93\n",
       "I    46\n",
       "J     8\n",
       "K    40\n",
       "L    83\n",
       "M    75\n",
       "N    45\n",
       "O    81\n",
       "P    83\n",
       "Q    53\n",
       "R    65\n",
       "S    40\n",
       "T    77\n",
       "U    13\n",
       "V    25\n",
       "W    55\n",
       "X    96\n",
       "Y    78\n",
       "Z    90\n",
       "dtype: int32"
      ]
     },
     "execution_count": 97,
     "metadata": {},
     "output_type": "execute_result"
    }
   ],
   "source": [
    "s1"
   ]
  },
  {
   "cell_type": "markdown",
   "id": "b0c20375",
   "metadata": {},
   "source": [
    "#### 2. 인덱스 라벨이 'k' 항목의 값 출력"
   ]
  },
  {
   "cell_type": "code",
   "execution_count": 98,
   "id": "c7574422",
   "metadata": {},
   "outputs": [
    {
     "data": {
      "text/plain": [
       "40"
      ]
     },
     "execution_count": 98,
     "metadata": {},
     "output_type": "execute_result"
    }
   ],
   "source": [
    "s1['K']"
   ]
  },
  {
   "cell_type": "markdown",
   "id": "0d79393c",
   "metadata": {},
   "source": [
    "#### 3. 인덱스 라벨이 'A','F','C' 항목의 값 출력"
   ]
  },
  {
   "cell_type": "code",
   "execution_count": 100,
   "id": "7cbd12df",
   "metadata": {},
   "outputs": [
    {
     "data": {
      "text/plain": [
       "A     8\n",
       "F    22\n",
       "C    20\n",
       "dtype: int32"
      ]
     },
     "execution_count": 100,
     "metadata": {},
     "output_type": "execute_result"
    }
   ],
   "source": [
    "s1[['A','F','C']]"
   ]
  },
  {
   "cell_type": "markdown",
   "id": "0e4a6332",
   "metadata": {},
   "source": [
    "#### 4. 5번 인덱스부터 15번 인덱스까지의 항목 출력"
   ]
  },
  {
   "cell_type": "code",
   "execution_count": 101,
   "id": "9f348727",
   "metadata": {},
   "outputs": [
    {
     "data": {
      "text/plain": [
       "F    22\n",
       "G    99\n",
       "H    93\n",
       "I    46\n",
       "J     8\n",
       "K    40\n",
       "L    83\n",
       "M    75\n",
       "N    45\n",
       "O    81\n",
       "dtype: int32"
      ]
     },
     "execution_count": 101,
     "metadata": {},
     "output_type": "execute_result"
    }
   ],
   "source": [
    "s1[5:15]"
   ]
  },
  {
   "cell_type": "markdown",
   "id": "4b6399f4",
   "metadata": {},
   "source": [
    "#### 5. 뒤에서 5개 항목 출력"
   ]
  },
  {
   "cell_type": "code",
   "execution_count": 130,
   "id": "1cd09294",
   "metadata": {},
   "outputs": [
    {
     "data": {
      "text/plain": [
       "V    25\n",
       "W    55\n",
       "X    96\n",
       "Y    78\n",
       "Z    90\n",
       "dtype: int32"
      ]
     },
     "execution_count": 130,
     "metadata": {},
     "output_type": "execute_result"
    }
   ],
   "source": [
    "s1[-5:]"
   ]
  },
  {
   "cell_type": "markdown",
   "id": "51ac0ca9",
   "metadata": {},
   "source": [
    "#### 6. data의 항목의 갯수 출력"
   ]
  },
  {
   "cell_type": "code",
   "execution_count": 120,
   "id": "f3076c2d",
   "metadata": {},
   "outputs": [
    {
     "data": {
      "text/plain": [
       "26"
      ]
     },
     "execution_count": 120,
     "metadata": {},
     "output_type": "execute_result"
    }
   ],
   "source": [
    "len(data)"
   ]
  },
  {
   "cell_type": "markdown",
   "id": "6712a7a5",
   "metadata": {},
   "source": [
    "#### 7. data의 항목 값들의 평균보다 큰 항목만 출력"
   ]
  },
  {
   "cell_type": "code",
   "execution_count": 123,
   "id": "801f303d",
   "metadata": {},
   "outputs": [
    {
     "data": {
      "text/plain": [
       "array([77, 99, 93, 83, 75, 81, 83, 65, 77, 96, 78, 90])"
      ]
     },
     "execution_count": 123,
     "metadata": {},
     "output_type": "execute_result"
    }
   ],
   "source": [
    "data[data > data.mean()]"
   ]
  },
  {
   "cell_type": "markdown",
   "id": "ab80c8fa",
   "metadata": {},
   "source": [
    "#### 8. data의 항목값중에 50이 있는지 확인하여, 있으면 True, 없으면 False를 출력"
   ]
  },
  {
   "cell_type": "code",
   "execution_count": 131,
   "id": "eb4afbaa",
   "metadata": {},
   "outputs": [
    {
     "data": {
      "text/plain": [
       "False"
      ]
     },
     "execution_count": 131,
     "metadata": {},
     "output_type": "execute_result"
    }
   ],
   "source": [
    "50 in data"
   ]
  },
  {
   "cell_type": "code",
   "execution_count": null,
   "id": "5c727cbe",
   "metadata": {},
   "outputs": [],
   "source": []
  },
  {
   "cell_type": "code",
   "execution_count": null,
   "id": "2c4eeddc",
   "metadata": {},
   "outputs": [],
   "source": []
  },
  {
   "cell_type": "code",
   "execution_count": null,
   "id": "cea92414",
   "metadata": {},
   "outputs": [],
   "source": []
  }
 ],
 "metadata": {
  "kernelspec": {
   "display_name": "Python 3 (ipykernel)",
   "language": "python",
   "name": "python3"
  },
  "language_info": {
   "codemirror_mode": {
    "name": "ipython",
    "version": 3
   },
   "file_extension": ".py",
   "mimetype": "text/x-python",
   "name": "python",
   "nbconvert_exporter": "python",
   "pygments_lexer": "ipython3",
   "version": "3.9.7"
  }
 },
 "nbformat": 4,
 "nbformat_minor": 5
}

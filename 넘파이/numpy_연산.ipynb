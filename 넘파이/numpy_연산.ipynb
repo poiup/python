{
 "cells": [
  {
   "cell_type": "code",
   "execution_count": 1,
   "id": "5584cafa",
   "metadata": {},
   "outputs": [],
   "source": [
    "# 라이브러리 가져오기 : numpy\n",
    "# as 별칭 선언 이후에는 별칭으로 해당 라이브러리의 기능을 쓸수 있다.\n",
    "# import 라이브러리명 as 별칭\n",
    "import numpy as np"
   ]
  },
  {
   "cell_type": "code",
   "execution_count": 2,
   "id": "e9663a5a",
   "metadata": {},
   "outputs": [],
   "source": [
    "# numpy 객체 정보를 좀더 편하게 확인하기 위한 사용자 함수 정의\n",
    "# 객체 타입, 구조, 차원, 데이터 타입, 내부자료\n",
    "# 를 확인하기 위해 커스텀 함수를 정의합니다.( 기본기능 아님)\n",
    "def np_print(arr):\n",
    "    text =  '''\n",
    "    type = %s\n",
    "    shape = %s\n",
    "    ndim = %s\n",
    "    dtype = %s\n",
    "    array date : \\n %s '''% (type(arr), arr.shape, arr.ndim, arr.dtype, arr)\n",
    "    print(text)"
   ]
  },
  {
   "cell_type": "markdown",
   "id": "09d39b61",
   "metadata": {},
   "source": [
    "## 산술연산\n",
    "\n",
    "- 더하기 : +, add()\n",
    "- 빼기 : - ,subtract()\n",
    "- 나누기 : / , divide()\n",
    "- 곱하기 : * multiply()\n",
    "- 지수곱 표현 : exp()\n",
    "- 제곱근 : sqrt()\n",
    "- 로그 : log()\n",
    "- 내적(행렬곱) : dot()"
   ]
  },
  {
   "cell_type": "code",
   "execution_count": 3,
   "id": "ef628659",
   "metadata": {},
   "outputs": [
    {
     "data": {
      "text/plain": [
       "array([[1, 2, 3],\n",
       "       [4, 5, 6],\n",
       "       [7, 8, 9]])"
      ]
     },
     "execution_count": 3,
     "metadata": {},
     "output_type": "execute_result"
    }
   ],
   "source": [
    "# 1부터 10미만의 범위(지정범위)에서 1씩 증가하는 숫자를 데이터로 가진 3행 3열의 배열\n",
    "a = np.arange(1,10).reshape(3,3)\n",
    "a"
   ]
  },
  {
   "cell_type": "code",
   "execution_count": 4,
   "id": "56d62475",
   "metadata": {},
   "outputs": [],
   "source": [
    "# 4이상 13미만의 범위에서 1식 증가하는 숫자를 데이터로 가진 3행 3열 배열 생성\n",
    "b = np.arange(4,13).reshape(3,3)"
   ]
  },
  {
   "cell_type": "code",
   "execution_count": 5,
   "id": "e6acabcc",
   "metadata": {},
   "outputs": [],
   "source": [
    "# 10 ~ 21까지 3행 4열 형태로 만들기\n",
    "c = np.arange(10, 22).reshape(3,4)"
   ]
  },
  {
   "cell_type": "markdown",
   "id": "c5fcc394",
   "metadata": {},
   "source": [
    "### 더하기\n",
    "    \n",
    "    - 배열 + 배열\n",
    "    - np.add(arr1, arr2)"
   ]
  },
  {
   "cell_type": "code",
   "execution_count": 6,
   "id": "6b63d72b",
   "metadata": {},
   "outputs": [
    {
     "data": {
      "text/plain": [
       "array([[ 5,  7,  9],\n",
       "       [11, 13, 15],\n",
       "       [17, 19, 21]])"
      ]
     },
     "execution_count": 6,
     "metadata": {},
     "output_type": "execute_result"
    }
   ],
   "source": [
    "a + b"
   ]
  },
  {
   "cell_type": "code",
   "execution_count": 7,
   "id": "9062bb5d",
   "metadata": {},
   "outputs": [
    {
     "data": {
      "text/plain": [
       "array([[ 5,  7,  9],\n",
       "       [11, 13, 15],\n",
       "       [17, 19, 21]])"
      ]
     },
     "execution_count": 7,
     "metadata": {},
     "output_type": "execute_result"
    }
   ],
   "source": [
    "# np.add(배열1, 배열2)\n",
    "np.add(a,b)"
   ]
  },
  {
   "cell_type": "code",
   "execution_count": 8,
   "id": "a8773e53",
   "metadata": {},
   "outputs": [
    {
     "ename": "ValueError",
     "evalue": "operands could not be broadcast together with shapes (3,3) (3,4) ",
     "output_type": "error",
     "traceback": [
      "\u001b[1;31m---------------------------------------------------------------------------\u001b[0m",
      "\u001b[1;31mValueError\u001b[0m                                Traceback (most recent call last)",
      "\u001b[1;32m~\\AppData\\Local\\Temp/ipykernel_6692/1464998718.py\u001b[0m in \u001b[0;36m<module>\u001b[1;34m\u001b[0m\n\u001b[0;32m      1\u001b[0m \u001b[1;31m# 구조 다른 배열간의 산술 연산자  에러발생\u001b[0m\u001b[1;33m\u001b[0m\u001b[1;33m\u001b[0m\u001b[0m\n\u001b[0;32m      2\u001b[0m \u001b[1;31m# 3*3 과 3*4형태\u001b[0m\u001b[1;33m\u001b[0m\u001b[1;33m\u001b[0m\u001b[0m\n\u001b[1;32m----> 3\u001b[1;33m \u001b[0ma\u001b[0m\u001b[1;33m+\u001b[0m\u001b[0mc\u001b[0m\u001b[1;33m\u001b[0m\u001b[1;33m\u001b[0m\u001b[0m\n\u001b[0m",
      "\u001b[1;31mValueError\u001b[0m: operands could not be broadcast together with shapes (3,3) (3,4) "
     ]
    }
   ],
   "source": [
    "# 구조 다른 배열간의 산술 연산자  에러발생\n",
    "# 3*3 과 3*4형태\n",
    "a+c"
   ]
  },
  {
   "cell_type": "markdown",
   "id": "fddf2941",
   "metadata": {},
   "source": [
    "### 빼기\n",
    "    - 배열 - 배열\n",
    "    - np.subtract(arr1,arr2)"
   ]
  },
  {
   "cell_type": "code",
   "execution_count": 9,
   "id": "6f775557",
   "metadata": {},
   "outputs": [
    {
     "data": {
      "text/plain": [
       "array([[-3, -3, -3],\n",
       "       [-3, -3, -3],\n",
       "       [-3, -3, -3]])"
      ]
     },
     "execution_count": 9,
     "metadata": {},
     "output_type": "execute_result"
    }
   ],
   "source": [
    "a-b"
   ]
  },
  {
   "cell_type": "markdown",
   "id": "d3d533ec",
   "metadata": {},
   "source": [
    "### 나누기\n",
    "\n",
    "    - 배열 / 배열\n",
    "    - np.drivide(배열1,배열2)\n",
    "    "
   ]
  },
  {
   "cell_type": "code",
   "execution_count": 10,
   "id": "d0c72b7f",
   "metadata": {},
   "outputs": [
    {
     "data": {
      "text/plain": [
       "array([[0.25      , 0.4       , 0.5       ],\n",
       "       [0.57142857, 0.625     , 0.66666667],\n",
       "       [0.7       , 0.72727273, 0.75      ]])"
      ]
     },
     "execution_count": 10,
     "metadata": {},
     "output_type": "execute_result"
    }
   ],
   "source": [
    "a/b"
   ]
  },
  {
   "cell_type": "markdown",
   "id": "adbf47c5",
   "metadata": {},
   "source": [
    "### 곱하기\n"
   ]
  },
  {
   "cell_type": "code",
   "execution_count": 11,
   "id": "4d8cd767",
   "metadata": {},
   "outputs": [
    {
     "data": {
      "text/plain": [
       "array([[  4,  10,  18],\n",
       "       [ 28,  40,  54],\n",
       "       [ 70,  88, 108]])"
      ]
     },
     "execution_count": 11,
     "metadata": {},
     "output_type": "execute_result"
    }
   ],
   "source": [
    "a * b"
   ]
  },
  {
   "cell_type": "code",
   "execution_count": 22,
   "id": "6bfc0b48",
   "metadata": {},
   "outputs": [
    {
     "data": {
      "text/plain": [
       "array([[  4,  10,  18],\n",
       "       [ 28,  40,  54],\n",
       "       [ 70,  88, 108]])"
      ]
     },
     "execution_count": 22,
     "metadata": {},
     "output_type": "execute_result"
    }
   ],
   "source": [
    "np.multiply(a,b)"
   ]
  },
  {
   "cell_type": "markdown",
   "id": "6a4bc9a8",
   "metadata": {},
   "source": [
    "### 지수곱 표현\n",
    "\n",
    "- 지수(exponent) : 부동 소수점으로 숫자를 표시할 때 거듭제곱을 사용하여 표현. <br>\n",
    "(예) 2.14e+2 = 2.14 x 102 = 214 / 2.98e-8 = 2.98 x 10-8 = 0.0000000298\n",
    "- np.exp(arr) : 밑(base)이 자연상수 e 인 지수함수로 변환(y = e**x)"
   ]
  },
  {
   "cell_type": "code",
   "execution_count": 12,
   "id": "a1a7756d",
   "metadata": {
    "scrolled": true
   },
   "outputs": [
    {
     "data": {
      "text/plain": [
       "array([[1, 2, 3],\n",
       "       [4, 5, 6],\n",
       "       [7, 8, 9]])"
      ]
     },
     "execution_count": 12,
     "metadata": {},
     "output_type": "execute_result"
    }
   ],
   "source": [
    "a"
   ]
  },
  {
   "cell_type": "code",
   "execution_count": 13,
   "id": "41af69d3",
   "metadata": {},
   "outputs": [
    {
     "data": {
      "text/plain": [
       "array([[2.71828183e+00, 7.38905610e+00, 2.00855369e+01],\n",
       "       [5.45981500e+01, 1.48413159e+02, 4.03428793e+02],\n",
       "       [1.09663316e+03, 2.98095799e+03, 8.10308393e+03]])"
      ]
     },
     "execution_count": 13,
     "metadata": {},
     "output_type": "execute_result"
    }
   ],
   "source": [
    "np.exp(a)"
   ]
  },
  {
   "cell_type": "markdown",
   "id": "486daa53",
   "metadata": {},
   "source": [
    "### 제곱근\n",
    "\n",
    "- np.sqrt(arr)\n",
    "\n",
    "<img src=\"img/sqrt.gif\" width=\"400\" height=\"200\" align=\"left\">"
   ]
  },
  {
   "cell_type": "code",
   "execution_count": 14,
   "id": "5ffa4439",
   "metadata": {},
   "outputs": [
    {
     "data": {
      "text/plain": [
       "array([[1.        , 1.41421356, 1.73205081],\n",
       "       [2.        , 2.23606798, 2.44948974],\n",
       "       [2.64575131, 2.82842712, 3.        ]])"
      ]
     },
     "execution_count": 14,
     "metadata": {},
     "output_type": "execute_result"
    }
   ],
   "source": [
    "np.sqrt(a)"
   ]
  },
  {
   "cell_type": "markdown",
   "id": "bc60af7c",
   "metadata": {},
   "source": [
    "### 내적(행렬곱)\n",
    "\n",
    "- np.dot(a,b)\n",
    "\n",
    "<img src=\"img/dotProduct.png\" width=\"400\" height=\"200\" align='left'>"
   ]
  },
  {
   "cell_type": "code",
   "execution_count": 15,
   "id": "082ca45e",
   "metadata": {},
   "outputs": [
    {
     "data": {
      "text/plain": [
       "array([[ 48,  54,  60],\n",
       "       [111, 126, 141],\n",
       "       [174, 198, 222]])"
      ]
     },
     "execution_count": 15,
     "metadata": {},
     "output_type": "execute_result"
    }
   ],
   "source": [
    "np.dot(a,b)"
   ]
  },
  {
   "cell_type": "markdown",
   "id": "8fe1a06a",
   "metadata": {},
   "source": [
    "### Numpy 배열 연산\n",
    "\n",
    "#### 2. 비교 연산\n",
    "\n",
    "1) 요소\n",
    "- 값에 대한 비교 : ==, !=\n",
    "- 크기에 대한 비교 : >, <, >=, <=\n",
    "\n",
    "2) 배열\n",
    "- 두 배열 전체에 대한 비교 : array_equal(a, b"
   ]
  },
  {
   "cell_type": "code",
   "execution_count": null,
   "id": "514e4089",
   "metadata": {},
   "outputs": [],
   "source": [
    "# 두 배열 요소에 대하여 값이 동일한지 비교\n",
    "# 반환 : 각 요소마다의 비교결과(참 거짓)가 배열로 표현됨"
   ]
  },
  {
   "cell_type": "code",
   "execution_count": 16,
   "id": "12483b17",
   "metadata": {},
   "outputs": [
    {
     "name": "stdout",
     "output_type": "stream",
     "text": [
      "\n",
      "    type = <class 'numpy.ndarray'>\n",
      "    shape = (3, 3)\n",
      "    ndim = 2\n",
      "    dtype = bool\n",
      "    array date : \n",
      " [[False False False]\n",
      " [False False False]\n",
      " [False False False]] \n"
     ]
    }
   ],
   "source": [
    "np_print(a == b)"
   ]
  },
  {
   "cell_type": "code",
   "execution_count": 17,
   "id": "a736df8b",
   "metadata": {},
   "outputs": [
    {
     "data": {
      "text/plain": [
       "array([[ True,  True,  True],\n",
       "       [ True,  True,  True],\n",
       "       [ True,  True,  True]])"
      ]
     },
     "execution_count": 17,
     "metadata": {},
     "output_type": "execute_result"
    }
   ],
   "source": [
    "# 두 배열 요소에 대하여 값이 다른지 비교\n",
    "a != b"
   ]
  },
  {
   "cell_type": "code",
   "execution_count": 18,
   "id": "8823da15",
   "metadata": {},
   "outputs": [
    {
     "data": {
      "text/plain": [
       "array([[ True,  True,  True],\n",
       "       [ True,  True,  True],\n",
       "       [ True,  True,  True]])"
      ]
     },
     "execution_count": 18,
     "metadata": {},
     "output_type": "execute_result"
    }
   ],
   "source": [
    "# 두 배열요소에 대해 크기비교\n",
    "a < b"
   ]
  },
  {
   "cell_type": "code",
   "execution_count": 35,
   "id": "f5a90436",
   "metadata": {},
   "outputs": [
    {
     "data": {
      "text/plain": [
       "False"
      ]
     },
     "execution_count": 35,
     "metadata": {},
     "output_type": "execute_result"
    }
   ],
   "source": [
    "# 두 배열이 완전히 일치하는지 여부만 조회\n",
    "#  하나의 T/F로 반환\n",
    "np.array_equal(a,b)"
   ]
  },
  {
   "cell_type": "markdown",
   "id": "2c72bc1b",
   "metadata": {},
   "source": [
    "### Numpy 배열 연산\n",
    "\n",
    "3. 집계 함수\n",
    "\n",
    "    - Numpy 배열에 대해 집계 함수를 적용할 때는 반드시 axis로 설정된 기준에 따라 연산 수행\n",
    "    - 별도로 값을 지정하지 않으면 기본값은 axis = None으로 지정\n",
    "    - axis\n",
    "        - axis = None <br>\n",
    "        전체 데이터를 하나의 배열로 간주하고 집계 함수의 연산 범위를 전체 배열로 지정\n",
    "        <br>\n",
    "        <img src='img/axis_None.jpg' width='150' height='150' align='left'>\n",
    "        <br>\n",
    "        <br>\n",
    "        <br>\n",
    "        <br>\n",
    "        <br>\n",
    "        <br>\n",
    "        <br>\n",
    "        <br>\n",
    "        <br>\n",
    "        <br>\n",
    "        - axis = 0 <br>\n",
    "        열을 기준으로 동일한 열에 있는 요소를 하나의 그룹으로 묶어 집계 함수의 연산 범위로 지정\n",
    "        <br>\n",
    "        <img src='img/axis_0.jpg' width='150' height='150' align='left'>\n",
    "        <br>\n",
    "        <br>\n",
    "        <br>\n",
    "        <br>\n",
    "        <br>\n",
    "        <br>\n",
    "        <br>\n",
    "        <br>\n",
    "        <br>\n",
    "        <br>\n",
    "        - axis = 1 <br>\n",
    "        행을 기준으로 동일한 행에 있는 요소를 하나의 그룹으로 묶어 집계 함수의 연산 범위로 지정\n",
    "        <br>\n",
    "        <img src='img/axis_1.jpg' width='150' height='150' align='left'>\n",
    "        <br>\n",
    "        <br>\n",
    "        <br>\n",
    "        <br>\n",
    "        <br>\n",
    "        <br>\n",
    "        <br>\n",
    "        <br>\n",
    "        <br>\n",
    "        <br>\n",
    "        \n",
    "    - 집계 함수 : 배열객체에 대한 메소드로 사용하거나 Numpy 라이브러리의 메소드로 사용하는 두 가지 방법\n",
    "        - 합계 : sum()\n",
    "        - 최소값 : min()\n",
    "        - 최대값 : max()\n",
    "        - 누적 합계 : cumsum()\n",
    "        - 평균 : mean()\n",
    "        - 중앙값 : median()\n",
    "            - 크기 순으로 나열된 데이터에 대해 중앙에 위치하는 값\n",
    "        - 상관계수 : corrcoef()\n",
    "            - 데이터 간의 상관관계를 나타내는 수치(-1 <= r <= 1)\n",
    "        - 표준편차 : std()\n",
    "            - 분산의 제곱근, 데이터가 평균으로부터 흩어져 있는 정도\n",
    "            - 분산 = 편차(요소-전체평균)제곱의 평균\n",
    "        - 고유값 : unique()"
   ]
  },
  {
   "cell_type": "code",
   "execution_count": 19,
   "id": "41169b38",
   "metadata": {},
   "outputs": [
    {
     "name": "stdout",
     "output_type": "stream",
     "text": [
      "\n",
      "    type = <class 'numpy.ndarray'>\n",
      "    shape = (3, 3)\n",
      "    ndim = 2\n",
      "    dtype = int32\n",
      "    array date : \n",
      " [[1 2 3]\n",
      " [4 5 6]\n",
      " [7 8 9]] \n"
     ]
    }
   ],
   "source": [
    "# t사용할 배열 객체 확인\n",
    "np_print(a)"
   ]
  },
  {
   "cell_type": "code",
   "execution_count": 20,
   "id": "8cf49896",
   "metadata": {},
   "outputs": [
    {
     "data": {
      "text/plain": [
       "45"
      ]
     },
     "execution_count": 20,
     "metadata": {},
     "output_type": "execute_result"
    }
   ],
   "source": [
    "# 합계 - 전체기준 => 모든 요소에 대한 합\n",
    "# 1) 배열타입의 메서드 : arr.sum()\n",
    "# 2) numpy함수 : np.sum(arr)\n",
    "\n",
    "np.sum(a)"
   ]
  },
  {
   "cell_type": "code",
   "execution_count": 21,
   "id": "eae677a1",
   "metadata": {},
   "outputs": [
    {
     "data": {
      "text/plain": [
       "45"
      ]
     },
     "execution_count": 21,
     "metadata": {},
     "output_type": "execute_result"
    }
   ],
   "source": [
    "a.sum()"
   ]
  },
  {
   "cell_type": "code",
   "execution_count": 22,
   "id": "1d636638",
   "metadata": {},
   "outputs": [
    {
     "name": "stdout",
     "output_type": "stream",
     "text": [
      "[46 62 78]\n",
      "[[10 11 12 13]\n",
      " [14 15 16 17]\n",
      " [18 19 20 21]]\n"
     ]
    }
   ],
   "source": [
    "# 합계 - row, 가로축별 합산\n",
    "# 메서드, np함수의 파라미터값: axis=1\n",
    "# 결겨괎 :  [0번row합, 1번row합, 2번 row합]\n",
    "print(c.sum(axis=1))\n",
    "print(c)"
   ]
  },
  {
   "cell_type": "code",
   "execution_count": 43,
   "id": "f81e6cf9",
   "metadata": {},
   "outputs": [
    {
     "name": "stdout",
     "output_type": "stream",
     "text": [
      "[42 45 48 51]\n"
     ]
    }
   ],
   "source": [
    "print(c.sum(axis=0))"
   ]
  },
  {
   "cell_type": "code",
   "execution_count": 23,
   "id": "864bdf35",
   "metadata": {},
   "outputs": [
    {
     "data": {
      "text/plain": [
       "10"
      ]
     },
     "execution_count": 23,
     "metadata": {},
     "output_type": "execute_result"
    }
   ],
   "source": [
    "# 최소값 - 전체기준\n",
    "# 1) 배열 타입의 메서드 : arr.min()\n",
    "# 2) numpy 함수 : np.min(arr)\n",
    "\n",
    "c.min()\n",
    "np.min(c)"
   ]
  },
  {
   "cell_type": "code",
   "execution_count": 24,
   "id": "582cb4dc",
   "metadata": {},
   "outputs": [
    {
     "data": {
      "text/plain": [
       "1"
      ]
     },
     "execution_count": 24,
     "metadata": {},
     "output_type": "execute_result"
    }
   ],
   "source": [
    "# (참고)파이썬 리스트에서 최소값 찾기\n",
    "x = [1,2,3,4]\n",
    "min(x)"
   ]
  },
  {
   "cell_type": "code",
   "execution_count": 25,
   "id": "f549ed8d",
   "metadata": {},
   "outputs": [
    {
     "data": {
      "text/plain": [
       "array([10, 14, 18])"
      ]
     },
     "execution_count": 25,
     "metadata": {},
     "output_type": "execute_result"
    }
   ],
   "source": [
    "# 최소값 - 각 가로축(row별) 최소값 찾기\n",
    "c.min(axis=1)"
   ]
  },
  {
   "cell_type": "code",
   "execution_count": 26,
   "id": "98901676",
   "metadata": {},
   "outputs": [
    {
     "data": {
      "text/plain": [
       "21"
      ]
     },
     "execution_count": 26,
     "metadata": {},
     "output_type": "execute_result"
    }
   ],
   "source": [
    "# 치대값 - 전체기준\n",
    "# 1) 배열 타입의 메서드 : arr.max()\n",
    "# 2) numpy 함수 : np.max(배열)\n",
    "c.max()"
   ]
  },
  {
   "cell_type": "code",
   "execution_count": 27,
   "id": "a4ca14f0",
   "metadata": {},
   "outputs": [
    {
     "data": {
      "text/plain": [
       "21"
      ]
     },
     "execution_count": 27,
     "metadata": {},
     "output_type": "execute_result"
    }
   ],
   "source": [
    "np.max(c)"
   ]
  },
  {
   "cell_type": "code",
   "execution_count": 29,
   "id": "05fa648a",
   "metadata": {},
   "outputs": [
    {
     "data": {
      "text/plain": [
       "array([13, 17, 21])"
      ]
     },
     "execution_count": 29,
     "metadata": {},
     "output_type": "execute_result"
    }
   ],
   "source": [
    "# 최대값 - 가로축 기준\n",
    "c.max(axis=1)"
   ]
  },
  {
   "cell_type": "code",
   "execution_count": 33,
   "id": "2ec8f975",
   "metadata": {},
   "outputs": [
    {
     "data": {
      "text/plain": [
       "array([18, 19, 20, 21])"
      ]
     },
     "execution_count": 33,
     "metadata": {},
     "output_type": "execute_result"
    }
   ],
   "source": [
    "# 최대값 -  세로축 기준\n",
    "c.max(axis=0)"
   ]
  },
  {
   "cell_type": "code",
   "execution_count": 34,
   "id": "c7013fcc",
   "metadata": {},
   "outputs": [
    {
     "data": {
      "text/plain": [
       "array([ 10,  21,  33,  46,  60,  75,  91, 108, 126, 145, 165, 186],\n",
       "      dtype=int32)"
      ]
     },
     "execution_count": 34,
     "metadata": {},
     "output_type": "execute_result"
    }
   ],
   "source": [
    "# 누적합계 - 전체 기준\n",
    "# 1) 배열 타입의 메서드 : arr.cumsum()\n",
    "# 2) numpy함수 : np.cumsum(arr)\n",
    "# 결과값 :\n",
    "c.cumsum()\n"
   ]
  },
  {
   "cell_type": "code",
   "execution_count": 39,
   "id": "967fc419",
   "metadata": {},
   "outputs": [
    {
     "data": {
      "text/plain": [
       "array([[10, 21, 33, 46],\n",
       "       [14, 29, 45, 62],\n",
       "       [18, 37, 57, 78]], dtype=int32)"
      ]
     },
     "execution_count": 39,
     "metadata": {},
     "output_type": "execute_result"
    }
   ],
   "source": [
    "# 누적합계 -가로축(row)기준\n",
    "c.cumsum(axis=1)"
   ]
  },
  {
   "cell_type": "code",
   "execution_count": 42,
   "id": "98920ce4",
   "metadata": {},
   "outputs": [
    {
     "data": {
      "text/plain": [
       "array([[10, 11, 12, 13],\n",
       "       [24, 26, 28, 30],\n",
       "       [42, 45, 48, 51]], dtype=int32)"
      ]
     },
     "execution_count": 42,
     "metadata": {},
     "output_type": "execute_result"
    }
   ],
   "source": [
    "# 누적합계 - 세로축(column)기준\n",
    "c.cumsum(axis=0)"
   ]
  },
  {
   "cell_type": "code",
   "execution_count": 44,
   "id": "440c7768",
   "metadata": {},
   "outputs": [
    {
     "data": {
      "text/plain": [
       "15.5"
      ]
     },
     "execution_count": 44,
     "metadata": {},
     "output_type": "execute_result"
    }
   ],
   "source": [
    "# 평균 - 전체데이터 기준\n",
    "# 1) 매열 타입의 메서드 arr.maen()\n",
    "# 2) numpy함수 : np.mean(arr)\n",
    "c.mean()\n",
    "np.mean(c)"
   ]
  },
  {
   "cell_type": "code",
   "execution_count": 45,
   "id": "2106ba87",
   "metadata": {},
   "outputs": [
    {
     "data": {
      "text/plain": [
       "array([11.5, 15.5, 19.5])"
      ]
     },
     "execution_count": 45,
     "metadata": {},
     "output_type": "execute_result"
    }
   ],
   "source": [
    "# 평균 - 가로축 기준\n",
    "c.mean(axis=1)"
   ]
  },
  {
   "cell_type": "code",
   "execution_count": 46,
   "id": "cb62797c",
   "metadata": {},
   "outputs": [
    {
     "data": {
      "text/plain": [
       "array([14., 15., 16., 17.])"
      ]
     },
     "execution_count": 46,
     "metadata": {},
     "output_type": "execute_result"
    }
   ],
   "source": [
    "# 평균 - 세로축 기준\n",
    "c.mean(axis=0)"
   ]
  },
  {
   "cell_type": "code",
   "execution_count": 47,
   "id": "12c1a8ab",
   "metadata": {},
   "outputs": [
    {
     "data": {
      "text/plain": [
       "15.5"
      ]
     },
     "execution_count": 47,
     "metadata": {},
     "output_type": "execute_result"
    }
   ],
   "source": [
    "#중앙값 - 전체기준\n",
    "# numpy 함수 : np.median(arr)\n",
    "# arr.median()을 직접 호출할수없음\n",
    "np.median(c)"
   ]
  },
  {
   "cell_type": "code",
   "execution_count": 49,
   "id": "2a0187c1",
   "metadata": {},
   "outputs": [
    {
     "data": {
      "text/plain": [
       "5.0"
      ]
     },
     "execution_count": 49,
     "metadata": {},
     "output_type": "execute_result"
    }
   ],
   "source": [
    "# a를 가지고(9개) 중앙값을 구하면 원본에 있는 숫자로 잡힙니다.\n",
    "np.median(a)"
   ]
  },
  {
   "cell_type": "code",
   "execution_count": 60,
   "id": "c6d153e2",
   "metadata": {},
   "outputs": [
    {
     "data": {
      "text/plain": [
       "array([11.5, 15.5, 19.5])"
      ]
     },
     "execution_count": 60,
     "metadata": {},
     "output_type": "execute_result"
    }
   ],
   "source": [
    "# 중앙값 - 가로축기준\n",
    "np.median(c, axis=1)"
   ]
  },
  {
   "cell_type": "code",
   "execution_count": 61,
   "id": "e5267050",
   "metadata": {},
   "outputs": [
    {
     "data": {
      "text/plain": [
       "array([14., 15., 16., 17.])"
      ]
     },
     "execution_count": 61,
     "metadata": {},
     "output_type": "execute_result"
    }
   ],
   "source": [
    "# 중앙값 - 가로축기준\n",
    "np.median(c, axis=0)"
   ]
  },
  {
   "cell_type": "code",
   "execution_count": 63,
   "id": "20f1825d",
   "metadata": {},
   "outputs": [],
   "source": [
    "# 상관계수 : 두 데이터간의 상관관계(양/음의 상관관계)\n",
    "# numpy 함수 : np.corrcoef(arr1, arr2)\n",
    "x = np.array([163, 175,181,155,157,167,178,170])\n",
    "y = np.array([52,70,69,48,43,70,81,75])"
   ]
  },
  {
   "cell_type": "code",
   "execution_count": 68,
   "id": "77e10582",
   "metadata": {},
   "outputs": [
    {
     "data": {
      "text/plain": [
       "array([[1., 1.],\n",
       "       [1., 1.]])"
      ]
     },
     "execution_count": 68,
     "metadata": {},
     "output_type": "execute_result"
    }
   ],
   "source": [
    "# 자기 자신을 대상으로한 상관관계\n",
    "np.corrcoef(x,x)"
   ]
  },
  {
   "cell_type": "code",
   "execution_count": 69,
   "id": "a8504d40",
   "metadata": {},
   "outputs": [
    {
     "name": "stdout",
     "output_type": "stream",
     "text": [
      "[163 175 181 155 157 167 178 170]\n",
      "[52 70 69 48 43 70 81 75]\n",
      "[[1.         0.85607253]\n",
      " [0.85607253 1.        ]]\n"
     ]
    }
   ],
   "source": [
    "# 서로 다른 배열 2개를 활용한 상관계수 matrix\n",
    "# 결과 : 대칭형 메트릭스(대각선을 경계로 상위, 하위 삼각형중 하나만 해석해도 된다)\n",
    "# 오른쪽 아래로 향하는 대각선은 자기 자신과의 상관관계(항상1)\n",
    "print(x)\n",
    "print(y)\n",
    "print(np.corrcoef(x,y))\n"
   ]
  },
  {
   "cell_type": "code",
   "execution_count": 70,
   "id": "1ffe1a11",
   "metadata": {},
   "outputs": [],
   "source": [
    "# numpy에서는 3개 요소를 상관관계로 구할수 없습니다.\n",
    "# 상관관계는 원래 2개요소간의 관계만 구할수 있습니다.\n",
    "z = np.array([0.3,0.5,0.6,0.8,1.3])"
   ]
  },
  {
   "cell_type": "code",
   "execution_count": 71,
   "id": "a99a9d4b",
   "metadata": {},
   "outputs": [
    {
     "ename": "ValueError",
     "evalue": "The truth value of an array with more than one element is ambiguous. Use a.any() or a.all()",
     "output_type": "error",
     "traceback": [
      "\u001b[1;31m---------------------------------------------------------------------------\u001b[0m",
      "\u001b[1;31mValueError\u001b[0m                                Traceback (most recent call last)",
      "\u001b[1;32m~\\AppData\\Local\\Temp/ipykernel_6692/2600207351.py\u001b[0m in \u001b[0;36m<module>\u001b[1;34m\u001b[0m\n\u001b[1;32m----> 1\u001b[1;33m \u001b[0mnp\u001b[0m\u001b[1;33m.\u001b[0m\u001b[0mcorrcoef\u001b[0m\u001b[1;33m(\u001b[0m\u001b[0mx\u001b[0m\u001b[1;33m,\u001b[0m\u001b[0mz\u001b[0m\u001b[1;33m,\u001b[0m\u001b[0my\u001b[0m\u001b[1;33m)\u001b[0m\u001b[1;33m\u001b[0m\u001b[1;33m\u001b[0m\u001b[0m\n\u001b[0m",
      "\u001b[1;32m<__array_function__ internals>\u001b[0m in \u001b[0;36mcorrcoef\u001b[1;34m(*args, **kwargs)\u001b[0m\n",
      "\u001b[1;32m~\\anaconda3\\lib\\site-packages\\numpy\\lib\\function_base.py\u001b[0m in \u001b[0;36mcorrcoef\u001b[1;34m(x, y, rowvar, bias, ddof, dtype)\u001b[0m\n\u001b[0;32m   2632\u001b[0m         warnings.warn('bias and ddof have no effect and are deprecated',\n\u001b[0;32m   2633\u001b[0m                       DeprecationWarning, stacklevel=3)\n\u001b[1;32m-> 2634\u001b[1;33m     \u001b[0mc\u001b[0m \u001b[1;33m=\u001b[0m \u001b[0mcov\u001b[0m\u001b[1;33m(\u001b[0m\u001b[0mx\u001b[0m\u001b[1;33m,\u001b[0m \u001b[0my\u001b[0m\u001b[1;33m,\u001b[0m \u001b[0mrowvar\u001b[0m\u001b[1;33m,\u001b[0m \u001b[0mdtype\u001b[0m\u001b[1;33m=\u001b[0m\u001b[0mdtype\u001b[0m\u001b[1;33m)\u001b[0m\u001b[1;33m\u001b[0m\u001b[1;33m\u001b[0m\u001b[0m\n\u001b[0m\u001b[0;32m   2635\u001b[0m     \u001b[1;32mtry\u001b[0m\u001b[1;33m:\u001b[0m\u001b[1;33m\u001b[0m\u001b[1;33m\u001b[0m\u001b[0m\n\u001b[0;32m   2636\u001b[0m         \u001b[0md\u001b[0m \u001b[1;33m=\u001b[0m \u001b[0mdiag\u001b[0m\u001b[1;33m(\u001b[0m\u001b[0mc\u001b[0m\u001b[1;33m)\u001b[0m\u001b[1;33m\u001b[0m\u001b[1;33m\u001b[0m\u001b[0m\n",
      "\u001b[1;32m<__array_function__ internals>\u001b[0m in \u001b[0;36mcov\u001b[1;34m(*args, **kwargs)\u001b[0m\n",
      "\u001b[1;32m~\\anaconda3\\lib\\site-packages\\numpy\\lib\\function_base.py\u001b[0m in \u001b[0;36mcov\u001b[1;34m(m, y, rowvar, bias, ddof, fweights, aweights, dtype)\u001b[0m\n\u001b[0;32m   2418\u001b[0m \u001b[1;33m\u001b[0m\u001b[0m\n\u001b[0;32m   2419\u001b[0m     \u001b[0mX\u001b[0m \u001b[1;33m=\u001b[0m \u001b[0marray\u001b[0m\u001b[1;33m(\u001b[0m\u001b[0mm\u001b[0m\u001b[1;33m,\u001b[0m \u001b[0mndmin\u001b[0m\u001b[1;33m=\u001b[0m\u001b[1;36m2\u001b[0m\u001b[1;33m,\u001b[0m \u001b[0mdtype\u001b[0m\u001b[1;33m=\u001b[0m\u001b[0mdtype\u001b[0m\u001b[1;33m)\u001b[0m\u001b[1;33m\u001b[0m\u001b[1;33m\u001b[0m\u001b[0m\n\u001b[1;32m-> 2420\u001b[1;33m     \u001b[1;32mif\u001b[0m \u001b[1;32mnot\u001b[0m \u001b[0mrowvar\u001b[0m \u001b[1;32mand\u001b[0m \u001b[0mX\u001b[0m\u001b[1;33m.\u001b[0m\u001b[0mshape\u001b[0m\u001b[1;33m[\u001b[0m\u001b[1;36m0\u001b[0m\u001b[1;33m]\u001b[0m \u001b[1;33m!=\u001b[0m \u001b[1;36m1\u001b[0m\u001b[1;33m:\u001b[0m\u001b[1;33m\u001b[0m\u001b[1;33m\u001b[0m\u001b[0m\n\u001b[0m\u001b[0;32m   2421\u001b[0m         \u001b[0mX\u001b[0m \u001b[1;33m=\u001b[0m \u001b[0mX\u001b[0m\u001b[1;33m.\u001b[0m\u001b[0mT\u001b[0m\u001b[1;33m\u001b[0m\u001b[1;33m\u001b[0m\u001b[0m\n\u001b[0;32m   2422\u001b[0m     \u001b[1;32mif\u001b[0m \u001b[0mX\u001b[0m\u001b[1;33m.\u001b[0m\u001b[0mshape\u001b[0m\u001b[1;33m[\u001b[0m\u001b[1;36m0\u001b[0m\u001b[1;33m]\u001b[0m \u001b[1;33m==\u001b[0m \u001b[1;36m0\u001b[0m\u001b[1;33m:\u001b[0m\u001b[1;33m\u001b[0m\u001b[1;33m\u001b[0m\u001b[0m\n",
      "\u001b[1;31mValueError\u001b[0m: The truth value of an array with more than one element is ambiguous. Use a.any() or a.all()"
     ]
    }
   ],
   "source": [
    "np.corrcoef(x,z,y)"
   ]
  },
  {
   "cell_type": "code",
   "execution_count": 72,
   "id": "135ab6bb",
   "metadata": {},
   "outputs": [
    {
     "data": {
      "text/plain": [
       "2.581988897471611"
      ]
     },
     "execution_count": 72,
     "metadata": {},
     "output_type": "execute_result"
    }
   ],
   "source": [
    "# 표준 편차 - 전체 데이터 기준\n",
    "# 1) 배열타입 메서드  : arr.std()\n",
    "# 2) numpy함수 : np.std(arr)\n",
    "a.std()"
   ]
  },
  {
   "cell_type": "markdown",
   "id": "914d913e",
   "metadata": {},
   "source": [
    "### (참고) 데이터가 퍼져있는 정도를 나타내는 개념\n",
    "\n",
    "1. 편차(std/sd) : 단위에 대한 보정이 들어가 있지 않아서 상대적인 비교가 어려움\n",
    "2. 변동계수(cv) : 편차/평균\n",
    "    - 두 개 이상의 변수( 서로다른 단위를 사용하는 경우)에 대해 데이터가 퍼져있는 정도를 파악하는 경우"
   ]
  },
  {
   "cell_type": "code",
   "execution_count": 74,
   "id": "6301ee7c",
   "metadata": {},
   "outputs": [
    {
     "data": {
      "text/plain": [
       "array([[1, 2, 3],\n",
       "       [4, 5, 6],\n",
       "       [7, 8, 9]])"
      ]
     },
     "execution_count": 74,
     "metadata": {},
     "output_type": "execute_result"
    }
   ],
   "source": [
    "# a 데이터 생성\n",
    "a = np.arange(1,10).reshape(3,3)\n",
    "a"
   ]
  },
  {
   "cell_type": "code",
   "execution_count": 75,
   "id": "06c03e4b",
   "metadata": {},
   "outputs": [
    {
     "data": {
      "text/plain": [
       "array([0.81649658, 0.81649658, 0.81649658])"
      ]
     },
     "execution_count": 75,
     "metadata": {},
     "output_type": "execute_result"
    }
   ],
   "source": [
    "# 표준 편차 - row(가로줄기준)\n",
    "a.std(axis=1)"
   ]
  },
  {
   "cell_type": "code",
   "execution_count": 76,
   "id": "36def047",
   "metadata": {},
   "outputs": [
    {
     "data": {
      "text/plain": [
       "array([2.44948974, 2.44948974, 2.44948974])"
      ]
     },
     "execution_count": 76,
     "metadata": {},
     "output_type": "execute_result"
    }
   ],
   "source": [
    "# 표준 편차 - column(세로줄기준)\n",
    "a.std(axis=0)"
   ]
  },
  {
   "cell_type": "code",
   "execution_count": 77,
   "id": "fd52bc5a",
   "metadata": {},
   "outputs": [
    {
     "data": {
      "text/plain": [
       "array([1, 2, 3, 4, 5, 6, 7, 8, 9])"
      ]
     },
     "execution_count": 77,
     "metadata": {},
     "output_type": "execute_result"
    }
   ],
   "source": [
    "# 고유값 : 전체값에 적용\n",
    "# numpy함수 : np.unique(arr)\n",
    "np.unique(a)"
   ]
  },
  {
   "cell_type": "code",
   "execution_count": 80,
   "id": "61754e92",
   "metadata": {},
   "outputs": [
    {
     "data": {
      "text/plain": [
       "array([1, 2, 3, 4, 5, 6, 7])"
      ]
     },
     "execution_count": 80,
     "metadata": {},
     "output_type": "execute_result"
    }
   ],
   "source": [
    "d = np.array([1,1,1,1,2,2,3,3,3,4,5,6,6,7])\n",
    "np.unique(d)"
   ]
  },
  {
   "cell_type": "code",
   "execution_count": 81,
   "id": "59952e71",
   "metadata": {},
   "outputs": [],
   "source": [
    "# 난수 패턴 고정\n",
    "np.random.seed(1000)"
   ]
  },
  {
   "cell_type": "code",
   "execution_count": 86,
   "id": "643e80e3",
   "metadata": {},
   "outputs": [
    {
     "data": {
      "text/plain": [
       "array([[0, 1, 1],\n",
       "       [0, 1, 0],\n",
       "       [3, 0, 0]])"
      ]
     },
     "execution_count": 86,
     "metadata": {},
     "output_type": "execute_result"
    }
   ],
   "source": [
    "# 0이상 3이하의 정수값을 가지는 3행 3열 배열 생성\n",
    "# hint : randint를 쓰세요\n",
    "arr = np.random.randint(0,4,(3,3))\n",
    "arr"
   ]
  },
  {
   "cell_type": "code",
   "execution_count": 94,
   "id": "f3b292be",
   "metadata": {},
   "outputs": [
    {
     "data": {
      "text/plain": [
       "array([[0, 1, 1],\n",
       "       [0, 0, 1],\n",
       "       [3, 0, 0]])"
      ]
     },
     "execution_count": 94,
     "metadata": {},
     "output_type": "execute_result"
    }
   ],
   "source": [
    "# 고유값 - 가로축(row기준)\n",
    "np.unique(arr, axis=1)"
   ]
  },
  {
   "cell_type": "code",
   "execution_count": 91,
   "id": "6fc33277",
   "metadata": {},
   "outputs": [
    {
     "data": {
      "text/plain": [
       "array([[0, 1, 0],\n",
       "       [0, 1, 1],\n",
       "       [3, 0, 0]])"
      ]
     },
     "execution_count": 91,
     "metadata": {},
     "output_type": "execute_result"
    }
   ],
   "source": [
    "# 고유값 - 세로축(row기준)\n",
    "np.unique(arr, axis=0)"
   ]
  },
  {
   "cell_type": "markdown",
   "id": "c8392cdf",
   "metadata": {},
   "source": [
    "### 브로드캐스팅(BroadCasting)\n",
    "- 서로 다른 구조(shape)를 가진 배열에 대해 연산을 수행할때 구조를 맞추는 과정\n",
    "- 배열과 스칼라값 간의 연산\n",
    "- 배열과 배열간의 연산\n",
    "- 브로드캐스팅 규칙 : 축의 길이가 일치하거나 둘중 하나의 길이가 1인 두배열에 대해 호환성을 가짐\n",
    "\n",
    " <img src='img/broadcast.png' width='700' height='900' align='left'>"
   ]
  },
  {
   "cell_type": "code",
   "execution_count": 95,
   "id": "b1e6f385",
   "metadata": {},
   "outputs": [
    {
     "data": {
      "text/plain": [
       "array([[ 5,  7,  9],\n",
       "       [11, 13, 15],\n",
       "       [17, 19, 21]])"
      ]
     },
     "execution_count": 95,
     "metadata": {},
     "output_type": "execute_result"
    }
   ],
   "source": [
    "a+b"
   ]
  },
  {
   "cell_type": "markdown",
   "id": "dee32ff6",
   "metadata": {},
   "source": [
    "### 1. 배열과 값 (single value,scala)\n",
    "\n",
    "- 스칼라 값을 배열의 구조와 동일한 배열로 변형하여 연산 수행\n"
   ]
  },
  {
   "cell_type": "code",
   "execution_count": 96,
   "id": "6231858f",
   "metadata": {},
   "outputs": [
    {
     "data": {
      "text/plain": [
       "array([[11, 12, 13],\n",
       "       [14, 15, 16],\n",
       "       [17, 18, 19]])"
      ]
     },
     "execution_count": 96,
     "metadata": {},
     "output_type": "execute_result"
    }
   ],
   "source": [
    "# 구조가 다른 배열간의 연산\n",
    "# a배열의 모든 요소에 각각 10씩 더하기\n",
    "a + 10"
   ]
  },
  {
   "cell_type": "code",
   "execution_count": 97,
   "id": "32467624",
   "metadata": {
    "scrolled": true
   },
   "outputs": [
    {
     "name": "stdout",
     "output_type": "stream",
     "text": [
      "\n",
      "    type = <class 'numpy.ndarray'>\n",
      "    shape = (3, 3)\n",
      "    ndim = 2\n",
      "    dtype = int32\n",
      "    array date : \n",
      " [[10 10 10]\n",
      " [10 10 10]\n",
      " [10 10 10]] \n"
     ]
    }
   ],
   "source": [
    "# 스칼라 -> 배열 변형\n",
    "# 3행 3열 구조에 모든 요소가 10인 배열 요소 생성\n",
    "scalar_arr = np.full_like(a,10) # a가 3*3형태인데, 형태는 몇*몇이 올지 모르니 배열 자체를 넣어 크기를 자동으로 구하게 처리\n",
    "np_print(scalar_arr)"
   ]
  },
  {
   "cell_type": "code",
   "execution_count": 98,
   "id": "91142668",
   "metadata": {},
   "outputs": [
    {
     "data": {
      "text/plain": [
       "array([[11, 12, 13],\n",
       "       [14, 15, 16],\n",
       "       [17, 18, 19]])"
      ]
     },
     "execution_count": 98,
     "metadata": {},
     "output_type": "execute_result"
    }
   ],
   "source": [
    "# 스칼라값을 직접 더하나 아니면 해당 숫자가 들어간 배열을 만들어 더하니 차이가 없음\n",
    "a + scalar_arr"
   ]
  },
  {
   "cell_type": "markdown",
   "id": "3a8810bb",
   "metadata": {},
   "source": [
    "### 2. 서로다른 구조의 배열\n",
    "\n",
    "- 행, 열의 최대 길이를 기준으로 구조를 생성한 배열로 변형하여 연산 수행\n",
    "- 확장된 행, 열에 대해서 기존 배열과 동일한 데이터로 구성"
   ]
  },
  {
   "cell_type": "code",
   "execution_count": 104,
   "id": "78a58ab4",
   "metadata": {},
   "outputs": [
    {
     "name": "stdout",
     "output_type": "stream",
     "text": [
      "[[1 2 3 4]]\n",
      "[[1]\n",
      " [2]\n",
      " [3]\n",
      " [4]]\n"
     ]
    }
   ],
   "source": [
    "# 1행 4열의 구조에서 1,2,3,4를 값으로 가지는 배열 x 생성\n",
    "# 4행 1열의 구조에서 1,2,3,4를 값으로 가지는 배열 y 생성\n",
    "\n",
    "x = np.arange(1,5).reshape(1,4)\n",
    "y = np.arange(1,5).reshape(4,1)\n",
    "print(x)\n",
    "print(y)"
   ]
  },
  {
   "cell_type": "code",
   "execution_count": 111,
   "id": "ac08e4c8",
   "metadata": {},
   "outputs": [
    {
     "data": {
      "text/plain": [
       "array([[1, 2, 3, 4],\n",
       "       [1, 2, 3, 4],\n",
       "       [1, 2, 3, 4],\n",
       "       [1, 2, 3, 4]])"
      ]
     },
     "execution_count": 111,
     "metadata": {},
     "output_type": "execute_result"
    }
   ],
   "source": [
    "# 배열 x를 동일한 값으로 4행으로 확장한 새로운 배열 생성\n",
    "# 행방향으로 배열 추가하기(세로길이 증가) 메서드 : np.append(arr1,arr2,axis=0)\n",
    "new_x = np.append(x,x,axis=0)\n",
    "new_x = np.append(new_x,new_x,axis=0)\n",
    "new_x"
   ]
  },
  {
   "cell_type": "code",
   "execution_count": 110,
   "id": "afa3b207",
   "metadata": {},
   "outputs": [
    {
     "data": {
      "text/plain": [
       "array([[1, 1, 1, 1],\n",
       "       [2, 2, 2, 2],\n",
       "       [3, 3, 3, 3],\n",
       "       [4, 4, 4, 4]])"
      ]
     },
     "execution_count": 110,
     "metadata": {},
     "output_type": "execute_result"
    }
   ],
   "source": [
    "new_y = np.append(y,y,axis=1)\n",
    "new_y = np.append(new_y,new_y,axis=1)\n",
    "new_y"
   ]
  },
  {
   "cell_type": "code",
   "execution_count": 112,
   "id": "8a702675",
   "metadata": {},
   "outputs": [
    {
     "data": {
      "text/plain": [
       "array([[2, 3, 4, 5],\n",
       "       [3, 4, 5, 6],\n",
       "       [4, 5, 6, 7],\n",
       "       [5, 6, 7, 8]])"
      ]
     },
     "execution_count": 112,
     "metadata": {},
     "output_type": "execute_result"
    }
   ],
   "source": [
    "# 1행 4열 배열과 4행 1열배열의 브로드캐스팅 연산\n",
    "x+y"
   ]
  },
  {
   "cell_type": "code",
   "execution_count": 113,
   "id": "69feceee",
   "metadata": {},
   "outputs": [
    {
     "data": {
      "text/plain": [
       "array([[2, 3, 4, 5],\n",
       "       [3, 4, 5, 6],\n",
       "       [4, 5, 6, 7],\n",
       "       [5, 6, 7, 8]])"
      ]
     },
     "execution_count": 113,
     "metadata": {},
     "output_type": "execute_result"
    }
   ],
   "source": [
    "# 4행 4열로 만든 new_x, new_y의 덧셈과 차이가 없음\n",
    "new_x+new_y"
   ]
  },
  {
   "cell_type": "markdown",
   "id": "fc4d83f0",
   "metadata": {},
   "source": [
    "### 벡터 연산\n",
    "\n",
    "- 요소들에 대한 연산을 벡터 연산으로 처리하면 일반적인 for반복문으로 연산 작업을 처리하는것보다 월등히 뛰어난 처리속도로 효율적인 작업 가능\n"
   ]
  },
  {
   "cell_type": "code",
   "execution_count": 133,
   "id": "5f4784c8",
   "metadata": {},
   "outputs": [
    {
     "data": {
      "text/plain": [
       "array([       0,        1,        2, ..., 99999997, 99999998, 99999999])"
      ]
     },
     "execution_count": 133,
     "metadata": {},
     "output_type": "execute_result"
    }
   ],
   "source": [
    "# 0 부터 시작해서 100000000개 요소를 가진 배열 생성\n",
    "arr = np.arange(0,100000000)\n",
    "arr\n"
   ]
  },
  {
   "cell_type": "code",
   "execution_count": 134,
   "id": "a7ed95ab",
   "metadata": {},
   "outputs": [
    {
     "name": "stderr",
     "output_type": "stream",
     "text": [
      "<timed exec>:8: RuntimeWarning: overflow encountered in long_scalars\n"
     ]
    },
    {
     "name": "stdout",
     "output_type": "stream",
     "text": [
      "Wall time: 16.3 s\n"
     ]
    },
    {
     "data": {
      "text/plain": [
       "887459712"
      ]
     },
     "execution_count": 134,
     "metadata": {},
     "output_type": "execute_result"
    }
   ],
   "source": [
    "%%time\n",
    "# 해당 셀은 완전히 수행하는데 소요된 시간을 표시해주는 주피터노트북 명령어\n",
    "# 셀의 가장 산단에 위치해야함(주석포함 제일상단)\n",
    "\n",
    "# 반복문을 통한 합계(x변수에 지정한 넘파이 배열 자료 총합 구하기)\n",
    "# 시간단위 : 1s = 1,000ms = 1,000,000us\n",
    "loop_result = 0\n",
    "for i in arr :\n",
    "    loop_result += i\n",
    "loop_result"
   ]
  },
  {
   "cell_type": "code",
   "execution_count": 135,
   "id": "5772a1e5",
   "metadata": {},
   "outputs": [
    {
     "name": "stdout",
     "output_type": "stream",
     "text": [
      "Wall time: 45.9 ms\n"
     ]
    },
    {
     "data": {
      "text/plain": [
       "887459712"
      ]
     },
     "execution_count": 135,
     "metadata": {},
     "output_type": "execute_result"
    }
   ],
   "source": [
    "%%time\n",
    "loop_result = 0\n",
    "loop_result = arr.sum()\n",
    "loop_result"
   ]
  }
 ],
 "metadata": {
  "kernelspec": {
   "display_name": "Python 3 (ipykernel)",
   "language": "python",
   "name": "python3"
  },
  "language_info": {
   "codemirror_mode": {
    "name": "ipython",
    "version": 3
   },
   "file_extension": ".py",
   "mimetype": "text/x-python",
   "name": "python",
   "nbconvert_exporter": "python",
   "pygments_lexer": "ipython3",
   "version": "3.9.7"
  }
 },
 "nbformat": 4,
 "nbformat_minor": 5
}

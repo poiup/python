{
 "cells": [
  {
   "cell_type": "markdown",
   "id": "bbf07ba8",
   "metadata": {},
   "source": [
    "Numpy\n",
    "\n",
    "    - Numberiacla Python\n",
    "    - 파이썬 머신러닝 패키지인 scikit-learn에서 기본 데이터 구조로 사용되어 Numpy 배열 형태의 데이터를 사용\n",
    "    - 파이썬 기반 데이터  분석 환경에서 행렬 및 벡터 연산에 필요한 다양한 함수를 제공\n",
    "    - 메모리 소모가 많은 반복문 없이 전체 데이터 배열에 빠른 연산을 처리할수 있는 표준 수학 함수\n",
    "    \n",
    "        | 배열 : 동일한 특성(데이터 타입) 및 일정한 규칙을 가지는 여러개의 요소가 나열되어 있는 데이터 집합\n",
    "    - 파이썬 list 객체를 사용할때 보다 Numpy의 ndarray 객체를 사용하면 연산 속도가 개선되어 더많은 데이트럴 빠르게 처리가능"
   ]
  },
  {
   "cell_type": "code",
   "execution_count": 1,
   "id": "bae9f81b",
   "metadata": {},
   "outputs": [],
   "source": [
    "# 라이브러리 가져오기 : numpy\n",
    "# as 별칭 선언 이후에는 별칭으로 해당 라이브러리의 기능을 쓸수 있다.\n",
    "# import 라이브러리명 as 별칭\n",
    "import numpy as np"
   ]
  },
  {
   "cell_type": "code",
   "execution_count": 5,
   "id": "83b39b54",
   "metadata": {},
   "outputs": [
    {
     "data": {
      "text/plain": [
       "'1.20.3'"
      ]
     },
     "execution_count": 5,
     "metadata": {},
     "output_type": "execute_result"
    }
   ],
   "source": [
    "# 라이브러리 버전 확인\n",
    "np.__version__"
   ]
  },
  {
   "cell_type": "markdown",
   "id": "e4407601",
   "metadata": {},
   "source": [
    "## Numpy 배열 : numpy.ndarray\n",
    "\n",
    "- 다차원 배열(1차원, 2차원, 3차원)으로 입체적인 데이터 구조를 구성하고 여러 개의 데이터 방향을 가진다.\n",
    "\n",
    "- 배열 속성 : shape, ndim, dtype 등\n",
    "\n",
    "- 데이터 방향 : axis = 0(행/높이), 1(열/폭), 2(채널/깊이)\n",
    "\n",
    "사진을 집어넣을때는 img태그 를 사용합니다.\n",
    "<img src='img/nparr1.jpg' width='600' height='400' align='left'>"
   ]
  },
  {
   "cell_type": "markdown",
   "id": "d52de937",
   "metadata": {},
   "source": [
    "### 1. 배열 생성\n",
    "\n",
    "- np.array(data)\n",
    "\n",
    "    - 파이썬 list객체를 전달받아 numpy list로 교환해주는 명령어\n",
    "    \n",
    "    - 배열 속성\n",
    "        - shape : 구조 (행, 열, 차원)\n",
    "        - ndim : 차원\n",
    "        - dtype : 데이터 타입\n",
    "        - size : 요소 개수 = 행 * 열 * 차원\n",
    "        \n",
    "    - 배열 메서드\n",
    "        - astype() : 데이터 타입 변환(문자를 숫자로 라던지...)\n",
    "        \n",
    "    - 파이썬 내장함수를 사용한 속성값\n",
    "        - type() : 객체의 자료형 확인\n",
    "        - len() : 요소 내부의 자료 길이.\n",
    "        \n",
    "    - Numpy 함수를 사용한 속성\n",
    "        - reshape(row, column) : 배열 재배치(1 * 12를 3 * 4 형태로 바꾼다던지...)\n",
    "        \n",
    "    - kind : 데이터 종류에 대한 구분 기호\n",
    "        - b boolean\n",
    "        - i 정수(int)\n",
    "        - u 부호없는 정수(unsigned int, +- 개념 없이 절대값만 존재)\n",
    "        - f 실수\n",
    "        - c 복소 부동소수점\n",
    "        - O 객체\n",
    "        - S 바이트 문자열(ascii 코드, 영문자, 일부특문, 숫자)\n",
    "        - U 유니코드 문자열(한글, 중국어, 태국어, 아랍어 등 영어와 다른 문자)"
   ]
  },
  {
   "cell_type": "code",
   "execution_count": 8,
   "id": "58cc7f26",
   "metadata": {},
   "outputs": [
    {
     "data": {
      "text/plain": [
       "array([1, 2, 3, 4, 5, 6])"
      ]
     },
     "execution_count": 8,
     "metadata": {},
     "output_type": "execute_result"
    }
   ],
   "source": [
    " # 파이썬 1차원 리스트를 Numpy 배열로 교환하기\n",
    "tmp = [1,2,3,4,5,6]\n",
    "arr = np.array(tmp)\n",
    "arr"
   ]
  },
  {
   "cell_type": "code",
   "execution_count": 11,
   "id": "a8eaac44",
   "metadata": {},
   "outputs": [
    {
     "name": "stdout",
     "output_type": "stream",
     "text": [
      "<class 'numpy.ndarray'> <class 'list'>\n"
     ]
    }
   ],
   "source": [
    "# 배열 객체의 속성 - 타입 (자료형)\n",
    "print(type(arr), type(tmp))"
   ]
  },
  {
   "cell_type": "code",
   "execution_count": 16,
   "id": "23fbb917",
   "metadata": {},
   "outputs": [
    {
     "data": {
      "text/plain": [
       "(6,)"
      ]
     },
     "execution_count": 16,
     "metadata": {},
     "output_type": "execute_result"
    }
   ],
   "source": [
    "# 배열 객체의 속성 : 구조 확인하기 - shape(행(row), 열(column),차원(면))\n",
    "arr.shape"
   ]
  },
  {
   "cell_type": "code",
   "execution_count": 17,
   "id": "42a14b17",
   "metadata": {},
   "outputs": [
    {
     "data": {
      "text/plain": [
       "6"
      ]
     },
     "execution_count": 17,
     "metadata": {},
     "output_type": "execute_result"
    }
   ],
   "source": [
    "# 배열 객체의 속성 = 길이 => (n,)\n",
    "# [1DArray]: 아이템의 개수\n",
    "len(arr)"
   ]
  },
  {
   "cell_type": "code",
   "execution_count": 19,
   "id": "08476188",
   "metadata": {},
   "outputs": [
    {
     "data": {
      "text/plain": [
       "1"
      ]
     },
     "execution_count": 19,
     "metadata": {},
     "output_type": "execute_result"
    }
   ],
   "source": [
    "#배열 객채의 속성 - 차원\n",
    "# arr 는 1차원 배열이기 때문에 ndim(n디멘션)을 확인했을때 1로 나옵니다.\n",
    "arr.ndim"
   ]
  },
  {
   "cell_type": "code",
   "execution_count": 22,
   "id": "c3f1406a",
   "metadata": {},
   "outputs": [
    {
     "data": {
      "text/plain": [
       "6"
      ]
     },
     "execution_count": 22,
     "metadata": {},
     "output_type": "execute_result"
    }
   ],
   "source": [
    "# 배열 요소의 속성 - 요소 갯수\n",
    "# 길이가 아닌 해당 배열 안에 저장할수있는 값의 개수\n",
    "arr.size"
   ]
  },
  {
   "cell_type": "code",
   "execution_count": 23,
   "id": "8fd9a7c3",
   "metadata": {},
   "outputs": [],
   "source": [
    "# 배열 객체의 속성 - 데이터 타입의 변환 : astype => 원본 데이터 유지\n",
    "arr2 = arr.astype(float)"
   ]
  },
  {
   "cell_type": "code",
   "execution_count": 24,
   "id": "57c1d76d",
   "metadata": {},
   "outputs": [
    {
     "name": "stdout",
     "output_type": "stream",
     "text": [
      "int32 float64\n"
     ]
    }
   ],
   "source": [
    "print(arr.dtype, arr2.dtype)"
   ]
  },
  {
   "cell_type": "code",
   "execution_count": 25,
   "id": "f574eb40",
   "metadata": {},
   "outputs": [
    {
     "data": {
      "text/plain": [
       "array([1., 2., 3., 4., 5., 6.])"
      ]
     },
     "execution_count": 25,
     "metadata": {},
     "output_type": "execute_result"
    }
   ],
   "source": [
    "arr2"
   ]
  },
  {
   "cell_type": "code",
   "execution_count": 28,
   "id": "c0ae54bf",
   "metadata": {},
   "outputs": [
    {
     "data": {
      "text/plain": [
       "array([[1, 2, 3],\n",
       "       [4, 5, 6]])"
      ]
     },
     "execution_count": 28,
     "metadata": {},
     "output_type": "execute_result"
    }
   ],
   "source": [
    "# 배열 구조 변환\n",
    "# 기본 배열의 요소 총 개수(6개)와 변화려는 구조의 총 개수(6개)는 일치해야한다\n",
    "arr.reshape(2,3)"
   ]
  },
  {
   "cell_type": "code",
   "execution_count": 30,
   "id": "f6cd5915",
   "metadata": {},
   "outputs": [],
   "source": [
    "# numpy 객체 정보를 좀더 편하게 확인하기 위한 사용자 함수 정의\n",
    "# 객체 타입, 구조, 차원, 데이터 타입, 내부자료\n",
    "# 를 확인하기 위해 커스텀 함수를 정의합니다.( 기본기능 아님)\n",
    "def np_print(arr):\n",
    "    text =  '''\n",
    "    type = %s\n",
    "    shape = %s\n",
    "    ndim = %s\n",
    "    dtype = %s\n",
    "    array date : \\n %s '''% (type(arr), arr.shape, arr.ndim, arr.dtype, arr)\n",
    "    print(text)"
   ]
  },
  {
   "cell_type": "code",
   "execution_count": 33,
   "id": "774e8278",
   "metadata": {},
   "outputs": [
    {
     "data": {
      "text/plain": [
       "array(['1', '2', '3', '4'], dtype='<U11')"
      ]
     },
     "execution_count": 33,
     "metadata": {},
     "output_type": "execute_result"
    }
   ],
   "source": [
    "# 리스트 요소타입이 일관되지 않으면 우선 순위에 따라 내부 데이터의 dtype이 통일된다\n",
    "# 우선순위 : str(가장 높음) > float> int(가장 낮음)\n",
    "# 서로 다른 타입의 혼합 1 : int + str = str\n",
    "tmp = [1,2,3,\"4\"]\n",
    "arr1 = np.array(tmp)\n",
    "arr1"
   ]
  },
  {
   "cell_type": "code",
   "execution_count": 35,
   "id": "c776bd69",
   "metadata": {},
   "outputs": [
    {
     "name": "stdout",
     "output_type": "stream",
     "text": [
      "\n",
      "    type = <class 'numpy.ndarray'>\n",
      "    shape = (4,)\n",
      "    ndim = 1\n",
      "    dtype = float64\n",
      "    array date : \n",
      " [1.  2.  3.3 4. ] \n"
     ]
    }
   ],
   "source": [
    "# 서로 다른 타입 혼합 2 : int + float\n",
    "tmp = [1,2,3.3,4]\n",
    "arr = np.array(tmp)\n",
    "np_print(arr)"
   ]
  },
  {
   "cell_type": "code",
   "execution_count": 38,
   "id": "55106844",
   "metadata": {},
   "outputs": [
    {
     "name": "stdout",
     "output_type": "stream",
     "text": [
      "\n",
      "    type = <class 'numpy.ndarray'>\n",
      "    shape = (4,)\n",
      "    ndim = 1\n",
      "    dtype = <U32\n",
      "    array date : \n",
      " ['1' '2.3' '3.3' '4.4'] \n"
     ]
    }
   ],
   "source": [
    "# 서로 다른타입 혼합 3 : float + str\n",
    "tmp = ['1',2.3,3.3,4.4]\n",
    "arr = np.array(tmp)\n",
    "np_print(arr)"
   ]
  },
  {
   "cell_type": "code",
   "execution_count": 40,
   "id": "8abdfeb5",
   "metadata": {},
   "outputs": [
    {
     "name": "stdout",
     "output_type": "stream",
     "text": [
      "\n",
      "    type = <class 'numpy.ndarray'>\n",
      "    shape = (2, 4)\n",
      "    ndim = 2\n",
      "    dtype = int32\n",
      "    array date : \n",
      " [[1 2 3 4]\n",
      " [5 6 7 8]] \n"
     ]
    }
   ],
   "source": [
    "# 파이썬 2차원 리스트로 Numpy배열 생성\n",
    "# 2차원 배열의 shape속성은(행(row,새로축갯수), 열(column, 가로축갯수))만 반환\n",
    "tmp = [[1,2,3,4],[5,6,7,8]]\n",
    "arr = np.array(tmp)\n",
    "np_print(arr)"
   ]
  },
  {
   "cell_type": "code",
   "execution_count": 48,
   "id": "ca7e6bec",
   "metadata": {},
   "outputs": [
    {
     "name": "stdout",
     "output_type": "stream",
     "text": [
      "\n",
      "    type = <class 'numpy.ndarray'>\n",
      "    shape = (2, 2, 3)\n",
      "    ndim = 3\n",
      "    dtype = int32\n",
      "    array date : \n",
      " [[[ 1  2  3]\n",
      "  [ 4  5  6]]\n",
      "\n",
      " [[ 7  8  9]\n",
      "  [10 11 12]]] \n"
     ]
    }
   ],
   "source": [
    "# 파이썬 3차원 리스트로 numoy 배열생성\n",
    "tmp = [[[1,2,3],[4,5,6]],[[7,8,9],[10,11,12]]]\n",
    "arr = np.array(tmp)\n",
    "np_print(arr)"
   ]
  },
  {
   "cell_type": "code",
   "execution_count": 55,
   "id": "70ad8627",
   "metadata": {},
   "outputs": [
    {
     "name": "stdout",
     "output_type": "stream",
     "text": [
      "\n",
      "    type = <class 'numpy.ndarray'>\n",
      "    shape = (2, 2, 3)\n",
      "    ndim = 3\n",
      "    dtype = float64\n",
      "    array date : \n",
      " [[[ 1.  2.  3.]\n",
      "  [ 4.  5.  6.]]\n",
      "\n",
      " [[ 7.  8.  9.]\n",
      "  [10. 11. 12.]]] \n"
     ]
    }
   ],
   "source": [
    "# 위의 arr의 타입을 실수로 바꾼다음\n",
    "# np_print()로 확인해주세요.\n",
    "arr = arr.astype(float)\n",
    "np_print(arr)"
   ]
  },
  {
   "cell_type": "markdown",
   "id": "8efc2d73",
   "metadata": {},
   "source": [
    "### 생성 및 초기화\n",
    "1. 초기값을 지정하여 데이터를 자동으로 가지는 배열 생성\n",
    "\n",
    "\n",
    "    - np.zeros()\n",
    "    - np.ones()\n",
    "    - np.full()\n",
    "    - np.eye()\n",
    "    - np.empty()"
   ]
  },
  {
   "cell_type": "markdown",
   "id": "b80f9aa4",
   "metadata": {},
   "source": [
    "### 1-1. np.zeros(shape(모양), dtype=float)\n",
    "\n",
    "    - 지정된 구조의 배열을 생성하고 모든 요소를 0 으로 초기화(zeros)\n",
    "    - shape : tuple형태로 행, 열을 지정\n",
    "    - dtype : 배열에서 사용하는 데이터 타입을 지정, 기본값 numpy.float64"
   ]
  },
  {
   "cell_type": "code",
   "execution_count": 58,
   "id": "215ccf6b",
   "metadata": {},
   "outputs": [
    {
     "name": "stdout",
     "output_type": "stream",
     "text": [
      "\n",
      "    type = <class 'numpy.ndarray'>\n",
      "    shape = (3, 4)\n",
      "    ndim = 2\n",
      "    dtype = float64\n",
      "    array date : \n",
      " [[0. 0. 0. 0.]\n",
      " [0. 0. 0. 0.]\n",
      " [0. 0. 0. 0.]] \n"
     ]
    }
   ],
   "source": [
    "# 3행 4열 구조안에서 초기값을 모두 0으로 가지는 배열\n",
    "arr = np.zeros((3,4))\n",
    "np_print(arr)"
   ]
  },
  {
   "cell_type": "markdown",
   "id": "fb6fc1d8",
   "metadata": {},
   "source": [
    "### 1-2. np.ones(shape(행,열), dtype=float)\n",
    "\n",
    "    - 지정된 구조의 배열을 생성하고 모든 요소를 1로(ones) 초기화,\n",
    "    - shape : tuple 자료로 행,열구조를 지어\n",
    "    - dtype : 배열의 데이터 타입을 지정, 기본값 = numpy.float64"
   ]
  },
  {
   "cell_type": "code",
   "execution_count": 59,
   "id": "9dad8dcb",
   "metadata": {},
   "outputs": [
    {
     "name": "stdout",
     "output_type": "stream",
     "text": [
      "\n",
      "    type = <class 'numpy.ndarray'>\n",
      "    shape = (3, 4)\n",
      "    ndim = 2\n",
      "    dtype = float64\n",
      "    array date : \n",
      " [[1. 1. 1. 1.]\n",
      " [1. 1. 1. 1.]\n",
      " [1. 1. 1. 1.]] \n"
     ]
    }
   ],
   "source": [
    "# 3행 4열 구조안에서 초기값을 모두 1으로 가지는 배열\n",
    "arr = np.ones((3,4))\n",
    "np_print(arr)"
   ]
  },
  {
   "cell_type": "code",
   "execution_count": null,
   "id": "6b912022",
   "metadata": {},
   "outputs": [],
   "source": []
  },
  {
   "cell_type": "code",
   "execution_count": null,
   "id": "2827a2ee",
   "metadata": {},
   "outputs": [],
   "source": []
  }
 ],
 "metadata": {
  "kernelspec": {
   "display_name": "Python 3 (ipykernel)",
   "language": "python",
   "name": "python3"
  },
  "language_info": {
   "codemirror_mode": {
    "name": "ipython",
    "version": 3
   },
   "file_extension": ".py",
   "mimetype": "text/x-python",
   "name": "python",
   "nbconvert_exporter": "python",
   "pygments_lexer": "ipython3",
   "version": "3.9.7"
  }
 },
 "nbformat": 4,
 "nbformat_minor": 5
}

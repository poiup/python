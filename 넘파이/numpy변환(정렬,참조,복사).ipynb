{
 "cells": [
  {
   "cell_type": "code",
   "execution_count": 58,
   "id": "ee26d3c3",
   "metadata": {},
   "outputs": [],
   "source": [
    "# (공통) 라이브러리 불러오기 및 사용자 함수 정의\n",
    "import numpy as np\n",
    "\n",
    "def np_print(nparr):\n",
    "    print('''\n",
    "    type : {}  \n",
    "    shape : {}  \n",
    "    dimension : {}  \n",
    "    dtype : {}\n",
    "    data :\\n {}\n",
    "    '''.format(type(nparr), nparr.shape, nparr.ndim, nparr.dtype, nparr))"
   ]
  },
  {
   "cell_type": "markdown",
   "id": "3e316826",
   "metadata": {},
   "source": [
    "### 배열 정렬\n",
    "\n",
    "- sort(axis = -1) 메서드 : axis를 기준으로 요소를 오름차순 정렬\n",
    "    - 기본값(axis = -1) : 현재 배열의 마지막 axis\n",
    "    - axis = 0 : 열 단위 정렬\n",
    "    - axis = 1 : 행 단위 정렬\n",
    "    - 원본 객체에 정렬 결과가 반영됨\n",
    "    \n",
    "- np.sort(axis = -1) : axis를 기준으로 요소를 오름차순 정렬\n",
    "    - 기본값(axis = -1) : 현재 배열의 마지막 axis\n",
    "    - axis = 0 : 열 단위 정렬\n",
    "    - axis = 1 : 행 단위 정렬\n",
    "    - 정렬된 새로운 배열을 반환함\n",
    "    \n",
    "- np.argsort(arr) : 정렬 순서를 반환\n",
    "    - 기본값(axis = -1) : 현재 배열의 마지막 axis\n",
    "    - axis = 0 : 열 단위 정렬\n",
    "    - axis = 1 : 행 단위 정렬"
   ]
  },
  {
   "cell_type": "code",
   "execution_count": 59,
   "id": "897d2a74",
   "metadata": {},
   "outputs": [
    {
     "name": "stdout",
     "output_type": "stream",
     "text": [
      "\n",
      "    type : <class 'numpy.ndarray'>  \n",
      "    shape : (5,)  \n",
      "    dimension : 1  \n",
      "    dtype : int32\n",
      "    data :\n",
      " [0 1 2 3 4]\n",
      "    \n"
     ]
    }
   ],
   "source": [
    "# 1차원 배열 생성\n",
    "x = np.arange(0,5)\n",
    "np_print(x)"
   ]
  },
  {
   "cell_type": "code",
   "execution_count": 60,
   "id": "a9d91db9",
   "metadata": {},
   "outputs": [
    {
     "data": {
      "text/plain": [
       "array([4, 3, 2, 1, 0])"
      ]
     },
     "execution_count": 60,
     "metadata": {},
     "output_type": "execute_result"
    }
   ],
   "source": [
    "# 기존 파이썬 문법으로 순번 뒤집기\n",
    "x[::-1]"
   ]
  },
  {
   "cell_type": "code",
   "execution_count": 61,
   "id": "6af7f973",
   "metadata": {},
   "outputs": [
    {
     "data": {
      "text/plain": [
       "array([3, 1, 3, 9, 7])"
      ]
     },
     "execution_count": 61,
     "metadata": {},
     "output_type": "execute_result"
    }
   ],
   "source": [
    "#오름차순 정렬 테스트용 난수 배열만들기\n",
    "# 0이상 9이하 숫자 5개를 난수생성으로 만들어서 찍어주세요\n",
    "a = np.random.randint(0,10, 5)\n",
    "a"
   ]
  },
  {
   "cell_type": "code",
   "execution_count": 62,
   "id": "0bcc95a8",
   "metadata": {},
   "outputs": [
    {
     "data": {
      "text/plain": [
       "array([1, 3, 3, 7, 9])"
      ]
     },
     "execution_count": 62,
     "metadata": {},
     "output_type": "execute_result"
    }
   ],
   "source": [
    "# 원본자료 변경없음\n",
    "np.sort(a)"
   ]
  },
  {
   "cell_type": "code",
   "execution_count": 63,
   "id": "59ff34d2",
   "metadata": {},
   "outputs": [
    {
     "data": {
      "text/plain": [
       "array([3, 1, 3, 9, 7])"
      ]
     },
     "execution_count": 63,
     "metadata": {},
     "output_type": "execute_result"
    }
   ],
   "source": [
    "a"
   ]
  },
  {
   "cell_type": "code",
   "execution_count": 64,
   "id": "a3cd296c",
   "metadata": {},
   "outputs": [
    {
     "data": {
      "text/plain": [
       "array([1, 3, 3, 7, 9])"
      ]
     },
     "execution_count": 64,
     "metadata": {},
     "output_type": "execute_result"
    }
   ],
   "source": [
    "# 자료.sort() -> 원본자료 변경\n",
    "a.sort()\n",
    "a"
   ]
  },
  {
   "cell_type": "code",
   "execution_count": 65,
   "id": "3930a1bd",
   "metadata": {},
   "outputs": [
    {
     "name": "stdout",
     "output_type": "stream",
     "text": [
      "\n",
      "    type : <class 'numpy.ndarray'>  \n",
      "    shape : (5,)  \n",
      "    dimension : 1  \n",
      "    dtype : int32\n",
      "    data :\n",
      " [1 7 1 6 3]\n",
      "    \n"
     ]
    }
   ],
   "source": [
    "b = np.random.randint(0,10,5)\n",
    "np_print(b)"
   ]
  },
  {
   "cell_type": "code",
   "execution_count": 66,
   "id": "44152a88",
   "metadata": {},
   "outputs": [
    {
     "data": {
      "text/plain": [
       "array([0, 2, 4, 3, 1], dtype=int64)"
      ]
     },
     "execution_count": 66,
     "metadata": {},
     "output_type": "execute_result"
    }
   ],
   "source": [
    "# np.argsort()는 내부의 아이템들을 오름차순 정렬하기 위해서는\n",
    "# 현재 몇번 인덱스에 있는 자료를 어디에 배치해야하는지 보여줌\n",
    "np.argsort(b)"
   ]
  },
  {
   "cell_type": "code",
   "execution_count": 67,
   "id": "2846b65c",
   "metadata": {},
   "outputs": [
    {
     "data": {
      "text/plain": [
       "array([[0.64987834, 0.10725893, 0.36369351],\n",
       "       [0.0162563 , 0.90176303, 0.1548124 ],\n",
       "       [0.78059363, 0.54894147, 0.79453591]])"
      ]
     },
     "execution_count": 67,
     "metadata": {},
     "output_type": "execute_result"
    }
   ],
   "source": [
    "# 0이상 1미만의 범위에서 무작위로 실수값을 가지는 3행 3열의 배열2개 생성\n",
    "#np.random.random을 이용하세요\n",
    "a = np.random.random((3,3))\n",
    "a"
   ]
  },
  {
   "cell_type": "markdown",
   "id": "79266259",
   "metadata": {},
   "source": [
    "### 2차원 배열의 경우\n",
    "\n",
    "기본잢axis =  -1 <br>\n",
    "현재 마지막axis = 0, 1<br>\n",
    "마지막 axis  = 1(열별 정렬)\n",
    "\n",
    "<img src='img/sortaxis1.jpg' align=\"left\" >"
   ]
  },
  {
   "cell_type": "code",
   "execution_count": 68,
   "id": "2fd1e185",
   "metadata": {},
   "outputs": [
    {
     "name": "stdout",
     "output_type": "stream",
     "text": [
      "\n",
      "    type : <class 'numpy.ndarray'>  \n",
      "    shape : (3, 3)  \n",
      "    dimension : 2  \n",
      "    dtype : float64\n",
      "    data :\n",
      " [[0.64987834 0.10725893 0.36369351]\n",
      " [0.0162563  0.90176303 0.1548124 ]\n",
      " [0.78059363 0.54894147 0.79453591]]\n",
      "    \n"
     ]
    },
    {
     "data": {
      "text/plain": [
       "array([[0.10725893, 0.36369351, 0.64987834],\n",
       "       [0.0162563 , 0.1548124 , 0.90176303],\n",
       "       [0.54894147, 0.78059363, 0.79453591]])"
      ]
     },
     "execution_count": 68,
     "metadata": {},
     "output_type": "execute_result"
    }
   ],
   "source": [
    "# 기본 방향(axis = -1) => 열별 정렬\n",
    "np_print(a)\n",
    "np.sort(a)"
   ]
  },
  {
   "cell_type": "markdown",
   "id": "77190e61",
   "metadata": {},
   "source": [
    "#### axis = 0 (열별정렬)\n",
    "\n",
    "<img src='img/sortaxis0.jpg' align=\"left\" >"
   ]
  },
  {
   "cell_type": "code",
   "execution_count": 69,
   "id": "17f8aed8",
   "metadata": {},
   "outputs": [
    {
     "name": "stdout",
     "output_type": "stream",
     "text": [
      "\n",
      "    type : <class 'numpy.ndarray'>  \n",
      "    shape : (3, 3)  \n",
      "    dimension : 2  \n",
      "    dtype : float64\n",
      "    data :\n",
      " [[0.64987834 0.10725893 0.36369351]\n",
      " [0.0162563  0.90176303 0.1548124 ]\n",
      " [0.78059363 0.54894147 0.79453591]]\n",
      "    \n"
     ]
    },
    {
     "data": {
      "text/plain": [
       "array([[0.0162563 , 0.10725893, 0.1548124 ],\n",
       "       [0.64987834, 0.54894147, 0.36369351],\n",
       "       [0.78059363, 0.90176303, 0.79453591]])"
      ]
     },
     "execution_count": 69,
     "metadata": {},
     "output_type": "execute_result"
    }
   ],
   "source": [
    "# 열별정렬 시키기\n",
    "np_print(a)\n",
    "np.sort(a,axis=0)"
   ]
  },
  {
   "cell_type": "markdown",
   "id": "f050716f",
   "metadata": {},
   "source": [
    "## 인덱싱(Indexing), 슬라이싱(Slicing)\n",
    "\n",
    "### 1. 인덱싱 : 하나의 요소에 대해 참조\n",
    "- 각 차원에 따라 배열이 참조하는 인덱스의 개수가 다름\n",
    "    - 1차원 배열 : 인덱스 1개\n",
    "    - 2차원 배열 : 인덱스 2개\n",
    "    - 3차원 배열 : 인덱스 3개\n",
    "\n",
    "- 인덱싱으로 참조한 요소에 대해 수정 가능\n",
    "\n",
    "- 인덱스 배열을 전달하여 여러 개의 요소 참조"
   ]
  },
  {
   "cell_type": "code",
   "execution_count": 70,
   "id": "7353c1fe",
   "metadata": {},
   "outputs": [
    {
     "name": "stdout",
     "output_type": "stream",
     "text": [
      "\n",
      "    type : <class 'numpy.ndarray'>  \n",
      "    shape : (24,)  \n",
      "    dimension : 1  \n",
      "    dtype : int32\n",
      "    data :\n",
      " [ 0  1  2  3  4  5  6  7  8  9 10 11 12 13 14 15 16 17 18 19 20 21 22 23]\n",
      "    \n"
     ]
    }
   ],
   "source": [
    "# 0 ~ 23 구간으로 1씩 증가하는 값을 아이템으로가지는 1차원 배열을 생성해주세요\n",
    "arr1 = np.arange(0,24)\n",
    "np_print(arr1)"
   ]
  },
  {
   "cell_type": "code",
   "execution_count": 71,
   "id": "c395db1d",
   "metadata": {},
   "outputs": [
    {
     "data": {
      "text/plain": [
       "1"
      ]
     },
     "execution_count": 71,
     "metadata": {},
     "output_type": "execute_result"
    }
   ],
   "source": [
    "# 1차원 배열 인덱싱 : 1차원 인덱스 요소 접근\n",
    "arr1[1]"
   ]
  },
  {
   "cell_type": "code",
   "execution_count": 72,
   "id": "895e3675",
   "metadata": {},
   "outputs": [
    {
     "data": {
      "text/plain": [
       "23"
      ]
     },
     "execution_count": 72,
     "metadata": {},
     "output_type": "execute_result"
    }
   ],
   "source": [
    "# 1차원 배열 인덱싱 : 마지막 요소 접근\n",
    "arr1[-1]"
   ]
  },
  {
   "cell_type": "code",
   "execution_count": 73,
   "id": "a5dd9888",
   "metadata": {},
   "outputs": [
    {
     "data": {
      "text/plain": [
       "array([  0,   1,   2,   3,   4,   5,   6,   7,   8,   9,  10,  11,  12,\n",
       "        13,  14,  15,  16,  17,  18,  19,  20,  21,  22, 100])"
      ]
     },
     "execution_count": 73,
     "metadata": {},
     "output_type": "execute_result"
    }
   ],
   "source": [
    "# 1차원 배열 인덱싱을 통한 값수정\n",
    "arr1[-1] =100\n",
    "arr1"
   ]
  },
  {
   "cell_type": "code",
   "execution_count": 74,
   "id": "8eca60fe",
   "metadata": {},
   "outputs": [
    {
     "name": "stdout",
     "output_type": "stream",
     "text": [
      "\n",
      "    type : <class 'numpy.ndarray'>  \n",
      "    shape : (4, 6)  \n",
      "    dimension : 2  \n",
      "    dtype : int32\n",
      "    data :\n",
      " [[  0   1   2   3   4   5]\n",
      " [  6   7   8   9  10  11]\n",
      " [ 12  13  14  15  16  17]\n",
      " [ 18  19  20  21  22 100]]\n",
      "    \n"
     ]
    }
   ],
   "source": [
    "# 배열 arr1을 이용해 4*6형태의 2차원 배열 arr2 만들기\n",
    "arr2 = arr1.reshape(4,6)\n",
    "np_print(arr2)"
   ]
  },
  {
   "cell_type": "code",
   "execution_count": 75,
   "id": "7f538d83",
   "metadata": {},
   "outputs": [
    {
     "data": {
      "text/plain": [
       "array([0, 1, 2, 3, 4, 5])"
      ]
     },
     "execution_count": 75,
     "metadata": {},
     "output_type": "execute_result"
    }
   ],
   "source": [
    "# 2차원 배열 인덱싱 : 2차원 배열[행인덱스,(열인덱스)]\n",
    "# 하나의 행에 접근 : 1행\n",
    "arr2[0]"
   ]
  },
  {
   "cell_type": "code",
   "execution_count": 76,
   "id": "97312224",
   "metadata": {},
   "outputs": [
    {
     "data": {
      "text/plain": [
       "array([ 0,  6, 12, 18])"
      ]
     },
     "execution_count": 76,
     "metadata": {},
     "output_type": "execute_result"
    }
   ],
   "source": [
    "# 하나의열에 접근 : 모든 행에 대해서 하나의 열에 접근\n",
    "# 반환값 : 1d array\n",
    "arr2[:,0]"
   ]
  },
  {
   "cell_type": "code",
   "execution_count": 77,
   "id": "083bd6ba",
   "metadata": {},
   "outputs": [
    {
     "data": {
      "text/plain": [
       "14"
      ]
     },
     "execution_count": 77,
     "metadata": {},
     "output_type": "execute_result"
    }
   ],
   "source": [
    "# 하나의 값에 접근\n",
    "# 3행 3열 [0번째부터 세서 3행]\n",
    "arr2[2,2]"
   ]
  },
  {
   "cell_type": "code",
   "execution_count": 78,
   "id": "78563fee",
   "metadata": {},
   "outputs": [
    {
     "name": "stdout",
     "output_type": "stream",
     "text": [
      "[[  0   1   2   3   4   5]\n",
      " [  6   7   8   9  10  11]\n",
      " [ 12  13  14  15  16  17]\n",
      " [ 18  19  20  21  22 100]]\n",
      "[[  0   1   2   3   4   5]\n",
      " [  6   7   8   9  10  11]\n",
      " [ 18  19  20  21  22 100]]\n"
     ]
    }
   ],
   "source": [
    "# 여러개의 행 조회( 2차원 배열로 조회)\n",
    "print(arr2)\n",
    "print(arr2[[0,1,3]])\n"
   ]
  },
  {
   "cell_type": "code",
   "execution_count": 79,
   "id": "870710b0",
   "metadata": {},
   "outputs": [
    {
     "name": "stdout",
     "output_type": "stream",
     "text": [
      "[[  0   1   2   3   4   5]\n",
      " [  6   7   8   9  10  11]\n",
      " [ 12  13  14  15  16  17]\n",
      " [ 18  19  20  21  22 100]]\n",
      "[[ 0  2]\n",
      " [ 6  8]\n",
      " [12 14]\n",
      " [18 20]]\n"
     ]
    }
   ],
   "source": [
    "#여러개의 열조회\n",
    "print(arr2)\n",
    "print(arr2[:,[0,2]])"
   ]
  },
  {
   "cell_type": "code",
   "execution_count": 80,
   "id": "f39d56c1",
   "metadata": {},
   "outputs": [
    {
     "data": {
      "text/plain": [
       "array([[  0,   1,   2,   3,   4,   5],\n",
       "       [  6,   7,   8,   9,  10,  11],\n",
       "       [  9,   9,   9,   9,   9,   9],\n",
       "       [ 18,  19,  20,  21,  22, 100]])"
      ]
     },
     "execution_count": 80,
     "metadata": {},
     "output_type": "execute_result"
    }
   ],
   "source": [
    "# 2차원 배열 인덱싱을 통한 값 수정\n",
    "# 하나의 행/열에 대해 모두 동일한 값으로 수정 : 전달하려는 값을 스킬라값으로 전달\n",
    "# 서로 다른 값으로 수정 : 배열 요소 개수에 맞춰서 전달\n",
    "# 하나의 값을 수정하는예시\n",
    "arr2[2] = 9\n",
    "arr2"
   ]
  },
  {
   "cell_type": "code",
   "execution_count": 81,
   "id": "2a6d8290",
   "metadata": {},
   "outputs": [
    {
     "data": {
      "text/plain": [
       "array([[  0,   1,   2,   3,   4,   5],\n",
       "       [  9,   9,   9,  99,  99,  99],\n",
       "       [  9,   9,   9,   9,   9,   9],\n",
       "       [ 18,  19,  20,  21,  22, 100]])"
      ]
     },
     "execution_count": 81,
     "metadata": {},
     "output_type": "execute_result"
    }
   ],
   "source": [
    "# 단일 값이 아닌 여러값을 대입하고싶다면\n",
    "arr2[1] = [9,9,9,99,99,99]\n",
    "arr2"
   ]
  },
  {
   "cell_type": "code",
   "execution_count": 82,
   "id": "e385aa0c",
   "metadata": {},
   "outputs": [
    {
     "data": {
      "text/plain": [
       "array([[[ 0,  1,  2],\n",
       "        [ 3,  4,  5],\n",
       "        [ 6,  7,  8],\n",
       "        [ 9, 10, 11]],\n",
       "\n",
       "       [[12, 13, 14],\n",
       "        [15, 16, 17],\n",
       "        [18, 19, 20],\n",
       "        [21, 22, 23]]])"
      ]
     },
     "execution_count": 82,
     "metadata": {},
     "output_type": "execute_result"
    }
   ],
   "source": [
    "# 3차원 배열 생성\n",
    "# 구조 : 2개의 층, 4행 3열\n",
    "arr3 = np.arange(0,24).reshape(2,4,3)\n",
    "arr3"
   ]
  },
  {
   "cell_type": "code",
   "execution_count": 84,
   "id": "6efce434",
   "metadata": {},
   "outputs": [
    {
     "data": {
      "text/plain": [
       "array([[ 0,  1,  2],\n",
       "       [ 3,  4,  5],\n",
       "       [ 6,  7,  8],\n",
       "       [ 9, 10, 11]])"
      ]
     },
     "execution_count": 84,
     "metadata": {},
     "output_type": "execute_result"
    }
   ],
   "source": [
    "# 3차원 배열 인덱싱  : arr[면,행,열]\n",
    "# 0번째 면에 접근\n",
    "arr3[0]"
   ]
  },
  {
   "cell_type": "code",
   "execution_count": 85,
   "id": "7c0a86fc",
   "metadata": {},
   "outputs": [
    {
     "data": {
      "text/plain": [
       "array([3, 4, 5])"
      ]
     },
     "execution_count": 85,
     "metadata": {},
     "output_type": "execute_result"
    }
   ],
   "source": [
    "# 0번째 면, 첫번째행에 접근\n",
    "arr3[0,1]"
   ]
  },
  {
   "cell_type": "code",
   "execution_count": 86,
   "id": "1efe677e",
   "metadata": {},
   "outputs": [
    {
     "data": {
      "text/plain": [
       "20"
      ]
     },
     "execution_count": 86,
     "metadata": {},
     "output_type": "execute_result"
    }
   ],
   "source": [
    "# 1번째 면, 2번 행, 2번열 접근\n",
    "arr3[1,2,2]"
   ]
  },
  {
   "cell_type": "code",
   "execution_count": 87,
   "id": "e28d7927",
   "metadata": {},
   "outputs": [
    {
     "data": {
      "text/plain": [
       "array([[[ 0,  1,  2],\n",
       "        [ 3,  4,  5],\n",
       "        [ 6,  7,  8],\n",
       "        [ 9, 10, 11]],\n",
       "\n",
       "       [[ 0,  0,  0],\n",
       "        [ 0,  0,  0],\n",
       "        [ 0,  0,  0],\n",
       "        [ 0,  0,  0]]])"
      ]
     },
     "execution_count": 87,
     "metadata": {},
     "output_type": "execute_result"
    }
   ],
   "source": [
    "# 3차원 배열 역시 배열 인덱싱으로 값 수정이 가능합니다.\n",
    "# 스칼라값을 이용한 변경\n",
    "# arr3의 2번면(0번째부터 세면 1번째)을 0 으로 일괄 수정해주세요.\n",
    "arr3[1]=0\n",
    "arr3"
   ]
  },
  {
   "cell_type": "code",
   "execution_count": 88,
   "id": "15634f3f",
   "metadata": {},
   "outputs": [
    {
     "data": {
      "text/plain": [
       "array([[[ 0,  1,  2],\n",
       "        [ 3,  4,  5],\n",
       "        [ 6,  7,  8],\n",
       "        [ 9, 10, 11]],\n",
       "\n",
       "       [[ 0,  0,  0],\n",
       "        [ 1,  2,  3],\n",
       "        [ 0,  0,  0],\n",
       "        [ 0,  0,  0]]])"
      ]
     },
     "execution_count": 88,
     "metadata": {},
     "output_type": "execute_result"
    }
   ],
   "source": [
    "# 하나의 면에 대해 서로 다른 값으로 수정 : 요소의 값을 같은 구조, 개수로 전달\n",
    "# [1,1]의 값이 현재 000인데 각각 1,2,3으로 바꿔주세요\n",
    "arr3[1,1] = [1,2,3]\n",
    "arr3"
   ]
  },
  {
   "cell_type": "code",
   "execution_count": 89,
   "id": "f7cff849",
   "metadata": {},
   "outputs": [
    {
     "name": "stdout",
     "output_type": "stream",
     "text": [
      "[[ 0  1  2]\n",
      " [ 3  4  5]\n",
      " [ 6  7  8]\n",
      " [ 9 10 11]]\n",
      "-------------------------------\n",
      "[[[ 0  1  2]\n",
      "  [ 3  4  5]\n",
      "  [ 6  7  8]]\n",
      "\n",
      " [[ 0  1  2]\n",
      "  [ 6  7  8]\n",
      "  [ 9 10 11]]]\n"
     ]
    }
   ],
   "source": [
    "# 여러개의 인덱싱을 배열로 전달\n",
    "# (행0,열0),(행1,열1),(행2,열2)\n",
    "# 3차원 배열일 경우에 : [페이지, [[1,2,3],[1,2,3]]]\n",
    "# arr3[면,행,열]-> 만약 여러 단위를 조회할때는 이중 리스트로 입력\n",
    "# 삼중리스트 입력시 이중리스트 요소를 반복\n",
    "print(arr3[0])\n",
    "print(\"-------------------------------\")\n",
    "print(arr3[0,[[0,1,2],[0,2,3]]])"
   ]
  },
  {
   "cell_type": "markdown",
   "id": "dd668e3e",
   "metadata": {},
   "source": [
    "### 2. 슬라이싱 : 여러개의 요소에 대해 참조\n",
    "- axis 별로 범위 지정\n",
    "    - from_index : 시작 인덱스(포함), 0일 경우 생략가능\n",
    "    - to_index : 종료인덱스 (미포함), 마지막 인덱스일 경우 생략 가능\n",
    "    - step : 연속되지 않은 범위의 경우 간격 지정\n",
    "- 열만 조회하는 경우 : 전체 행에 슬라이싱으로 접근후 특정 열을 조회"
   ]
  },
  {
   "cell_type": "code",
   "execution_count": 106,
   "id": "bde7250c",
   "metadata": {},
   "outputs": [
    {
     "data": {
      "text/plain": [
       "array([ 0,  1,  2,  3,  4,  5,  6,  7,  8,  9, 10, 11, 12, 13, 14, 15, 16,\n",
       "       17, 18, 19, 20, 21, 22, 23])"
      ]
     },
     "execution_count": 106,
     "metadata": {},
     "output_type": "execute_result"
    }
   ],
   "source": [
    "# 0부터 23까지 1씩 증가하는 정수값을 가지는 1차원배열을 변수 a에 저장해서 조회\n",
    "a = np.arange(0,24)\n",
    "a"
   ]
  },
  {
   "cell_type": "code",
   "execution_count": 91,
   "id": "4eccd6c7",
   "metadata": {},
   "outputs": [
    {
     "data": {
      "text/plain": [
       "array([1, 2, 3, 4])"
      ]
     },
     "execution_count": 91,
     "metadata": {},
     "output_type": "execute_result"
    }
   ],
   "source": [
    "# 1차원 배열 슬라이싱 : 1번부터 4번까지 접근\n",
    "a[1:5]"
   ]
  },
  {
   "cell_type": "code",
   "execution_count": 101,
   "id": "4da4a7c0",
   "metadata": {},
   "outputs": [
    {
     "data": {
      "text/plain": [
       "array([ 1,  3,  5,  7,  9, 11, 13])"
      ]
     },
     "execution_count": 101,
     "metadata": {},
     "output_type": "execute_result"
    }
   ],
   "source": [
    "# 1번째 인덱스부터 14번째 인덱스까지 2씩 증가시키며 접근\n",
    "a[1:15:2]"
   ]
  },
  {
   "cell_type": "code",
   "execution_count": 131,
   "id": "0dd7fe66",
   "metadata": {},
   "outputs": [],
   "source": [
    "b = np.arange(0,24).reshape(6,4)"
   ]
  },
  {
   "cell_type": "code",
   "execution_count": 132,
   "id": "1305476b",
   "metadata": {},
   "outputs": [
    {
     "data": {
      "text/plain": [
       "array([[ 0,  1,  2,  3],\n",
       "       [ 4,  5,  6,  7],\n",
       "       [ 8,  9, 10, 11],\n",
       "       [12, 13, 14, 15]])"
      ]
     },
     "execution_count": 132,
     "metadata": {},
     "output_type": "execute_result"
    }
   ],
   "source": [
    "# 2차원 배열 슬라이싱 : 1행부터 4행까지 접근\n",
    "# 2d_array[(:열:간격)]\n",
    "b[0:4]"
   ]
  },
  {
   "cell_type": "code",
   "execution_count": 133,
   "id": "5f88607e",
   "metadata": {},
   "outputs": [
    {
     "data": {
      "text/plain": [
       "array([[ 6,  7],\n",
       "       [10, 11],\n",
       "       [14, 15],\n",
       "       [18, 19]])"
      ]
     },
     "execution_count": 133,
     "metadata": {},
     "output_type": "execute_result"
    }
   ],
   "source": [
    "# 1행부터 4행에 대해서 2열부터 3열까지 접근\n",
    "b[1:5, 2:4]"
   ]
  },
  {
   "cell_type": "code",
   "execution_count": 134,
   "id": "48fdf891",
   "metadata": {},
   "outputs": [
    {
     "data": {
      "text/plain": [
       "array([[ 6,  7],\n",
       "       [10, 11],\n",
       "       [14, 15],\n",
       "       [18, 19]])"
      ]
     },
     "execution_count": 134,
     "metadata": {},
     "output_type": "execute_result"
    }
   ],
   "source": [
    "# 2차원 배열 슬라이싱을 통한 값 수정\n",
    "# 1행부터 4행에 대해 2열부터 3열까지의 모든 배열에 대해서 수정\n",
    "s_arr = b[1:5, 2:]\n",
    "s_arr"
   ]
  },
  {
   "cell_type": "code",
   "execution_count": 158,
   "id": "389052fc",
   "metadata": {},
   "outputs": [
    {
     "data": {
      "text/plain": [
       "array([[ 6,  7],\n",
       "       [99, 11],\n",
       "       [99, 15],\n",
       "       [99, 19]])"
      ]
     },
     "execution_count": 158,
     "metadata": {},
     "output_type": "execute_result"
    }
   ],
   "source": [
    "# 0번째 행과 마지막 열을 제외한 모든 값을 99로 수정\n",
    "s_arr[1:, 0] = 99\n",
    "s_arr"
   ]
  },
  {
   "cell_type": "code",
   "execution_count": 159,
   "id": "33d11aa1",
   "metadata": {},
   "outputs": [
    {
     "data": {
      "text/plain": [
       "array([[ 0,  1,  2,  3],\n",
       "       [ 4,  5,  6,  7],\n",
       "       [ 8,  9, 99, 11],\n",
       "       [12, 13, 99, 15],\n",
       "       [16, 17, 99, 19],\n",
       "       [20, 21, 22, 23]])"
      ]
     },
     "execution_count": 159,
     "metadata": {},
     "output_type": "execute_result"
    }
   ],
   "source": [
    "# 얕은 복사로인해서 원본 배열의 변경이 생김\n",
    "b"
   ]
  },
  {
   "cell_type": "code",
   "execution_count": 188,
   "id": "8852807c",
   "metadata": {},
   "outputs": [
    {
     "data": {
      "text/plain": [
       "array([[ 1,  3],\n",
       "       [ 5,  7],\n",
       "       [ 9, 11],\n",
       "       [13, 15],\n",
       "       [17, 19],\n",
       "       [21, 23]])"
      ]
     },
     "execution_count": 188,
     "metadata": {},
     "output_type": "execute_result"
    }
   ],
   "source": [
    "# 2차원 배열 슬라이싱 : 연속되지 않은 범위의 열(컬럼)에 대한 인덱싱\n",
    "# step1. 전체 행에 대해서 접근\n",
    "# step2. 여러개의 열 인덱싱 배열 전달\n",
    "# b의 전체행 + 1, 3번 열을 조회해주세요\n",
    "b[ : , [1,3]]"
   ]
  },
  {
   "cell_type": "markdown",
   "id": "4f3f2401",
   "metadata": {},
   "source": [
    "### 연습문제\n",
    "\n",
    "아래 정보는 학생들의 학번, 영어 성적, 국어 성적, 수학 성적 정보 입니다. <br>\n",
    "해당 정보를 첫번째 행(row)에 학번, 두번째 행에 영어 성적, 세번째 행에 국어 성적, 네번째 행에 수학 성적을 저장한 배열로 만들고 학생별로 영어 성적을 오름차순 기준으로 각 열(column)을 정렬하세요.\n",
    "\n",
    "<img src='img/sort_q1.png' align='left'>"
   ]
  },
  {
   "cell_type": "code",
   "execution_count": 194,
   "id": "a6e8dccd",
   "metadata": {},
   "outputs": [],
   "source": [
    "data = [[1,2,3,4],\n",
    "    [70,97,45,56],\n",
    "    [87,84,33,67],\n",
    "    [46,80,75,78]]\n",
    "arr = np.array(data)"
   ]
  },
  {
   "cell_type": "code",
   "execution_count": 213,
   "id": "d1d900f8",
   "metadata": {},
   "outputs": [
    {
     "data": {
      "text/plain": [
       "array([[ 1,  2,  3,  4],\n",
       "       [70, 97, 45, 56],\n",
       "       [87, 84, 33, 67],\n",
       "       [46, 80, 75, 78]])"
      ]
     },
     "execution_count": 213,
     "metadata": {},
     "output_type": "execute_result"
    }
   ],
   "source": [
    "# 영어성적 기준으로 오름차순 정렬\n",
    "np.sort(arr, axis=1)"
   ]
  },
  {
   "cell_type": "code",
   "execution_count": 233,
   "id": "242959f0",
   "metadata": {},
   "outputs": [
    {
     "name": "stdout",
     "output_type": "stream",
     "text": [
      "[2 3 0 1]\n"
     ]
    },
    {
     "data": {
      "text/plain": [
       "array([[[ 3,  4,  1,  2]],\n",
       "\n",
       "       [[45, 56, 70, 97]],\n",
       "\n",
       "       [[33, 67, 87, 84]],\n",
       "\n",
       "       [[75, 78, 46, 80]]])"
      ]
     },
     "execution_count": 233,
     "metadata": {},
     "output_type": "execute_result"
    }
   ],
   "source": [
    "# 영어 성적을 기준으로 오름차순 정렬 순위\n",
    "rank = np.argsort(arr[1], axis=0)\n",
    "arr[:,[rank]]"
   ]
  },
  {
   "cell_type": "code",
   "execution_count": null,
   "id": "204aecec",
   "metadata": {},
   "outputs": [],
   "source": [
    "arr"
   ]
  },
  {
   "cell_type": "code",
   "execution_count": null,
   "id": "c416a6d9",
   "metadata": {},
   "outputs": [],
   "source": []
  },
  {
   "cell_type": "code",
   "execution_count": null,
   "id": "d7350c55",
   "metadata": {},
   "outputs": [],
   "source": []
  },
  {
   "cell_type": "code",
   "execution_count": null,
   "id": "100f60d8",
   "metadata": {},
   "outputs": [],
   "source": []
  }
 ],
 "metadata": {
  "kernelspec": {
   "display_name": "Python 3 (ipykernel)",
   "language": "python",
   "name": "python3"
  },
  "language_info": {
   "codemirror_mode": {
    "name": "ipython",
    "version": 3
   },
   "file_extension": ".py",
   "mimetype": "text/x-python",
   "name": "python",
   "nbconvert_exporter": "python",
   "pygments_lexer": "ipython3",
   "version": "3.9.7"
  }
 },
 "nbformat": 4,
 "nbformat_minor": 5
}

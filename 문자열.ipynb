{
 "cells": [
  {
   "cell_type": "code",
   "execution_count": 3,
   "id": "2db4cd4d",
   "metadata": {},
   "outputs": [
    {
     "name": "stdout",
     "output_type": "stream",
     "text": [
      "반갑습니다\n"
     ]
    }
   ],
   "source": [
    "a = '반갑습니다'\n",
    "print(a)"
   ]
  },
  {
   "cell_type": "markdown",
   "id": "9b8215e7",
   "metadata": {},
   "source": [
    "# 2) 여러줄 문자열 : ''',\"\"\"\n",
    "- print()했을때 줄바꿈 (enter)가 그대로 반영되는 문자열로 처리 가능\n",
    "- 단 화면에서 보기를 하면(print없이 마지막줄에 변수넣고 셀을 실행해서 보면\n",
    "- 줄바꿈이 바로 나타나지 않고 엔터가 처진 줄바꿈ㄱ구간은 \\n로 표현됩니다."
   ]
  },
  {
   "cell_type": "code",
   "execution_count": 4,
   "id": "c1e2ba24",
   "metadata": {},
   "outputs": [
    {
     "name": "stdout",
     "output_type": "stream",
     "text": [
      "안녕하세요\n",
      "반갑습니다\n"
     ]
    }
   ],
   "source": [
    "a=\"\"\"안녕하세요\n",
    "반갑습니다\"\"\"\n",
    "print(a)"
   ]
  },
  {
   "cell_type": "markdown",
   "id": "dc44c66a",
   "metadata": {},
   "source": [
    "## 3) 문자 속에 문자열 기호 사용\n",
    "- 문자열에서 자주쓰는 기호"
   ]
  },
  {
   "cell_type": "code",
   "execution_count": 5,
   "id": "592d8502",
   "metadata": {},
   "outputs": [
    {
     "name": "stdout",
     "output_type": "stream",
     "text": [
      " she's happy\n"
     ]
    }
   ],
   "source": [
    "# 언어, 문자에서 많이쓰는 기호 :she's,\"설렁탕을 사왔는데 왜 먹지를 못하니\"\n",
    "a = \" she's happy\"\n",
    "print(a)"
   ]
  },
  {
   "cell_type": "code",
   "execution_count": 6,
   "id": "2e5d01b4",
   "metadata": {},
   "outputs": [
    {
     "name": "stdout",
     "output_type": "stream",
     "text": [
      "오늘은 \"미세먼지\" 좋음\n"
     ]
    }
   ],
   "source": [
    "title = '오늘은 \"미세먼지\" 좋음'\n",
    "print(title)"
   ]
  },
  {
   "cell_type": "markdown",
   "id": "a8d12ca5",
   "metadata": {},
   "source": [
    "### 문자열을 길게 적을때 \\를 적고 줄을 내려주면 줄바꿈 없이 쭉 적은걸로 인식합니다"
   ]
  },
  {
   "cell_type": "code",
   "execution_count": 7,
   "id": "01c8d6a9",
   "metadata": {},
   "outputs": [
    {
     "name": "stdout",
     "output_type": "stream",
     "text": [
      "aaaaaaaaaaaaaaaaaaaaaaaaaaaaaaaaaaaaaaaaaaaaaaaaaaaaaaaaaaaaaaaaaaaaaaaaaaaaaaaaaaaaaaaaaaaaaaaaaaaaaaaaaaaaaaaaaaaaaaaaaaaaaaaaaaaaaaaaaaaaaaaaaaaaaaaaaaaaaaaaaaaaaaaaaaaaaaaaaaaaaaaaaaaaaaaaaaaaaaaaaaaaaaaaaaaaaaaaaaaaaaaaaaaaaaaaaaaaaaaaaaaaaaaaaaaaaaaaaaaaaaaaaaaaaaaaaaaaaaaaaaaaaaaa\n"
     ]
    }
   ],
   "source": [
    "c = \"aaaaaaaaaaaaaaaaaaaaaaaaaaaaaaaaaaaaaaa\\\n",
    "aaaaaaaaaaaaaaaaaaaaaaaaaaaaaaaaaaaaaaaaaaaaaaaa\\\n",
    "aaaaaaaaaaaaaaaaaaaaaaaaaaaaaaaaaaaaaaaaaaaaaaaaaaaaa\\\n",
    "aaaaaaaaaaaaaaaaaaaaaaaaaaaaaaaaaaaaaaaaaaaaaaaaaaaaaaa\\\n",
    "aaaaaaaaaaaaaaaaaaaaaaaaaaaaaaaaaaaaaaaaaaaaaaaaaaaaaaa\\\n",
    "aaaaaaaaaaaaaaaaaaaaaaaaaaaaaaaaaaaaaa\"\n",
    "print(c)"
   ]
  },
  {
   "cell_type": "markdown",
   "id": "cb7a3043",
   "metadata": {},
   "source": [
    "# << 연습문제 >>\n",
    "### 1. 아래와 같은 여러줄의 문장을 문자열로 만들어서  lines라는 변수에 하달하세요\n",
    "\n",
    "> 파이썬도 배우고\n",
    "> 장고도 배우고\n",
    "> 할게 너무 많아\n",
    "\n",
    "방법 1) 여러 줄 문자열 활용하기 (lines 변수에 할당)\n",
    "방법 2) 한줄 문자열 내부에 \\n을 사이사이에 활용하기. (line변수에 할당)\n",
    "\n"
   ]
  },
  {
   "cell_type": "code",
   "execution_count": 8,
   "id": "26bfa9bd",
   "metadata": {},
   "outputs": [
    {
     "name": "stdout",
     "output_type": "stream",
     "text": [
      "파이썬도 배우고 \n",
      "장고도 배우고\n",
      "할게 너무 많아\n"
     ]
    }
   ],
   "source": [
    "lines = \"파이썬도 배우고 \\n장고도 배우고\\n할게 너무 많아\"\n",
    "print(lines)"
   ]
  },
  {
   "cell_type": "markdown",
   "id": "86958464",
   "metadata": {},
   "source": [
    "## > 연산하기\n",
    "### 1) 산술연산자 : 문자, 숫자를 한께 연산하기 위한 문법 기호\n",
    "- 문자와 문자를 연결\n",
    "- 동일한 문자를 반복해서 연결"
   ]
  },
  {
   "cell_type": "code",
   "execution_count": 9,
   "id": "805bb276",
   "metadata": {},
   "outputs": [
    {
     "data": {
      "text/plain": [
       "'가나'"
      ]
     },
     "execution_count": 9,
     "metadata": {},
     "output_type": "execute_result"
    }
   ],
   "source": [
    "# 문자와 문자를 연결 : +\n",
    "'가' + \"나\""
   ]
  },
  {
   "cell_type": "code",
   "execution_count": 10,
   "id": "d08e8725",
   "metadata": {},
   "outputs": [
    {
     "data": {
      "text/plain": [
       "'가 나'"
      ]
     },
     "execution_count": 10,
     "metadata": {},
     "output_type": "execute_result"
    }
   ],
   "source": [
    "#1 문자열 자체에 공뱅을 추가하기\n",
    "'가' + ' ' + '나'"
   ]
  },
  {
   "cell_type": "code",
   "execution_count": 11,
   "id": "9dfbd09e",
   "metadata": {},
   "outputs": [
    {
     "ename": "TypeError",
     "evalue": "can only concatenate str (not \"int\") to str",
     "output_type": "error",
     "traceback": [
      "\u001b[1;31m---------------------------------------------------------------------------\u001b[0m",
      "\u001b[1;31mTypeError\u001b[0m                                 Traceback (most recent call last)",
      "\u001b[1;32m~\\AppData\\Local\\Temp/ipykernel_26452/646692828.py\u001b[0m in \u001b[0;36m<module>\u001b[1;34m\u001b[0m\n\u001b[0;32m      1\u001b[0m \u001b[1;31m#2 문자 + 문자가 아닌 자료형 = error\u001b[0m\u001b[1;33m\u001b[0m\u001b[1;33m\u001b[0m\u001b[0m\n\u001b[1;32m----> 2\u001b[1;33m \u001b[1;34m'가'\u001b[0m \u001b[1;33m+\u001b[0m \u001b[1;36m1\u001b[0m\u001b[1;33m\u001b[0m\u001b[1;33m\u001b[0m\u001b[0m\n\u001b[0m",
      "\u001b[1;31mTypeError\u001b[0m: can only concatenate str (not \"int\") to str"
     ]
    }
   ],
   "source": [
    "#2 문자 + 문자가 아닌 자료형 = error\n",
    "'가' + 1"
   ]
  },
  {
   "cell_type": "code",
   "execution_count": 12,
   "id": "2e30a2d4",
   "metadata": {},
   "outputs": [
    {
     "data": {
      "text/plain": [
       "'abcabcabc'"
      ]
     },
     "execution_count": 12,
     "metadata": {},
     "output_type": "execute_result"
    }
   ],
   "source": [
    "# 3. 문자를 여러번 반복하기 : *\n",
    "#동일한 문자열을 여러번 반복\n",
    "'abc' * 3"
   ]
  },
  {
   "cell_type": "code",
   "execution_count": 13,
   "id": "ab80ba0b",
   "metadata": {},
   "outputs": [
    {
     "ename": "TypeError",
     "evalue": "can't multiply sequence by non-int of type 'str'",
     "output_type": "error",
     "traceback": [
      "\u001b[1;31m---------------------------------------------------------------------------\u001b[0m",
      "\u001b[1;31mTypeError\u001b[0m                                 Traceback (most recent call last)",
      "\u001b[1;32m~\\AppData\\Local\\Temp/ipykernel_26452/2188808963.py\u001b[0m in \u001b[0;36m<module>\u001b[1;34m\u001b[0m\n\u001b[0;32m      1\u001b[0m \u001b[1;31m# 문자 * 문자 = error\u001b[0m\u001b[1;33m\u001b[0m\u001b[1;33m\u001b[0m\u001b[0m\n\u001b[1;32m----> 2\u001b[1;33m \u001b[1;34m'abc'\u001b[0m \u001b[1;33m*\u001b[0m \u001b[1;34m'a'\u001b[0m\u001b[1;33m\u001b[0m\u001b[1;33m\u001b[0m\u001b[0m\n\u001b[0m",
      "\u001b[1;31mTypeError\u001b[0m: can't multiply sequence by non-int of type 'str'"
     ]
    }
   ],
   "source": [
    "# 문자 * 문자 = error\n",
    "'abc' * 'a'"
   ]
  },
  {
   "cell_type": "markdown",
   "id": "432f81eb",
   "metadata": {},
   "source": [
    "### 2) 비교 연산자 : 문자의 크기를 비교하기위한 문법기호\n",
    "> 문자의 비교\n",
    "* 대문자 vs 소문자 : 대문자 < 소문자 크기가 더 크다 (아스키코드 A = 65 a = 97)\n",
    "* 알파벳 : 알파벳순서가 뒤에있을수록 값이 크다\n",
    "* 문자길이 : 문자열의 길이가 길수록 크기가 더 크다 (len()으로 확인가능)"
   ]
  },
  {
   "cell_type": "code",
   "execution_count": 14,
   "id": "fe8c6f85",
   "metadata": {},
   "outputs": [
    {
     "data": {
      "text/plain": [
       "True"
      ]
     },
     "execution_count": 14,
     "metadata": {},
     "output_type": "execute_result"
    }
   ],
   "source": [
    "# 대문자 vs 소문자: 비교연선자로 확인\n",
    "'A' < 'a'"
   ]
  },
  {
   "cell_type": "code",
   "execution_count": 16,
   "id": "e4aab1ed",
   "metadata": {},
   "outputs": [
    {
     "data": {
      "text/plain": [
       "False"
      ]
     },
     "execution_count": 16,
     "metadata": {},
     "output_type": "execute_result"
    }
   ],
   "source": [
    "# 문자열을 대상으로 할 때에는 무조건 첫 글자끼리만 비교한다\n",
    "# 문자 길이는 실제 크기 비교에 영향을 미치지않음\n",
    "'b' < 'BUS'"
   ]
  },
  {
   "cell_type": "code",
   "execution_count": 17,
   "id": "17344b21",
   "metadata": {},
   "outputs": [
    {
     "data": {
      "text/plain": [
       "True"
      ]
     },
     "execution_count": 17,
     "metadata": {},
     "output_type": "execute_result"
    }
   ],
   "source": [
    "# 문자 길이는 len(문자열) 형식으로 볼수 있다\n",
    "len('b') < len('BUS')"
   ]
  },
  {
   "cell_type": "code",
   "execution_count": 18,
   "id": "b6fda4ea",
   "metadata": {},
   "outputs": [
    {
     "data": {
      "text/plain": [
       "True"
      ]
     },
     "execution_count": 18,
     "metadata": {},
     "output_type": "execute_result"
    }
   ],
   "source": [
    "# 영문자와 영문자 이외의 다른 문자간 비교는 무조건 영문자가 작게 나온다\n",
    "# ascii code vs unicode\n",
    "'B' < '가'"
   ]
  },
  {
   "cell_type": "markdown",
   "id": "549ee78e",
   "metadata": {},
   "source": [
    "# > 인덱스\n",
    "- 아이템(대상이 가지고 있는 최소단위값)의 위치를 나타내는 고유한 번호\n",
    "- 첫 번째 위치는 0부터 시작\n",
    "- 무지막위치는 -1부터 시작 ( 파이썬의 특징)"
   ]
  },
  {
   "cell_type": "code",
   "execution_count": 20,
   "id": "de6b05a9",
   "metadata": {},
   "outputs": [],
   "source": [
    "# banana라는 문자열에 대해 인덱싱\n",
    "text = 'banana'"
   ]
  },
  {
   "cell_type": "code",
   "execution_count": 21,
   "id": "1062de67",
   "metadata": {},
   "outputs": [
    {
     "data": {
      "text/plain": [
       "'b'"
      ]
     },
     "execution_count": 21,
     "metadata": {},
     "output_type": "execute_result"
    }
   ],
   "source": [
    "# banana라는 문자열에서 첫 번째 아이템 = 0번째 인덱스 번호로 접근\n",
    "# 인덱싱문법 : 객체(대상 : 값, 자료형)[인덱스번호]\n",
    "text[0]"
   ]
  },
  {
   "cell_type": "code",
   "execution_count": 22,
   "id": "6348b35d",
   "metadata": {},
   "outputs": [
    {
     "data": {
      "text/plain": [
       "'a'"
      ]
     },
     "execution_count": 22,
     "metadata": {},
     "output_type": "execute_result"
    }
   ],
   "source": [
    "# 마지막 아이템인 'a'에 접근시켜보세요\n",
    "text[-1]"
   ]
  },
  {
   "cell_type": "code",
   "execution_count": 26,
   "id": "4aa655f2",
   "metadata": {},
   "outputs": [
    {
     "data": {
      "text/plain": [
       "'hello python'"
      ]
     },
     "execution_count": 26,
     "metadata": {},
     "output_type": "execute_result"
    }
   ],
   "source": [
    "# 처음부터 특정 위치까지 : ~python\n",
    "# 처음 인덱스: 0\n",
    "# 마지막 인덱스 : python의 다움문자가 몇개인지 확인\n",
    "text = 'hello python world'\n",
    "text[0:12]\n"
   ]
  },
  {
   "cell_type": "code",
   "execution_count": null,
   "id": "890d6dda",
   "metadata": {},
   "outputs": [],
   "source": [
    "* 처음 인덱스번호는 포함(n부터)\n",
    "* 마지막 인덱스번호는 포함하지 않음 \n",
    "*"
   ]
  },
  {
   "cell_type": "code",
   "execution_count": 30,
   "id": "ee57ed89",
   "metadata": {},
   "outputs": [
    {
     "data": {
      "text/plain": [
       "'hello python'"
      ]
     },
     "execution_count": 30,
     "metadata": {},
     "output_type": "execute_result"
    }
   ],
   "source": [
    "# 처음부터 특정 위치까지 : ~python\n",
    "# 처음 인덱스: 0\n",
    "# 마지막 인덱스  : -7 뒤에서부터 7번째까지 가져와야하므로 실제로는 -6을 타겟으로)\n",
    "text[:-6]"
   ]
  },
  {
   "cell_type": "code",
   "execution_count": null,
   "id": "f99c14c5",
   "metadata": {},
   "outputs": [],
   "source": [
    "# 특정 위치부터 마지막 아이템까지 :python\n",
    "# 처음 인덱스 : 6\n",
    "# 마지막 인덱스 : -5"
   ]
  },
  {
   "cell_type": "code",
   "execution_count": 29,
   "id": "66ec3e2d",
   "metadata": {},
   "outputs": [
    {
     "data": {
      "text/plain": [
       "'python'"
      ]
     },
     "execution_count": 29,
     "metadata": {},
     "output_type": "execute_result"
    }
   ],
   "source": [
    "text[6:-6]"
   ]
  },
  {
   "cell_type": "code",
   "execution_count": 31,
   "id": "1325a555",
   "metadata": {},
   "outputs": [
    {
     "data": {
      "text/plain": [
       "'hello python world'"
      ]
     },
     "execution_count": 31,
     "metadata": {},
     "output_type": "execute_result"
    }
   ],
   "source": [
    "# 전체 가져오기 : 처음 인덱스, 마지막 인덱스를 모두 쓰지않으면 전체 아이템을 모두 가져오는 결과\n",
    "# 처음 인덱스 기본값 : 0\n",
    "# 마지막 인덱스 기본값 : 마지막까지\n",
    "text[:]"
   ]
  },
  {
   "cell_type": "code",
   "execution_count": 32,
   "id": "e8e8a60b",
   "metadata": {},
   "outputs": [
    {
     "data": {
      "text/plain": [
       "'hlopto ol'"
      ]
     },
     "execution_count": 32,
     "metadata": {},
     "output_type": "execute_result"
    }
   ],
   "source": [
    "# 간격을 2로 주려면 :을 두개 쓰고 가장 오른쪽에 증감분을 적습니다.\n",
    "text[::2]"
   ]
  },
  {
   "cell_type": "markdown",
   "id": "0bc2fc6e",
   "metadata": {},
   "source": [
    "## > 연습문제\n",
    "### 20220524미세먼지 양호함\n",
    "#### 위의 문장을 weather변수에 저장한 다음\n",
    "#### 날짜는 data변수에 슬라이싱으로 받아오고 micro변수에 미세먼지정도를\n",
    "#### 슬라이싱으로 받아오도록 만들어서 출력해주세요\n",
    "\n",
    "출력양식 : <br>\n",
    "날짜 : 20220524\n",
    "날씨 ; \"미세먼지 양호함\"\n"
   ]
  },
  {
   "cell_type": "code",
   "execution_count": 35,
   "id": "3f2d3069",
   "metadata": {},
   "outputs": [
    {
     "name": "stdout",
     "output_type": "stream",
     "text": [
      "날짜 :  20220524 \n",
      "날씨 :  미세먼지 양호함\n"
     ]
    }
   ],
   "source": [
    "weather = \"20220524미세먼지 양호함\"\n",
    "date = weather[:8]\n",
    "micro = weather[8:]\n",
    "print(\"날짜 : \", date,\"\\n날씨 : \",micro)"
   ]
  },
  {
   "cell_type": "markdown",
   "id": "38029f99",
   "metadata": {},
   "source": [
    "# > 포메팅(formating)\n",
    "\n",
    "특정 값만 바뀌고 일정한 형식을 가지는 문자열을 작성할수 있는 기법\n",
    "\n",
    "### 1. %포매팅\n",
    "* 데이터 타입에 따른 분류 : 정수, 실수, 문자\n",
    "* 옵션 길이 : 문자열 길이, 표현할 아이템개수, 정렬, 공백\n",
    "\n",
    "### 1) 숫자값 대입\n"
   ]
  },
  {
   "cell_type": "code",
   "execution_count": null,
   "id": "4e9c6d7b",
   "metadata": {},
   "outputs": [],
   "source": [
    "#1. 기변자료가 들어갈 자리( 땡댕.... 에 해당하는)에 구멍(%자료형)을 낸다\n",
    "#2. 구멍이 뚫린 문자열 뒤에 %로 연결한 다음 집어넣을 값을 적는다"
   ]
  },
  {
   "cell_type": "code",
   "execution_count": 36,
   "id": "2eba63e9",
   "metadata": {},
   "outputs": [
    {
     "data": {
      "text/plain": [
       "'오늘은 16일 입니다'"
      ]
     },
     "execution_count": 36,
     "metadata": {},
     "output_type": "execute_result"
    }
   ],
   "source": [
    "# 정수 값 포매팅 : 정수(int) -> %d\n",
    "'오늘은 %d일 입니다' % 16"
   ]
  },
  {
   "cell_type": "code",
   "execution_count": 37,
   "id": "a3ca6e52",
   "metadata": {},
   "outputs": [
    {
     "name": "stdout",
     "output_type": "stream",
     "text": [
      "오늘은 25도입니다.\n"
     ]
    }
   ],
   "source": [
    "온도 = 25\n",
    "if 온도 == 24:\n",
    "    print(\"오늘은 24도입니다.\")\n",
    "elif 온도 == 25:\n",
    "    print('오늘은 25도입니다.')"
   ]
  },
  {
   "cell_type": "code",
   "execution_count": 38,
   "id": "739f58f5",
   "metadata": {},
   "outputs": [
    {
     "data": {
      "text/plain": [
       "'오늘은 16입니다'"
      ]
     },
     "execution_count": 38,
     "metadata": {},
     "output_type": "execute_result"
    }
   ],
   "source": [
    "#정수 자리의 의미 :출력되는 형식이 정라는 의미\n",
    "# 반올림이 아니라 소수점아래를 버린결과를 출력합니다.\n",
    "'오늘은 %d입니다' %16.1231231415354134613"
   ]
  },
  {
   "cell_type": "code",
   "execution_count": 39,
   "id": "2826f456",
   "metadata": {},
   "outputs": [
    {
     "data": {
      "text/plain": [
       "'오늘의 온도는 24.134154입니다'"
      ]
     },
     "execution_count": 39,
     "metadata": {},
     "output_type": "execute_result"
    }
   ],
   "source": [
    "# 실수 값 포매팅\n",
    "# %f를 이용해서 실수값을 받아옵니다 \n",
    "# 기본적으로 소수점 6번째까지 표현\n",
    "\"오늘의 온도는 %f입니다\" %24.13415390"
   ]
  },
  {
   "cell_type": "code",
   "execution_count": 48,
   "id": "13b9b50e",
   "metadata": {},
   "outputs": [
    {
     "ename": "IndentationError",
     "evalue": "unexpected indent (Temp/ipykernel_26452/2612945394.py, line 2)",
     "output_type": "error",
     "traceback": [
      "\u001b[1;36m  File \u001b[1;32m\"C:\\Users\\dkswo\\AppData\\Local\\Temp/ipykernel_26452/2612945394.py\"\u001b[1;36m, line \u001b[1;32m2\u001b[0m\n\u001b[1;33m    \"당신의 점수는 %O.3f점 입니다\" %92.12341234\u001b[0m\n\u001b[1;37m    ^\u001b[0m\n\u001b[1;31mIndentationError\u001b[0m\u001b[1;31m:\u001b[0m unexpected indent\n"
     ]
    }
   ],
   "source": [
    "# 옵션 소수점 아래 자리를 몇자리까지 출력하여줄지 정할수있음\n",
    " \"당신의 점수는 %O.3f점 입니다\" %92.12341234"
   ]
  },
  {
   "cell_type": "code",
   "execution_count": 49,
   "id": "f24075e6",
   "metadata": {},
   "outputs": [
    {
     "data": {
      "text/plain": [
       "'오늘은 5월 24일 입니다'"
      ]
     },
     "execution_count": 49,
     "metadata": {},
     "output_type": "execute_result"
    }
   ],
   "source": [
    "# 가변자료를 2개 이상 넣는 케이스 \n",
    "# 집어넣는 값ㅇ른 왼쪽부터 하나씩 전달됨\n",
    "# 2개이상 집어넣는 경우 % ( 1. 2)같이 전달함\n",
    "'오늘은 %d월 %d일 입니다'%(5,24)"
   ]
  },
  {
   "cell_type": "code",
   "execution_count": 50,
   "id": "edaf69e7",
   "metadata": {},
   "outputs": [
    {
     "data": {
      "text/plain": [
       "'안녕 이렇게하면 넣을수 있지요'"
      ]
     },
     "execution_count": 50,
     "metadata": {},
     "output_type": "execute_result"
    }
   ],
   "source": [
    "# 문자열 포매팅\n",
    "# %s을 이용해서 넣습니다\n",
    "\"%s 이렇게하면 넣을수 있지요\" %\"안녕\"\n"
   ]
  },
  {
   "cell_type": "markdown",
   "id": "5c7bf8a1",
   "metadata": {},
   "source": [
    "# <<연습문제>>\n",
    "### 아래 문장에 대해 조건을 만족하는 포매팅을 작성해주세요\n",
    "\"날짜 : 2022-05-24/출석률 : 88%\"\n",
    "-전달값 4개\n",
    "-출석한 학생수 16명\n",
    "-총학생수 18명\n",
    "-출석률은 소수점 첫자리부터 반올림적용"
   ]
  },
  {
   "cell_type": "code",
   "execution_count": 68,
   "id": "5e13f196",
   "metadata": {},
   "outputs": [
    {
     "name": "stdout",
     "output_type": "stream",
     "text": [
      "날짜 : 2022-05-24 / 출석률 88.9\n"
     ]
    }
   ],
   "source": [
    "date = \"2022-05-24\"\n",
    "stu = 16\n",
    "tostu = 18\n",
    "checkstu = (stu/tostu) * 100\n",
    "print(\"날짜 : %s / 출석률 : %.1f\" % (date,checkstu))"
   ]
  },
  {
   "cell_type": "code",
   "execution_count": 58,
   "id": "5fbe0e2d",
   "metadata": {},
   "outputs": [
    {
     "data": {
      "text/plain": [
       "'88.9'"
      ]
     },
     "execution_count": 58,
     "metadata": {},
     "output_type": "execute_result"
    }
   ],
   "source": []
  }
 ],
 "metadata": {
  "kernelspec": {
   "display_name": "Python 3 (ipykernel)",
   "language": "python",
   "name": "python3"
  },
  "language_info": {
   "codemirror_mode": {
    "name": "ipython",
    "version": 3
   },
   "file_extension": ".py",
   "mimetype": "text/x-python",
   "name": "python",
   "nbconvert_exporter": "python",
   "pygments_lexer": "ipython3",
   "version": "3.9.7"
  }
 },
 "nbformat": 4,
 "nbformat_minor": 5
}

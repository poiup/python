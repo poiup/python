{
 "cells": [
  {
   "cell_type": "markdown",
   "id": "7434acdb",
   "metadata": {},
   "source": [
    "# 자료형\n",
    "\n",
    "여러 개의 아이템들을 저장하는 객체 = 여러 개의 값(데이터타입)을 저장하는 그릇\n",
    "\n",
    "## 1. 리스트(List)\n",
    "\n",
    "▶ 문법 기호 : [아이템1, 아이템2, 아이템3 .... ]\n",
    "\n",
    "\n",
    "▶ 용어 : 아이템 = 요소\n",
    "\n",
    "\n",
    "▶ 아이템으로 가질 수 있는 데이터 타입 : 문자, 숫자, 리스트, 딕셔너리 ...\n",
    "\n",
    "\n",
    "▶ 종류\n",
    "\n",
    "     * 아이템이 없는 리스트\n",
    "    \n",
    "     * 1차원 리스트\n",
    "    \n",
    "     * 다차원 리스트 \n",
    "    \n",
    "    \n",
    "▶ 특징\n",
    "\n",
    "     * 인덱스 활용\n",
    "    \n",
    "     * 다차원 리스트의 구조에 대한 이해"
   ]
  },
  {
   "cell_type": "markdown",
   "id": "c8ddf8f3",
   "metadata": {},
   "source": [
    "### 1.생성하기"
   ]
  },
  {
   "cell_type": "code",
   "execution_count": 4,
   "id": "ce8395e2",
   "metadata": {},
   "outputs": [
    {
     "name": "stdout",
     "output_type": "stream",
     "text": [
      "<class 'list'> <class 'list'>\n",
      "[] []\n"
     ]
    }
   ],
   "source": [
    "# 빈 리스트 생성하기 = 아이템이 없는 리스트\n",
    "# 문법기호 : []\n",
    "# 함수 : list();\n",
    "a = []\n",
    "a2 = list()\n",
    "print(type(a), type(a2))\n",
    "print(a,a2)"
   ]
  },
  {
   "cell_type": "code",
   "execution_count": 5,
   "id": "c05e0f0d",
   "metadata": {},
   "outputs": [],
   "source": [
    "# 모든 데이터타입을 아이템으로 가질수있다.\n",
    "a3 = ['a', 10, 1.1, [1,23.1,'a']]"
   ]
  },
  {
   "cell_type": "code",
   "execution_count": 13,
   "id": "60f5062b",
   "metadata": {},
   "outputs": [
    {
     "data": {
      "text/plain": [
       "1"
      ]
     },
     "execution_count": 13,
     "metadata": {},
     "output_type": "execute_result"
    }
   ],
   "source": [
    "# 2차원 배열이며, 인덱스를 2개써야 하나의 값을 타겟으로 잡을수있다.\n",
    "a3[3][0]"
   ]
  },
  {
   "cell_type": "code",
   "execution_count": 14,
   "id": "671dc9f6",
   "metadata": {},
   "outputs": [
    {
     "data": {
      "text/plain": [
       "[1, 2, 3, [1, 2, 3, [1, 2]]]"
      ]
     },
     "execution_count": 14,
     "metadata": {},
     "output_type": "execute_result"
    }
   ],
   "source": [
    "# 3차원 배열 예시\n",
    "[1,2,3,[1,2,3,[1,2]]]"
   ]
  },
  {
   "cell_type": "markdown",
   "id": "0d97c6b8",
   "metadata": {},
   "source": [
    "## 2. 인덱싱, 슬라이싱\n",
    "\n",
    "리스트를 인덱스 번호로 접근하면 해당하는 위치의 값(아이템)을 가져온다.\n",
    "\n",
    "* 복습\n",
    "    - 첫번째 인덱스 번호는 ? = 0번 인덱스 = 첫번째아이템\n",
    "    - 마지막 인덱스 번호는 ? = -1 = 마지막아이템"
   ]
  },
  {
   "cell_type": "code",
   "execution_count": 19,
   "id": "5a838003",
   "metadata": {},
   "outputs": [],
   "source": [
    "a = [1,2,3,4,5,6,7,8,9]"
   ]
  },
  {
   "cell_type": "code",
   "execution_count": 20,
   "id": "41d5751c",
   "metadata": {},
   "outputs": [
    {
     "data": {
      "text/plain": [
       "6"
      ]
     },
     "execution_count": 20,
     "metadata": {},
     "output_type": "execute_result"
    }
   ],
   "source": [
    "# 리스트의 6이라는 아이템 가져오기\n",
    "a[5]"
   ]
  },
  {
   "cell_type": "code",
   "execution_count": 21,
   "id": "e247309b",
   "metadata": {},
   "outputs": [
    {
     "data": {
      "text/plain": [
       "9"
      ]
     },
     "execution_count": 21,
     "metadata": {},
     "output_type": "execute_result"
    }
   ],
   "source": [
    "#리스트의 마지막 값 확인하기\n",
    "a[-1]"
   ]
  },
  {
   "cell_type": "code",
   "execution_count": 25,
   "id": "97d470d5",
   "metadata": {},
   "outputs": [
    {
     "data": {
      "text/plain": [
       "9"
      ]
     },
     "execution_count": 25,
     "metadata": {},
     "output_type": "execute_result"
    }
   ],
   "source": [
    "# len()으로 길이확인 가능\n",
    "len(a)"
   ]
  },
  {
   "cell_type": "markdown",
   "id": "3c0b79b8",
   "metadata": {},
   "source": [
    "## 슬라이싱(slicing)\n",
    "\n",
    "- 정의 복습 : 연속된 범위에 있는 하나 또는 하나 이상의 여러개 아이템에 접근한다.\n",
    "- 문법기호 : 대상객체(문자열,리스트)[시작번호 : 끝번호 간격] => 끝번호는 포함하지 않는다."
   ]
  },
  {
   "cell_type": "markdown",
   "id": "cb1ecf30",
   "metadata": {},
   "source": [
    "### << 연습문제 >>\n",
    "\n",
    "다음의 4차원 리스트에서 아래 조건에 맞는 값을 출력해주세요.\n",
    "\n",
    "         a = [1,2,3, ['a', [100, 200, ['강남', '서울'], 300,], 'b', 'c']]\n",
    "         \n",
    "         출력 결과 = 강남 & 300 & c"
   ]
  },
  {
   "cell_type": "code",
   "execution_count": 26,
   "id": "166cb849",
   "metadata": {},
   "outputs": [],
   "source": [
    "a = [1,2,3, ['a', [100, 200, ['강남', '서울'], 300,], 'b', 'c']]"
   ]
  },
  {
   "cell_type": "code",
   "execution_count": 32,
   "id": "817ec87d",
   "metadata": {},
   "outputs": [
    {
     "name": "stdout",
     "output_type": "stream",
     "text": [
      "서울 & 300 & c\n"
     ]
    }
   ],
   "source": [
    "print(\"%s & %d & %s\"%(a[3][1][2][1], a[3][1][3], a[3][3]))"
   ]
  },
  {
   "cell_type": "code",
   "execution_count": 33,
   "id": "d805a4fa",
   "metadata": {},
   "outputs": [],
   "source": [
    "# 리스트끼리 연결 +\n",
    "a = [1,2,3]\n",
    "b = [4,5,6]"
   ]
  },
  {
   "cell_type": "code",
   "execution_count": 34,
   "id": "1b4af6ad",
   "metadata": {},
   "outputs": [
    {
     "data": {
      "text/plain": [
       "[1, 2, 3, 4, 5, 6]"
      ]
     },
     "execution_count": 34,
     "metadata": {},
     "output_type": "execute_result"
    }
   ],
   "source": [
    "a+b"
   ]
  },
  {
   "cell_type": "code",
   "execution_count": 36,
   "id": "0c9105db",
   "metadata": {},
   "outputs": [
    {
     "name": "stdout",
     "output_type": "stream",
     "text": [
      "[1, 2, 3] [4, 5, 6]\n"
     ]
    }
   ],
   "source": [
    "# +를 한다고 원본자료가 변하지는 않음\n",
    "print(a,b);"
   ]
  },
  {
   "cell_type": "code",
   "execution_count": 37,
   "id": "98373b69",
   "metadata": {},
   "outputs": [
    {
     "data": {
      "text/plain": [
       "[4, 5, 6, 4, 5, 6, 4, 5, 6]"
      ]
     },
     "execution_count": 37,
     "metadata": {},
     "output_type": "execute_result"
    }
   ],
   "source": [
    "# 리스트 대상 곱하기 * \n",
    "b * 3"
   ]
  },
  {
   "cell_type": "markdown",
   "id": "84a5a465",
   "metadata": {},
   "source": [
    "### 4. 리스트 타입의 함수 (method)\n",
    "* 종류\n",
    "\n",
    "    - 리스트.append(추가할 아이템) : 인자값을 통채로 리스트의 마지막 아이템으로 추가, 인자값은 1개만 받음 = 1개의 아이템만 추가 가능\n",
    "\n",
    "    - 리스트.extend(추가할 아이템) : 인자값의 아이템을 뽑아서 리스트의 마지막 아이템으로 추가, 인자값은 1개만 받음, 단 여러 개의 아이템 추가 가능\n",
    "    \n",
    "    - 리스트.insert(인덱스번호, 추가할 아이템) : 위치를 지정해서 아이템을 삽입할 수 있음, 통채로 아이템을 추가\n",
    "    \n",
    "    - 특징 : 원본에 바로 적용이 됨\n",
    "    \n",
    "    \n",
    "* 참고 연산자 : in 연산자 (결과값은 bool type)"
   ]
  },
  {
   "cell_type": "code",
   "execution_count": 41,
   "id": "61d79527",
   "metadata": {},
   "outputs": [
    {
     "data": {
      "text/plain": [
       "[1, 2, 3]"
      ]
     },
     "execution_count": 41,
     "metadata": {},
     "output_type": "execute_result"
    }
   ],
   "source": [
    "# 리스트 생성하기\n",
    "a= [1,2,3]\n",
    "a"
   ]
  },
  {
   "cell_type": "code",
   "execution_count": 42,
   "id": "0d2e0fd2",
   "metadata": {},
   "outputs": [
    {
     "data": {
      "text/plain": [
       "[1, 2, 3, 4]"
      ]
     },
     "execution_count": 42,
     "metadata": {},
     "output_type": "execute_result"
    }
   ],
   "source": [
    "# append()\n",
    "# 문법 : 리스트.append(추가할 아이템)\n",
    "a.append(4)\n",
    "a"
   ]
  },
  {
   "cell_type": "code",
   "execution_count": 43,
   "id": "584d28db",
   "metadata": {},
   "outputs": [],
   "source": [
    "a.append([5,6])"
   ]
  },
  {
   "cell_type": "code",
   "execution_count": 44,
   "id": "468b4108",
   "metadata": {},
   "outputs": [
    {
     "data": {
      "text/plain": [
       "[5, 6]"
      ]
     },
     "execution_count": 44,
     "metadata": {},
     "output_type": "execute_result"
    }
   ],
   "source": [
    "a[4]"
   ]
  },
  {
   "cell_type": "code",
   "execution_count": 45,
   "id": "fb775129",
   "metadata": {},
   "outputs": [
    {
     "data": {
      "text/plain": [
       "[1, 2, 3, 4, [5, 6], 7, 8, 9]"
      ]
     },
     "execution_count": 45,
     "metadata": {},
     "output_type": "execute_result"
    }
   ],
   "source": [
    "# extend()\n",
    "# 문법 : 대상리스트.extend(리스트)\n",
    "# append()와의 차이점 : 인자값으로 리스트만 받을수 있다.\n",
    "# 리스트 길이만큼 인덱스가 연장된다 (append는 무조건 1만큼 연장됨)\n",
    "a.extend([7,8,9])\n",
    "a\n"
   ]
  },
  {
   "cell_type": "code",
   "execution_count": 46,
   "id": "f3217f2c",
   "metadata": {},
   "outputs": [
    {
     "ename": "TypeError",
     "evalue": "'int' object is not iterable",
     "output_type": "error",
     "traceback": [
      "\u001b[1;31m---------------------------------------------------------------------------\u001b[0m",
      "\u001b[1;31mTypeError\u001b[0m                                 Traceback (most recent call last)",
      "\u001b[1;32m~\\AppData\\Local\\Temp/ipykernel_17804/1103722121.py\u001b[0m in \u001b[0;36m<module>\u001b[1;34m\u001b[0m\n\u001b[1;32m----> 1\u001b[1;33m \u001b[0ma\u001b[0m\u001b[1;33m.\u001b[0m\u001b[0mextend\u001b[0m\u001b[1;33m(\u001b[0m\u001b[1;36m0\u001b[0m\u001b[1;33m)\u001b[0m\u001b[1;33m\u001b[0m\u001b[1;33m\u001b[0m\u001b[0m\n\u001b[0m\u001b[0;32m      2\u001b[0m \u001b[0ma\u001b[0m\u001b[1;33m\u001b[0m\u001b[1;33m\u001b[0m\u001b[0m\n",
      "\u001b[1;31mTypeError\u001b[0m: 'int' object is not iterable"
     ]
    }
   ],
   "source": [
    "# extend는 무조건적으로 리스트로 넣어줘야합니다.\n",
    "# 그냥넣으면 에러터짐\n",
    "a.extend(0)\n",
    "a"
   ]
  },
  {
   "cell_type": "code",
   "execution_count": 47,
   "id": "3fd88cd0",
   "metadata": {},
   "outputs": [],
   "source": [
    "# insert()\n",
    "# 문법 : 대상리스트,insert(인덱스번호, 추가할아이템)\n",
    "# 다른함수와의 차이점 : 아이템 추가가 마지막 인덱스가 아닌 지정한 인덱스를 기준으로\n",
    "# append와 유사점 : 인덱스하나에 다 때려박음\n",
    "a.insert(0, 100);"
   ]
  },
  {
   "cell_type": "code",
   "execution_count": 48,
   "id": "a5341e7f",
   "metadata": {},
   "outputs": [
    {
     "data": {
      "text/plain": [
       "[100, 1, 2, 3, 4, [5, 6], 7, 8, 9]"
      ]
     },
     "execution_count": 48,
     "metadata": {},
     "output_type": "execute_result"
    }
   ],
   "source": [
    "a"
   ]
  },
  {
   "cell_type": "code",
   "execution_count": 49,
   "id": "6062f496",
   "metadata": {},
   "outputs": [
    {
     "data": {
      "text/plain": [
       "[[98, 99], 100, 1, 2, 3, 4, [5, 6], 7, 8, 9]"
      ]
     },
     "execution_count": 49,
     "metadata": {},
     "output_type": "execute_result"
    }
   ],
   "source": [
    "a.insert(0,[98,99])\n",
    "a"
   ]
  },
  {
   "cell_type": "code",
   "execution_count": 52,
   "id": "d8dbdb4b",
   "metadata": {},
   "outputs": [
    {
     "data": {
      "text/plain": [
       "False"
      ]
     },
     "execution_count": 52,
     "metadata": {},
     "output_type": "execute_result"
    }
   ],
   "source": [
    "# in 키워드는 특정 요소가 리스트 내부에 존재하는지여부를 확인합니다.\n",
    "99 in a"
   ]
  },
  {
   "cell_type": "code",
   "execution_count": 54,
   "id": "78193fe1",
   "metadata": {},
   "outputs": [
    {
     "data": {
      "text/plain": [
       "True"
      ]
     },
     "execution_count": 54,
     "metadata": {},
     "output_type": "execute_result"
    }
   ],
   "source": [
    "# 99의 위치는 a[0][1]이다 그렇게때문에 99의 위치를 물어볼려면 99 in a[0]으로 접근해야한다\n",
    "99 in a[0]"
   ]
  },
  {
   "cell_type": "code",
   "execution_count": 55,
   "id": "d30d273f",
   "metadata": {},
   "outputs": [
    {
     "data": {
      "text/plain": [
       "True"
      ]
     },
     "execution_count": 55,
     "metadata": {},
     "output_type": "execute_result"
    }
   ],
   "source": [
    "# not in 키워드는 특정요소가 리스트 내부에 없는지를 물어봅니다.\n",
    "# 값 not in 리스트\n",
    "# 50이 a리스트에 없습니까? -> 50 not in a\n",
    "10 not in a"
   ]
  },
  {
   "cell_type": "markdown",
   "id": "f63fe616",
   "metadata": {},
   "source": [
    "### << 연습문제>>\n",
    "아래에 순서에 맞추어 직접 실행해보세요\n"
   ]
  },
  {
   "cell_type": "code",
   "execution_count": 56,
   "id": "025453f9",
   "metadata": {},
   "outputs": [
    {
     "name": "stdout",
     "output_type": "stream",
     "text": [
      "[1, 2, '100', 3, ['A', 'B'], 1, 2, '100', 3, ['A', 'B']]\n"
     ]
    }
   ],
   "source": [
    "l = []\n",
    "l.extend([1,2,3])\n",
    "l.insert(2,'100')\n",
    "l.append([\"A\",\"B\"])\n",
    "print(l*2)"
   ]
  },
  {
   "cell_type": "markdown",
   "id": "b5ccd5bd",
   "metadata": {},
   "source": [
    "### 5. 아이템 수정하기\n",
    "\n",
    "- 인덱싱 슬라이싱을 이용해서 수정할수 있다"
   ]
  },
  {
   "cell_type": "code",
   "execution_count": 2,
   "id": "3ef2f468",
   "metadata": {},
   "outputs": [],
   "source": [
    "# 리스트 생성하기\n",
    "a =[1,2,3,4]\n"
   ]
  },
  {
   "cell_type": "code",
   "execution_count": 3,
   "id": "ab0815a1",
   "metadata": {},
   "outputs": [
    {
     "data": {
      "text/plain": [
       "[[10, 20], 2, 3, 4]"
      ]
     },
     "execution_count": 3,
     "metadata": {},
     "output_type": "execute_result"
    }
   ],
   "source": [
    "# 하나의 아이템 수정하기\n",
    "# 0번 인덱스에 있는 값을 [10,20]으로 수정하기\n",
    "# 결과 : [[10,20],2,3,4]\n",
    "a[0]=[10,20]\n",
    "a"
   ]
  },
  {
   "cell_type": "code",
   "execution_count": 10,
   "id": "eeef8d2b",
   "metadata": {},
   "outputs": [
    {
     "data": {
      "text/plain": [
       "[100, 2, 3, 4]"
      ]
     },
     "execution_count": 10,
     "metadata": {},
     "output_type": "execute_result"
    }
   ],
   "source": [
    "# 연속된 범위의 여러 아이템 수정하기\n",
    "# 0 번 인덱스만 선택 => 슬라이싱으로 선택\n",
    "a2 = [1,2,3,4]\n",
    "# a2[0:1;[10:20]]\n",
    "a2[0:1] = [100]\n",
    "a2"
   ]
  },
  {
   "cell_type": "markdown",
   "id": "7f68923b",
   "metadata": {},
   "source": [
    "## << 연습문제>>\n",
    "아래 조건에 맞추어 리스트를 수정하세요\n",
    "[10,99,3'사과',73,'바나나]\n",
    "사과를 apple로 수정\n",
    "99,3 을 9, 33수정\n",
    "73을 [73,74]로 수정\n"
   ]
  },
  {
   "cell_type": "code",
   "execution_count": 23,
   "id": "c8311779",
   "metadata": {},
   "outputs": [],
   "source": [
    "l = [10,99,3,'사과',73,'바나나']"
   ]
  },
  {
   "cell_type": "code",
   "execution_count": 24,
   "id": "0d8c80de",
   "metadata": {},
   "outputs": [
    {
     "data": {
      "text/plain": [
       "[10, 99, 3, 'apple', 73, '바나나']"
      ]
     },
     "execution_count": 24,
     "metadata": {},
     "output_type": "execute_result"
    }
   ],
   "source": [
    "l[3] = 'apple'\n",
    "l"
   ]
  },
  {
   "cell_type": "code",
   "execution_count": 25,
   "id": "451dc431",
   "metadata": {},
   "outputs": [
    {
     "data": {
      "text/plain": [
       "[10, 9, 33, 'apple', 73, '바나나']"
      ]
     },
     "execution_count": 25,
     "metadata": {},
     "output_type": "execute_result"
    }
   ],
   "source": [
    "l[1:3] = [9,33]\n",
    "l"
   ]
  },
  {
   "cell_type": "code",
   "execution_count": 26,
   "id": "2617ab02",
   "metadata": {},
   "outputs": [
    {
     "data": {
      "text/plain": [
       "[10, 9, 33, 'apple', [73, 74], '바나나']"
      ]
     },
     "execution_count": 26,
     "metadata": {},
     "output_type": "execute_result"
    }
   ],
   "source": [
    "l[4] = [73,74]\n",
    "l"
   ]
  },
  {
   "cell_type": "markdown",
   "id": "702d4777",
   "metadata": {},
   "source": [
    "### 6. 아이템 삭제하기\n",
    "- 슬라이싱\n",
    "- del키워드 + 인덱싱/슬라이싱\n",
    "- remove() 메서드 : 값을 기준으로 삭제\n",
    "- pop()\n",
    "    - 인자값에 아무것도 입력하지 않거나 -1 입력하면 마지막 인덱스르르 삭제\n",
    "    - 특정 인덱스를 지정하여 삭제"
   ]
  },
  {
   "cell_type": "code",
   "execution_count": 34,
   "id": "3307aa38",
   "metadata": {},
   "outputs": [],
   "source": [
    "#리스트 생성하기\n",
    "a1 = [10,20,30,40,50]\n",
    "a2 = [10,20,30,40,50]"
   ]
  },
  {
   "cell_type": "code",
   "execution_count": 35,
   "id": "222d520c",
   "metadata": {},
   "outputs": [
    {
     "data": {
      "text/plain": [
       "[20, 30, 40, 50]"
      ]
     },
     "execution_count": 35,
     "metadata": {},
     "output_type": "execute_result"
    }
   ],
   "source": [
    "# 하나의 아이템 삭제하기 1 - 슬라이싱 + 빈 리스트 대입\n",
    "# 0번 인덱스 값 삭제하기\n",
    "a1[0:1] = []\n",
    "a1"
   ]
  },
  {
   "cell_type": "code",
   "execution_count": 36,
   "id": "d71fbb5f",
   "metadata": {},
   "outputs": [
    {
     "data": {
      "text/plain": [
       "[[], 20, 30, 40, 50]"
      ]
     },
     "execution_count": 36,
     "metadata": {},
     "output_type": "execute_result"
    }
   ],
   "source": [
    "# 만약 슬라이싱이 아닌 인덱싱을 이용한 빈리스트 대입시는 빈 리스트가 해당번호에 대입\n",
    "a2[0] = []\n",
    "a2\n"
   ]
  },
  {
   "cell_type": "code",
   "execution_count": 37,
   "id": "fec80c55",
   "metadata": {},
   "outputs": [],
   "source": [
    "# 하나의 아이템 삭제하기 - del 키워드  + 인덱싱\n",
    "del a1[-1]"
   ]
  },
  {
   "cell_type": "code",
   "execution_count": 38,
   "id": "2be31ae9",
   "metadata": {},
   "outputs": [
    {
     "data": {
      "text/plain": [
       "[20, 30, 40]"
      ]
     },
     "execution_count": 38,
     "metadata": {},
     "output_type": "execute_result"
    }
   ],
   "source": [
    "a1"
   ]
  },
  {
   "cell_type": "code",
   "execution_count": 46,
   "id": "988e6d84",
   "metadata": {},
   "outputs": [],
   "source": [
    "# 하나의 아이템 삭제하기 3- remove() 메서드\n",
    "# 문법 : 리스트, remove(삭제할 자료를 직접 기입(인덱스가 아님!!))\n",
    "a = [1,2,3,3,3,4,5]"
   ]
  },
  {
   "cell_type": "code",
   "execution_count": 47,
   "id": "3c3644bb",
   "metadata": {},
   "outputs": [
    {
     "data": {
      "text/plain": [
       "[1, 2, 3, 3, 3, 4]"
      ]
     },
     "execution_count": 47,
     "metadata": {},
     "output_type": "execute_result"
    }
   ],
   "source": [
    "# 5라는 값을 삭제(인덱스 번호로는 6)\n",
    "a.remove(5)\n",
    "a"
   ]
  },
  {
   "cell_type": "code",
   "execution_count": 48,
   "id": "80cfabd2",
   "metadata": {},
   "outputs": [
    {
     "data": {
      "text/plain": [
       "4"
      ]
     },
     "execution_count": 48,
     "metadata": {},
     "output_type": "execute_result"
    }
   ],
   "source": [
    "a.pop() #인덱스번호를 미기입하면 마지막자료 삭제\n"
   ]
  },
  {
   "cell_type": "code",
   "execution_count": 50,
   "id": "f7d1a2f3",
   "metadata": {},
   "outputs": [
    {
     "data": {
      "text/plain": [
       "[1, 2, 3, 3, 3]"
      ]
     },
     "execution_count": 50,
     "metadata": {},
     "output_type": "execute_result"
    }
   ],
   "source": [
    "a"
   ]
  },
  {
   "cell_type": "markdown",
   "id": "5dd1bc08",
   "metadata": {},
   "source": [
    "### 7. 아이템 정렬하기\n",
    "* 함수\n",
    "    - sort() : 기본동작 = 오름차순 정렬(작은값이 먼저오고 큰값이 나중에)\n",
    "    - reverse() : 기존 리스트의 처음과 마지막 순서를 뒤집어서 나열"
   ]
  },
  {
   "cell_type": "code",
   "execution_count": 51,
   "id": "9044fa52",
   "metadata": {},
   "outputs": [],
   "source": [
    "a = [10, -30, 57, -33, 71, 1, 34, -2]"
   ]
  },
  {
   "cell_type": "code",
   "execution_count": null,
   "id": "a618339d",
   "metadata": {},
   "outputs": [],
   "source": [
    "# sort와 reverse는 사용시 원본 자료가 변경이 됩니다."
   ]
  },
  {
   "cell_type": "code",
   "execution_count": 53,
   "id": "0524a88e",
   "metadata": {},
   "outputs": [
    {
     "data": {
      "text/plain": [
       "[-33, -30, -2, 1, 10, 34, 57, 71]"
      ]
     },
     "execution_count": 53,
     "metadata": {},
     "output_type": "execute_result"
    }
   ],
   "source": [
    "a.sort()\n",
    "a"
   ]
  },
  {
   "cell_type": "code",
   "execution_count": 56,
   "id": "6ad175fd",
   "metadata": {},
   "outputs": [
    {
     "data": {
      "text/plain": [
       "[71, 57, 34, 10, 1, -2, -30, -33]"
      ]
     },
     "execution_count": 56,
     "metadata": {},
     "output_type": "execute_result"
    }
   ],
   "source": [
    "# 값을 오름차순이 아닌 내림차순으로 정렬하는경우 : sort(reverse=True)\n",
    "a.sort(reverse=True)\n",
    "a"
   ]
  },
  {
   "cell_type": "code",
   "execution_count": 57,
   "id": "f214186b",
   "metadata": {},
   "outputs": [],
   "source": [
    "#값을 인덱스기준으로 반대로 뒤집기 : reverse()\n",
    "b= [10,71,32,46,5,95]"
   ]
  },
  {
   "cell_type": "code",
   "execution_count": 58,
   "id": "828f49dd",
   "metadata": {},
   "outputs": [
    {
     "data": {
      "text/plain": [
       "[95, 5, 46, 32, 71, 10]"
      ]
     },
     "execution_count": 58,
     "metadata": {},
     "output_type": "execute_result"
    }
   ],
   "source": [
    "b.reverse()\n",
    "b"
   ]
  },
  {
   "cell_type": "markdown",
   "id": "716c0097",
   "metadata": {},
   "source": [
    "### 8. 아이템 갯수 세기\n",
    "* 함수\n",
    "    - 리스트.count(값) : 값이 리스트에 몇 개 있는지 개수를 반환 => 특정 아이템의 개수를 반환\n",
    "    \n",
    "    - len() : 파이썬 내장함수, 인자값으로 전달받은 객체의 길이 => 전체 아이템의 개수를 반환"
   ]
  },
  {
   "cell_type": "code",
   "execution_count": 67,
   "id": "73f436b7",
   "metadata": {},
   "outputs": [],
   "source": [
    "a = [1,2,3,4,5,6,7,4,4,6,7]"
   ]
  },
  {
   "cell_type": "code",
   "execution_count": 68,
   "id": "56779a0e",
   "metadata": {},
   "outputs": [
    {
     "data": {
      "text/plain": [
       "2"
      ]
     },
     "execution_count": 68,
     "metadata": {},
     "output_type": "execute_result"
    }
   ],
   "source": [
    "# 특정 아이템의 개수 : count()\n",
    "a.count(7)"
   ]
  },
  {
   "cell_type": "code",
   "execution_count": 69,
   "id": "3c13783f",
   "metadata": {},
   "outputs": [
    {
     "data": {
      "text/plain": [
       "11"
      ]
     },
     "execution_count": 69,
     "metadata": {},
     "output_type": "execute_result"
    }
   ],
   "source": [
    "# 전체 아이템의 개수 : len()\n",
    "len(a)"
   ]
  },
  {
   "cell_type": "markdown",
   "id": "a5c85a7e",
   "metadata": {},
   "source": [
    "### 9. 리스트 복사하기\n",
    "* 할당기호(=)\n",
    "* copy() 메서드\n",
    "* list()\n",
    "* 슬라이싱"
   ]
  },
  {
   "cell_type": "code",
   "execution_count": 75,
   "id": "1ecb27d3",
   "metadata": {},
   "outputs": [
    {
     "name": "stdout",
     "output_type": "stream",
     "text": [
      "[1, 2, 3, 4, 5] [1, 2, 3, 4, 5]\n"
     ]
    }
   ],
   "source": [
    "# 1. 할당기호\n",
    "a = [1,2,3,4,5]\n",
    "b = a\n",
    "print(a,b)"
   ]
  },
  {
   "cell_type": "code",
   "execution_count": 76,
   "id": "dc7d324e",
   "metadata": {},
   "outputs": [
    {
     "data": {
      "text/plain": [
       "[1, 2, 3, 4, 5]"
      ]
     },
     "execution_count": 76,
     "metadata": {},
     "output_type": "execute_result"
    }
   ],
   "source": [
    "# 2.copy() 로 메서드 복사\n",
    "c = a.copy()\n",
    "a"
   ]
  },
  {
   "cell_type": "code",
   "execution_count": 77,
   "id": "55219ee5",
   "metadata": {},
   "outputs": [
    {
     "name": "stdout",
     "output_type": "stream",
     "text": [
      "2305501947392 2305501904832\n"
     ]
    }
   ],
   "source": [
    "# 파이썬은 id(자료)를 이용해 저장된 번지수 주소를 조회ㅏ\\\n",
    "print(id(a), id(c))"
   ]
  },
  {
   "cell_type": "code",
   "execution_count": 78,
   "id": "29627e1a",
   "metadata": {},
   "outputs": [
    {
     "name": "stdout",
     "output_type": "stream",
     "text": [
      "[1, 2, 20, 4, 5] [1, 2, 20, 4, 5] [1, 2, 3, 4, 5]\n"
     ]
    }
   ],
   "source": [
    "# a를 변경해도 c는 바뀌지않습니다.\n",
    "a[2] = 20\n",
    "print(a,b,c)"
   ]
  },
  {
   "cell_type": "code",
   "execution_count": 83,
   "id": "97172390",
   "metadata": {},
   "outputs": [],
   "source": [
    "# 3. list()로 복사하기\n",
    "# list(자료)를  넣으면 그 자료를 힙에 새롭게 할당해 리스트화합니다\n",
    "d = list(c)"
   ]
  },
  {
   "cell_type": "code",
   "execution_count": 84,
   "id": "51b3a323",
   "metadata": {},
   "outputs": [
    {
     "name": "stdout",
     "output_type": "stream",
     "text": [
      "[1, 2, 3, 4, 5] [1, 2, 3, 4, 5]\n"
     ]
    }
   ],
   "source": [
    "print(c,d)"
   ]
  },
  {
   "cell_type": "code",
   "execution_count": 85,
   "id": "48beb886",
   "metadata": {},
   "outputs": [
    {
     "name": "stdout",
     "output_type": "stream",
     "text": [
      "2305501904832 2305501962624\n"
     ]
    }
   ],
   "source": [
    "# 깊은복사 여부 확인\n",
    "print(id(c), id(d))"
   ]
  },
  {
   "cell_type": "code",
   "execution_count": 86,
   "id": "779975fa",
   "metadata": {},
   "outputs": [
    {
     "name": "stdout",
     "output_type": "stream",
     "text": [
      "2305501962624 2305501904768\n"
     ]
    }
   ],
   "source": [
    "# 4. 슬라이싱으로 복사하기\n",
    "e = d[:]\n",
    "print(id(d), id(e))"
   ]
  },
  {
   "cell_type": "markdown",
   "id": "134f6f81",
   "metadata": {},
   "source": [
    "### <<연습문제>>\n",
    "1. a리스트를 이용하여 다음과 같은 문자열을 출력하시오\n",
    "\n",
    " 출력문: you too"
   ]
  },
  {
   "cell_type": "code",
   "execution_count": 87,
   "id": "d97684d3",
   "metadata": {},
   "outputs": [],
   "source": [
    "a = ['Life', 'is', 'too', 'short', 'you', 'need', 'python']"
   ]
  },
  {
   "cell_type": "code",
   "execution_count": 89,
   "id": "8e92aa95",
   "metadata": {},
   "outputs": [
    {
     "name": "stdout",
     "output_type": "stream",
     "text": [
      "you too\n"
     ]
    }
   ],
   "source": [
    "print(a[4], a[2])"
   ]
  },
  {
   "cell_type": "code",
   "execution_count": null,
   "id": "7f04a156",
   "metadata": {},
   "outputs": [],
   "source": [
    "# 리스트의 길이도 구하세요\n",
    "len(a)"
   ]
  },
  {
   "cell_type": "code",
   "execution_count": 92,
   "id": "3935b0e7",
   "metadata": {},
   "outputs": [
    {
     "data": {
      "text/plain": [
       "[7, 'Life', 'is', 'too', 'short', 'you', 'need', 'python']"
      ]
     },
     "execution_count": 92,
     "metadata": {},
     "output_type": "execute_result"
    }
   ],
   "source": [
    "# 3. 리스트이 첫번째 아이템에 길이를 추가하세요\n",
    "a.insert(0, len(a))"
   ]
  },
  {
   "cell_type": "code",
   "execution_count": 93,
   "id": "519e9f3e",
   "metadata": {},
   "outputs": [],
   "source": [
    "# 4. 아래와 같이 크기 순서가 없는 리스트를 만들고 내림차순으로 정렬로 바꿔보세요\n",
    "a = [1,4,9,2,6,10]\n"
   ]
  },
  {
   "cell_type": "code",
   "execution_count": 94,
   "id": "48a7a18d",
   "metadata": {},
   "outputs": [
    {
     "data": {
      "text/plain": [
       "[10, 9, 6, 4, 2, 1]"
      ]
     },
     "execution_count": 94,
     "metadata": {},
     "output_type": "execute_result"
    }
   ],
   "source": [
    "a.sort(reverse=True)\n",
    "a"
   ]
  },
  {
   "cell_type": "code",
   "execution_count": null,
   "id": "6cdfeccb",
   "metadata": {},
   "outputs": [],
   "source": []
  },
  {
   "cell_type": "code",
   "execution_count": 109,
   "id": "41d58703",
   "metadata": {},
   "outputs": [
    {
     "data": {
      "text/plain": [
       "[2, 4, 6, 8, 10]"
      ]
     },
     "execution_count": 109,
     "metadata": {},
     "output_type": "execute_result"
    }
   ],
   "source": [
    "# 5. 다음과 같은 아이템을 가지는 리스트를 만들고 아이템을 삭제해보세요.\n",
    "a = [1,2,3,4,5,6,7,8,9,10]\n",
    "# 결과 2,4,6,8,10\n",
    "del a[::2]\n",
    "a"
   ]
  },
  {
   "cell_type": "markdown",
   "id": "254cb523",
   "metadata": {},
   "source": [
    "## 자료형 - Tuple\n",
    "- 생성 문법 기호 : ()\n",
    "- 아이템을 수정/ 삭제할수 없기 때문에 실수로 데이터가 변경되거나 삭제되는 위험이 적다\n",
    "- 객체를 저장하는데 더 적은 메모리를 사용한다\n",
    "- dictionay 자료형의 key로 활용할수있다\n",
    "- 함수의 인자는 tuple 자료형으로 전달된다"
   ]
  },
  {
   "cell_type": "code",
   "execution_count": null,
   "id": "60faaf26",
   "metadata": {},
   "outputs": [],
   "source": [
    "### 1. 생성하기"
   ]
  },
  {
   "cell_type": "code",
   "execution_count": 110,
   "id": "ba979739",
   "metadata": {},
   "outputs": [
    {
     "data": {
      "text/plain": [
       "list"
      ]
     },
     "execution_count": 110,
     "metadata": {},
     "output_type": "execute_result"
    }
   ],
   "source": [
    "#하나의 아이템을 가진 리스트\n",
    "a = [1]\n",
    "type(a)"
   ]
  },
  {
   "cell_type": "code",
   "execution_count": 112,
   "id": "57e75022",
   "metadata": {},
   "outputs": [
    {
     "data": {
      "text/plain": [
       "tuple"
      ]
     },
     "execution_count": 112,
     "metadata": {},
     "output_type": "execute_result"
    }
   ],
   "source": [
    "# 문법기호 ; 튜플은 ()를 이용해 생성하되 생략이 가능함. 단 쉼표는 무조건 1개이상 들어감\n",
    "tu = (1,)\n",
    "type(tu)"
   ]
  },
  {
   "cell_type": "code",
   "execution_count": 114,
   "id": "e3022fed",
   "metadata": {},
   "outputs": [
    {
     "name": "stdout",
     "output_type": "stream",
     "text": [
      "<class 'list'> <class 'tuple'>\n"
     ]
    }
   ],
   "source": [
    "# tuble(리스트)로 처리하면 리스트를 튜플로 변환할수 있다.\n",
    "b =  tuple(a)\n",
    "print(type(a), type(b))"
   ]
  },
  {
   "cell_type": "code",
   "execution_count": 116,
   "id": "f4942ce9",
   "metadata": {},
   "outputs": [
    {
     "data": {
      "text/plain": [
       "(56, 68, 29, 100)"
      ]
     },
     "execution_count": 116,
     "metadata": {},
     "output_type": "execute_result"
    }
   ],
   "source": [
    "# 변수 하나에 여러 값을 대입하면 튜플로 간주된다\n",
    "x = 56,68,29,100\n",
    "x"
   ]
  },
  {
   "cell_type": "code",
   "execution_count": 118,
   "id": "beeb09a5",
   "metadata": {},
   "outputs": [
    {
     "name": "stdout",
     "output_type": "stream",
     "text": [
      "1 2 3\n"
     ]
    }
   ],
   "source": [
    "# 튜플 내부의 자료 개수만큼 변수를대입해주면 하나씩 나눠서 값을 받는다\n",
    "x1, x2,x3 = 1,2,3\n",
    "print(x1,x2,x3)"
   ]
  },
  {
   "cell_type": "markdown",
   "id": "f9437868",
   "metadata": {},
   "source": [
    "###  2) 인덱싱"
   ]
  },
  {
   "cell_type": "code",
   "execution_count": 120,
   "id": "c2575153",
   "metadata": {},
   "outputs": [
    {
     "data": {
      "text/plain": [
       "100"
      ]
     },
     "execution_count": 120,
     "metadata": {},
     "output_type": "execute_result"
    }
   ],
   "source": [
    "x[3]"
   ]
  },
  {
   "cell_type": "markdown",
   "id": "23bd6b3b",
   "metadata": {},
   "source": [
    "### 3) 슬라이싱"
   ]
  },
  {
   "cell_type": "code",
   "execution_count": 121,
   "id": "7ea89fe8",
   "metadata": {},
   "outputs": [
    {
     "data": {
      "text/plain": [
       "(56, 68, 29)"
      ]
     },
     "execution_count": 121,
     "metadata": {},
     "output_type": "execute_result"
    }
   ],
   "source": [
    "x[:3]"
   ]
  },
  {
   "cell_type": "markdown",
   "id": "bd64f2ba",
   "metadata": {},
   "source": [
    "### 4. 튜플 연산자\n",
    "* 산술연산자 : + *"
   ]
  },
  {
   "cell_type": "code",
   "execution_count": 122,
   "id": "d7b851f8",
   "metadata": {},
   "outputs": [
    {
     "data": {
      "text/plain": [
       "(56, 68, 29, 100, 56, 68, 29, 100)"
      ]
     },
     "execution_count": 122,
     "metadata": {},
     "output_type": "execute_result"
    }
   ],
   "source": [
    "# 여러개의 튜플 아이템을 합쳐서 새로운 튜플로 구성하기 : +\n",
    "x + x"
   ]
  },
  {
   "cell_type": "code",
   "execution_count": 123,
   "id": "e6c5180e",
   "metadata": {},
   "outputs": [
    {
     "data": {
      "text/plain": [
       "(56, 68, 29, 100, 56, 68, 29, 100, 56, 68, 29, 100, 56, 68, 29, 100)"
      ]
     },
     "execution_count": 123,
     "metadata": {},
     "output_type": "execute_result"
    }
   ],
   "source": [
    "#한개의 튜플을 반복해서 확장해서 새로운 튜플 만들기\n",
    "x * 4"
   ]
  },
  {
   "cell_type": "code",
   "execution_count": 124,
   "id": "9a77a247",
   "metadata": {},
   "outputs": [
    {
     "ename": "TypeError",
     "evalue": "'tuple' object does not support item assignment",
     "output_type": "error",
     "traceback": [
      "\u001b[1;31m---------------------------------------------------------------------------\u001b[0m",
      "\u001b[1;31mTypeError\u001b[0m                                 Traceback (most recent call last)",
      "\u001b[1;32m~\\AppData\\Local\\Temp/ipykernel_3524/3144197599.py\u001b[0m in \u001b[0;36m<module>\u001b[1;34m\u001b[0m\n\u001b[0;32m      1\u001b[0m \u001b[1;31m### 5. 수정/삭제할수없는튜플\u001b[0m\u001b[1;33m\u001b[0m\u001b[1;33m\u001b[0m\u001b[0m\n\u001b[1;32m----> 2\u001b[1;33m \u001b[0mx\u001b[0m\u001b[1;33m[\u001b[0m\u001b[1;36m0\u001b[0m\u001b[1;33m]\u001b[0m \u001b[1;33m=\u001b[0m \u001b[1;36m0\u001b[0m\u001b[1;33m\u001b[0m\u001b[1;33m\u001b[0m\u001b[0m\n\u001b[0m",
      "\u001b[1;31mTypeError\u001b[0m: 'tuple' object does not support item assignment"
     ]
    }
   ],
   "source": [
    "### 5. 수정/삭제할수없는튜플\n",
    "x[0] = 0"
   ]
  },
  {
   "cell_type": "code",
   "execution_count": 125,
   "id": "87730775",
   "metadata": {},
   "outputs": [
    {
     "ename": "TypeError",
     "evalue": "'tuple' object doesn't support item deletion",
     "output_type": "error",
     "traceback": [
      "\u001b[1;31m---------------------------------------------------------------------------\u001b[0m",
      "\u001b[1;31mTypeError\u001b[0m                                 Traceback (most recent call last)",
      "\u001b[1;32m~\\AppData\\Local\\Temp/ipykernel_3524/3424381924.py\u001b[0m in \u001b[0;36m<module>\u001b[1;34m\u001b[0m\n\u001b[0;32m      1\u001b[0m \u001b[1;31m# 삭제하기 - del키워드 + 인덱싱\u001b[0m\u001b[1;33m\u001b[0m\u001b[1;33m\u001b[0m\u001b[0m\n\u001b[1;32m----> 2\u001b[1;33m \u001b[1;32mdel\u001b[0m \u001b[0mx\u001b[0m\u001b[1;33m[\u001b[0m\u001b[1;36m0\u001b[0m\u001b[1;33m]\u001b[0m\u001b[1;33m\u001b[0m\u001b[1;33m\u001b[0m\u001b[0m\n\u001b[0m",
      "\u001b[1;31mTypeError\u001b[0m: 'tuple' object doesn't support item deletion"
     ]
    }
   ],
   "source": [
    "# 삭제하기 - del키워드 + 인덱싱\n",
    "del x[0]"
   ]
  },
  {
   "cell_type": "code",
   "execution_count": null,
   "id": "369b10f5",
   "metadata": {},
   "outputs": [],
   "source": []
  },
  {
   "cell_type": "code",
   "execution_count": null,
   "id": "16b9d5d2",
   "metadata": {},
   "outputs": [],
   "source": []
  },
  {
   "cell_type": "code",
   "execution_count": null,
   "id": "98691287",
   "metadata": {},
   "outputs": [],
   "source": []
  },
  {
   "cell_type": "code",
   "execution_count": null,
   "id": "5b17f255",
   "metadata": {},
   "outputs": [],
   "source": []
  },
  {
   "cell_type": "code",
   "execution_count": null,
   "id": "2968bc89",
   "metadata": {},
   "outputs": [],
   "source": []
  },
  {
   "cell_type": "code",
   "execution_count": null,
   "id": "8eb6fb2c",
   "metadata": {},
   "outputs": [],
   "source": []
  },
  {
   "cell_type": "code",
   "execution_count": null,
   "id": "3b4b5090",
   "metadata": {},
   "outputs": [],
   "source": []
  },
  {
   "cell_type": "code",
   "execution_count": null,
   "id": "48fc0a56",
   "metadata": {},
   "outputs": [],
   "source": []
  },
  {
   "cell_type": "code",
   "execution_count": null,
   "id": "72aa93e3",
   "metadata": {},
   "outputs": [],
   "source": []
  },
  {
   "cell_type": "code",
   "execution_count": null,
   "id": "d9809a5a",
   "metadata": {},
   "outputs": [],
   "source": []
  },
  {
   "cell_type": "code",
   "execution_count": null,
   "id": "0d90ab35",
   "metadata": {},
   "outputs": [],
   "source": []
  }
 ],
 "metadata": {
  "kernelspec": {
   "display_name": "Python 3 (ipykernel)",
   "language": "python",
   "name": "python3"
  },
  "language_info": {
   "codemirror_mode": {
    "name": "ipython",
    "version": 3
   },
   "file_extension": ".py",
   "mimetype": "text/x-python",
   "name": "python",
   "nbconvert_exporter": "python",
   "pygments_lexer": "ipython3",
   "version": "3.9.7"
  }
 },
 "nbformat": 4,
 "nbformat_minor": 5
}

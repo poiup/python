{
 "cells": [
  {
   "cell_type": "markdown",
   "id": "6317b353",
   "metadata": {},
   "source": [
    "# << 제어문 >>\n",
    "\n",
    "\n",
    "\n",
    "## 1. 조건문(if , elif, else)\n",
    "\n",
    "주어진 조건을 판단하여 해당 조건이 참일 때와 거짓일 때에 맞는 명령문을 수행하는 것\n",
    "\n",
    "▶ 기본 문법 \n",
    "\n",
    "        if 조건문1 :\n",
    "            조건문1이 참일 때 실행할 문장1\n",
    "            조건문1이 참일 때 실행할 문장2\n",
    "        elif 조건문2 :\n",
    "            (조건문1이 거짓일 때 elif 블럭으로 이동)\n",
    "            조건문2가 참일 때 실행할 문장1\n",
    "            조건문2가 참일 때 실행할 문장2\n",
    "            조건문2가 참일 때 실행할 문장2\n",
    "        else :\n",
    "            조건문1, 조건문2가 모두 거짓일 때 실행할 문장1\n",
    "            조건문1, 조건문2가 모두 거짓일 때 실행할 문장2\n",
    "            \n",
    "        \n",
    "        => elif, else는 상황에 따라 생략될 수 있다.\n",
    "\n",
    "▶ 주의해야할 문법 : \n",
    "\n",
    "- 조건문 및 else 뒤에 반드시 콜론(:)을 써야 한다.\n",
    "\n",
    "\n",
    "- 조건문이 있는 문장 하위에 속하는 실행문장들은 반드시 한 번 들여쓰기 되어야 한다. ( 자동 / tab / space 4번)\n",
    "\n",
    "\n",
    "- 각 조건문이 참/거짓일 때 실행되는 문장이 무엇인지 알아야 한다.\n",
    "\n",
    "\n",
    "- else는 조건문을 작성하지 않는다.\n",
    "\n",
    "\n",
    "▶ 조건문 : 참(True)과 거짓(False)으로 구분되는 문장\n",
    "\n",
    "- 비교 연산자를 사용한 조건문 : >, <, >=, <=, ==, !=\n",
    "\n",
    "\n",
    "- 값을 이용한 조건문 : 무조건 참, 무조건 거짓\n",
    "\n",
    "\n",
    "- 논리 연산자를 사용한 조건문 : and, or, not\n",
    "\n",
    "\n",
    "- IN 연산자를 사용한 조건문\n",
    "\n",
    "cf. True vs False \n",
    "     - bool type : True, False 값의 타입\n",
    "    "
   ]
  },
  {
   "cell_type": "code",
   "execution_count": null,
   "id": "44dff475",
   "metadata": {},
   "outputs": [],
   "source": [
    "# 논리 연산자를 사용한 조건\n",
    "monye = 1000\n",
    "\n",
    "if(monye >= 5000):\n",
    "    print(\"백반을먹습니다\")\n",
    "else if(money) 1000\n",
    "    print(\"컵라면을 먹습니다.\")\n",
    "else :\n",
    "    print(\"굶습니다.\")"
   ]
  },
  {
   "cell_type": "code",
   "execution_count": null,
   "id": "af48c4d3",
   "metadata": {},
   "outputs": [],
   "source": [
    "money = 5000\n",
    "fno not money > 7000 :\n",
    "    print(\"라면을 먹습니다.\")"
   ]
  },
  {
   "cell_type": "markdown",
   "id": "efe8eeae",
   "metadata": {},
   "source": [
    "### 2. elif 조건문\n",
    "\n",
    "- 개수에 제한이 없다.\n",
    "\n",
    "\n",
    "- 여러 개의 조건문이 존재할 경우 각각의 시작 조건은 별도로 작성하지 않아도 자동으로 생성된다.\n",
    "\n",
    "If <조건문1>:\n",
    "\n",
    "    <수행할 문장1> \n",
    "    \n",
    "    <수행할 문장2>\n",
    "\n",
    "elif <조건문2>:\n",
    "\n",
    "    <수행할 문장1>\n",
    "    \n",
    "    <수행할 문장2>\n",
    "\n",
    "elif <조건문3>:\n",
    "\n",
    "    <수행할 문장1>\n",
    "    \n",
    "    <수행할 문장2>\n",
    "    \n",
    "... (원하는 만큼 elif문 작성 가능)\n",
    "\n",
    "else:\n",
    "\n",
    "    <수행할 문장1>\n",
    "    \n",
    "    <수행할 문장2>ㅡ"
   ]
  },
  {
   "cell_type": "code",
   "execution_count": 5,
   "id": "f6113d1c",
   "metadata": {},
   "outputs": [
    {
     "name": "stdout",
     "output_type": "stream",
     "text": [
      "0입니다\n"
     ]
    }
   ],
   "source": [
    "integer = 0\n",
    "if integer > 0 :\n",
    "    print(\"양수입니다.\")\n",
    "elif integer == 0 :\n",
    "    print(\"0입니다\")\n",
    "else :\n",
    "    print(\"음수입니다.\")"
   ]
  },
  {
   "cell_type": "markdown",
   "id": "91fdc1d8",
   "metadata": {},
   "source": [
    "### 주민번호를 활용한 성별 구분 문제\n",
    "1) snum 변수에 주민등록번호를 넣어주세요 - 포함\n",
    "2) 성별구문숫자를 1또는3이면 남자 2또는4 면 여자로 출력해주세요\n",
    "3) 1,2,3,4 가 아니면 잘몬된 주민번호입니다."
   ]
  },
  {
   "cell_type": "code",
   "execution_count": 22,
   "id": "ade8ea72",
   "metadata": {},
   "outputs": [],
   "source": [
    "snum = '980531-1234123'"
   ]
  },
  {
   "cell_type": "code",
   "execution_count": 16,
   "id": "e1c2912a",
   "metadata": {},
   "outputs": [
    {
     "data": {
      "text/plain": [
       "'1'"
      ]
     },
     "execution_count": 16,
     "metadata": {},
     "output_type": "execute_result"
    }
   ],
   "source": [
    "snum[7]"
   ]
  },
  {
   "cell_type": "code",
   "execution_count": 23,
   "id": "8af94702",
   "metadata": {},
   "outputs": [
    {
     "name": "stdout",
     "output_type": "stream",
     "text": [
      "남자입니다.\n"
     ]
    }
   ],
   "source": [
    "if snum[7] == '1' or snum[7] == '3' :\n",
    "    print(\"남자입니다.\")\n",
    "elif snum[7] == '2' or snum[7] == '4' :\n",
    "    print('여자입니다.')\n",
    "else :\n",
    "    print('잘못된 주민번호입니다.')"
   ]
  },
  {
   "cell_type": "code",
   "execution_count": 24,
   "id": "667dfa09",
   "metadata": {},
   "outputs": [
    {
     "name": "stdout",
     "output_type": "stream",
     "text": [
      "남자입니다.\n"
     ]
    }
   ],
   "source": [
    "if snum[7] in ['1','3'] :\n",
    "    print('남자입니다.')\n",
    "elif snum[7] in ['2','3'] :\n",
    "    print('여자입니다')\n",
    "else :\n",
    "    print(\"잘못된 주민번호입니다\")"
   ]
  },
  {
   "cell_type": "markdown",
   "id": "0568f509",
   "metadata": {},
   "source": [
    "# << 제어문 >>\n",
    "\n",
    "\n",
    "\n",
    "## 2-1. while 반복문(+조건문)\n",
    "\n",
    "주어진 조건을 판단하여 조건이 참일 동안 특정한 명령문을 반복적으로 수행하는 것\n",
    "\n",
    "▶ 기본 문법 \n",
    "\n",
    "        while 조건문:\n",
    "            반복적으로 수행할 문장1\n",
    "            반복적으로 수행할 문장2\n",
    "            ...\n",
    "            \n",
    "\n",
    "▶ 주의해야할 문법 : \n",
    "\n",
    "- 조건문 뒤에 반드시 콜론(:)을 써야 한다.\n",
    "\n",
    "\n",
    "- 조건문이 있는 문장 하위에 속하는 실행문장들은 반드시 한 번 들여쓰기 되어야 한다. ( 자동 / tab / space 4번)\n",
    "\n",
    "\n",
    "- 무한반복문에 대한 이해와 관련된 키워드(break, continue 등)를 활용할 수 있어야 한다.\n",
    "\n",
    "\n",
    "\n",
    "\n",
    "▶ 무한반복문 : 조건문이 무조건 참인 경우, while 반복문은 무한히 반복된다.\n",
    "\n",
    "- break 키워드 : 특정 조건을 만족할 경우 제어문을 빠져나가 반복을 종료한다.\n",
    "\n",
    "\n",
    "- continue : 특정 조건을 만족할 경우 반복문을 종료하는 것이 아니라 반복문의 시작으로 돌아간다. (참고) pass"
   ]
  },
  {
   "cell_type": "code",
   "execution_count": 27,
   "id": "3b2c44ba",
   "metadata": {},
   "outputs": [
    {
     "name": "stdout",
     "output_type": "stream",
     "text": [
      "hello world\n",
      "hello world\n",
      "hello world\n"
     ]
    }
   ],
   "source": [
    "# hello world 3번출력\n",
    "loop = 0;\n",
    "while loop <= 2 :\n",
    "    print('hello world')\n",
    "    loop += 1"
   ]
  },
  {
   "cell_type": "code",
   "execution_count": 36,
   "id": "1ac07dab",
   "metadata": {},
   "outputs": [
    {
     "name": "stdout",
     "output_type": "stream",
     "text": [
      "hello world\n",
      "hello world\n",
      "hello world\n"
     ]
    }
   ],
   "source": [
    "# hello world 3번출력\n",
    "loop = 1;\n",
    "while True :\n",
    "    loop += 1\n",
    "    print('hello world')\n",
    "    if loop > 3 :\n",
    "        break\n",
    "    "
   ]
  },
  {
   "cell_type": "code",
   "execution_count": 43,
   "id": "1a38870a",
   "metadata": {},
   "outputs": [
    {
     "name": "stdout",
     "output_type": "stream",
     "text": [
      "3\n",
      "5\n",
      "7\n",
      "9\n"
     ]
    }
   ],
   "source": [
    "# hello world 3번출력\n",
    "loop = 1;\n",
    "while loop < 10 :\n",
    "    loop += 1\n",
    "    if loop % 2 == 0 :\n",
    "        continue\n",
    "    print(loop);\n",
    "    "
   ]
  },
  {
   "cell_type": "code",
   "execution_count": null,
   "id": "acc1530f",
   "metadata": {},
   "outputs": [],
   "source": [
    "#### 학생들의 점수를 나타내는 리스트에서 아래의 구간으로 학점을 매기고, 각 학점별로 몇명이 있는지 적합한 데이터타입으로 저장하세요\n",
    "\n",
    "    - 100 ~ 81 = a\n",
    "    -  80 ~ 61 = b\n",
    "    -  60 ~ 41 = c\n",
    "    -  40 ~ = fail"
   ]
  },
  {
   "cell_type": "code",
   "execution_count": 80,
   "id": "fd18ed7b",
   "metadata": {},
   "outputs": [],
   "source": [
    "scores = [90,89,83,61,77,75,64,45,56,50,10,20]"
   ]
  },
  {
   "cell_type": "code",
   "execution_count": 81,
   "id": "0b8e3b6d",
   "metadata": {},
   "outputs": [
    {
     "name": "stdout",
     "output_type": "stream",
     "text": [
      "[83, 89, 90]\n",
      "[64, 75, 77, 61]\n",
      "[50, 56, 45]\n",
      "[20, 10]\n"
     ]
    }
   ],
   "source": [
    "a = []\n",
    "b = []\n",
    "c = []\n",
    "f = []\n",
    "\n",
    "while scores :\n",
    "    score = scores.pop();\n",
    "    if score >= 81 :\n",
    "        a.append(score)\n",
    "    elif score >= 61 :\n",
    "        b.append(score)\n",
    "    elif score >= 41 :\n",
    "        c.append(score)    \n",
    "    else :\n",
    "        f.append(score)\n",
    "print(a)\n",
    "print(b)\n",
    "print(c)\n",
    "print(f)\n"
   ]
  },
  {
   "cell_type": "markdown",
   "id": "150e91f0",
   "metadata": {},
   "source": [
    "# << 제어문 >>\n",
    "\n",
    "\n",
    "\n",
    "# 2-2. for 반복문\n",
    "\n",
    "자료형(리스트, 튜플, 문자열)의 모든 아이템에 대하여 처음부터 마지막까지 차례대로 접근하여 실행문을 적용한다.\n",
    "\n",
    "▶ 기본 문법 \n",
    "\n",
    "        for 임시변수 in 자료형 :\n",
    "            수행할 문장1\n",
    "            수행할 문장2\n",
    "            ...\n",
    "            \n",
    "\n",
    "▶ 임시변수 \n",
    "\n",
    "        - for 반복문이 실행되면 자료형의 아이템이 차례대로 임시변수에 할당된다.\n",
    "        \n",
    "        - 기본적으로 변수는 할당문이 존재해야 하지만 임시변수는 할당문이 필요 없는 객체이다."
   ]
  },
  {
   "cell_type": "markdown",
   "id": "04a6ba69",
   "metadata": {},
   "source": [
    "# 문제 ) 별을 찍어보겠습니다\n",
    "print(출력할 자료, end=\"\")\n",
    "구문을 이용해서 출력하면 개행이 일어나지 않고 \n",
    "print()\n",
    "를 적으면 그때 개행이 일어납니다\n",
    "위 원리를 이용해\n",
    "*\n",
    "**\n",
    "***\n",
    "****\n",
    "형태의 별을 찍어주세요\n",
    "중첩반복문을 사용하면됩니다."
   ]
  },
  {
   "cell_type": "code",
   "execution_count": 5,
   "id": "0c082514",
   "metadata": {},
   "outputs": [
    {
     "name": "stdout",
     "output_type": "stream",
     "text": [
      "*\n",
      "**\n",
      "***\n",
      "****\n"
     ]
    }
   ],
   "source": [
    "for i in range(1,5):\n",
    "    for j in range (0,i):\n",
    "        print(\"*\", end=\"\")\n",
    "    print()\n"
   ]
  },
  {
   "cell_type": "markdown",
   "id": "17f40568",
   "metadata": {},
   "source": [
    "# << 함수 >>\n",
    "\n",
    "반복적으로 사용하는 기능을 묶어서 함수로 정의하면 간편하게 사용할 수 있다.\n",
    "\n",
    "▶ 기본 문법 \n",
    "\n",
    "         def 함수이름(매개변수) :\n",
    "\n",
    "             <수행할 내용1>\n",
    "             <수행할 내용2>\n",
    "             <수행할 내용3>\n",
    "             \n",
    "             return \n",
    "\n",
    "            \n",
    "\n",
    "▶ 매개변수 \n",
    "\n",
    "        - 함수 안에서 사용할 값을 전달하는 변수로 <수행할 내용> 문장에서 변수로 사용된다.\n",
    "        \n",
    "        - 함수 정의문에서는 매개변수로서 선언되며 실제로 함수를 호출할 때는 인자값으로 전달된다.\n",
    "        \n",
    "        \n",
    "▶ 용어\n",
    "\n",
    "        - def : 함수를 정의할 때 사용하는 키워드\n",
    "        \n",
    "        - return : 함수의 결과값을 반환하는 키워드\n",
    "        \n",
    "        - 입력값 = 인수, 입력 인수, 인자\n",
    "        \n",
    "        - 결과값 = 출력값, 리턴값, 돌려주는 값, 반환 값"
   ]
  },
  {
   "cell_type": "code",
   "execution_count": 6,
   "id": "9a4ce403",
   "metadata": {},
   "outputs": [],
   "source": [
    "def plus(b):\n",
    "    print(b+1)"
   ]
  },
  {
   "cell_type": "code",
   "execution_count": 7,
   "id": "db67e3ad",
   "metadata": {},
   "outputs": [
    {
     "name": "stdout",
     "output_type": "stream",
     "text": [
      "6\n"
     ]
    }
   ],
   "source": [
    "plus(5)\n"
   ]
  },
  {
   "cell_type": "code",
   "execution_count": 10,
   "id": "b58d3a21",
   "metadata": {},
   "outputs": [],
   "source": [
    "def plus2(a):\n",
    "    print(a+1)"
   ]
  },
  {
   "cell_type": "code",
   "execution_count": 11,
   "id": "ed0ee74d",
   "metadata": {},
   "outputs": [
    {
     "name": "stdout",
     "output_type": "stream",
     "text": [
      "6\n"
     ]
    }
   ],
   "source": [
    "result = plus2(5)\n",
    "result"
   ]
  },
  {
   "cell_type": "markdown",
   "id": "f5673541",
   "metadata": {},
   "source": [
    "### (참고) 매개변수와 인수\n",
    "\n",
    "#### 매개변수(parameter, 입력 인자, 입력값)\n",
    "함수에 전달된 값을 저장하는 변수 / 함수를 선언할때 정의하는 변수\n",
    "\n",
    "\n",
    "#### 인수 / 인자\n",
    "함수를 호출(=사용)할떄 전달하는 입력값"
   ]
  },
  {
   "cell_type": "code",
   "execution_count": 15,
   "id": "86ca39d7",
   "metadata": {},
   "outputs": [
    {
     "name": "stdout",
     "output_type": "stream",
     "text": [
      "8\n"
     ]
    }
   ],
   "source": [
    "#매개변수를 2개이상 받는 케이스\n",
    "\n",
    "def sum(a,b):\n",
    "    result = a + b;\n",
    "    print(result)\n",
    "sum(3,5)"
   ]
  },
  {
   "cell_type": "markdown",
   "id": "880269d5",
   "metadata": {},
   "source": [
    "### 2. 매개변수 있는 함수\n",
    "\n",
    "- 인자값을 전달할때 값만 입력하면 순서대로 매개변수에 할당된다\n",
    "\n",
    "- 매개변수명을 지정하여 전달할수 있다."
   ]
  },
  {
   "cell_type": "code",
   "execution_count": 17,
   "id": "992ded27",
   "metadata": {},
   "outputs": [],
   "source": [
    "# 매개변수가 3개인 함수설정\n",
    "\n",
    "def test1(a,b,c):\n",
    "    print(a,b,c)\n",
    "    result= a + b + c\n",
    "    return result"
   ]
  },
  {
   "cell_type": "code",
   "execution_count": 18,
   "id": "85aee427",
   "metadata": {},
   "outputs": [
    {
     "name": "stdout",
     "output_type": "stream",
     "text": [
      "10 20 30\n"
     ]
    },
    {
     "data": {
      "text/plain": [
       "60"
      ]
     },
     "execution_count": 18,
     "metadata": {},
     "output_type": "execute_result"
    }
   ],
   "source": [
    "test1(10,20,30)"
   ]
  },
  {
   "cell_type": "code",
   "execution_count": 19,
   "id": "531fee7a",
   "metadata": {},
   "outputs": [
    {
     "name": "stdout",
     "output_type": "stream",
     "text": [
      "10 30 20\n"
     ]
    },
    {
     "data": {
      "text/plain": [
       "60"
      ]
     },
     "execution_count": 19,
     "metadata": {},
     "output_type": "execute_result"
    }
   ],
   "source": [
    "test1(c=20, a=10, b=30)"
   ]
  },
  {
   "cell_type": "code",
   "execution_count": 20,
   "id": "23e6b0e8",
   "metadata": {},
   "outputs": [],
   "source": [
    "# 디폴트값 선언을 사용한 예시\n",
    "def test2(a=1, b=2,c=3):\n",
    "    result = a+b+c\n",
    "    return result"
   ]
  },
  {
   "cell_type": "code",
   "execution_count": 21,
   "id": "8f594259",
   "metadata": {},
   "outputs": [
    {
     "data": {
      "text/plain": [
       "6"
      ]
     },
     "execution_count": 21,
     "metadata": {},
     "output_type": "execute_result"
    }
   ],
   "source": [
    "test2()"
   ]
  },
  {
   "cell_type": "code",
   "execution_count": 23,
   "id": "525662e3",
   "metadata": {},
   "outputs": [
    {
     "data": {
      "text/plain": [
       "15"
      ]
     },
     "execution_count": 23,
     "metadata": {},
     "output_type": "execute_result"
    }
   ],
   "source": [
    "test2(10)"
   ]
  },
  {
   "cell_type": "code",
   "execution_count": 30,
   "id": "d898e24f",
   "metadata": {},
   "outputs": [],
   "source": [
    "#디폴트값은 설정은 반드시 오른쪽 요소부터 지정한다\n",
    "def test3(a,b=2,c=1) :\n",
    "    result = a + b + c\n",
    "    return result"
   ]
  },
  {
   "cell_type": "code",
   "execution_count": 31,
   "id": "99aef033",
   "metadata": {},
   "outputs": [
    {
     "data": {
      "text/plain": [
       "13"
      ]
     },
     "execution_count": 31,
     "metadata": {},
     "output_type": "execute_result"
    }
   ],
   "source": [
    "test3(10)"
   ]
  },
  {
   "cell_type": "markdown",
   "id": "e280abbe",
   "metadata": {},
   "source": [
    "### 가변인자 리스트\n",
    "\n",
    "- 입력할 파라미터의 개수가 몇개인지 모를떄 사용함\n",
    "- 파라미터명 왼쪽에 *을 붙인다"
   ]
  },
  {
   "cell_type": "code",
   "execution_count": 35,
   "id": "7e5fd970",
   "metadata": {},
   "outputs": [
    {
     "ename": "SyntaxError",
     "evalue": "invalid syntax (Temp/ipykernel_25136/924659706.py, line 1)",
     "output_type": "error",
     "traceback": [
      "\u001b[1;36m  File \u001b[1;32m\"C:\\Users\\dkswo\\AppData\\Local\\Temp/ipykernel_25136/924659706.py\"\u001b[1;36m, line \u001b[1;32m1\u001b[0m\n\u001b[1;33m    def get_member_list(p1)\u001b[0m\n\u001b[1;37m                           ^\u001b[0m\n\u001b[1;31mSyntaxError\u001b[0m\u001b[1;31m:\u001b[0m invalid syntax\n"
     ]
    }
   ],
   "source": [
    "def get_member_list(p1)\n",
    "    print(\"출석학생은 %d님 입니다\", %p1)\n"
   ]
  },
  {
   "cell_type": "code",
   "execution_count": 34,
   "id": "eb6ab756",
   "metadata": {},
   "outputs": [
    {
     "ename": "NameError",
     "evalue": "name 'get_memeber_list' is not defined",
     "output_type": "error",
     "traceback": [
      "\u001b[1;31m---------------------------------------------------------------------------\u001b[0m",
      "\u001b[1;31mNameError\u001b[0m                                 Traceback (most recent call last)",
      "\u001b[1;32m~\\AppData\\Local\\Temp/ipykernel_25136/2265800715.py\u001b[0m in \u001b[0;36m<module>\u001b[1;34m\u001b[0m\n\u001b[1;32m----> 1\u001b[1;33m \u001b[0mget_memeber_list\u001b[0m\u001b[1;33m(\u001b[0m\u001b[1;34m'김씨'\u001b[0m\u001b[1;33m)\u001b[0m\u001b[1;33m\u001b[0m\u001b[1;33m\u001b[0m\u001b[0m\n\u001b[0m",
      "\u001b[1;31mNameError\u001b[0m: name 'get_memeber_list' is not defined"
     ]
    }
   ],
   "source": [
    "get_memeber_list('김씨')"
   ]
  },
  {
   "cell_type": "code",
   "execution_count": 36,
   "id": "9758f3a3",
   "metadata": {},
   "outputs": [],
   "source": [
    "def get_member_list2(p1,p2):\n",
    "    print(\"출석학생은 %s, %s님 입니다\" %(p1,p2))\n"
   ]
  },
  {
   "cell_type": "code",
   "execution_count": 38,
   "id": "cec8bfb8",
   "metadata": {},
   "outputs": [
    {
     "ename": "NameError",
     "evalue": "name 'get_member_list' is not defined",
     "output_type": "error",
     "traceback": [
      "\u001b[1;31m---------------------------------------------------------------------------\u001b[0m",
      "\u001b[1;31mNameError\u001b[0m                                 Traceback (most recent call last)",
      "\u001b[1;32m~\\AppData\\Local\\Temp/ipykernel_25136/474790058.py\u001b[0m in \u001b[0;36m<module>\u001b[1;34m\u001b[0m\n\u001b[1;32m----> 1\u001b[1;33m \u001b[0mget_member_list\u001b[0m\u001b[1;33m(\u001b[0m\u001b[1;34m\"김씨\"\u001b[0m\u001b[1;33m,\u001b[0m\u001b[1;34m\"최씨\"\u001b[0m\u001b[1;33m)\u001b[0m\u001b[1;33m\u001b[0m\u001b[1;33m\u001b[0m\u001b[0m\n\u001b[0m",
      "\u001b[1;31mNameError\u001b[0m: name 'get_member_list' is not defined"
     ]
    }
   ],
   "source": [
    "get_member_list(\"김씨\",\"최씨\")"
   ]
  },
  {
   "cell_type": "code",
   "execution_count": 55,
   "id": "3138e856",
   "metadata": {},
   "outputs": [],
   "source": [
    "def get_members(*stu):\n",
    "    print(stu)\n",
    "    print(type(stu))\n",
    "    message = \"출석학생은\"\n",
    "    for i in stu:\n",
    "        message += str(i) + \",\"\n",
    "    message += \"입니다\"\n",
    "    print(message)"
   ]
  },
  {
   "cell_type": "code",
   "execution_count": 56,
   "id": "981e3339",
   "metadata": {},
   "outputs": [
    {
     "name": "stdout",
     "output_type": "stream",
     "text": [
      "('rsdf', 'dafs', 'fdasfe', 1, 23, 4, 5)\n",
      "<class 'tuple'>\n",
      "출석학생은rsdf,dafs,fdasfe,1,23,4,5,입니다\n"
     ]
    }
   ],
   "source": [
    "get_members(\"rsdf\",\"dafs\",\"fdasfe\",1,23,4,5)"
   ]
  },
  {
   "cell_type": "markdown",
   "id": "5e37c75f",
   "metadata": {},
   "source": [
    "### 6. 키워드 파라미터 kwargs(keyword arguments)\n",
    "\n",
    "딕셔너리 형태로 저장되는 매개변수로 정의"
   ]
  },
  {
   "cell_type": "code",
   "execution_count": 58,
   "id": "d633010e",
   "metadata": {},
   "outputs": [],
   "source": [
    "def test4(**kwargs) :\n",
    "    return kwargs"
   ]
  },
  {
   "cell_type": "code",
   "execution_count": 59,
   "id": "efe16926",
   "metadata": {},
   "outputs": [
    {
     "data": {
      "text/plain": [
       "{'name': '홍길동', 'age': 19}"
      ]
     },
     "execution_count": 59,
     "metadata": {},
     "output_type": "execute_result"
    }
   ],
   "source": [
    "test4(name='홍길동', age=19)"
   ]
  },
  {
   "cell_type": "markdown",
   "id": "054b477b",
   "metadata": {},
   "source": [
    "### 7. 함수의 결과값\n",
    "\n",
    "- 함수의 결과 값은 항상 1개\n",
    "\n",
    "- 여러 개의 결과를 가질수 있지만 하나의 튜플로 전달\n",
    "\n",
    "-> 기본 문법\n",
    "\n",
    "        def 함수이름(매개변수이름):\n",
    "            return 결과값 1, 결과값 2"
   ]
  },
  {
   "cell_type": "code",
   "execution_count": 69,
   "id": "3b799684",
   "metadata": {},
   "outputs": [],
   "source": [
    "# return 키워드는 전달박은 결과물이 2개 이상인 경우( ,로 구분지어 보내는 경우) 하나의 '튜플' 로 묶어서 반환\n",
    "# 최종적으로 '하나의 변수'에 담을수 있는 하나의 값으로 처리된다.\n",
    "\n",
    "def test(a,b):\n",
    "    sum_ = a + b\n",
    "    mul = a * b\n",
    "    return sum_, mul"
   ]
  },
  {
   "cell_type": "code",
   "execution_count": 70,
   "id": "4eb40e70",
   "metadata": {},
   "outputs": [
    {
     "name": "stdout",
     "output_type": "stream",
     "text": [
      "(7, 12)\n"
     ]
    }
   ],
   "source": [
    "a = test(3, 4)\n",
    "print(a)"
   ]
  },
  {
   "cell_type": "code",
   "execution_count": 71,
   "id": "824d633c",
   "metadata": {},
   "outputs": [
    {
     "name": "stdout",
     "output_type": "stream",
     "text": [
      "11\n",
      "30\n"
     ]
    }
   ],
   "source": [
    "# 결과를 개별 변수에 쪼개서 가져오기\n",
    "s, m = test(5,6)\n",
    "print(s)\n",
    "print(m)"
   ]
  },
  {
   "cell_type": "markdown",
   "id": "f8a9eb89",
   "metadata": {},
   "source": [
    "## <<연습문제>>\n",
    "#### 1. 입력받은 모든 수의 평균값을 계산하는 함수를 작성해보세요\n",
    "    \n",
    "    - 조건 1. 숫자의 개수는 정해져있지않다."
   ]
  },
  {
   "cell_type": "code",
   "execution_count": 76,
   "id": "1c0f7e26",
   "metadata": {},
   "outputs": [],
   "source": [
    "def Average(*num):\n",
    "    total = 0\n",
    "    for i in num :\n",
    "        total+=i\n",
    "    return total / len(num)"
   ]
  },
  {
   "cell_type": "code",
   "execution_count": 79,
   "id": "3f07b422",
   "metadata": {},
   "outputs": [
    {
     "data": {
      "text/plain": [
       "9.0"
      ]
     },
     "execution_count": 79,
     "metadata": {},
     "output_type": "execute_result"
    }
   ],
   "source": [
    "Average(10,8,10,8,10,8)"
   ]
  },
  {
   "cell_type": "markdown",
   "id": "5f7cbcd9",
   "metadata": {},
   "source": [
    "#### 2. 리스트로 입력받은 수들에 대해 양수만 필터링하여 반환해주는 함수를 작성해보세요\n",
    "\n",
    "- 조건 1. 입력값은 인자값으로 리스트를 전달\n",
    "- 조건 2. 결과값은 양수로만 구성된 새로운 리스트\n"
   ]
  },
  {
   "cell_type": "code",
   "execution_count": 80,
   "id": "f283a371",
   "metadata": {},
   "outputs": [],
   "source": [
    "def positiveCheck(*numlist):\n",
    "    positiveList = []\n",
    "    for i in numlist :\n",
    "        if i > 0 :\n",
    "            positiveList.append(i)\n",
    "    return positiveList"
   ]
  },
  {
   "cell_type": "code",
   "execution_count": 81,
   "id": "f2a30b9f",
   "metadata": {},
   "outputs": [
    {
     "data": {
      "text/plain": [
       "[1, 2, 3, 7]"
      ]
     },
     "execution_count": 81,
     "metadata": {},
     "output_type": "execute_result"
    }
   ],
   "source": [
    "positiveCheck(1,2,3,-2,-5,-6,7)"
   ]
  },
  {
   "cell_type": "code",
   "execution_count": null,
   "id": "41449926",
   "metadata": {},
   "outputs": [],
   "source": []
  },
  {
   "cell_type": "code",
   "execution_count": null,
   "id": "4b6b5e58",
   "metadata": {},
   "outputs": [],
   "source": []
  },
  {
   "cell_type": "code",
   "execution_count": null,
   "id": "235195d4",
   "metadata": {},
   "outputs": [],
   "source": []
  },
  {
   "cell_type": "code",
   "execution_count": null,
   "id": "1d82ca2e",
   "metadata": {},
   "outputs": [],
   "source": []
  },
  {
   "cell_type": "code",
   "execution_count": null,
   "id": "026d2ab9",
   "metadata": {},
   "outputs": [],
   "source": []
  }
 ],
 "metadata": {
  "kernelspec": {
   "display_name": "Python 3 (ipykernel)",
   "language": "python",
   "name": "python3"
  },
  "language_info": {
   "codemirror_mode": {
    "name": "ipython",
    "version": 3
   },
   "file_extension": ".py",
   "mimetype": "text/x-python",
   "name": "python",
   "nbconvert_exporter": "python",
   "pygments_lexer": "ipython3",
   "version": "3.9.7"
  }
 },
 "nbformat": 4,
 "nbformat_minor": 5
}

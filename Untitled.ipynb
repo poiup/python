{
 "cells": [
  {
   "cell_type": "code",
   "execution_count": 24,
   "id": "1d2f7632",
   "metadata": {},
   "outputs": [
    {
     "name": "stdout",
     "output_type": "stream",
     "text": [
      "10\n",
      "5\n",
      "1\n",
      "10\n",
      "4\n",
      "9\n",
      "2\n",
      "3\n",
      "8\n",
      "5\n",
      "7\n",
      "6\n",
      "1 4 2 3 "
     ]
    }
   ],
   "source": [
    "a = int(input())\n",
    "x = int(input())\n",
    "y = []\n",
    "for i in range(0,a) :\n",
    "    z = int(input())\n",
    "    if z < x :\n",
    "        y.append(z)\n",
    "for num in y :\n",
    "    print(num, \"\", end=\"\")"
   ]
  }
 ],
 "metadata": {
  "kernelspec": {
   "display_name": "Python 3 (ipykernel)",
   "language": "python",
   "name": "python3"
  },
  "language_info": {
   "codemirror_mode": {
    "name": "ipython",
    "version": 3
   },
   "file_extension": ".py",
   "mimetype": "text/x-python",
   "name": "python",
   "nbconvert_exporter": "python",
   "pygments_lexer": "ipython3",
   "version": "3.9.7"
  }
 },
 "nbformat": 4,
 "nbformat_minor": 5
}

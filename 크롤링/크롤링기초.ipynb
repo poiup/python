{
 "cells": [
  {
   "cell_type": "markdown",
   "id": "dfa70a89",
   "metadata": {},
   "source": [
    "### 크롤링\n",
    "\n",
    "\n",
    "\n",
    "- 웹에서 원하는 자료를 컴퓨터에게 수집해오도록 명령을내리는 기술\n",
    "\n",
    "- request 라이브러리를 활용한 다이렉트 크롤링\n",
    "\n",
    "- swlenium 라이브러리를 활용한 간접 크롤링 등이 있다\n",
    "\n",
    "- 크롤러의 역할은 원하는 정보를 가져오는것까지이며\n",
    "\n",
    "- 실제 원하는 정보를 용도에 맞게 가공하는것은 beautifulsoup가 담당한다\n"
   ]
  },
  {
   "cell_type": "code",
   "execution_count": 5,
   "id": "d82dcf47",
   "metadata": {},
   "outputs": [],
   "source": [
    "# 크롤링 작업을 위한 라이브러리 임포트\n",
    "from bs4 import BeautifulSoup # 웹에서 가져온 데이터를 정제하는 역할\n",
    "from selenium import webdriver ##크롬창을 켜주는 역할\n",
    "import requests # 파이썬에서 다이렉트로 자료를 요청하는 역할\n",
    "import time # 코드중간에 딜레이를 넣는 역할"
   ]
  },
  {
   "cell_type": "code",
   "execution_count": 6,
   "id": "a1b9589b",
   "metadata": {},
   "outputs": [
    {
     "name": "stderr",
     "output_type": "stream",
     "text": [
      "C:\\Users\\dkswo\\AppData\\Local\\Temp/ipykernel_14376/195456566.py:2: DeprecationWarning: executable_path has been deprecated, please pass in a Service object\n",
      "  browser = webdriver.Chrome('chromedriver.exe')\n",
      "C:\\Users\\dkswo\\AppData\\Local\\Temp/ipykernel_14376/195456566.py:11: DeprecationWarning: find_element_by_xpath is deprecated. Please use find_element(by=By.XPATH, value=xpath) instead\n",
      "  browser.find_element_by_xpath('//*[@id=\"account\"]/a').click()\n",
      "C:\\Users\\dkswo\\AppData\\Local\\Temp/ipykernel_14376/195456566.py:14: DeprecationWarning: find_element_by_xpath is deprecated. Please use find_element(by=By.XPATH, value=xpath) instead\n",
      "  username = browser.find_element_by_xpath('//*[@id=\"id\"]')\n",
      "C:\\Users\\dkswo\\AppData\\Local\\Temp/ipykernel_14376/195456566.py:19: DeprecationWarning: find_element_by_xpath is deprecated. Please use find_element(by=By.XPATH, value=xpath) instead\n",
      "  userpw = browser.find_element_by_xpath('//*[@id=\"pw\"]')\n"
     ]
    }
   ],
   "source": [
    "#browser라는 변수가 브라우저 그 자체, browser에 내리는 명령을 실제로 물리적인 드라이버가 수행함\n",
    "browser = webdriver.Chrome('chromedriver.exe')\n",
    "\n",
    "# .get(접속주소)를 입력하면 해당 주소로 브라우저 창이 이동합니다.\n",
    "browser.get(\"http://www.naver.com\")\n",
    "\n",
    "#코드실행간 텀 주기 (3초)\n",
    "time.sleep(3)\n",
    "\n",
    "# 네이버 로그인 버튼의 xpath를 따온다음 클릭시키기\n",
    "browser.find_element_by_xpath('//*[@id=\"account\"]/a').click()\n",
    "\n",
    "# username 이라는 변수에 로그인 아이디박스 xpath위치를 잡아준다\n",
    "username = browser.find_element_by_xpath('//*[@id=\"id\"]')\n",
    "# 잡아준 xpath에 abc1234라는 값을 전송합니다.\n",
    "username.send_keys('dkswodud0531')\n",
    "\n",
    "# userpw라는 변수에 패스워드 입력창 xpath를 잡아줍니다.\n",
    "userpw = browser.find_element_by_xpath('//*[@id=\"pw\"]')\n",
    "# userpw에 잡아준 xpath에 1234라는 값을 전송합니다.\n",
    "userpw.send_keys('19Tpdltkd!\\n')\n",
    "\n",
    "# 로그인은 로그인 버튼을 클릭해서 할수도 있고 위의 send_keys에 \\n(엔터키 개행)을 입력해서 할수도 있음\n",
    "# 하지만 최근은 크롤링을 막기위해 봇확인이 나옵니다 \n",
    "# 구글에 검색하면 봇확인 우회방법이 있긴하지만 복잡합니다."
   ]
  },
  {
   "cell_type": "markdown",
   "id": "08d5e712",
   "metadata": {},
   "source": [
    "### 교보문고 사이트 접근 실습\n",
    "\n",
    "- 1. 네이버에 검색창에 \"교보문고\"키워드로 검색\n",
    "- 2. 검색결과로 나온 창에서 교보문고 이동링크 클릭"
   ]
  },
  {
   "cell_type": "code",
   "execution_count": 7,
   "id": "89519183",
   "metadata": {},
   "outputs": [
    {
     "name": "stderr",
     "output_type": "stream",
     "text": [
      "C:\\Users\\dkswo\\AppData\\Local\\Temp/ipykernel_14376/2622985235.py:1: DeprecationWarning: executable_path has been deprecated, please pass in a Service object\n",
      "  browser = webdriver.Chrome('chromedriver.exe')\n",
      "C:\\Users\\dkswo\\AppData\\Local\\Temp/ipykernel_14376/2622985235.py:6: DeprecationWarning: find_element_by_xpath is deprecated. Please use find_element(by=By.XPATH, value=xpath) instead\n",
      "  searchBox = browser.find_element_by_xpath('//*[@id=\"query\"]')\n",
      "C:\\Users\\dkswo\\AppData\\Local\\Temp/ipykernel_14376/2622985235.py:9: DeprecationWarning: find_element_by_xpath is deprecated. Please use find_element(by=By.XPATH, value=xpath) instead\n",
      "  browser.find_element_by_xpath('//*[@id=\"main_pack\"]/section[1]/div/div/div[1]/div/div[2]/a').click()\n"
     ]
    }
   ],
   "source": [
    "browser = webdriver.Chrome('chromedriver.exe')\n",
    "browser.get('http://www.naver.com')\n",
    "# 작업간 2초간 텀주기\n",
    "time.sleep(2)\n",
    "# 검색창 잡기\n",
    "searchBox = browser.find_element_by_xpath('//*[@id=\"query\"]')\n",
    "searchBox.send_keys('교보문고\\n')\n",
    "# 교보문고 링크 접속\n",
    "browser.find_element_by_xpath('//*[@id=\"main_pack\"]/section[1]/div/div/div[1]/div/div[2]/a').click()"
   ]
  },
  {
   "cell_type": "markdown",
   "id": "4f461edd",
   "metadata": {},
   "source": [
    "### 특정  url로 접근했을때 바로 원하는 정보를 얻을수 있는 경우\n",
    "\n",
    "- 그냥 바로 접근하면됨 (굳이 복잡하게 검색하고 나온결과를 다루고 할 필요가 없음)\n",
    "- 그러나 페이스북같이 특정 조건을 만족해야 추가적인 자료를 보여주는 사이트도 있고\n",
    "- 로그인 해야만 자료에 접근할수 있는 사이트도 있기 때문에\n",
    "- 어떻게 접근해야 원하는 자료를 얻어올수 있는지 신중하게 고려해야함"
   ]
  },
  {
   "cell_type": "code",
   "execution_count": 185,
   "id": "0d25cdff",
   "metadata": {},
   "outputs": [
    {
     "name": "stderr",
     "output_type": "stream",
     "text": [
      "C:\\Users\\dkswo\\AppData\\Local\\Temp/ipykernel_14376/2015278137.py:2: DeprecationWarning: executable_path has been deprecated, please pass in a Service object\n",
      "  browser = webdriver.Chrome(\"chromedriver.exe\")\n"
     ]
    },
    {
     "name": "stdout",
     "output_type": "stream",
     "text": [
      "<class 'list'>\n"
     ]
    }
   ],
   "source": [
    "# http://www.kyobobook.co.kr/bestSellerNew/bestseller.laf?mallGb=KOR&linkClass=e&range=1&kind=0&orderClick=DAb\n",
    "browser = webdriver.Chrome(\"chromedriver.exe\")\n",
    "browser.get('http://www.kyobobook.co.kr/bestSellerNew/bestseller.laf?mallGb=KOR&linkClass=e&range=1&kind=0&orderClick=DAb')\n",
    "time.sleep(2)\n",
    "\n",
    "# 브라우저가 특정 페이지에 접근했을때, 해당 페이지 소스코드 전체 긁어오기\n",
    "# 여기까지가 셀레니움의 역할임. 가져온 소스코드는 뷰티플수프로 정제함\n",
    "# 셀레니움이 아니여도 소스만 가져올수 있다면 사용할수 있습니다.\n",
    "source = browser.page_source\n",
    "print(type(source))\n",
    "print(source)\n",
    "\n",
    "# source변수에 원본 코드가 들어있으므로 다음 블럭에서 이 자료를 가공함"
   ]
  },
  {
   "cell_type": "code",
   "execution_count": 9,
   "id": "dc9963ea",
   "metadata": {},
   "outputs": [
    {
     "name": "stdout",
     "output_type": "stream",
     "text": [
      "<class 'bs4.BeautifulSoup'>\n",
      "<class 'str'>\n"
     ]
    }
   ],
   "source": [
    "# Beautifulsoup(소스코드, \"html,parser\")로 입력시 컴퓨터가 해당코드를 html형식으로 인식함\n",
    "parsed_source = BeautifulSoup(source,\"html.parser\")\n",
    "print(type(parsed_source))\n",
    "print(type(source))"
   ]
  },
  {
   "cell_type": "code",
   "execution_count": 11,
   "id": "dc3af97d",
   "metadata": {},
   "outputs": [
    {
     "name": "stdout",
     "output_type": "stream",
     "text": [
      "1\n"
     ]
    }
   ],
   "source": [
    "# 타이트 관련해서 가져오기\n",
    "# 파싱된코드.find_all(\"태그명\", class_=\"클래스명\")입력시 해당 태그나 클래스만 가져올수 있음\n",
    "ul_tags = parsed_source.find_all(\"ul\", class_=\"list_type01\")\n",
    "print(len(ul_tags)) # 203개의 strong태그가 있어서 제목만 가져오기 부적합"
   ]
  },
  {
   "cell_type": "code",
   "execution_count": 12,
   "id": "eb39fed3",
   "metadata": {},
   "outputs": [
    {
     "name": "stdout",
     "output_type": "stream",
     "text": [
      "20\n"
     ]
    }
   ],
   "source": [
    "#find_all() 명령어로 가져오는 데이터는 무조건 리스트로 받아지므로 받아온 자료가 단 한개라도 일단 인덱싱을 해야합니다.\n",
    "titles = ul_tags[0].find_all(\"div\", class_=\"title\")\n",
    "print(len(titles))"
   ]
  },
  {
   "cell_type": "code",
   "execution_count": 13,
   "id": "f6e939f4",
   "metadata": {},
   "outputs": [
    {
     "name": "stdout",
     "output_type": "stream",
     "text": [
      "진짜 쓰는 실무 엑셀\n",
      "1일 1로그 100일 완성 IT 지식\n",
      "비전공자를 위한 이해할 수 있는 IT 지식\n",
      "구글 엔지니어는 이렇게 일한다\n",
      "Do it! 점프 투 파이썬\n",
      "면접을 위한 CS 전공지식 노트\n",
      "혼자 공부하는 얄팍한 코딩 지식\n",
      "혼자 공부하는 파이썬\n",
      "침묵의 봄\n",
      "혼자 공부하는 머신러닝+딥러닝\n",
      "파이썬과 40개의 작품들(만들면서 배우는)\n",
      "Clean Code(클린 코드)\n",
      "Do it! HTML+CSS+자바스크립트 웹 표준의 정석\n",
      "이것이 취업을 위한 코딩 테스트다 with 파이썬\n",
      "쏙쏙 들어오는 함수형 코딩\n",
      "모던 자바스크립트 Deep Dive(위키북스 프로그래밍 & 프랙티스 시리즈 26)\n",
      "맛있는 디자인 포토샵&일러스트레이터 CC(2022)\n",
      "회사에서 바로 통하는 실무 엑셀+파워포인트+워드&한글\n",
      "프로그래머의 뇌\n",
      "실용주의 프로그래머(20주년 기념판)(Program Programming Programmer)\n",
      "['진짜 쓰는 실무 엑셀', '1일 1로그 100일 완성 IT 지식', '비전공자를 위한 이해할 수 있는 IT 지식', '구글 엔지니어는 이렇게 일한다', 'Do it! 점프 투 파이썬', '면접을 위한 CS 전공지식 노트', '혼자 공부하는 얄팍한 코딩 지식', '혼자 공부하는 파이썬', '침묵의 봄', '혼자 공부하는 머신러닝+딥러닝', '파이썬과 40개의 작품들(만들면서 배우는)', 'Clean Code(클린 코드)', 'Do it! HTML+CSS+자바스크립트 웹 표준의 정석', '이것이 취업을 위한 코딩 테스트다 with 파이썬', '쏙쏙 들어오는 함수형 코딩', '모던 자바스크립트 Deep Dive(위키북스 프로그래밍 & 프랙티스 시리즈 26)', '맛있는 디자인 포토샵&일러스트레이터 CC(2022)', '회사에서 바로 통하는 실무 엑셀+파워포인트+워드&한글', '프로그래머의 뇌', '실용주의 프로그래머(20주년 기념판)(Program Programming Programmer)']\n"
     ]
    }
   ],
   "source": [
    "bookTitle = []\n",
    "for i in titles :\n",
    "    print(i.text.strip())\n",
    "    bookTitle.append(i.text.strip())\n",
    "    \n",
    "print(bookTitle)"
   ]
  },
  {
   "cell_type": "code",
   "execution_count": 14,
   "id": "5887a2b3",
   "metadata": {},
   "outputs": [
    {
     "name": "stdout",
     "output_type": "stream",
     "text": [
      "['18,900원', '18,000원', '15,120원', '40,500원', '16,920원', '21,600원', '16,200원', '16,200원', '16,200원', '23,400원', '16,920원', '29,700원', '27,000원', '30,600원', '31,500원', '40,500원', '19,800원', '19,800원', '21,600원', '29,700원']\n"
     ]
    }
   ],
   "source": [
    "#가격, 저자를 추가로 얻어와서 화면에 뿌려주세요\n",
    "bookPrice = parsed_source.find_all(\"strong\", class_=\"book_price\")\n",
    "\n",
    "bookPrices = []\n",
    "for i in bookPrice :\n",
    "    bookPrices.append(i.text.strip())\n",
    "print(bookPrices)\n"
   ]
  },
  {
   "cell_type": "code",
   "execution_count": 17,
   "id": "66b8e9dd",
   "metadata": {
    "scrolled": false
   },
   "outputs": [
    {
     "name": "stdout",
     "output_type": "stream",
     "text": [
      "오빠두(전진권)\n",
      "브라이언W.커니핸\n",
      "최원영\n",
      "타이터스윈터스저자더보기톰맨쉬렉하이럼라이트\n",
      "박응용\n",
      "주홍철\n",
      "고현민\n",
      "윤인성\n",
      "레이첼카슨\n",
      "박해선\n",
      "장문철\n",
      "로버트C.마틴\n",
      "고경희\n",
      "나동빈\n",
      "에릭노먼드\n",
      "이웅모\n",
      "빨간고래(박정아)저자더보기윤이사라\n",
      "전미진저자더보기이화진신면철\n",
      "펠리너헤르만스\n",
      "데이비드토머스저자더보기앤드류헌트\n"
     ]
    }
   ],
   "source": [
    "bookAuthor = parsed_source.find_all(\"div\", class_=\"author\")\n",
    "authors = []\n",
    "for i in bookAuthor :\n",
    "    author = i.text.strip().replace(\"\\n\",\"\").replace(\" \",\"\").replace(\"\t\", \"\").split(\"|\")\n",
    "    authors.append(author[0])\n",
    "    print(author[0])"
   ]
  },
  {
   "cell_type": "code",
   "execution_count": 143,
   "id": "73a831b8",
   "metadata": {},
   "outputs": [
    {
     "name": "stdout",
     "output_type": "stream",
     "text": [
      "<class 'dict'>\n",
      "[['진짜 쓰는 실무 엑셀', '18,900원', '오빠두(전진권)'], ['1일 1로그 100일 완성 IT 지식', '18,000원', '브라이언W.커니핸'], ['비전공자를 위한 이해할 수 있는 IT 지식', '15,120원', '최원영'], ['구글 엔지니어는 이렇게 일한다', '40,500원', '타이터스윈터스저자더보기톰맨쉬렉하이럼라이트'], ['Do it! 점프 투 파이썬', '16,920원', '박응용'], ['면접을 위한 CS 전공지식 노트', '21,600원', '주홍철'], ['혼자 공부하는 얄팍한 코딩 지식', '16,200원', '고현민'], ['혼자 공부하는 파이썬', '16,200원', '윤인성'], ['침묵의 봄', '16,200원', '레이첼카슨'], ['혼자 공부하는 머신러닝+딥러닝', '23,400원', '박해선'], ['파이썬과 40개의 작품들(만들면서 배우는)', '16,920원', '장문철'], ['Clean Code(클린 코드)', '29,700원', '로버트C.마틴'], ['Do it! HTML+CSS+자바스크립트 웹 표준의 정석', '27,000원', '고경희'], ['이것이 취업을 위한 코딩 테스트다 with 파이썬', '30,600원', '나동빈'], ['쏙쏙 들어오는 함수형 코딩', '31,500원', '에릭노먼드'], ['모던 자바스크립트 Deep Dive(위키북스 프로그래밍 & 프랙티스 시리즈 26)', '40,500원', '이웅모'], ['맛있는 디자인 포토샵&일러스트레이터 CC(2022)', '19,800원', '빨간고래(박정아)저자더보기윤이사라'], ['회사에서 바로 통하는 실무 엑셀+파워포인트+워드&한글', '19,800원', '전미진저자더보기이화진신면철'], ['프로그래머의 뇌', '21,600원', '펠리너헤르만스'], ['실용주의 프로그래머(20주년 기념판)(Program Programming Programmer)', '29,700원', '데이비드토머스저자더보기앤드류헌트']]\n"
     ]
    }
   ],
   "source": [
    "# 제목, 가격, 저자 정보를 저장할 리스트 생성\n",
    "bookinfoD = {}\n",
    "for i in range(0,len(bookTitle)) :\n",
    "    bookinfoD.update({bookTitle[i]:[bookPrices[i],authors[i]]})\n",
    "print(type(bookinfoD))\n",
    "\n",
    "bookinfoL = []\n",
    "for i in range(0,len(bookTitle)) :\n",
    "    bookinfoL.insert(i,[bookTitle[i],bookPrices[i],authors[i]])\n",
    "print(bookinfoL)"
   ]
  },
  {
   "cell_type": "code",
   "execution_count": 144,
   "id": "0ac663e8",
   "metadata": {},
   "outputs": [
    {
     "name": "stdout",
     "output_type": "stream",
     "text": [
      "[['진짜 쓰는 실무 엑셀', '18,900원', '오빠두(전진권)'], ['1일 1로그 100일 완성 IT 지식', '18,000원', '브라이언W.커니핸'], ['비전공자를 위한 이해할 수 있는 IT 지식', '15,120원', '최원영'], ['구글 엔지니어는 이렇게 일한다', '40,500원', '타이터스윈터스저자더보기톰맨쉬렉하이럼라이트'], ['Do it! 점프 투 파이썬', '16,920원', '박응용'], ['면접을 위한 CS 전공지식 노트', '21,600원', '주홍철'], ['혼자 공부하는 얄팍한 코딩 지식', '16,200원', '고현민'], ['혼자 공부하는 파이썬', '16,200원', '윤인성'], ['침묵의 봄', '16,200원', '레이첼카슨'], ['혼자 공부하는 머신러닝+딥러닝', '23,400원', '박해선'], ['파이썬과 40개의 작품들(만들면서 배우는)', '16,920원', '장문철'], ['Clean Code(클린 코드)', '29,700원', '로버트C.마틴'], ['Do it! HTML+CSS+자바스크립트 웹 표준의 정석', '27,000원', '고경희'], ['이것이 취업을 위한 코딩 테스트다 with 파이썬', '30,600원', '나동빈'], ['쏙쏙 들어오는 함수형 코딩', '31,500원', '에릭노먼드'], ['모던 자바스크립트 Deep Dive(위키북스 프로그래밍 & 프랙티스 시리즈 26)', '40,500원', '이웅모'], ['맛있는 디자인 포토샵&일러스트레이터 CC(2022)', '19,800원', '빨간고래(박정아)저자더보기윤이사라'], ['회사에서 바로 통하는 실무 엑셀+파워포인트+워드&한글', '19,800원', '전미진저자더보기이화진신면철'], ['프로그래머의 뇌', '21,600원', '펠리너헤르만스'], ['실용주의 프로그래머(20주년 기념판)(Program Programming Programmer)', '29,700원', '데이비드토머스저자더보기앤드류헌트']]\n"
     ]
    }
   ],
   "source": [
    "print(bookinfoL)\n",
    "   "
   ]
  },
  {
   "cell_type": "code",
   "execution_count": 60,
   "id": "d939b9ee",
   "metadata": {},
   "outputs": [
    {
     "data": {
      "text/plain": [
       "['18,900원', '오빠두(전진권)']"
      ]
     },
     "execution_count": 60,
     "metadata": {},
     "output_type": "execute_result"
    }
   ],
   "source": [
    "bookinfo[\"진짜 쓰는 실무 엑셀\"]"
   ]
  },
  {
   "cell_type": "markdown",
   "id": "8bfa476d",
   "metadata": {},
   "source": [
    "### codecs라이브러리\n",
    "\n",
    "- 파이썬 3.5버전 들어서 내장 라이브러리로 바뀜( 예전에는 cmd창에서 pip install codecs로 설치해야했음\n",
    "- 파이썬으로 텍스트 파일을 제어할수 있도록 (읽어오기, 쓰기 등) 도와줌\n",
    "- 콘솔창에 출력된 내용을 txt파일로 옮겨서 출력할때 사용\n",
    "<br><br>\n",
    "- 특이사항\n",
    "    - 개행은 \\r\\n으로 처리함\n",
    "    - mode => w(기존에 있던 자료를 없애고 새로 파일 입력)\n",
    "    - mode => a(기존에 있던 자료에 이어서 계속 입력)\n",
    "    - mode => r(텍스트파일에 있던 내용 읽어오기)"
   ]
  },
  {
   "cell_type": "code",
   "execution_count": 61,
   "id": "36d3a5a8",
   "metadata": {},
   "outputs": [],
   "source": [
    "# 라이브러리 임포트\n",
    "import codecs"
   ]
  },
  {
   "cell_type": "code",
   "execution_count": 115,
   "id": "f561d70c",
   "metadata": {
    "scrolled": true
   },
   "outputs": [],
   "source": [
    "# f변수가 텍스트변수 그 자체처럼 사용됨\n",
    "# .open(파일경로(파일이 해당경로에 없으면 생성), encoding=\"인코딩박식\", mode=\"모드\")\n",
    "\n",
    "f = codecs.open(\"C:/crawler1/test.txt\", encoding=\"utf-8\", mode=\"a\")\n",
    "# f.write(\"hello world\\nhello world\\nhello world\\nhello world\\nhello world\\nhello world\\nhello world\\nhello world\\nhello world\\nhello world\\n\")\n",
    "str = \"\"\n",
    "for i in range(10) :\n",
    "    str +=\"hello world\\r\\n\"\n",
    "    \n",
    "    \n",
    "f.write(str)\n",
    "\n",
    "\n",
    "\n",
    "# 파일을 닫아주지 않으면 삭제및 수정 불가능\n",
    "f.close()"
   ]
  },
  {
   "cell_type": "code",
   "execution_count": 116,
   "id": "7d060600",
   "metadata": {},
   "outputs": [
    {
     "data": {
      "text/plain": [
       "'hello world\\nhello world\\nhello world\\nhello world\\nhello world\\nhello world\\nhello world\\nhello world\\nhello world\\nhello world\\nhello world\\nhello world\\nhello world\\nhello world\\nhello world\\nhello world\\nhello world\\nhello world\\nhello world\\nhello world\\nhello world\\nhello world\\nhello world\\nhello world\\nhello world\\nhello world\\nhello world\\nhello world\\nhello world\\nhello world\\nhello world\\nhello world\\nhello world\\nhello world\\nhello world\\nhello world\\nhello world\\nhello world\\nhello world\\nhello world\\nhello world\\r\\nhello world\\r\\nhello world\\r\\nhello world\\r\\nhello world\\r\\nhello world\\r\\nhello world\\r\\nhello world\\r\\nhello world\\r\\nhello world\\r\\n'"
      ]
     },
     "execution_count": 116,
     "metadata": {},
     "output_type": "execute_result"
    }
   ],
   "source": [
    "# 기존 텍스트자료 읽어오기\n",
    "f = codecs.open(\"C:/crawler1/test.txt\", encoding=\"utf-8\", mode=\"r\")\n",
    "\n",
    "# 줄하나 단위로 하나하나 자료를 나눠서 리스트로 만듬\n",
    "# readlines()\n",
    "\n",
    "# 전체 데이터 하나의 문자열로 읽어오기\n",
    "f.read()"
   ]
  },
  {
   "cell_type": "code",
   "execution_count": 151,
   "id": "ad7ddbfd",
   "metadata": {},
   "outputs": [
    {
     "name": "stdout",
     "output_type": "stream",
     "text": [
      "진짜 쓰는 실무 엑셀\n",
      "18,900원\n",
      "오빠두(전진권)\n",
      "-------------------------------\n",
      "\n",
      "1일 1로그 100일 완성 IT 지식\n",
      "18,000원\n",
      "브라이언W.커니핸\n",
      "-------------------------------\n",
      "\n",
      "비전공자를 위한 이해할 수 있는 IT 지식\n",
      "15,120원\n",
      "최원영\n",
      "-------------------------------\n",
      "\n",
      "구글 엔지니어는 이렇게 일한다\n",
      "40,500원\n",
      "타이터스윈터스저자더보기톰맨쉬렉하이럼라이트\n",
      "-------------------------------\n",
      "\n",
      "Do it! 점프 투 파이썬\n",
      "16,920원\n",
      "박응용\n",
      "-------------------------------\n",
      "\n",
      "면접을 위한 CS 전공지식 노트\n",
      "21,600원\n",
      "주홍철\n",
      "-------------------------------\n",
      "\n",
      "혼자 공부하는 얄팍한 코딩 지식\n",
      "16,200원\n",
      "고현민\n",
      "-------------------------------\n",
      "\n",
      "혼자 공부하는 파이썬\n",
      "16,200원\n",
      "윤인성\n",
      "-------------------------------\n",
      "\n",
      "침묵의 봄\n",
      "16,200원\n",
      "레이첼카슨\n",
      "-------------------------------\n",
      "\n",
      "혼자 공부하는 머신러닝+딥러닝\n",
      "23,400원\n",
      "박해선\n",
      "-------------------------------\n",
      "\n",
      "파이썬과 40개의 작품들(만들면서 배우는)\n",
      "16,920원\n",
      "장문철\n",
      "-------------------------------\n",
      "\n",
      "Clean Code(클린 코드)\n",
      "29,700원\n",
      "로버트C.마틴\n",
      "-------------------------------\n",
      "\n",
      "Do it! HTML+CSS+자바스크립트 웹 표준의 정석\n",
      "27,000원\n",
      "고경희\n",
      "-------------------------------\n",
      "\n",
      "이것이 취업을 위한 코딩 테스트다 with 파이썬\n",
      "30,600원\n",
      "나동빈\n",
      "-------------------------------\n",
      "\n",
      "쏙쏙 들어오는 함수형 코딩\n",
      "31,500원\n",
      "에릭노먼드\n",
      "-------------------------------\n",
      "\n",
      "모던 자바스크립트 Deep Dive(위키북스 프로그래밍 & 프랙티스 시리즈 26)\n",
      "40,500원\n",
      "이웅모\n",
      "-------------------------------\n",
      "\n",
      "맛있는 디자인 포토샵&일러스트레이터 CC(2022)\n",
      "19,800원\n",
      "빨간고래(박정아)저자더보기윤이사라\n",
      "-------------------------------\n",
      "\n",
      "회사에서 바로 통하는 실무 엑셀+파워포인트+워드&한글\n",
      "19,800원\n",
      "전미진저자더보기이화진신면철\n",
      "-------------------------------\n",
      "\n",
      "프로그래머의 뇌\n",
      "21,600원\n",
      "펠리너헤르만스\n",
      "-------------------------------\n",
      "\n",
      "실용주의 프로그래머(20주년 기념판)(Program Programming Programmer)\n",
      "29,700원\n",
      "데이비드토머스저자더보기앤드류헌트\n",
      "-------------------------------\n",
      "\n"
     ]
    }
   ],
   "source": [
    "# 얻어온 리스트 정보들을 인덱스 번호에 맞게 처리 <- 셀의 구문을 이용해서\n",
    "# txt 파일 형식으로 C:/crawler1/result.txt\n",
    "f = codecs.open(\"C:/crawler1/result.txt\", encoding=\"utf-8\", mode=\"w\")\n",
    "f.close()\n",
    "f = codecs.open(\"C:/crawler1/result.txt\", encoding=\"utf-8\", mode=\"a\")\n",
    "\n",
    "#str = \"\"\n",
    "#for i in range(0,len(bookTitle)) :\n",
    "#    str = bookTitle[i]+\"\\n\"+bookPrices[i]+\"\\n\"+authors[i]+\"\\n-------------------------------\\n\"\n",
    "#    print(str)\n",
    "#   f.write(str)\n",
    "    \n",
    "for i in range(0,len(bookinfoL)) :\n",
    "    str = bookinfoL[i][0]+\"\\n\"+bookinfoL[i][1]+\"\\n\"+bookinfoL[i][2]+\"\\n-------------------------------\\n\"\n",
    "    print(str)\n",
    "    f.write(str)\n",
    "\n"
   ]
  },
  {
   "cell_type": "markdown",
   "id": "555b5759",
   "metadata": {},
   "source": [
    "# csv(execl) 형식으로 뽑기\n",
    "\n",
    "- csv는 , 로 텍스트 파일을 구분해 만든다음\n",
    "- .csv로 확장자를 바꾸면 엑셀형식으로 나열된 데이터가 나옵니다.\n",
    "- 그래서 , 를 이용해 구분한다는 점 때문에 , 가 들어간 데이터에는 쓸수 없습니다."
   ]
  },
  {
   "cell_type": "code",
   "execution_count": 180,
   "id": "cc4eec04",
   "metadata": {},
   "outputs": [],
   "source": [
    "#얻어온 리스트 정보들은 인덱스 번호에 맞게 처리 <- 셀의 구문을 이용해서\n",
    "#txt 파일형식으로 c:\\crawler1 폴더내에 rsult2.txt로 저장해주세요\n",
    "# 제목, 가격, 저자가 한줄로 나오도록 해서\n",
    "# 컬럼명에 제목 가격 저자를 넣으시고\n",
    "# 두번째 줄부터 순서대로 책 목록이 나오게 해주세요.\n",
    "\n",
    "f = codecs.open(\"C:/crawler1/result2.txt\",encoding=\"utf-8\", mode=\"w\")\n",
    "f.close()\n",
    "f = codecs.open(\"C:/crawler1/result2.txt\",encoding=\"utf-8\", mode=\"a\")\n",
    "f.write(\"제목,가격,저자\\n\")\n",
    "for i in range(0,len(bookinfoL)) :\n",
    "    str = bookinfoL[i][0]+\",\"+bookinfoL[i][1].replace(\"원\",\"\").replace(\",\",\"\")+\",\"+bookinfoL[i][2]+\"\\n\"\n",
    "    f.write(str)\n",
    "f.close()"
   ]
  },
  {
   "cell_type": "code",
   "execution_count": null,
   "id": "7c1047c9",
   "metadata": {},
   "outputs": [],
   "source": []
  },
  {
   "cell_type": "code",
   "execution_count": null,
   "id": "b945c037",
   "metadata": {},
   "outputs": [],
   "source": []
  },
  {
   "cell_type": "code",
   "execution_count": null,
   "id": "5e09e81d",
   "metadata": {},
   "outputs": [],
   "source": []
  },
  {
   "cell_type": "code",
   "execution_count": null,
   "id": "f9a1a14b",
   "metadata": {},
   "outputs": [],
   "source": []
  },
  {
   "cell_type": "code",
   "execution_count": null,
   "id": "b49ef37f",
   "metadata": {},
   "outputs": [],
   "source": []
  },
  {
   "cell_type": "code",
   "execution_count": null,
   "id": "5bf2d726",
   "metadata": {},
   "outputs": [],
   "source": []
  }
 ],
 "metadata": {
  "kernelspec": {
   "display_name": "Python 3 (ipykernel)",
   "language": "python",
   "name": "python3"
  },
  "language_info": {
   "codemirror_mode": {
    "name": "ipython",
    "version": 3
   },
   "file_extension": ".py",
   "mimetype": "text/x-python",
   "name": "python",
   "nbconvert_exporter": "python",
   "pygments_lexer": "ipython3",
   "version": "3.9.7"
  }
 },
 "nbformat": 4,
 "nbformat_minor": 5
}

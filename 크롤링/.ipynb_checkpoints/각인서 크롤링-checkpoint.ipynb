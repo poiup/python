{
 "cells": [
  {
   "cell_type": "code",
   "execution_count": 2,
   "id": "d8968a2e",
   "metadata": {},
   "outputs": [],
   "source": [
    "import requests # selenium과 달리 내장되어 있어서 따로 설치할 필요가 없음\n",
    "from bs4 import BeautifulSoup # 웹에서 가져온 데이터를 정제하는 역할\n",
    "import time # 코드중간에 딜레이를 넣는 역할\n",
    "import codecs # 코덱스\n"
   ]
  },
  {
   "cell_type": "code",
   "execution_count": null,
   "id": "60a6e00a",
   "metadata": {},
   "outputs": [],
   "source": [
    "\n",
    "res = resquests.get(\"https://lostark.game.onstove.com/Market\")"
   ]
  },
  {
   "cell_type": "code",
   "execution_count": null,
   "id": "2ac52e4b",
   "metadata": {},
   "outputs": [],
   "source": []
  }
 ],
 "metadata": {
  "kernelspec": {
   "display_name": "Python 3 (ipykernel)",
   "language": "python",
   "name": "python3"
  },
  "language_info": {
   "codemirror_mode": {
    "name": "ipython",
    "version": 3
   },
   "file_extension": ".py",
   "mimetype": "text/x-python",
   "name": "python",
   "nbconvert_exporter": "python",
   "pygments_lexer": "ipython3",
   "version": "3.9.7"
  }
 },
 "nbformat": 4,
 "nbformat_minor": 5
}

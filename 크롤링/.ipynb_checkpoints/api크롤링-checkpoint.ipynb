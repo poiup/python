{
 "cells": [
  {
   "cell_type": "markdown",
   "id": "d161fb01",
   "metadata": {},
   "source": [
    "# 영진위 api크롤링\n",
    " http://www.kobis.or.kr/kobisopenapi/webservice/rest/boxoffice/searchDailyBoxOfficeList.xml (또는 .json)\n",
    " \n",
    "<br>\n",
    "위 주소를 보면 파라미터로 <br>\n",
    "key와 targetDt가 있는걸 볼수 있습니다,<br>\n",
    "<br>\n",
    "여기서 key는 회원가입을 하면 발급해주는 개인 식별용 키입니다.\n",
    "키를 발급해주는 이유는 일일 요청횟수를 제한해서 서버 메모리를 절약하기 위함입니다.<br>\n",
    "\n",
    "<br><br>\n",
    "targetDt는 타겟 날짜로, 현재 이 api 요청 주소는 일일 박스오피스입니다.\n",
    "\n",
    "<br>\n",
    "<br>\n",
    "api서버 접근시 파이썬에서는 보통 urllib를 사용합니다\n"
   ]
  },
  {
   "cell_type": "code",
   "execution_count": 5,
   "id": "ade432c6",
   "metadata": {},
   "outputs": [],
   "source": [
    "# 사이트에 자료 요청용 라이브러리 임포트\n",
    "import urllib.request\n",
    "#json핸들링용\n",
    "import json\n",
    "import xml"
   ]
  },
  {
   "cell_type": "code",
   "execution_count": 20,
   "id": "e6c33fd7",
   "metadata": {},
   "outputs": [
    {
     "name": "stdout",
     "output_type": "stream",
     "text": [
      "http://kobis.or.kr/kobisopenapi/webservice/rest/boxoffice/searchDailyBoxOfficeList.json?key=f5eef3421c602c6cb7ea224104795888&targetDt=20111111&itemPerPage=3\n"
     ]
    }
   ],
   "source": [
    "key = \"f5eef3421c602c6cb7ea224104795888\"\n",
    "target_dt = \"20111111\"\n",
    "request_url = \"http://kobis.or.kr/kobisopenapi/webservice/rest/\\\n",
    "boxoffice/searchDailyBoxOfficeList.json?key=%s&targetDt=%s&itemPerPage=3\" %(key,target_dt)\n",
    "print(request_url)"
   ]
  },
  {
   "cell_type": "code",
   "execution_count": 21,
   "id": "12320d8b",
   "metadata": {},
   "outputs": [],
   "source": [
    "#위에 세팅된 주소로 요청을 넣어보겟습니다.\n",
    "result = urllib.request.urlopen(request_url)"
   ]
  },
  {
   "cell_type": "code",
   "execution_count": 22,
   "id": "65a15392",
   "metadata": {},
   "outputs": [
    {
     "data": {
      "text/plain": [
       "<http.client.HTTPResponse at 0x281160c1e80>"
      ]
     },
     "execution_count": 22,
     "metadata": {},
     "output_type": "execute_result"
    }
   ],
   "source": [
    "# 결과물은 http.client.httpresponse객체로 주어집니다.\n",
    "result"
   ]
  },
  {
   "cell_type": "code",
   "execution_count": 23,
   "id": "bafb1e59",
   "metadata": {},
   "outputs": [],
   "source": [
    "# 얻어진 데이터의  json만 뽑기 위해 .read()를 사용합니다.\n",
    "json_raw = result.read()\n"
   ]
  },
  {
   "cell_type": "code",
   "execution_count": 24,
   "id": "d27d1ba7",
   "metadata": {},
   "outputs": [
    {
     "name": "stdout",
     "output_type": "stream",
     "text": [
      "<class 'bytes'>\n"
     ]
    }
   ],
   "source": [
    "print(type(json_raw))"
   ]
  },
  {
   "cell_type": "code",
   "execution_count": 25,
   "id": "67827cd1",
   "metadata": {},
   "outputs": [],
   "source": [
    "#형식을 한글을 쓸수 있는 utf-8형식으로 고쳐야합니다\n",
    "# encode => 우리가 쓰는 문자를 컴퓨터가 쓰는 형태로 변환\n",
    "# decode => 컴퓨터가 쓰는 문자를 우리가 쓰는 형태로 변환\n",
    "json_utf8 = json_raw.decode(\"utf-8\")"
   ]
  },
  {
   "cell_type": "code",
   "execution_count": 27,
   "id": "c1eb1445",
   "metadata": {},
   "outputs": [],
   "source": [
    "# json.loads(딕셔너리 형태의 문자열)\n",
    "# json(딕셔너리)형태로 적힌 문자열 자료를 딕셔너리로 변환\n",
    "moviet3 = json.loads(json_utf8)"
   ]
  },
  {
   "cell_type": "code",
   "execution_count": 38,
   "id": "57919839",
   "metadata": {},
   "outputs": [
    {
     "ename": "NameError",
     "evalue": "name 'boxOfficeResult' is not defined",
     "output_type": "error",
     "traceback": [
      "\u001b[1;31m---------------------------------------------------------------------------\u001b[0m",
      "\u001b[1;31mNameError\u001b[0m                                 Traceback (most recent call last)",
      "\u001b[1;32m~\\AppData\\Local\\Temp/ipykernel_27024/794914626.py\u001b[0m in \u001b[0;36m<module>\u001b[1;34m\u001b[0m\n\u001b[1;32m----> 1\u001b[1;33m \u001b[0mprint\u001b[0m\u001b[1;33m(\u001b[0m\u001b[0mmoviet3\u001b[0m\u001b[1;33m[\u001b[0m\u001b[0mboxOfficeResult\u001b[0m\u001b[1;33m]\u001b[0m\u001b[1;33m)\u001b[0m\u001b[1;33m\u001b[0m\u001b[1;33m\u001b[0m\u001b[0m\n\u001b[0m",
      "\u001b[1;31mNameError\u001b[0m: name 'boxOfficeResult' is not defined"
     ]
    }
   ],
   "source": [
    "print(moviet3['boxOfficeResult'])"
   ]
  },
  {
   "cell_type": "code",
   "execution_count": null,
   "id": "680856dc",
   "metadata": {},
   "outputs": [],
   "source": []
  }
 ],
 "metadata": {
  "kernelspec": {
   "display_name": "Python 3 (ipykernel)",
   "language": "python",
   "name": "python3"
  },
  "language_info": {
   "codemirror_mode": {
    "name": "ipython",
    "version": 3
   },
   "file_extension": ".py",
   "mimetype": "text/x-python",
   "name": "python",
   "nbconvert_exporter": "python",
   "pygments_lexer": "ipython3",
   "version": "3.9.7"
  }
 },
 "nbformat": 4,
 "nbformat_minor": 5
}

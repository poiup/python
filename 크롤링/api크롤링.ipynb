{
 "cells": [
  {
   "cell_type": "markdown",
   "id": "ffc10969",
   "metadata": {},
   "source": [
    "# 영진위 api크롤링\n",
    " http://www.kobis.or.kr/kobisopenapi/webservice/rest/boxoffice/searchDailyBoxOfficeList.xml (또는 .json)\n",
    " \n",
    "<br>\n",
    "위 주소를 보면 파라미터로 <br>\n",
    "key와 targetDt가 있는걸 볼수 있습니다,<br>\n",
    "<br>\n",
    "여기서 key는 회원가입을 하면 발급해주는 개인 식별용 키입니다.\n",
    "키를 발급해주는 이유는 일일 요청횟수를 제한해서 서버 메모리를 절약하기 위함입니다.<br>\n",
    "\n",
    "<br><br>\n",
    "targetDt는 타겟 날짜로, 현재 이 api 요청 주소는 일일 박스오피스입니다.\n",
    "\n",
    "<br>\n",
    "<br>\n",
    "api서버 접근시 파이썬에서는 보통 urllib를 사용합니다\n"
   ]
  },
  {
   "cell_type": "code",
   "execution_count": 1,
   "id": "10399d5f",
   "metadata": {},
   "outputs": [],
   "source": [
    "# 사이트에 자료 요청용 라이브러리 임포트\n",
    "import urllib.request\n",
    "#json핸들링용\n",
    "import json\n",
    "import xml"
   ]
  },
  {
   "cell_type": "code",
   "execution_count": 2,
   "id": "188f4340",
   "metadata": {},
   "outputs": [
    {
     "name": "stdout",
     "output_type": "stream",
     "text": [
      "http://kobis.or.kr/kobisopenapi/webservice/rest/boxoffice/searchDailyBoxOfficeList.json?key=f5eef3421c602c6cb7ea224104795888&targetDt=20111111&itemPerPage=3\n"
     ]
    }
   ],
   "source": [
    "key = \"f5eef3421c602c6cb7ea224104795888\"\n",
    "target_dt = \"20111111\"\n",
    "request_url = \"http://kobis.or.kr/kobisopenapi/webservice/rest/\\\n",
    "boxoffice/searchDailyBoxOfficeList.json?key=%s&targetDt=%s&itemPerPage=3\" %(key,target_dt)\n",
    "print(request_url)"
   ]
  },
  {
   "cell_type": "code",
   "execution_count": 3,
   "id": "5209b59e",
   "metadata": {},
   "outputs": [],
   "source": [
    "#위에 세팅된 주소로 요청을 넣어보겟습니다.\n",
    "result = urllib.request.urlopen(request_url)"
   ]
  },
  {
   "cell_type": "code",
   "execution_count": 4,
   "id": "816adaab",
   "metadata": {},
   "outputs": [
    {
     "data": {
      "text/plain": [
       "<http.client.HTTPResponse at 0x1d7c8b1c6d0>"
      ]
     },
     "execution_count": 4,
     "metadata": {},
     "output_type": "execute_result"
    }
   ],
   "source": [
    "# 결과물은 http.client.httpresponse객체로 주어집니다.\n",
    "result"
   ]
  },
  {
   "cell_type": "code",
   "execution_count": 5,
   "id": "59e88526",
   "metadata": {},
   "outputs": [],
   "source": [
    "# 얻어진 데이터의  json만 뽑기 위해 .read()를 사용합니다.\n",
    "json_raw = result.read()\n"
   ]
  },
  {
   "cell_type": "code",
   "execution_count": 6,
   "id": "a21f120e",
   "metadata": {},
   "outputs": [
    {
     "name": "stdout",
     "output_type": "stream",
     "text": [
      "<class 'bytes'>\n"
     ]
    }
   ],
   "source": [
    "print(type(json_raw))"
   ]
  },
  {
   "cell_type": "code",
   "execution_count": 7,
   "id": "5ba5328e",
   "metadata": {},
   "outputs": [],
   "source": [
    "#형식을 한글을 쓸수 있는 utf-8형식으로 고쳐야합니다\n",
    "# encode => 우리가 쓰는 문자를 컴퓨터가 쓰는 형태로 변환\n",
    "# decode => 컴퓨터가 쓰는 문자를 우리가 쓰는 형태로 변환\n",
    "json_utf8 = json_raw.decode(\"utf-8\")"
   ]
  },
  {
   "cell_type": "code",
   "execution_count": 8,
   "id": "bb935c3d",
   "metadata": {},
   "outputs": [],
   "source": [
    "# json.loads(딕셔너리 형태의 문자열)\n",
    "# json(딕셔너리)형태로 적힌 문자열 자료를 딕셔너리로 변환\n",
    "moviet3 = json.loads(json_utf8)"
   ]
  },
  {
   "cell_type": "code",
   "execution_count": 9,
   "id": "b2b5efc5",
   "metadata": {},
   "outputs": [
    {
     "name": "stdout",
     "output_type": "stream",
     "text": [
      "검색할 순위를 적어주세요1\n",
      "{'rnum': '1', 'rank': '1', 'rankInten': '0', 'rankOldAndNew': 'OLD', 'movieCd': '20112695', 'movieNm': '완득이', 'openDt': '2011-10-20', 'salesAmt': '864504000', 'salesShare': '26.9', 'salesInten': '117805000', 'salesChange': '15.8', 'salesAcc': '22558438500', 'audiCnt': '118055', 'audiInten': '6684', 'audiChange': '6', 'audiAcc': '3100563', 'scrnCnt': '446', 'showCnt': '2395'}\n"
     ]
    }
   ],
   "source": [
    "\n",
    "searchRank = input(\"검색할 순위를 적어주세요\")\n",
    "while(int(searchRank) > 3) :\n",
    "    if int(searchRank) > 3 :\n",
    "        searchRank = input(\"1~3사이로 적어주세요\")\n",
    "if moviet3['boxOfficeResult']['dailyBoxOfficeList'][0]['rank'] == searchRank :\n",
    "    searchedMovie = (moviet3['boxOfficeResult']['dailyBoxOfficeList'][0])\n",
    "    print(searchedMovie)\n",
    "else :\n",
    "    print(\"error\")"
   ]
  },
  {
   "cell_type": "code",
   "execution_count": null,
   "id": "fb0aeef1",
   "metadata": {},
   "outputs": [],
   "source": []
  }
 ],
 "metadata": {
  "kernelspec": {
   "display_name": "Python 3 (ipykernel)",
   "language": "python",
   "name": "python3"
  },
  "language_info": {
   "codemirror_mode": {
    "name": "ipython",
    "version": 3
   },
   "file_extension": ".py",
   "mimetype": "text/x-python",
   "name": "python",
   "nbconvert_exporter": "python",
   "pygments_lexer": "ipython3",
   "version": "3.9.7"
  }
 },
 "nbformat": 4,
 "nbformat_minor": 5
}

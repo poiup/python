{
 "cells": [
  {
   "cell_type": "markdown",
   "id": "cc042821",
   "metadata": {},
   "source": [
    "# 3. 딕셔너리(Dictionary)\n",
    "\n",
    "▶ 문법 기호/함수 : {key1 : value1, key2 : value2, key3 : value3 ... } / 함수 : dict()\n",
    "\n",
    "\n",
    "▶ key로 가질 수 있는 데이터 타입 : 문자, 숫자, 튜플(Tuple)\n",
    "\n",
    "▶ value로 가질 수 있는 데이터 타입 : 문자, 숫자, 리스트(List), 딕셔너리(Dict) ...\n",
    "\n",
    "▶ 아이템 = key&value 하나의 쌍\n",
    "\n",
    "▶ 종류\n",
    "\n",
    "     * 아이템이 없는 딕셔너리\n",
    "    \n",
    "     * 1차원 딕셔너리\n",
    "    \n",
    "     * 다차원 딕셔너리 \n",
    "    \n",
    "    \n",
    "▶ 특징\n",
    "\n",
    "     * key, value의 차이점\n",
    "    \n",
    "     * 인덱스 번호를 가지지 않는다.\n",
    "     \n"
   ]
  },
  {
   "cell_type": "markdown",
   "id": "c49b8563",
   "metadata": {},
   "source": [
    "### 1. 생성하기"
   ]
  },
  {
   "cell_type": "code",
   "execution_count": 2,
   "id": "5e0cb7ee",
   "metadata": {},
   "outputs": [
    {
     "data": {
      "text/plain": [
       "dict"
      ]
     },
     "execution_count": 2,
     "metadata": {},
     "output_type": "execute_result"
    }
   ],
   "source": [
    "# 딕셔너리 생성하기\n",
    "# 문법기호 : {k1:v1, k2:v2, k3:v3}\n",
    "d1 = {1:10, 2:20, 3:30}\n",
    "type(d1)"
   ]
  },
  {
   "cell_type": "code",
   "execution_count": 3,
   "id": "acd96ea9",
   "metadata": {},
   "outputs": [],
   "source": [
    "# 2차원 자료를 이용해 딕셔너리로 변환 가능\n",
    "x = [['a','b'],['a1','b1'],['a2','b2']]"
   ]
  },
  {
   "cell_type": "code",
   "execution_count": 4,
   "id": "9ec275cf",
   "metadata": {},
   "outputs": [
    {
     "data": {
      "text/plain": [
       "{'a': 'b', 'a1': 'b1', 'a2': 'b2'}"
      ]
     },
     "execution_count": 4,
     "metadata": {},
     "output_type": "execute_result"
    }
   ],
   "source": [
    "dict(x)"
   ]
  },
  {
   "cell_type": "code",
   "execution_count": 5,
   "id": "73dabda4",
   "metadata": {},
   "outputs": [
    {
     "data": {
      "text/plain": [
       "[['a', 'b'], ['a1', 'b1'], ['a2', 'b2']]"
      ]
     },
     "execution_count": 5,
     "metadata": {},
     "output_type": "execute_result"
    }
   ],
   "source": [
    "x"
   ]
  },
  {
   "cell_type": "code",
   "execution_count": 6,
   "id": "e2c7131f",
   "metadata": {},
   "outputs": [
    {
     "data": {
      "text/plain": [
       "{1: [1, 2, 3], 2: {'a', 'b'}}"
      ]
     },
     "execution_count": 6,
     "metadata": {},
     "output_type": "execute_result"
    }
   ],
   "source": [
    "# 딕셔너리의 value값에 들어갈 수 있는 자료에는 제약이 없다\n",
    "{1:[1,2,3], 2:{\"a\",\"b\"}}"
   ]
  },
  {
   "cell_type": "code",
   "execution_count": 7,
   "id": "5601213d",
   "metadata": {},
   "outputs": [
    {
     "data": {
      "text/plain": [
       "{'name': '홍길동', 'name2': '이순신'}"
      ]
     },
     "execution_count": 7,
     "metadata": {},
     "output_type": "execute_result"
    }
   ],
   "source": [
    "# key와 value의 차이\n",
    "# key값에 중복된 자료가 들어갈수 없으며\n",
    "# 만약 선언단계에서 key값이 중복되면 가장 마지막 하나만 남습니다,\n",
    "{\"name\": \"임꺽정\",\"name\":\"홍길동\", \"name2\":\"이순신\"}"
   ]
  },
  {
   "cell_type": "markdown",
   "id": "71ea04eb",
   "metadata": {},
   "source": [
    "### 2. 인덱싱\n",
    "- 인덱싱 문법 기호\n",
    "\n",
    "- 일차원 vs 다차원 인덱싱\n",
    "\n",
    "- 딕셔너리 내장 함수로 인덱싱"
   ]
  },
  {
   "cell_type": "code",
   "execution_count": 8,
   "id": "18b9dce9",
   "metadata": {},
   "outputs": [
    {
     "data": {
      "text/plain": [
       "1"
      ]
     },
     "execution_count": 8,
     "metadata": {},
     "output_type": "execute_result"
    }
   ],
   "source": [
    "# 기존의 인덱싱 방법 : 객체 [인덱싱번호]\n",
    "a = [1,2,3]\n",
    "a[0]"
   ]
  },
  {
   "cell_type": "code",
   "execution_count": 9,
   "id": "554de6c0",
   "metadata": {},
   "outputs": [],
   "source": [
    "# 문자, 리스트타입 인덱싱과의 차이점 : 기준값이 인덱스번호가 아닌 key값을 사용\n",
    "d1 = {\"a\":10,\"b\":20,\"c\":30}"
   ]
  },
  {
   "cell_type": "code",
   "execution_count": 10,
   "id": "57798b49",
   "metadata": {},
   "outputs": [
    {
     "ename": "KeyError",
     "evalue": "0",
     "output_type": "error",
     "traceback": [
      "\u001b[1;31m---------------------------------------------------------------------------\u001b[0m",
      "\u001b[1;31mKeyError\u001b[0m                                  Traceback (most recent call last)",
      "\u001b[1;32m~\\AppData\\Local\\Temp/ipykernel_30000/3367005619.py\u001b[0m in \u001b[0;36m<module>\u001b[1;34m\u001b[0m\n\u001b[1;32m----> 1\u001b[1;33m \u001b[0md1\u001b[0m\u001b[1;33m[\u001b[0m\u001b[1;36m0\u001b[0m\u001b[1;33m]\u001b[0m\u001b[1;33m\u001b[0m\u001b[1;33m\u001b[0m\u001b[0m\n\u001b[0m",
      "\u001b[1;31mKeyError\u001b[0m: 0"
     ]
    }
   ],
   "source": [
    "d1[0]"
   ]
  },
  {
   "cell_type": "code",
   "execution_count": 11,
   "id": "49fdc4ee",
   "metadata": {},
   "outputs": [
    {
     "data": {
      "text/plain": [
       "30"
      ]
     },
     "execution_count": 11,
     "metadata": {},
     "output_type": "execute_result"
    }
   ],
   "source": [
    "d1[\"c\"]"
   ]
  },
  {
   "cell_type": "code",
   "execution_count": 15,
   "id": "7cfb8ada",
   "metadata": {},
   "outputs": [],
   "source": [
    "# 내장함수 .get()을 사용하면 없는 키값으로 조회해도 에러가 나지않는다.\n",
    "d1.get('d')"
   ]
  },
  {
   "cell_type": "code",
   "execution_count": 16,
   "id": "3ec70979",
   "metadata": {},
   "outputs": [
    {
     "ename": "KeyError",
     "evalue": "('a', 'c')",
     "output_type": "error",
     "traceback": [
      "\u001b[1;31m---------------------------------------------------------------------------\u001b[0m",
      "\u001b[1;31mKeyError\u001b[0m                                  Traceback (most recent call last)",
      "\u001b[1;32m~\\AppData\\Local\\Temp/ipykernel_30000/908260299.py\u001b[0m in \u001b[0;36m<module>\u001b[1;34m\u001b[0m\n\u001b[0;32m      1\u001b[0m \u001b[1;31m# 딕셔너리는 순번이 존재하지 않기때문에 슬라이싱은 불가능하다\u001b[0m\u001b[1;33m\u001b[0m\u001b[1;33m\u001b[0m\u001b[0m\n\u001b[0;32m      2\u001b[0m \u001b[1;31m# 슬라이싱 대신 반복문을 사용해서 처리해야됨\u001b[0m\u001b[1;33m\u001b[0m\u001b[1;33m\u001b[0m\u001b[0m\n\u001b[1;32m----> 3\u001b[1;33m \u001b[0md1\u001b[0m\u001b[1;33m[\u001b[0m\u001b[1;34m'a'\u001b[0m\u001b[1;33m,\u001b[0m\u001b[1;34m'c'\u001b[0m\u001b[1;33m]\u001b[0m\u001b[1;33m\u001b[0m\u001b[1;33m\u001b[0m\u001b[0m\n\u001b[0m",
      "\u001b[1;31mKeyError\u001b[0m: ('a', 'c')"
     ]
    }
   ],
   "source": [
    "# 딕셔너리는 순번이 존재하지 않기때문에 슬라이싱은 불가능하다\n",
    "# 슬라이싱 대신 반복문을 사용해서 처리해야됨\n",
    "d1['a','c']"
   ]
  },
  {
   "cell_type": "markdown",
   "id": "c5604100",
   "metadata": {},
   "source": [
    "### <<연습문제>>\n",
    "아래와 같은 다차원 딕셔너리를 만들고 제시한 값을 출력해보세요.\n",
    "\n",
    "    {'a':[1,2,3],'b':100,'c':{'key1':['파인애플','포도','바나나'],'key2':(55,66)}}\n",
    "    \n",
    "* 1) 3출력하기\n",
    "\n",
    "* 2) [파인애플,포도,바나나]\n",
    "\n",
    "* 3) 포도출력\n",
    "\n",
    "* 4) 55출력"
   ]
  },
  {
   "cell_type": "code",
   "execution_count": 17,
   "id": "3809f7c3",
   "metadata": {},
   "outputs": [],
   "source": [
    "d = {'a':[1,2,3],'b':100,'c':{'key1':['파인애플','포도','바나나'],'key2':(55,66)}}"
   ]
  },
  {
   "cell_type": "code",
   "execution_count": 21,
   "id": "6ac2571f",
   "metadata": {},
   "outputs": [
    {
     "data": {
      "text/plain": [
       "3"
      ]
     },
     "execution_count": 21,
     "metadata": {},
     "output_type": "execute_result"
    }
   ],
   "source": [
    "d['a'][2]"
   ]
  },
  {
   "cell_type": "code",
   "execution_count": 23,
   "id": "6a42c915",
   "metadata": {},
   "outputs": [
    {
     "data": {
      "text/plain": [
       "['파인애플', '포도', '바나나']"
      ]
     },
     "execution_count": 23,
     "metadata": {},
     "output_type": "execute_result"
    }
   ],
   "source": [
    "d['c']['key1']"
   ]
  },
  {
   "cell_type": "code",
   "execution_count": 24,
   "id": "2f8db57b",
   "metadata": {},
   "outputs": [
    {
     "data": {
      "text/plain": [
       "'포도'"
      ]
     },
     "execution_count": 24,
     "metadata": {},
     "output_type": "execute_result"
    }
   ],
   "source": [
    "d['c']['key1'][1]"
   ]
  },
  {
   "cell_type": "code",
   "execution_count": 25,
   "id": "189865d8",
   "metadata": {},
   "outputs": [
    {
     "data": {
      "text/plain": [
       "55"
      ]
     },
     "execution_count": 25,
     "metadata": {},
     "output_type": "execute_result"
    }
   ],
   "source": [
    "d['c']['key2'][0]"
   ]
  },
  {
   "cell_type": "markdown",
   "id": "7a323bbd",
   "metadata": {},
   "source": [
    "### 3. 아이템 추가하기\n",
    "- 인덱싱 방식으로 새로운 아이템 추가\n",
    "- 메소드 : update()"
   ]
  },
  {
   "cell_type": "code",
   "execution_count": 26,
   "id": "1b7285a5",
   "metadata": {},
   "outputs": [],
   "source": [
    "d1 = {'a':1,'b':2,'c':3}"
   ]
  },
  {
   "cell_type": "code",
   "execution_count": 27,
   "id": "c69f9bac",
   "metadata": {},
   "outputs": [
    {
     "data": {
      "text/plain": [
       "{'a': 1, 'b': 2, 'c': 3, 'd': 4}"
      ]
     },
     "execution_count": 27,
     "metadata": {},
     "output_type": "execute_result"
    }
   ],
   "source": [
    "# 새로운 key값(인덱싱) 에 value값을 할당하여 아이템을 추가\n",
    "d1['d'] = 4\n",
    "d1"
   ]
  },
  {
   "cell_type": "code",
   "execution_count": 28,
   "id": "feec5cbd",
   "metadata": {},
   "outputs": [
    {
     "data": {
      "text/plain": [
       "{'a': 10, 'b': 2, 'c': 3, 'd': 4}"
      ]
     },
     "execution_count": 28,
     "metadata": {},
     "output_type": "execute_result"
    }
   ],
   "source": [
    "# 기존에 존재하던 key값에 대해서 value를 할당하면 값이 갱신됨\n",
    "d1['a'] = 10\n",
    "d1"
   ]
  },
  {
   "cell_type": "code",
   "execution_count": 29,
   "id": "f2b0af15",
   "metadata": {},
   "outputs": [
    {
     "data": {
      "text/plain": [
       "{'a': 10, 'b': 2, 'c': 3, 'd': 4, 'e': 10, 'z': 40, 'v': 100}"
      ]
     },
     "execution_count": 29,
     "metadata": {},
     "output_type": "execute_result"
    }
   ],
   "source": [
    "d1.update({'e':10,'z':40,'v':100})\n",
    "d1"
   ]
  },
  {
   "cell_type": "code",
   "execution_count": 34,
   "id": "7d41e628",
   "metadata": {},
   "outputs": [],
   "source": [
    "# 리스트로 처리하기\n",
    "d2 = {'a':10,'b':2,'c':3,'d':4}"
   ]
  },
  {
   "cell_type": "code",
   "execution_count": 35,
   "id": "5738f319",
   "metadata": {},
   "outputs": [
    {
     "data": {
      "text/plain": [
       "{'a': 10, 'b': 10, 'c': 3, 'd': 4, 'e': 50, 'f': 100}"
      ]
     },
     "execution_count": 35,
     "metadata": {},
     "output_type": "execute_result"
    }
   ],
   "source": [
    "date = [('b',10), ('e',50),('f',100)]\n",
    "d2.update(date)\n",
    "d2"
   ]
  },
  {
   "cell_type": "markdown",
   "id": "f206c426",
   "metadata": {},
   "source": [
    "### 4. 삭제하기\n",
    "    - 하나의 아이템 삭제하기\n",
    "    - 모든 아이템 삭제하기 객체는 삭제되지 않음\n"
   ]
  },
  {
   "cell_type": "code",
   "execution_count": 36,
   "id": "fef05237",
   "metadata": {},
   "outputs": [
    {
     "data": {
      "text/plain": [
       "{'a': 10, 'b': 10, 'c': 3, 'e': 50, 'f': 100}"
      ]
     },
     "execution_count": 36,
     "metadata": {},
     "output_type": "execute_result"
    }
   ],
   "source": [
    "# 하나의 아이템 삭제하기 : del키워드 + 딕셔너리 인덱싱 (단 .get은 적용안됨)\n",
    "del d2['d']\n",
    "d2"
   ]
  },
  {
   "cell_type": "code",
   "execution_count": 37,
   "id": "317c867e",
   "metadata": {},
   "outputs": [
    {
     "data": {
      "text/plain": [
       "{}"
      ]
     },
     "execution_count": 37,
     "metadata": {},
     "output_type": "execute_result"
    }
   ],
   "source": [
    "# 딕셔너리 비우기 : 딕서너리.clear()\n",
    "# del은 변수자체가 삭제되지만 .clear()는 변수는 남아있되 내부만 비워줍니다.\n",
    "d2.clear()\n",
    "d2"
   ]
  },
  {
   "cell_type": "code",
   "execution_count": 38,
   "id": "b53122f7",
   "metadata": {},
   "outputs": [
    {
     "ename": "NameError",
     "evalue": "name 'd2' is not defined",
     "output_type": "error",
     "traceback": [
      "\u001b[1;31m---------------------------------------------------------------------------\u001b[0m",
      "\u001b[1;31mNameError\u001b[0m                                 Traceback (most recent call last)",
      "\u001b[1;32m~\\AppData\\Local\\Temp/ipykernel_30000/1757952447.py\u001b[0m in \u001b[0;36m<module>\u001b[1;34m\u001b[0m\n\u001b[0;32m      1\u001b[0m \u001b[1;31m# 주의 : del키워드로 전체 삭제시 빈 딕셔너리조차 남지않음\u001b[0m\u001b[1;33m\u001b[0m\u001b[1;33m\u001b[0m\u001b[0m\n\u001b[0;32m      2\u001b[0m \u001b[1;32mdel\u001b[0m \u001b[0md2\u001b[0m\u001b[1;33m\u001b[0m\u001b[1;33m\u001b[0m\u001b[0m\n\u001b[1;32m----> 3\u001b[1;33m \u001b[0md2\u001b[0m\u001b[1;33m\u001b[0m\u001b[1;33m\u001b[0m\u001b[0m\n\u001b[0m",
      "\u001b[1;31mNameError\u001b[0m: name 'd2' is not defined"
     ]
    }
   ],
   "source": [
    "# 주의 : del키워드로 전체 삭제시 빈 딕셔너리조차 남지않음\n",
    "del d2\n",
    "d2"
   ]
  },
  {
   "cell_type": "markdown",
   "id": "991b4995",
   "metadata": {},
   "source": [
    "### 5. 딕셔너리 내장함수 & 관련 연산자\n",
    "- 딕셔너리타입.keys()\n",
    "\n",
    "- 딕셔너리타입.values()\n",
    "\n",
    "- 딕셔너리타입.item()\n",
    "\n",
    "- in, not in"
   ]
  },
  {
   "cell_type": "markdown",
   "id": "ccf245b5",
   "metadata": {},
   "source": [
    "### << 연습문제>>\n",
    "1. 아래와 같은 딕셔너리를 생성하고 해당 딕셔너리의 value중 최소값을 구하여 형식에 맞게 출력하세요\n",
    "    최소값은 min(리스트)로 구할수 있습니다.\n",
    "    \n",
    "        - 생성 딕셔너리  {'A':9,'B':80,'C':70}\n",
    "        \n",
    "        - 조건1 : 생성한 딕셔너리에 'D':20 'E'100 'F':10;\n",
    "        \n",
    "        - 조건 2 key 'A'의 값을 9에서 90으로 변경하세요\n",
    "        \n",
    "        - 최소값은 10을 가진 key F입니다. 포맷팅을 사용하여 출력하고 10을 포맷팅값으로 사용하세요\n",
    "        \n",
    "        -최소값은 딕셔너리에 속한 내장함수와 파이썬의 내장함수를 모두 사용하여 구해보세요"
   ]
  },
  {
   "cell_type": "code",
   "execution_count": 36,
   "id": "dbb423b4",
   "metadata": {},
   "outputs": [
    {
     "data": {
      "text/plain": [
       "{'A': 9, 'B': 80, 'C': 70}"
      ]
     },
     "execution_count": 36,
     "metadata": {},
     "output_type": "execute_result"
    }
   ],
   "source": [
    "dic = {'A':9,'B':80,'C':70}\n",
    "dic"
   ]
  },
  {
   "cell_type": "code",
   "execution_count": 37,
   "id": "70107045",
   "metadata": {},
   "outputs": [],
   "source": [
    "dic.update({'D':20, 'E':100 , 'F':10})"
   ]
  },
  {
   "cell_type": "code",
   "execution_count": 38,
   "id": "cf20b0f3",
   "metadata": {},
   "outputs": [
    {
     "data": {
      "text/plain": [
       "{'A': 9, 'B': 80, 'C': 70, 'D': 20, 'E': 100, 'F': 10}"
      ]
     },
     "execution_count": 38,
     "metadata": {},
     "output_type": "execute_result"
    }
   ],
   "source": [
    "dic"
   ]
  },
  {
   "cell_type": "code",
   "execution_count": 39,
   "id": "2a64dd2f",
   "metadata": {},
   "outputs": [],
   "source": [
    "dic.update({'A':90})"
   ]
  },
  {
   "cell_type": "code",
   "execution_count": 40,
   "id": "206b2a7b",
   "metadata": {},
   "outputs": [
    {
     "data": {
      "text/plain": [
       "{'A': 90, 'B': 80, 'C': 70, 'D': 20, 'E': 100, 'F': 10}"
      ]
     },
     "execution_count": 40,
     "metadata": {},
     "output_type": "execute_result"
    }
   ],
   "source": [
    "dic"
   ]
  },
  {
   "cell_type": "code",
   "execution_count": 41,
   "id": "33746ed0",
   "metadata": {},
   "outputs": [
    {
     "name": "stdout",
     "output_type": "stream",
     "text": [
      "10\n"
     ]
    }
   ],
   "source": [
    "print('%d' %dic['F'])"
   ]
  },
  {
   "cell_type": "code",
   "execution_count": 51,
   "id": "0d827412",
   "metadata": {},
   "outputs": [
    {
     "ename": "TypeError",
     "evalue": "'int' object is not callable",
     "output_type": "error",
     "traceback": [
      "\u001b[1;31m---------------------------------------------------------------------------\u001b[0m",
      "\u001b[1;31mTypeError\u001b[0m                                 Traceback (most recent call last)",
      "\u001b[1;32m~\\AppData\\Local\\Temp/ipykernel_25436/3584178479.py\u001b[0m in \u001b[0;36m<module>\u001b[1;34m\u001b[0m\n\u001b[1;32m----> 1\u001b[1;33m \u001b[0mmin\u001b[0m \u001b[1;33m=\u001b[0m \u001b[0mmin\u001b[0m\u001b[1;33m(\u001b[0m\u001b[0mdic\u001b[0m\u001b[1;33m.\u001b[0m\u001b[0mvalues\u001b[0m\u001b[1;33m(\u001b[0m\u001b[1;33m)\u001b[0m\u001b[1;33m)\u001b[0m\u001b[1;33m\u001b[0m\u001b[1;33m\u001b[0m\u001b[0m\n\u001b[0m",
      "\u001b[1;31mTypeError\u001b[0m: 'int' object is not callable"
     ]
    }
   ],
   "source": [
    "min = min(dic.values())"
   ]
  },
  {
   "cell_type": "code",
   "execution_count": 50,
   "id": "b1b38b2a",
   "metadata": {},
   "outputs": [
    {
     "name": "stdout",
     "output_type": "stream",
     "text": [
      "10\n"
     ]
    }
   ],
   "source": [
    "print('%d' %min)"
   ]
  },
  {
   "cell_type": "code",
   "execution_count": 54,
   "id": "e985fb2a",
   "metadata": {},
   "outputs": [
    {
     "data": {
      "text/plain": [
       "[('A', 90), ('B', 80), ('C', 70), ('D', 20), ('E', 100), ('F', 10)]"
      ]
     },
     "execution_count": 54,
     "metadata": {},
     "output_type": "execute_result"
    }
   ],
   "source": [
    "list(dic.items())"
   ]
  },
  {
   "cell_type": "code",
   "execution_count": null,
   "id": "a5279109",
   "metadata": {},
   "outputs": [],
   "source": []
  }
 ],
 "metadata": {
  "kernelspec": {
   "display_name": "Python 3 (ipykernel)",
   "language": "python",
   "name": "python3"
  },
  "language_info": {
   "codemirror_mode": {
    "name": "ipython",
    "version": 3
   },
   "file_extension": ".py",
   "mimetype": "text/x-python",
   "name": "python",
   "nbconvert_exporter": "python",
   "pygments_lexer": "ipython3",
   "version": "3.9.7"
  }
 },
 "nbformat": 4,
 "nbformat_minor": 5
}
